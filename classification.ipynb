{
 "cells": [
  {
   "cell_type": "code",
   "execution_count": 36,
   "metadata": {},
   "outputs": [],
   "source": [
    "import pandas as pd\n",
    "from sklearn.cluster import KMeans\n",
    "import matplotlib.pyplot as plt\n",
    "# TODO look back at the Spotify classification code to get an idea of how best to do this?"
   ]
  },
  {
   "cell_type": "code",
   "execution_count": 3,
   "metadata": {},
   "outputs": [],
   "source": [
    "df = pd.read_feather('clean_data.feather')"
   ]
  },
  {
   "cell_type": "code",
   "execution_count": 5,
   "metadata": {},
   "outputs": [
    {
     "data": {
      "text/html": [
       "<div>\n",
       "<style scoped>\n",
       "    .dataframe tbody tr th:only-of-type {\n",
       "        vertical-align: middle;\n",
       "    }\n",
       "\n",
       "    .dataframe tbody tr th {\n",
       "        vertical-align: top;\n",
       "    }\n",
       "\n",
       "    .dataframe thead th {\n",
       "        text-align: right;\n",
       "    }\n",
       "</style>\n",
       "<table border=\"1\" class=\"dataframe\">\n",
       "  <thead>\n",
       "    <tr style=\"text-align: right;\">\n",
       "      <th></th>\n",
       "      <th>LCLid</th>\n",
       "      <th>stdorToU</th>\n",
       "      <th>DateTime</th>\n",
       "      <th>KWH/hh</th>\n",
       "      <th>Acorn</th>\n",
       "      <th>Acorn_grouped</th>\n",
       "      <th>Time</th>\n",
       "    </tr>\n",
       "  </thead>\n",
       "  <tbody>\n",
       "    <tr>\n",
       "      <th>0</th>\n",
       "      <td>MAC000756</td>\n",
       "      <td>Std</td>\n",
       "      <td>2014-02-12 17:00:00</td>\n",
       "      <td>0.077</td>\n",
       "      <td>ACORN-E</td>\n",
       "      <td>Affluent</td>\n",
       "      <td>17:00:00</td>\n",
       "    </tr>\n",
       "    <tr>\n",
       "      <th>1</th>\n",
       "      <td>MAC000756</td>\n",
       "      <td>Std</td>\n",
       "      <td>2014-02-12 17:30:00</td>\n",
       "      <td>0.082</td>\n",
       "      <td>ACORN-E</td>\n",
       "      <td>Affluent</td>\n",
       "      <td>17:30:00</td>\n",
       "    </tr>\n",
       "    <tr>\n",
       "      <th>2</th>\n",
       "      <td>MAC000756</td>\n",
       "      <td>Std</td>\n",
       "      <td>2014-02-12 18:00:00</td>\n",
       "      <td>0.121</td>\n",
       "      <td>ACORN-E</td>\n",
       "      <td>Affluent</td>\n",
       "      <td>18:00:00</td>\n",
       "    </tr>\n",
       "    <tr>\n",
       "      <th>3</th>\n",
       "      <td>MAC000756</td>\n",
       "      <td>Std</td>\n",
       "      <td>2014-02-12 18:30:00</td>\n",
       "      <td>0.144</td>\n",
       "      <td>ACORN-E</td>\n",
       "      <td>Affluent</td>\n",
       "      <td>18:30:00</td>\n",
       "    </tr>\n",
       "    <tr>\n",
       "      <th>4</th>\n",
       "      <td>MAC000756</td>\n",
       "      <td>Std</td>\n",
       "      <td>2014-02-12 19:00:00</td>\n",
       "      <td>0.177</td>\n",
       "      <td>ACORN-E</td>\n",
       "      <td>Affluent</td>\n",
       "      <td>19:00:00</td>\n",
       "    </tr>\n",
       "  </tbody>\n",
       "</table>\n",
       "</div>"
      ],
      "text/plain": [
       "       LCLid stdorToU            DateTime  KWH/hh    Acorn Acorn_grouped  \\\n",
       "0  MAC000756      Std 2014-02-12 17:00:00   0.077  ACORN-E      Affluent   \n",
       "1  MAC000756      Std 2014-02-12 17:30:00   0.082  ACORN-E      Affluent   \n",
       "2  MAC000756      Std 2014-02-12 18:00:00   0.121  ACORN-E      Affluent   \n",
       "3  MAC000756      Std 2014-02-12 18:30:00   0.144  ACORN-E      Affluent   \n",
       "4  MAC000756      Std 2014-02-12 19:00:00   0.177  ACORN-E      Affluent   \n",
       "\n",
       "       Time  \n",
       "0  17:00:00  \n",
       "1  17:30:00  \n",
       "2  18:00:00  \n",
       "3  18:30:00  \n",
       "4  19:00:00  "
      ]
     },
     "execution_count": 5,
     "metadata": {},
     "output_type": "execute_result"
    }
   ],
   "source": [
    "df.head()"
   ]
  },
  {
   "cell_type": "code",
   "execution_count": 49,
   "metadata": {},
   "outputs": [],
   "source": [
    "df.rename(columns={'Acorn_grouped_ACORN-' : 'Acorn_grouped_ACORN'}, inplace=True) # rename these col so I can drop them.\n",
    "df.rename(columns={'Acorn_grouped_ACORN-U' : 'Acorn_grouped_ACORNU'}, inplace=True) # rename these col so I can drop them.\n",
    "df = df.drop(df[(df.Acorn_grouped == \"ACORN-U\") | (df.Acorn_grouped == \"ACORN-\")].index)"
   ]
  },
  {
   "cell_type": "code",
   "execution_count": null,
   "metadata": {},
   "outputs": [],
   "source": [
    "# Classification??\n",
    "\n",
    "# Start with clustering I suppose? \n"
   ]
  },
  {
   "cell_type": "markdown",
   "metadata": {},
   "source": [
    "## Steps\n",
    "1. Group by household ID and get a daily average and group by that first see what our accuarcy is.\n",
    "1. Maybe look at the variance by half hour to use in some manner.\n",
    "1. Take averages of the Groups and try to do SVG style clustering?\n",
    "1. Density based clustering?\n",
    "\n",
    "## Ideas\n",
    "1. Grouping by household and using their mean, max and min might be easiest to work with.\n",
    "1. Secondardily we can look at times of day. Maybe break the day up into General periods. Home-Awake, Home-Sleep, Away?\n",
    "    1. This could help us see who is working which could show income levels?"
   ]
  },
  {
   "cell_type": "code",
   "execution_count": 50,
   "metadata": {},
   "outputs": [],
   "source": [
    "group_df = df.groupby(\"LCLid\").agg({\"KWH/hh\": [\"mean\", \"min\", \"max\"], \"Acorn_grouped\": \"first\"}) # Might want the 25% and 75%"
   ]
  },
  {
   "cell_type": "code",
   "execution_count": 51,
   "metadata": {},
   "outputs": [],
   "source": [
    "base_df = group_df.droplevel(0, axis=1).reset_index()[[\"mean\", \"max\"]]"
   ]
  },
  {
   "cell_type": "code",
   "execution_count": 52,
   "metadata": {},
   "outputs": [
    {
     "data": {
      "text/html": [
       "<div>\n",
       "<style scoped>\n",
       "    .dataframe tbody tr th:only-of-type {\n",
       "        vertical-align: middle;\n",
       "    }\n",
       "\n",
       "    .dataframe tbody tr th {\n",
       "        vertical-align: top;\n",
       "    }\n",
       "\n",
       "    .dataframe thead th {\n",
       "        text-align: right;\n",
       "    }\n",
       "</style>\n",
       "<table border=\"1\" class=\"dataframe\">\n",
       "  <thead>\n",
       "    <tr style=\"text-align: right;\">\n",
       "      <th></th>\n",
       "      <th>mean</th>\n",
       "      <th>max</th>\n",
       "    </tr>\n",
       "  </thead>\n",
       "  <tbody>\n",
       "    <tr>\n",
       "      <th>0</th>\n",
       "      <td>0.252551</td>\n",
       "      <td>2.994</td>\n",
       "    </tr>\n",
       "    <tr>\n",
       "      <th>1</th>\n",
       "      <td>0.397655</td>\n",
       "      <td>3.921</td>\n",
       "    </tr>\n",
       "    <tr>\n",
       "      <th>2</th>\n",
       "      <td>0.035382</td>\n",
       "      <td>1.065</td>\n",
       "    </tr>\n",
       "    <tr>\n",
       "      <th>3</th>\n",
       "      <td>0.095385</td>\n",
       "      <td>1.979</td>\n",
       "    </tr>\n",
       "    <tr>\n",
       "      <th>4</th>\n",
       "      <td>0.059470</td>\n",
       "      <td>0.801</td>\n",
       "    </tr>\n",
       "  </tbody>\n",
       "</table>\n",
       "</div>"
      ],
      "text/plain": [
       "       mean    max\n",
       "0  0.252551  2.994\n",
       "1  0.397655  3.921\n",
       "2  0.035382  1.065\n",
       "3  0.095385  1.979\n",
       "4  0.059470  0.801"
      ]
     },
     "execution_count": 52,
     "metadata": {},
     "output_type": "execute_result"
    }
   ],
   "source": [
    "base_df.head()"
   ]
  },
  {
   "cell_type": "code",
   "execution_count": 53,
   "metadata": {},
   "outputs": [],
   "source": [
    "# Probably need to split into train, test, validation sets."
   ]
  },
  {
   "cell_type": "code",
   "execution_count": 54,
   "metadata": {},
   "outputs": [],
   "source": [
    "kmeans = KMeans(n_clusters = 3, random_state = 5).fit(base_df)"
   ]
  },
  {
   "cell_type": "code",
   "execution_count": 55,
   "metadata": {},
   "outputs": [
    {
     "data": {
      "text/plain": [
       "array([0, 1, 2, ..., 2, 1, 2], dtype=int32)"
      ]
     },
     "execution_count": 55,
     "metadata": {},
     "output_type": "execute_result"
    }
   ],
   "source": [
    "kmeans.labels_"
   ]
  },
  {
   "cell_type": "code",
   "execution_count": 56,
   "metadata": {},
   "outputs": [],
   "source": [
    "group_df[\"Cluster\"] = kmeans.labels_"
   ]
  },
  {
   "cell_type": "code",
   "execution_count": 57,
   "metadata": {},
   "outputs": [
    {
     "data": {
      "text/html": [
       "<div>\n",
       "<style scoped>\n",
       "    .dataframe tbody tr th:only-of-type {\n",
       "        vertical-align: middle;\n",
       "    }\n",
       "\n",
       "    .dataframe tbody tr th {\n",
       "        vertical-align: top;\n",
       "    }\n",
       "\n",
       "    .dataframe thead tr th {\n",
       "        text-align: left;\n",
       "    }\n",
       "\n",
       "    .dataframe thead tr:last-of-type th {\n",
       "        text-align: right;\n",
       "    }\n",
       "</style>\n",
       "<table border=\"1\" class=\"dataframe\">\n",
       "  <thead>\n",
       "    <tr>\n",
       "      <th></th>\n",
       "      <th colspan=\"3\" halign=\"left\">KWH/hh</th>\n",
       "      <th>Acorn_grouped</th>\n",
       "      <th>Cluster</th>\n",
       "    </tr>\n",
       "    <tr>\n",
       "      <th></th>\n",
       "      <th>mean</th>\n",
       "      <th>min</th>\n",
       "      <th>max</th>\n",
       "      <th>first</th>\n",
       "      <th></th>\n",
       "    </tr>\n",
       "    <tr>\n",
       "      <th>LCLid</th>\n",
       "      <th></th>\n",
       "      <th></th>\n",
       "      <th></th>\n",
       "      <th></th>\n",
       "      <th></th>\n",
       "    </tr>\n",
       "  </thead>\n",
       "  <tbody>\n",
       "    <tr>\n",
       "      <th>MAC000002</th>\n",
       "      <td>0.252551</td>\n",
       "      <td>0.0</td>\n",
       "      <td>2.994</td>\n",
       "      <td>Affluent</td>\n",
       "      <td>0</td>\n",
       "    </tr>\n",
       "    <tr>\n",
       "      <th>MAC000003</th>\n",
       "      <td>0.397655</td>\n",
       "      <td>0.0</td>\n",
       "      <td>3.921</td>\n",
       "      <td>Adversity</td>\n",
       "      <td>1</td>\n",
       "    </tr>\n",
       "    <tr>\n",
       "      <th>MAC000004</th>\n",
       "      <td>0.035382</td>\n",
       "      <td>0.0</td>\n",
       "      <td>1.065</td>\n",
       "      <td>Affluent</td>\n",
       "      <td>2</td>\n",
       "    </tr>\n",
       "    <tr>\n",
       "      <th>MAC000005</th>\n",
       "      <td>0.095385</td>\n",
       "      <td>0.0</td>\n",
       "      <td>1.979</td>\n",
       "      <td>Affluent</td>\n",
       "      <td>2</td>\n",
       "    </tr>\n",
       "    <tr>\n",
       "      <th>MAC000006</th>\n",
       "      <td>0.059470</td>\n",
       "      <td>0.0</td>\n",
       "      <td>0.801</td>\n",
       "      <td>Adversity</td>\n",
       "      <td>2</td>\n",
       "    </tr>\n",
       "    <tr>\n",
       "      <th>...</th>\n",
       "      <td>...</td>\n",
       "      <td>...</td>\n",
       "      <td>...</td>\n",
       "      <td>...</td>\n",
       "      <td>...</td>\n",
       "    </tr>\n",
       "    <tr>\n",
       "      <th>MAC005563</th>\n",
       "      <td>0.000000</td>\n",
       "      <td>0.0</td>\n",
       "      <td>0.000</td>\n",
       "      <td>Adversity</td>\n",
       "      <td>2</td>\n",
       "    </tr>\n",
       "    <tr>\n",
       "      <th>MAC005564</th>\n",
       "      <td>0.083901</td>\n",
       "      <td>0.0</td>\n",
       "      <td>3.232</td>\n",
       "      <td>Adversity</td>\n",
       "      <td>0</td>\n",
       "    </tr>\n",
       "    <tr>\n",
       "      <th>MAC005565</th>\n",
       "      <td>0.128667</td>\n",
       "      <td>0.0</td>\n",
       "      <td>1.022</td>\n",
       "      <td>Affluent</td>\n",
       "      <td>2</td>\n",
       "    </tr>\n",
       "    <tr>\n",
       "      <th>MAC005566</th>\n",
       "      <td>0.363085</td>\n",
       "      <td>0.0</td>\n",
       "      <td>3.936</td>\n",
       "      <td>Affluent</td>\n",
       "      <td>1</td>\n",
       "    </tr>\n",
       "    <tr>\n",
       "      <th>MAC005567</th>\n",
       "      <td>0.108556</td>\n",
       "      <td>0.0</td>\n",
       "      <td>1.528</td>\n",
       "      <td>Adversity</td>\n",
       "      <td>2</td>\n",
       "    </tr>\n",
       "  </tbody>\n",
       "</table>\n",
       "<p>5515 rows × 5 columns</p>\n",
       "</div>"
      ],
      "text/plain": [
       "             KWH/hh             Acorn_grouped Cluster\n",
       "               mean  min    max         first        \n",
       "LCLid                                                \n",
       "MAC000002  0.252551  0.0  2.994      Affluent       0\n",
       "MAC000003  0.397655  0.0  3.921     Adversity       1\n",
       "MAC000004  0.035382  0.0  1.065      Affluent       2\n",
       "MAC000005  0.095385  0.0  1.979      Affluent       2\n",
       "MAC000006  0.059470  0.0  0.801     Adversity       2\n",
       "...             ...  ...    ...           ...     ...\n",
       "MAC005563  0.000000  0.0  0.000     Adversity       2\n",
       "MAC005564  0.083901  0.0  3.232     Adversity       0\n",
       "MAC005565  0.128667  0.0  1.022      Affluent       2\n",
       "MAC005566  0.363085  0.0  3.936      Affluent       1\n",
       "MAC005567  0.108556  0.0  1.528     Adversity       2\n",
       "\n",
       "[5515 rows x 5 columns]"
      ]
     },
     "execution_count": 57,
     "metadata": {},
     "output_type": "execute_result"
    }
   ],
   "source": [
    "group_df"
   ]
  },
  {
   "cell_type": "code",
   "execution_count": 58,
   "metadata": {},
   "outputs": [
    {
     "data": {
      "text/html": [
       "<div>\n",
       "<style scoped>\n",
       "    .dataframe tbody tr th:only-of-type {\n",
       "        vertical-align: middle;\n",
       "    }\n",
       "\n",
       "    .dataframe tbody tr th {\n",
       "        vertical-align: top;\n",
       "    }\n",
       "\n",
       "    .dataframe thead th {\n",
       "        text-align: right;\n",
       "    }\n",
       "</style>\n",
       "<table border=\"1\" class=\"dataframe\">\n",
       "  <thead>\n",
       "    <tr style=\"text-align: right;\">\n",
       "      <th></th>\n",
       "      <th></th>\n",
       "      <th>KWH/hh</th>\n",
       "      <th>KWH/hh</th>\n",
       "      <th>KWH/hh</th>\n",
       "    </tr>\n",
       "    <tr>\n",
       "      <th>Acorn_grouped</th>\n",
       "      <th>Cluster</th>\n",
       "      <th></th>\n",
       "      <th></th>\n",
       "      <th></th>\n",
       "    </tr>\n",
       "  </thead>\n",
       "  <tbody>\n",
       "    <tr>\n",
       "      <th rowspan=\"3\" valign=\"top\">Adversity</th>\n",
       "      <th>0</th>\n",
       "      <td>610</td>\n",
       "      <td>610</td>\n",
       "      <td>610</td>\n",
       "    </tr>\n",
       "    <tr>\n",
       "      <th>1</th>\n",
       "      <td>152</td>\n",
       "      <td>152</td>\n",
       "      <td>152</td>\n",
       "    </tr>\n",
       "    <tr>\n",
       "      <th>2</th>\n",
       "      <td>1054</td>\n",
       "      <td>1054</td>\n",
       "      <td>1054</td>\n",
       "    </tr>\n",
       "    <tr>\n",
       "      <th rowspan=\"3\" valign=\"top\">Affluent</th>\n",
       "      <th>0</th>\n",
       "      <td>886</td>\n",
       "      <td>886</td>\n",
       "      <td>886</td>\n",
       "    </tr>\n",
       "    <tr>\n",
       "      <th>1</th>\n",
       "      <td>363</td>\n",
       "      <td>363</td>\n",
       "      <td>363</td>\n",
       "    </tr>\n",
       "    <tr>\n",
       "      <th>2</th>\n",
       "      <td>943</td>\n",
       "      <td>943</td>\n",
       "      <td>943</td>\n",
       "    </tr>\n",
       "    <tr>\n",
       "      <th rowspan=\"3\" valign=\"top\">Comfortable</th>\n",
       "      <th>0</th>\n",
       "      <td>615</td>\n",
       "      <td>615</td>\n",
       "      <td>615</td>\n",
       "    </tr>\n",
       "    <tr>\n",
       "      <th>1</th>\n",
       "      <td>170</td>\n",
       "      <td>170</td>\n",
       "      <td>170</td>\n",
       "    </tr>\n",
       "    <tr>\n",
       "      <th>2</th>\n",
       "      <td>722</td>\n",
       "      <td>722</td>\n",
       "      <td>722</td>\n",
       "    </tr>\n",
       "  </tbody>\n",
       "</table>\n",
       "</div>"
      ],
      "text/plain": [
       "                       KWH/hh  KWH/hh  KWH/hh\n",
       "Acorn_grouped Cluster                        \n",
       "Adversity     0           610     610     610\n",
       "              1           152     152     152\n",
       "              2          1054    1054    1054\n",
       "Affluent      0           886     886     886\n",
       "              1           363     363     363\n",
       "              2           943     943     943\n",
       "Comfortable   0           615     615     615\n",
       "              1           170     170     170\n",
       "              2           722     722     722"
      ]
     },
     "execution_count": 58,
     "metadata": {},
     "output_type": "execute_result"
    }
   ],
   "source": [
    "group_df.droplevel(1, axis=1).groupby([\"Acorn_grouped\", \"Cluster\"]).count()"
   ]
  },
  {
   "cell_type": "code",
   "execution_count": 59,
   "metadata": {},
   "outputs": [],
   "source": [
    "group_df.columns = group_df.columns.map('_'.join)"
   ]
  },
  {
   "cell_type": "code",
   "execution_count": 60,
   "metadata": {},
   "outputs": [
    {
     "data": {
      "text/html": [
       "<div>\n",
       "<style scoped>\n",
       "    .dataframe tbody tr th:only-of-type {\n",
       "        vertical-align: middle;\n",
       "    }\n",
       "\n",
       "    .dataframe tbody tr th {\n",
       "        vertical-align: top;\n",
       "    }\n",
       "\n",
       "    .dataframe thead th {\n",
       "        text-align: right;\n",
       "    }\n",
       "</style>\n",
       "<table border=\"1\" class=\"dataframe\">\n",
       "  <thead>\n",
       "    <tr style=\"text-align: right;\">\n",
       "      <th></th>\n",
       "      <th>KWH/hh_mean</th>\n",
       "      <th>KWH/hh_min</th>\n",
       "      <th>KWH/hh_max</th>\n",
       "      <th>Acorn_grouped_first</th>\n",
       "      <th>Cluster_</th>\n",
       "    </tr>\n",
       "    <tr>\n",
       "      <th>LCLid</th>\n",
       "      <th></th>\n",
       "      <th></th>\n",
       "      <th></th>\n",
       "      <th></th>\n",
       "      <th></th>\n",
       "    </tr>\n",
       "  </thead>\n",
       "  <tbody>\n",
       "    <tr>\n",
       "      <th>MAC000002</th>\n",
       "      <td>0.252551</td>\n",
       "      <td>0.0</td>\n",
       "      <td>2.994</td>\n",
       "      <td>Affluent</td>\n",
       "      <td>0</td>\n",
       "    </tr>\n",
       "    <tr>\n",
       "      <th>MAC000003</th>\n",
       "      <td>0.397655</td>\n",
       "      <td>0.0</td>\n",
       "      <td>3.921</td>\n",
       "      <td>Adversity</td>\n",
       "      <td>1</td>\n",
       "    </tr>\n",
       "    <tr>\n",
       "      <th>MAC000004</th>\n",
       "      <td>0.035382</td>\n",
       "      <td>0.0</td>\n",
       "      <td>1.065</td>\n",
       "      <td>Affluent</td>\n",
       "      <td>2</td>\n",
       "    </tr>\n",
       "    <tr>\n",
       "      <th>MAC000005</th>\n",
       "      <td>0.095385</td>\n",
       "      <td>0.0</td>\n",
       "      <td>1.979</td>\n",
       "      <td>Affluent</td>\n",
       "      <td>2</td>\n",
       "    </tr>\n",
       "    <tr>\n",
       "      <th>MAC000006</th>\n",
       "      <td>0.059470</td>\n",
       "      <td>0.0</td>\n",
       "      <td>0.801</td>\n",
       "      <td>Adversity</td>\n",
       "      <td>2</td>\n",
       "    </tr>\n",
       "    <tr>\n",
       "      <th>...</th>\n",
       "      <td>...</td>\n",
       "      <td>...</td>\n",
       "      <td>...</td>\n",
       "      <td>...</td>\n",
       "      <td>...</td>\n",
       "    </tr>\n",
       "    <tr>\n",
       "      <th>MAC005563</th>\n",
       "      <td>0.000000</td>\n",
       "      <td>0.0</td>\n",
       "      <td>0.000</td>\n",
       "      <td>Adversity</td>\n",
       "      <td>2</td>\n",
       "    </tr>\n",
       "    <tr>\n",
       "      <th>MAC005564</th>\n",
       "      <td>0.083901</td>\n",
       "      <td>0.0</td>\n",
       "      <td>3.232</td>\n",
       "      <td>Adversity</td>\n",
       "      <td>0</td>\n",
       "    </tr>\n",
       "    <tr>\n",
       "      <th>MAC005565</th>\n",
       "      <td>0.128667</td>\n",
       "      <td>0.0</td>\n",
       "      <td>1.022</td>\n",
       "      <td>Affluent</td>\n",
       "      <td>2</td>\n",
       "    </tr>\n",
       "    <tr>\n",
       "      <th>MAC005566</th>\n",
       "      <td>0.363085</td>\n",
       "      <td>0.0</td>\n",
       "      <td>3.936</td>\n",
       "      <td>Affluent</td>\n",
       "      <td>1</td>\n",
       "    </tr>\n",
       "    <tr>\n",
       "      <th>MAC005567</th>\n",
       "      <td>0.108556</td>\n",
       "      <td>0.0</td>\n",
       "      <td>1.528</td>\n",
       "      <td>Adversity</td>\n",
       "      <td>2</td>\n",
       "    </tr>\n",
       "  </tbody>\n",
       "</table>\n",
       "<p>5515 rows × 5 columns</p>\n",
       "</div>"
      ],
      "text/plain": [
       "           KWH/hh_mean  KWH/hh_min  KWH/hh_max Acorn_grouped_first  Cluster_\n",
       "LCLid                                                                       \n",
       "MAC000002     0.252551         0.0       2.994            Affluent         0\n",
       "MAC000003     0.397655         0.0       3.921           Adversity         1\n",
       "MAC000004     0.035382         0.0       1.065            Affluent         2\n",
       "MAC000005     0.095385         0.0       1.979            Affluent         2\n",
       "MAC000006     0.059470         0.0       0.801           Adversity         2\n",
       "...                ...         ...         ...                 ...       ...\n",
       "MAC005563     0.000000         0.0       0.000           Adversity         2\n",
       "MAC005564     0.083901         0.0       3.232           Adversity         0\n",
       "MAC005565     0.128667         0.0       1.022            Affluent         2\n",
       "MAC005566     0.363085         0.0       3.936            Affluent         1\n",
       "MAC005567     0.108556         0.0       1.528           Adversity         2\n",
       "\n",
       "[5515 rows x 5 columns]"
      ]
     },
     "execution_count": 60,
     "metadata": {},
     "output_type": "execute_result"
    }
   ],
   "source": [
    "group_df"
   ]
  },
  {
   "cell_type": "code",
   "execution_count": 61,
   "metadata": {},
   "outputs": [
    {
     "data": {
      "text/plain": [
       "array(['Affluent', 'Adversity', 'Comfortable'], dtype=object)"
      ]
     },
     "execution_count": 61,
     "metadata": {},
     "output_type": "execute_result"
    }
   ],
   "source": [
    "group_df[\"Acorn_grouped_first\"].unique()"
   ]
  },
  {
   "cell_type": "code",
   "execution_count": 62,
   "metadata": {},
   "outputs": [],
   "source": [
    "colors = ['#DF2020', '#81DF20', '#2095DF']\n",
    "group_df['c'] = group_df.Cluster_.map({0:colors[0], 1:colors[1], 2:colors[2]})\n",
    "group_df['d'] = group_df[\"Acorn_grouped_first\"].map({\"Affluent\":colors[0], \"Comfortable\":colors[1], \"Adversity\":colors[2]})"
   ]
  },
  {
   "cell_type": "code",
   "execution_count": 63,
   "metadata": {},
   "outputs": [
    {
     "data": {
      "text/plain": [
       "<matplotlib.collections.PathCollection at 0x7fa7b51c6610>"
      ]
     },
     "execution_count": 63,
     "metadata": {},
     "output_type": "execute_result"
    },
    {
     "data": {
      "image/png": "[encoded data removed]",
      "text/plain": [
       "<Figure size 432x288 with 1 Axes>"
      ]
     },
     "metadata": {
      "needs_background": "light"
     },
     "output_type": "display_data"
    }
   ],
   "source": [
    "plt.scatter(group_df[\"KWH/hh_max\"], group_df[\"KWH/hh_mean\"], c=group_df.d, alpha = 0.6, s=10)"
   ]
  },
  {
   "cell_type": "code",
   "execution_count": 64,
   "metadata": {},
   "outputs": [
    {
     "data": {
      "text/plain": [
       "<matplotlib.collections.PathCollection at 0x7fa7834aaee0>"
      ]
     },
     "execution_count": 64,
     "metadata": {},
     "output_type": "execute_result"
    },
    {
     "data": {
      "image/png": "[encoded data removed]",
      "text/plain": [
       "<Figure size 432x288 with 1 Axes>"
      ]
     },
     "metadata": {
      "needs_background": "light"
     },
     "output_type": "display_data"
    }
   ],
   "source": [
    "plt.scatter(group_df[\"KWH/hh_max\"], group_df[\"KWH/hh_mean\"], c=group_df.c, alpha = 0.6, s=10)"
   ]
  },
  {
   "cell_type": "code",
   "execution_count": 76,
   "metadata": {},
   "outputs": [
    {
     "data": {
      "text/plain": [
       "array([[0.25255145],\n",
       "       [0.39765522],\n",
       "       [0.03538176],\n",
       "       ...,\n",
       "       [0.12866667],\n",
       "       [0.36308547],\n",
       "       [0.10855553]])"
      ]
     },
     "execution_count": 76,
     "metadata": {},
     "output_type": "execute_result"
    }
   ],
   "source": [
    "base_df[\"mean\"].to_numpy().reshape(-1,1)"
   ]
  },
  {
   "cell_type": "code",
   "execution_count": 75,
   "metadata": {},
   "outputs": [],
   "source": [
    "kmeans2 = KMeans(n_clusters = 3, random_state = 5).fit(base_df[\"mean\"].to_numpy().reshape(-1,1))"
   ]
  },
  {
   "cell_type": "code",
   "execution_count": 77,
   "metadata": {},
   "outputs": [],
   "source": [
    "group_df[\"Cluster_2\"] = kmeans2.labels_"
   ]
  },
  {
   "cell_type": "code",
   "execution_count": 78,
   "metadata": {},
   "outputs": [
    {
     "data": {
      "text/html": [
       "<div>\n",
       "<style scoped>\n",
       "    .dataframe tbody tr th:only-of-type {\n",
       "        vertical-align: middle;\n",
       "    }\n",
       "\n",
       "    .dataframe tbody tr th {\n",
       "        vertical-align: top;\n",
       "    }\n",
       "\n",
       "    .dataframe thead th {\n",
       "        text-align: right;\n",
       "    }\n",
       "</style>\n",
       "<table border=\"1\" class=\"dataframe\">\n",
       "  <thead>\n",
       "    <tr style=\"text-align: right;\">\n",
       "      <th></th>\n",
       "      <th>KWH/hh_mean</th>\n",
       "      <th>KWH/hh_min</th>\n",
       "      <th>KWH/hh_max</th>\n",
       "      <th>Acorn_grouped_first</th>\n",
       "      <th>Cluster_</th>\n",
       "      <th>c</th>\n",
       "      <th>d</th>\n",
       "      <th>Cluster_2</th>\n",
       "    </tr>\n",
       "    <tr>\n",
       "      <th>LCLid</th>\n",
       "      <th></th>\n",
       "      <th></th>\n",
       "      <th></th>\n",
       "      <th></th>\n",
       "      <th></th>\n",
       "      <th></th>\n",
       "      <th></th>\n",
       "      <th></th>\n",
       "    </tr>\n",
       "  </thead>\n",
       "  <tbody>\n",
       "    <tr>\n",
       "      <th>MAC000002</th>\n",
       "      <td>0.252551</td>\n",
       "      <td>0.0</td>\n",
       "      <td>2.994</td>\n",
       "      <td>Affluent</td>\n",
       "      <td>0</td>\n",
       "      <td>#DF2020</td>\n",
       "      <td>#DF2020</td>\n",
       "      <td>2</td>\n",
       "    </tr>\n",
       "    <tr>\n",
       "      <th>MAC000003</th>\n",
       "      <td>0.397655</td>\n",
       "      <td>0.0</td>\n",
       "      <td>3.921</td>\n",
       "      <td>Adversity</td>\n",
       "      <td>1</td>\n",
       "      <td>#81DF20</td>\n",
       "      <td>#2095DF</td>\n",
       "      <td>2</td>\n",
       "    </tr>\n",
       "    <tr>\n",
       "      <th>MAC000004</th>\n",
       "      <td>0.035382</td>\n",
       "      <td>0.0</td>\n",
       "      <td>1.065</td>\n",
       "      <td>Affluent</td>\n",
       "      <td>2</td>\n",
       "      <td>#2095DF</td>\n",
       "      <td>#DF2020</td>\n",
       "      <td>1</td>\n",
       "    </tr>\n",
       "    <tr>\n",
       "      <th>MAC000005</th>\n",
       "      <td>0.095385</td>\n",
       "      <td>0.0</td>\n",
       "      <td>1.979</td>\n",
       "      <td>Affluent</td>\n",
       "      <td>2</td>\n",
       "      <td>#2095DF</td>\n",
       "      <td>#DF2020</td>\n",
       "      <td>1</td>\n",
       "    </tr>\n",
       "    <tr>\n",
       "      <th>MAC000006</th>\n",
       "      <td>0.059470</td>\n",
       "      <td>0.0</td>\n",
       "      <td>0.801</td>\n",
       "      <td>Adversity</td>\n",
       "      <td>2</td>\n",
       "      <td>#2095DF</td>\n",
       "      <td>#2095DF</td>\n",
       "      <td>1</td>\n",
       "    </tr>\n",
       "  </tbody>\n",
       "</table>\n",
       "</div>"
      ],
      "text/plain": [
       "           KWH/hh_mean  KWH/hh_min  KWH/hh_max Acorn_grouped_first  Cluster_  \\\n",
       "LCLid                                                                          \n",
       "MAC000002     0.252551         0.0       2.994            Affluent         0   \n",
       "MAC000003     0.397655         0.0       3.921           Adversity         1   \n",
       "MAC000004     0.035382         0.0       1.065            Affluent         2   \n",
       "MAC000005     0.095385         0.0       1.979            Affluent         2   \n",
       "MAC000006     0.059470         0.0       0.801           Adversity         2   \n",
       "\n",
       "                 c        d  Cluster_2  \n",
       "LCLid                                   \n",
       "MAC000002  #DF2020  #DF2020          2  \n",
       "MAC000003  #81DF20  #2095DF          2  \n",
       "MAC000004  #2095DF  #DF2020          1  \n",
       "MAC000005  #2095DF  #DF2020          1  \n",
       "MAC000006  #2095DF  #2095DF          1  "
      ]
     },
     "execution_count": 78,
     "metadata": {},
     "output_type": "execute_result"
    }
   ],
   "source": [
    "group_df.head()"
   ]
  },
  {
   "cell_type": "code",
   "execution_count": 81,
   "metadata": {},
   "outputs": [
    {
     "data": {
      "text/html": [
       "<div>\n",
       "<style scoped>\n",
       "    .dataframe tbody tr th:only-of-type {\n",
       "        vertical-align: middle;\n",
       "    }\n",
       "\n",
       "    .dataframe tbody tr th {\n",
       "        vertical-align: top;\n",
       "    }\n",
       "\n",
       "    .dataframe thead th {\n",
       "        text-align: right;\n",
       "    }\n",
       "</style>\n",
       "<table border=\"1\" class=\"dataframe\">\n",
       "  <thead>\n",
       "    <tr style=\"text-align: right;\">\n",
       "      <th></th>\n",
       "      <th></th>\n",
       "      <th>KWH/hh_mean</th>\n",
       "      <th>KWH/hh_min</th>\n",
       "      <th>KWH/hh_max</th>\n",
       "      <th>Cluster_</th>\n",
       "      <th>c</th>\n",
       "      <th>d</th>\n",
       "    </tr>\n",
       "    <tr>\n",
       "      <th>Acorn_grouped_first</th>\n",
       "      <th>Cluster_2</th>\n",
       "      <th></th>\n",
       "      <th></th>\n",
       "      <th></th>\n",
       "      <th></th>\n",
       "      <th></th>\n",
       "      <th></th>\n",
       "    </tr>\n",
       "  </thead>\n",
       "  <tbody>\n",
       "    <tr>\n",
       "      <th rowspan=\"3\" valign=\"top\">Adversity</th>\n",
       "      <th>0</th>\n",
       "      <td>24</td>\n",
       "      <td>24</td>\n",
       "      <td>24</td>\n",
       "      <td>24</td>\n",
       "      <td>24</td>\n",
       "      <td>24</td>\n",
       "    </tr>\n",
       "    <tr>\n",
       "      <th>1</th>\n",
       "      <td>1320</td>\n",
       "      <td>1320</td>\n",
       "      <td>1320</td>\n",
       "      <td>1320</td>\n",
       "      <td>1320</td>\n",
       "      <td>1320</td>\n",
       "    </tr>\n",
       "    <tr>\n",
       "      <th>2</th>\n",
       "      <td>472</td>\n",
       "      <td>472</td>\n",
       "      <td>472</td>\n",
       "      <td>472</td>\n",
       "      <td>472</td>\n",
       "      <td>472</td>\n",
       "    </tr>\n",
       "    <tr>\n",
       "      <th rowspan=\"3\" valign=\"top\">Affluent</th>\n",
       "      <th>0</th>\n",
       "      <td>166</td>\n",
       "      <td>166</td>\n",
       "      <td>166</td>\n",
       "      <td>166</td>\n",
       "      <td>166</td>\n",
       "      <td>166</td>\n",
       "    </tr>\n",
       "    <tr>\n",
       "      <th>1</th>\n",
       "      <td>1275</td>\n",
       "      <td>1275</td>\n",
       "      <td>1275</td>\n",
       "      <td>1275</td>\n",
       "      <td>1275</td>\n",
       "      <td>1275</td>\n",
       "    </tr>\n",
       "    <tr>\n",
       "      <th>2</th>\n",
       "      <td>751</td>\n",
       "      <td>751</td>\n",
       "      <td>751</td>\n",
       "      <td>751</td>\n",
       "      <td>751</td>\n",
       "      <td>751</td>\n",
       "    </tr>\n",
       "    <tr>\n",
       "      <th rowspan=\"3\" valign=\"top\">Comfortable</th>\n",
       "      <th>0</th>\n",
       "      <td>39</td>\n",
       "      <td>39</td>\n",
       "      <td>39</td>\n",
       "      <td>39</td>\n",
       "      <td>39</td>\n",
       "      <td>39</td>\n",
       "    </tr>\n",
       "    <tr>\n",
       "      <th>1</th>\n",
       "      <td>925</td>\n",
       "      <td>925</td>\n",
       "      <td>925</td>\n",
       "      <td>925</td>\n",
       "      <td>925</td>\n",
       "      <td>925</td>\n",
       "    </tr>\n",
       "    <tr>\n",
       "      <th>2</th>\n",
       "      <td>543</td>\n",
       "      <td>543</td>\n",
       "      <td>543</td>\n",
       "      <td>543</td>\n",
       "      <td>543</td>\n",
       "      <td>543</td>\n",
       "    </tr>\n",
       "  </tbody>\n",
       "</table>\n",
       "</div>"
      ],
      "text/plain": [
       "                               KWH/hh_mean  KWH/hh_min  KWH/hh_max  Cluster_  \\\n",
       "Acorn_grouped_first Cluster_2                                                  \n",
       "Adversity           0                   24          24          24        24   \n",
       "                    1                 1320        1320        1320      1320   \n",
       "                    2                  472         472         472       472   \n",
       "Affluent            0                  166         166         166       166   \n",
       "                    1                 1275        1275        1275      1275   \n",
       "                    2                  751         751         751       751   \n",
       "Comfortable         0                   39          39          39        39   \n",
       "                    1                  925         925         925       925   \n",
       "                    2                  543         543         543       543   \n",
       "\n",
       "                                  c     d  \n",
       "Acorn_grouped_first Cluster_2              \n",
       "Adversity           0            24    24  \n",
       "                    1          1320  1320  \n",
       "                    2           472   472  \n",
       "Affluent            0           166   166  \n",
       "                    1          1275  1275  \n",
       "                    2           751   751  \n",
       "Comfortable         0            39    39  \n",
       "                    1           925   925  \n",
       "                    2           543   543  "
      ]
     },
     "execution_count": 81,
     "metadata": {},
     "output_type": "execute_result"
    }
   ],
   "source": [
    "group_df.groupby([\"Acorn_grouped_first\", \"Cluster_2\"]).count()"
   ]
  },
  {
   "cell_type": "code",
   "execution_count": 82,
   "metadata": {},
   "outputs": [],
   "source": [
    "group_df['c2'] = group_df.Cluster_2.map({0:colors[0], 1:colors[1], 2:colors[2]})"
   ]
  },
  {
   "cell_type": "code",
   "execution_count": 83,
   "metadata": {},
   "outputs": [
    {
     "data": {
      "text/plain": [
       "<matplotlib.collections.PathCollection at 0x7fa7836818b0>"
      ]
     },
     "execution_count": 83,
     "metadata": {},
     "output_type": "execute_result"
    },
    {
     "data": {
      "image/png": "[encoded data removed]",
      "text/plain": [
       "<Figure size 432x288 with 1 Axes>"
      ]
     },
     "metadata": {
      "needs_background": "light"
     },
     "output_type": "display_data"
    }
   ],
   "source": [
    "plt.scatter(group_df[\"KWH/hh_max\"], group_df[\"KWH/hh_mean\"], c=group_df.c2, alpha = 0.6, s=10)"
   ]
  },
  {
   "cell_type": "markdown",
   "metadata": {},
   "source": [
    "## Thoughts at this point. End of Update 1\n",
    "\n",
    "1. First off this was always going to be hard because income level does not determine what you do for fun in your free time. Some people have a lot of money and watch a lot of TV. Some people have no money or Job so they watch a lot of TV. \n",
    "1. I think there are quite a few outliers so I think maybe we do something to separate those out of the dataset and try again.\n",
    "1. Split Into averages for time of day I think this might get us closer to what we are looking for. \n",
    "1. Make sure each cluster has close to the same number of values? \n",
    "    1. So far there has always been 1 with far few values than the others. \n",
    "    1. I think that this coinsides with the outliers forcing a centroid to far away from the rest of the data.\n",
    "\n"
   ]
  },
  {
   "cell_type": "code",
   "execution_count": null,
   "metadata": {},
   "outputs": [],
   "source": [
    "# 0-8 Sleep, 8-16 Away, 16-24 Home? Just as a general breakdown of average people's days?\n"
   ]
  }
 ],
 "metadata": {
  "interpreter": {
   "hash": "b639160d2809dc83ccc933c15f415433651252739a31f9cb2360d773e521f41e"
  },
  "kernelspec": {
   "display_name": "Python 3.8.12 ('csc521')",
   "language": "python",
   "name": "python3"
  },
  "language_info": {
   "codemirror_mode": {
    "name": "ipython",
    "version": 3
   },
   "file_extension": ".py",
   "mimetype": "text/x-python",
   "name": "python",
   "nbconvert_exporter": "python",
   "pygments_lexer": "ipython3",
   "version": "3.8.12"
  },
  "orig_nbformat": 4
 },
 "nbformat": 4,
 "nbformat_minor": 2
}
