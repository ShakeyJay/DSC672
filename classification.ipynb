{
 "cells": [
  {
   "cell_type": "code",
   "execution_count": 2,
   "metadata": {},
   "outputs": [],
   "source": [
    "import pandas as pd"
   ]
  },
  {
   "cell_type": "code",
   "execution_count": 3,
   "metadata": {},
   "outputs": [],
   "source": [
    "df = pd.read_feather('clean_data.feather')"
   ]
  },
  {
   "cell_type": "code",
   "execution_count": 4,
   "metadata": {},
   "outputs": [
    {
     "data": {
      "text/html": [
       "<div>\n",
       "<style scoped>\n",
       "    .dataframe tbody tr th:only-of-type {\n",
       "        vertical-align: middle;\n",
       "    }\n",
       "\n",
       "    .dataframe tbody tr th {\n",
       "        vertical-align: top;\n",
       "    }\n",
       "\n",
       "    .dataframe thead th {\n",
       "        text-align: right;\n",
       "    }\n",
       "</style>\n",
       "<table border=\"1\" class=\"dataframe\">\n",
       "  <thead>\n",
       "    <tr style=\"text-align: right;\">\n",
       "      <th></th>\n",
       "      <th>LCLid</th>\n",
       "      <th>stdorToU</th>\n",
       "      <th>DateTime</th>\n",
       "      <th>KWH/hh</th>\n",
       "      <th>Acorn</th>\n",
       "      <th>Acorn_grouped</th>\n",
       "      <th>Time</th>\n",
       "    </tr>\n",
       "  </thead>\n",
       "  <tbody>\n",
       "    <tr>\n",
       "      <th>0</th>\n",
       "      <td>MAC000756</td>\n",
       "      <td>Std</td>\n",
       "      <td>2014-02-12 17:00:00</td>\n",
       "      <td>0.077</td>\n",
       "      <td>ACORN-E</td>\n",
       "      <td>Affluent</td>\n",
       "      <td>17:00:00</td>\n",
       "    </tr>\n",
       "    <tr>\n",
       "      <th>1</th>\n",
       "      <td>MAC000756</td>\n",
       "      <td>Std</td>\n",
       "      <td>2014-02-12 17:30:00</td>\n",
       "      <td>0.082</td>\n",
       "      <td>ACORN-E</td>\n",
       "      <td>Affluent</td>\n",
       "      <td>17:30:00</td>\n",
       "    </tr>\n",
       "    <tr>\n",
       "      <th>2</th>\n",
       "      <td>MAC000756</td>\n",
       "      <td>Std</td>\n",
       "      <td>2014-02-12 18:00:00</td>\n",
       "      <td>0.121</td>\n",
       "      <td>ACORN-E</td>\n",
       "      <td>Affluent</td>\n",
       "      <td>18:00:00</td>\n",
       "    </tr>\n",
       "    <tr>\n",
       "      <th>3</th>\n",
       "      <td>MAC000756</td>\n",
       "      <td>Std</td>\n",
       "      <td>2014-02-12 18:30:00</td>\n",
       "      <td>0.144</td>\n",
       "      <td>ACORN-E</td>\n",
       "      <td>Affluent</td>\n",
       "      <td>18:30:00</td>\n",
       "    </tr>\n",
       "    <tr>\n",
       "      <th>4</th>\n",
       "      <td>MAC000756</td>\n",
       "      <td>Std</td>\n",
       "      <td>2014-02-12 19:00:00</td>\n",
       "      <td>0.177</td>\n",
       "      <td>ACORN-E</td>\n",
       "      <td>Affluent</td>\n",
       "      <td>19:00:00</td>\n",
       "    </tr>\n",
       "  </tbody>\n",
       "</table>\n",
       "</div>"
      ],
      "text/plain": [
       "       LCLid stdorToU            DateTime  KWH/hh    Acorn Acorn_grouped  \\\n",
       "0  MAC000756      Std 2014-02-12 17:00:00   0.077  ACORN-E      Affluent   \n",
       "1  MAC000756      Std 2014-02-12 17:30:00   0.082  ACORN-E      Affluent   \n",
       "2  MAC000756      Std 2014-02-12 18:00:00   0.121  ACORN-E      Affluent   \n",
       "3  MAC000756      Std 2014-02-12 18:30:00   0.144  ACORN-E      Affluent   \n",
       "4  MAC000756      Std 2014-02-12 19:00:00   0.177  ACORN-E      Affluent   \n",
       "\n",
       "       Time  \n",
       "0  17:00:00  \n",
       "1  17:30:00  \n",
       "2  18:00:00  \n",
       "3  18:30:00  \n",
       "4  19:00:00  "
      ]
     },
     "execution_count": 4,
     "metadata": {},
     "output_type": "execute_result"
    }
   ],
   "source": [
    "df.head()"
   ]
  }
 ],
 "metadata": {
  "interpreter": {
   "hash": "b639160d2809dc83ccc933c15f415433651252739a31f9cb2360d773e521f41e"
  },
  "kernelspec": {
   "display_name": "Python 3.8.12 ('csc521')",
   "language": "python",
   "name": "python3"
  },
  "language_info": {
   "codemirror_mode": {
    "name": "ipython",
    "version": 3
   },
   "file_extension": ".py",
   "mimetype": "text/x-python",
   "name": "python",
   "nbconvert_exporter": "python",
   "pygments_lexer": "ipython3",
   "version": "3.8.12"
  },
  "orig_nbformat": 4
 },
 "nbformat": 4,
 "nbformat_minor": 2
}
