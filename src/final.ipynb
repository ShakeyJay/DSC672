{
 "cells": [
  {
   "cell_type": "markdown",
   "metadata": {},
   "source": [
    "### DSC672 Group 10 Final Project\n",
    "Classification, Clustering, and Time Series Analysis of London Smart Meter Data\n",
    "\n",
    "by: Jennifer Franks and Josh Hall"
   ]
  },
  {
   "cell_type": "code",
   "execution_count": 7,
   "metadata": {},
   "outputs": [],
   "source": [
    "import pandas as pd\n",
    "import numpy as np\n",
    "import glob\n",
    "from utils import read_data, print_model_acc, voting_system"
   ]
  },
  {
   "cell_type": "markdown",
   "metadata": {},
   "source": [
    "The data I acquired from https://data.london.gov.uk/dataset/smartmeter-energy-use-data-in-london-households comes in 168 .csv files of 1 million rows each. So, the first thing I must do is stitch all the files together to create a single dataframe for further processing. "
   ]
  },
  {
   "cell_type": "markdown",
   "metadata": {},
   "source": [
    "# 1. Data Cleaning"
   ]
  },
  {
   "cell_type": "code",
   "execution_count": 8,
   "metadata": {},
   "outputs": [],
   "source": [
    "# path = r'C:\\\\Users\\\\jesse\\\\Downloads\\\\clases\\\\electrical data\\\\london data'\n",
    "path = '../data/'\n",
    "df = read_data(path) # Get the data."
   ]
  },
  {
   "cell_type": "code",
   "execution_count": 9,
   "metadata": {},
   "outputs": [
    {
     "data": {
      "text/html": [
       "<div>\n",
       "<style scoped>\n",
       "    .dataframe tbody tr th:only-of-type {\n",
       "        vertical-align: middle;\n",
       "    }\n",
       "\n",
       "    .dataframe tbody tr th {\n",
       "        vertical-align: top;\n",
       "    }\n",
       "\n",
       "    .dataframe thead th {\n",
       "        text-align: right;\n",
       "    }\n",
       "</style>\n",
       "<table border=\"1\" class=\"dataframe\">\n",
       "  <thead>\n",
       "    <tr style=\"text-align: right;\">\n",
       "      <th></th>\n",
       "      <th>LCLid</th>\n",
       "      <th>stdorToU</th>\n",
       "      <th>DateTime</th>\n",
       "      <th>KWH/hh (per half hour)</th>\n",
       "      <th>Acorn</th>\n",
       "      <th>Acorn_grouped</th>\n",
       "    </tr>\n",
       "  </thead>\n",
       "  <tbody>\n",
       "    <tr>\n",
       "      <th>0</th>\n",
       "      <td>MAC000002</td>\n",
       "      <td>Std</td>\n",
       "      <td>10/12/2012 0:30</td>\n",
       "      <td>NaN</td>\n",
       "      <td>ACORN-A</td>\n",
       "      <td>Affluent</td>\n",
       "    </tr>\n",
       "    <tr>\n",
       "      <th>1</th>\n",
       "      <td>MAC000002</td>\n",
       "      <td>Std</td>\n",
       "      <td>10/12/2012 1:00</td>\n",
       "      <td>NaN</td>\n",
       "      <td>ACORN-A</td>\n",
       "      <td>Affluent</td>\n",
       "    </tr>\n",
       "    <tr>\n",
       "      <th>2</th>\n",
       "      <td>MAC000002</td>\n",
       "      <td>Std</td>\n",
       "      <td>10/12/2012 1:30</td>\n",
       "      <td>NaN</td>\n",
       "      <td>ACORN-A</td>\n",
       "      <td>Affluent</td>\n",
       "    </tr>\n",
       "    <tr>\n",
       "      <th>3</th>\n",
       "      <td>MAC000002</td>\n",
       "      <td>Std</td>\n",
       "      <td>10/12/2012 2:00</td>\n",
       "      <td>NaN</td>\n",
       "      <td>ACORN-A</td>\n",
       "      <td>Affluent</td>\n",
       "    </tr>\n",
       "    <tr>\n",
       "      <th>4</th>\n",
       "      <td>MAC000002</td>\n",
       "      <td>Std</td>\n",
       "      <td>10/12/2012 2:30</td>\n",
       "      <td>NaN</td>\n",
       "      <td>ACORN-A</td>\n",
       "      <td>Affluent</td>\n",
       "    </tr>\n",
       "    <tr>\n",
       "      <th>...</th>\n",
       "      <td>...</td>\n",
       "      <td>...</td>\n",
       "      <td>...</td>\n",
       "      <td>...</td>\n",
       "      <td>...</td>\n",
       "      <td>...</td>\n",
       "    </tr>\n",
       "    <tr>\n",
       "      <th>167932469</th>\n",
       "      <td>MAC004221</td>\n",
       "      <td>Std</td>\n",
       "      <td>2013-08-06 04:30:00.0000000</td>\n",
       "      <td>0.017</td>\n",
       "      <td>ACORN-E</td>\n",
       "      <td>Affluent</td>\n",
       "    </tr>\n",
       "    <tr>\n",
       "      <th>167932470</th>\n",
       "      <td>MAC004221</td>\n",
       "      <td>Std</td>\n",
       "      <td>2013-08-06 05:00:00.0000000</td>\n",
       "      <td>0.017</td>\n",
       "      <td>ACORN-E</td>\n",
       "      <td>Affluent</td>\n",
       "    </tr>\n",
       "    <tr>\n",
       "      <th>167932471</th>\n",
       "      <td>MAC004221</td>\n",
       "      <td>Std</td>\n",
       "      <td>2013-08-06 05:30:00.0000000</td>\n",
       "      <td>0.017</td>\n",
       "      <td>ACORN-E</td>\n",
       "      <td>Affluent</td>\n",
       "    </tr>\n",
       "    <tr>\n",
       "      <th>167932472</th>\n",
       "      <td>MAC004221</td>\n",
       "      <td>Std</td>\n",
       "      <td>2013-08-06 06:00:00.0000000</td>\n",
       "      <td>0.017</td>\n",
       "      <td>ACORN-E</td>\n",
       "      <td>Affluent</td>\n",
       "    </tr>\n",
       "    <tr>\n",
       "      <th>167932473</th>\n",
       "      <td>MAC004221</td>\n",
       "      <td>Std</td>\n",
       "      <td>2013-08-06 06:30:00.0000000</td>\n",
       "      <td>0.017</td>\n",
       "      <td>ACORN-E</td>\n",
       "      <td>Affluent</td>\n",
       "    </tr>\n",
       "  </tbody>\n",
       "</table>\n",
       "<p>167932474 rows × 6 columns</p>\n",
       "</div>"
      ],
      "text/plain": [
       "               LCLid stdorToU                     DateTime  \\\n",
       "0          MAC000002      Std              10/12/2012 0:30   \n",
       "1          MAC000002      Std              10/12/2012 1:00   \n",
       "2          MAC000002      Std              10/12/2012 1:30   \n",
       "3          MAC000002      Std              10/12/2012 2:00   \n",
       "4          MAC000002      Std              10/12/2012 2:30   \n",
       "...              ...      ...                          ...   \n",
       "167932469  MAC004221      Std  2013-08-06 04:30:00.0000000   \n",
       "167932470  MAC004221      Std  2013-08-06 05:00:00.0000000   \n",
       "167932471  MAC004221      Std  2013-08-06 05:30:00.0000000   \n",
       "167932472  MAC004221      Std  2013-08-06 06:00:00.0000000   \n",
       "167932473  MAC004221      Std  2013-08-06 06:30:00.0000000   \n",
       "\n",
       "          KWH/hh (per half hour)     Acorn Acorn_grouped  \n",
       "0                             NaN  ACORN-A      Affluent  \n",
       "1                             NaN  ACORN-A      Affluent  \n",
       "2                             NaN  ACORN-A      Affluent  \n",
       "3                             NaN  ACORN-A      Affluent  \n",
       "4                             NaN  ACORN-A      Affluent  \n",
       "...                           ...      ...           ...  \n",
       "167932469                  0.017   ACORN-E      Affluent  \n",
       "167932470                  0.017   ACORN-E      Affluent  \n",
       "167932471                  0.017   ACORN-E      Affluent  \n",
       "167932472                  0.017   ACORN-E      Affluent  \n",
       "167932473                  0.017   ACORN-E      Affluent  \n",
       "\n",
       "[167932474 rows x 6 columns]"
      ]
     },
     "execution_count": 9,
     "metadata": {},
     "output_type": "execute_result"
    }
   ],
   "source": [
    "df # Here is the inital dataframe."
   ]
  },
  {
   "cell_type": "markdown",
   "metadata": {},
   "source": [
    "Next, I will be cleaning the data to make it easier to work with and getting it into the right format."
   ]
  },
  {
   "cell_type": "code",
   "execution_count": 10,
   "metadata": {},
   "outputs": [],
   "source": [
    "df.rename(columns={'KWH/hh (per half hour) ' : 'KWH/hh'}, inplace=True) # Rename column to make easier to read."
   ]
  },
  {
   "cell_type": "markdown",
   "metadata": {},
   "source": [
    "Here we fill NaN's with floating point zero's, replace Null's with zero's, and covert the KWH/hh column from string to float."
   ]
  },
  {
   "cell_type": "code",
   "execution_count": 11,
   "metadata": {},
   "outputs": [],
   "source": [
    "df.fillna(0.0, inplace=True)\n",
    "df['KWH/hh'].replace('Null', 0, inplace=True) \n",
    "df['KWH/hh'] = df['KWH/hh'].astype(float) "
   ]
  },
  {
   "cell_type": "markdown",
   "metadata": {},
   "source": [
    "Convert DateTime column to datetime datetype."
   ]
  },
  {
   "cell_type": "code",
   "execution_count": 12,
   "metadata": {},
   "outputs": [],
   "source": [
    "df['DateTime'] = pd.to_datetime(df['DateTime']) # convert to datetime datetype"
   ]
  },
  {
   "cell_type": "markdown",
   "metadata": {},
   "source": [
    "Drop the rows that have \"ACORN-U\" or  \"ACORN-\" values as there ACORN_grouped classification because thoes values don't have a meaning."
   ]
  },
  {
   "cell_type": "code",
   "execution_count": 13,
   "metadata": {},
   "outputs": [],
   "source": [
    "# drop the rows that have one of the bewlow values in 'Acorn_grouped'\n",
    "df = df.drop(df[(df.Acorn_grouped == \"ACORN-U\") | (df.Acorn_grouped == \"ACORN-\")].index)"
   ]
  },
  {
   "cell_type": "markdown",
   "metadata": {},
   "source": [
    "Here is the initial clean dataframe."
   ]
  },
  {
   "cell_type": "code",
   "execution_count": 14,
   "metadata": {},
   "outputs": [
    {
     "data": {
      "text/html": [
       "<div>\n",
       "<style scoped>\n",
       "    .dataframe tbody tr th:only-of-type {\n",
       "        vertical-align: middle;\n",
       "    }\n",
       "\n",
       "    .dataframe tbody tr th {\n",
       "        vertical-align: top;\n",
       "    }\n",
       "\n",
       "    .dataframe thead th {\n",
       "        text-align: right;\n",
       "    }\n",
       "</style>\n",
       "<table border=\"1\" class=\"dataframe\">\n",
       "  <thead>\n",
       "    <tr style=\"text-align: right;\">\n",
       "      <th></th>\n",
       "      <th>LCLid</th>\n",
       "      <th>stdorToU</th>\n",
       "      <th>DateTime</th>\n",
       "      <th>KWH/hh</th>\n",
       "      <th>Acorn</th>\n",
       "      <th>Acorn_grouped</th>\n",
       "    </tr>\n",
       "  </thead>\n",
       "  <tbody>\n",
       "    <tr>\n",
       "      <th>0</th>\n",
       "      <td>MAC000002</td>\n",
       "      <td>Std</td>\n",
       "      <td>2012-10-12 00:30:00</td>\n",
       "      <td>0.000</td>\n",
       "      <td>ACORN-A</td>\n",
       "      <td>Affluent</td>\n",
       "    </tr>\n",
       "    <tr>\n",
       "      <th>1</th>\n",
       "      <td>MAC000002</td>\n",
       "      <td>Std</td>\n",
       "      <td>2012-10-12 01:00:00</td>\n",
       "      <td>0.000</td>\n",
       "      <td>ACORN-A</td>\n",
       "      <td>Affluent</td>\n",
       "    </tr>\n",
       "    <tr>\n",
       "      <th>2</th>\n",
       "      <td>MAC000002</td>\n",
       "      <td>Std</td>\n",
       "      <td>2012-10-12 01:30:00</td>\n",
       "      <td>0.000</td>\n",
       "      <td>ACORN-A</td>\n",
       "      <td>Affluent</td>\n",
       "    </tr>\n",
       "    <tr>\n",
       "      <th>3</th>\n",
       "      <td>MAC000002</td>\n",
       "      <td>Std</td>\n",
       "      <td>2012-10-12 02:00:00</td>\n",
       "      <td>0.000</td>\n",
       "      <td>ACORN-A</td>\n",
       "      <td>Affluent</td>\n",
       "    </tr>\n",
       "    <tr>\n",
       "      <th>4</th>\n",
       "      <td>MAC000002</td>\n",
       "      <td>Std</td>\n",
       "      <td>2012-10-12 02:30:00</td>\n",
       "      <td>0.000</td>\n",
       "      <td>ACORN-A</td>\n",
       "      <td>Affluent</td>\n",
       "    </tr>\n",
       "    <tr>\n",
       "      <th>...</th>\n",
       "      <td>...</td>\n",
       "      <td>...</td>\n",
       "      <td>...</td>\n",
       "      <td>...</td>\n",
       "      <td>...</td>\n",
       "      <td>...</td>\n",
       "    </tr>\n",
       "    <tr>\n",
       "      <th>167932469</th>\n",
       "      <td>MAC004221</td>\n",
       "      <td>Std</td>\n",
       "      <td>2013-08-06 04:30:00</td>\n",
       "      <td>0.017</td>\n",
       "      <td>ACORN-E</td>\n",
       "      <td>Affluent</td>\n",
       "    </tr>\n",
       "    <tr>\n",
       "      <th>167932470</th>\n",
       "      <td>MAC004221</td>\n",
       "      <td>Std</td>\n",
       "      <td>2013-08-06 05:00:00</td>\n",
       "      <td>0.017</td>\n",
       "      <td>ACORN-E</td>\n",
       "      <td>Affluent</td>\n",
       "    </tr>\n",
       "    <tr>\n",
       "      <th>167932471</th>\n",
       "      <td>MAC004221</td>\n",
       "      <td>Std</td>\n",
       "      <td>2013-08-06 05:30:00</td>\n",
       "      <td>0.017</td>\n",
       "      <td>ACORN-E</td>\n",
       "      <td>Affluent</td>\n",
       "    </tr>\n",
       "    <tr>\n",
       "      <th>167932472</th>\n",
       "      <td>MAC004221</td>\n",
       "      <td>Std</td>\n",
       "      <td>2013-08-06 06:00:00</td>\n",
       "      <td>0.017</td>\n",
       "      <td>ACORN-E</td>\n",
       "      <td>Affluent</td>\n",
       "    </tr>\n",
       "    <tr>\n",
       "      <th>167932473</th>\n",
       "      <td>MAC004221</td>\n",
       "      <td>Std</td>\n",
       "      <td>2013-08-06 06:30:00</td>\n",
       "      <td>0.017</td>\n",
       "      <td>ACORN-E</td>\n",
       "      <td>Affluent</td>\n",
       "    </tr>\n",
       "  </tbody>\n",
       "</table>\n",
       "<p>166482391 rows × 6 columns</p>\n",
       "</div>"
      ],
      "text/plain": [
       "               LCLid stdorToU            DateTime  KWH/hh    Acorn  \\\n",
       "0          MAC000002      Std 2012-10-12 00:30:00   0.000  ACORN-A   \n",
       "1          MAC000002      Std 2012-10-12 01:00:00   0.000  ACORN-A   \n",
       "2          MAC000002      Std 2012-10-12 01:30:00   0.000  ACORN-A   \n",
       "3          MAC000002      Std 2012-10-12 02:00:00   0.000  ACORN-A   \n",
       "4          MAC000002      Std 2012-10-12 02:30:00   0.000  ACORN-A   \n",
       "...              ...      ...                 ...     ...      ...   \n",
       "167932469  MAC004221      Std 2013-08-06 04:30:00   0.017  ACORN-E   \n",
       "167932470  MAC004221      Std 2013-08-06 05:00:00   0.017  ACORN-E   \n",
       "167932471  MAC004221      Std 2013-08-06 05:30:00   0.017  ACORN-E   \n",
       "167932472  MAC004221      Std 2013-08-06 06:00:00   0.017  ACORN-E   \n",
       "167932473  MAC004221      Std 2013-08-06 06:30:00   0.017  ACORN-E   \n",
       "\n",
       "          Acorn_grouped  \n",
       "0              Affluent  \n",
       "1              Affluent  \n",
       "2              Affluent  \n",
       "3              Affluent  \n",
       "4              Affluent  \n",
       "...                 ...  \n",
       "167932469      Affluent  \n",
       "167932470      Affluent  \n",
       "167932471      Affluent  \n",
       "167932472      Affluent  \n",
       "167932473      Affluent  \n",
       "\n",
       "[166482391 rows x 6 columns]"
      ]
     },
     "execution_count": 14,
     "metadata": {},
     "output_type": "execute_result"
    }
   ],
   "source": [
    "df"
   ]
  },
  {
   "cell_type": "markdown",
   "metadata": {},
   "source": [
    "Since I am working with a time series dataset, I need to figure out which time slice of the data I can use. Ideally, I am looking for 2 years’ worth of data to have a historical year to predict off of then use the next year for testing."
   ]
  },
  {
   "cell_type": "code",
   "execution_count": 15,
   "metadata": {},
   "outputs": [],
   "source": [
    "gb1 = df.groupby('LCLid') # group by ID to be able to look at the start and end dates so as to figure out where to slice."
   ]
  },
  {
   "cell_type": "code",
   "execution_count": 16,
   "metadata": {},
   "outputs": [
    {
     "data": {
      "text/plain": [
       "Timestamp('2011-11-23 09:00:00')"
      ]
     },
     "execution_count": 16,
     "metadata": {},
     "output_type": "execute_result"
    }
   ],
   "source": [
    "min(gb1.first().DateTime) # earlist start"
   ]
  },
  {
   "cell_type": "code",
   "execution_count": 17,
   "metadata": {},
   "outputs": [
    {
     "data": {
      "text/plain": [
       "Timestamp('2013-10-29 18:23:02')"
      ]
     },
     "execution_count": 17,
     "metadata": {},
     "output_type": "execute_result"
    }
   ],
   "source": [
    " max(gb1.first().DateTime) # latest start"
   ]
  },
  {
   "cell_type": "code",
   "execution_count": 18,
   "metadata": {},
   "outputs": [
    {
     "data": {
      "text/plain": [
       "Timestamp('2012-05-01 21:00:00')"
      ]
     },
     "execution_count": 18,
     "metadata": {},
     "output_type": "execute_result"
    }
   ],
   "source": [
    "min(gb1.last().DateTime) # earlist stop"
   ]
  },
  {
   "cell_type": "code",
   "execution_count": 19,
   "metadata": {},
   "outputs": [
    {
     "data": {
      "text/plain": [
       "Timestamp('2014-02-28 00:00:00')"
      ]
     },
     "execution_count": 19,
     "metadata": {},
     "output_type": "execute_result"
    }
   ],
   "source": [
    " max(gb1.last().DateTime) # latest stop"
   ]
  },
  {
   "cell_type": "markdown",
   "metadata": {},
   "source": [
    "At this point it seems that the data isn’t very consistent. For, example the last date that a time series starts is 29/10/2013 which overtakes the earliest date a time series stops at 1/5/2012. This means that all my series don’t start and stop at the same time. \n",
    "\n",
    "This presents problems because one, we wanted at least 2 years of data and and we cant have that if the series dont go back that far. Two, if we keep all the data we would have to pad the missing values with zeros which would be detrimental to the performance of the learning algorithms and give poor results when computing other statistics. "
   ]
  },
  {
   "cell_type": "markdown",
   "metadata": {},
   "source": [
    "I ended up finding an acceptable date on which to cut the series. Starting on 01/01/2013 and end 01/01/2014. This equals one year of data."
   ]
  },
  {
   "cell_type": "code",
   "execution_count": 20,
   "metadata": {},
   "outputs": [],
   "source": [
    "df2 = df.set_index(['DateTime'])\n",
    "df2 = df2.loc['2013-01-01':'2014-01-01'] # 1 year of data."
   ]
  },
  {
   "cell_type": "code",
   "execution_count": 21,
   "metadata": {},
   "outputs": [
    {
     "data": {
      "text/html": [
       "<div>\n",
       "<style scoped>\n",
       "    .dataframe tbody tr th:only-of-type {\n",
       "        vertical-align: middle;\n",
       "    }\n",
       "\n",
       "    .dataframe tbody tr th {\n",
       "        vertical-align: top;\n",
       "    }\n",
       "\n",
       "    .dataframe thead th {\n",
       "        text-align: right;\n",
       "    }\n",
       "</style>\n",
       "<table border=\"1\" class=\"dataframe\">\n",
       "  <thead>\n",
       "    <tr style=\"text-align: right;\">\n",
       "      <th></th>\n",
       "      <th>LCLid</th>\n",
       "      <th>stdorToU</th>\n",
       "      <th>KWH/hh</th>\n",
       "      <th>Acorn</th>\n",
       "      <th>Acorn_grouped</th>\n",
       "    </tr>\n",
       "    <tr>\n",
       "      <th>DateTime</th>\n",
       "      <th></th>\n",
       "      <th></th>\n",
       "      <th></th>\n",
       "      <th></th>\n",
       "      <th></th>\n",
       "    </tr>\n",
       "  </thead>\n",
       "  <tbody>\n",
       "    <tr>\n",
       "      <th>2013-01-01 00:00:00</th>\n",
       "      <td>MAC000002</td>\n",
       "      <td>Std</td>\n",
       "      <td>0.219</td>\n",
       "      <td>ACORN-A</td>\n",
       "      <td>Affluent</td>\n",
       "    </tr>\n",
       "    <tr>\n",
       "      <th>2013-01-01 00:30:00</th>\n",
       "      <td>MAC000002</td>\n",
       "      <td>Std</td>\n",
       "      <td>0.241</td>\n",
       "      <td>ACORN-A</td>\n",
       "      <td>Affluent</td>\n",
       "    </tr>\n",
       "    <tr>\n",
       "      <th>2013-01-01 01:00:00</th>\n",
       "      <td>MAC000002</td>\n",
       "      <td>Std</td>\n",
       "      <td>0.191</td>\n",
       "      <td>ACORN-A</td>\n",
       "      <td>Affluent</td>\n",
       "    </tr>\n",
       "    <tr>\n",
       "      <th>2013-01-01 01:30:00</th>\n",
       "      <td>MAC000002</td>\n",
       "      <td>Std</td>\n",
       "      <td>0.235</td>\n",
       "      <td>ACORN-A</td>\n",
       "      <td>Affluent</td>\n",
       "    </tr>\n",
       "    <tr>\n",
       "      <th>2013-01-01 02:00:00</th>\n",
       "      <td>MAC000002</td>\n",
       "      <td>Std</td>\n",
       "      <td>0.182</td>\n",
       "      <td>ACORN-A</td>\n",
       "      <td>Affluent</td>\n",
       "    </tr>\n",
       "    <tr>\n",
       "      <th>...</th>\n",
       "      <td>...</td>\n",
       "      <td>...</td>\n",
       "      <td>...</td>\n",
       "      <td>...</td>\n",
       "      <td>...</td>\n",
       "    </tr>\n",
       "    <tr>\n",
       "      <th>2013-08-06 04:30:00</th>\n",
       "      <td>MAC004221</td>\n",
       "      <td>Std</td>\n",
       "      <td>0.017</td>\n",
       "      <td>ACORN-E</td>\n",
       "      <td>Affluent</td>\n",
       "    </tr>\n",
       "    <tr>\n",
       "      <th>2013-08-06 05:00:00</th>\n",
       "      <td>MAC004221</td>\n",
       "      <td>Std</td>\n",
       "      <td>0.017</td>\n",
       "      <td>ACORN-E</td>\n",
       "      <td>Affluent</td>\n",
       "    </tr>\n",
       "    <tr>\n",
       "      <th>2013-08-06 05:30:00</th>\n",
       "      <td>MAC004221</td>\n",
       "      <td>Std</td>\n",
       "      <td>0.017</td>\n",
       "      <td>ACORN-E</td>\n",
       "      <td>Affluent</td>\n",
       "    </tr>\n",
       "    <tr>\n",
       "      <th>2013-08-06 06:00:00</th>\n",
       "      <td>MAC004221</td>\n",
       "      <td>Std</td>\n",
       "      <td>0.017</td>\n",
       "      <td>ACORN-E</td>\n",
       "      <td>Affluent</td>\n",
       "    </tr>\n",
       "    <tr>\n",
       "      <th>2013-08-06 06:30:00</th>\n",
       "      <td>MAC004221</td>\n",
       "      <td>Std</td>\n",
       "      <td>0.017</td>\n",
       "      <td>ACORN-E</td>\n",
       "      <td>Affluent</td>\n",
       "    </tr>\n",
       "  </tbody>\n",
       "</table>\n",
       "<p>92505110 rows × 5 columns</p>\n",
       "</div>"
      ],
      "text/plain": [
       "                         LCLid stdorToU  KWH/hh    Acorn Acorn_grouped\n",
       "DateTime                                                              \n",
       "2013-01-01 00:00:00  MAC000002      Std   0.219  ACORN-A      Affluent\n",
       "2013-01-01 00:30:00  MAC000002      Std   0.241  ACORN-A      Affluent\n",
       "2013-01-01 01:00:00  MAC000002      Std   0.191  ACORN-A      Affluent\n",
       "2013-01-01 01:30:00  MAC000002      Std   0.235  ACORN-A      Affluent\n",
       "2013-01-01 02:00:00  MAC000002      Std   0.182  ACORN-A      Affluent\n",
       "...                        ...      ...     ...      ...           ...\n",
       "2013-08-06 04:30:00  MAC004221      Std   0.017  ACORN-E      Affluent\n",
       "2013-08-06 05:00:00  MAC004221      Std   0.017  ACORN-E      Affluent\n",
       "2013-08-06 05:30:00  MAC004221      Std   0.017  ACORN-E      Affluent\n",
       "2013-08-06 06:00:00  MAC004221      Std   0.017  ACORN-E      Affluent\n",
       "2013-08-06 06:30:00  MAC004221      Std   0.017  ACORN-E      Affluent\n",
       "\n",
       "[92505110 rows x 5 columns]"
      ]
     },
     "execution_count": 21,
     "metadata": {},
     "output_type": "execute_result"
    }
   ],
   "source": [
    "df2"
   ]
  },
  {
   "cell_type": "markdown",
   "metadata": {},
   "source": [
    "Next, I made sure that each series had an actual years worth of values. I first group each 'LCLid' which is the primary key for each series by the count of how many rows they have. If the number of rows for each series doesnt equal 17,580 rows I exluded that id from my dataframe. \n",
    "\n",
    "The reason they must have 17,580 rows is because the data is read at half-hour intevals over the year. 48 rows a day times 366 for a years worth of data."
   ]
  },
  {
   "cell_type": "code",
   "execution_count": 22,
   "metadata": {},
   "outputs": [],
   "source": [
    "df2 = df2.reset_index() # Remove datetime from index.\n",
    "gb2 = df2.groupby(['LCLid']).DateTime.count() # Group df by id and get count of the # of rows.\n",
    "df3 = pd.DataFrame(gb2) # Put gb in df.\n",
    "df3.rename(columns={'DateTime': '# of rows for each series'}, inplace=True)"
   ]
  },
  {
   "cell_type": "code",
   "execution_count": 23,
   "metadata": {},
   "outputs": [
    {
     "data": {
      "text/html": [
       "<div>\n",
       "<style scoped>\n",
       "    .dataframe tbody tr th:only-of-type {\n",
       "        vertical-align: middle;\n",
       "    }\n",
       "\n",
       "    .dataframe tbody tr th {\n",
       "        vertical-align: top;\n",
       "    }\n",
       "\n",
       "    .dataframe thead th {\n",
       "        text-align: right;\n",
       "    }\n",
       "</style>\n",
       "<table border=\"1\" class=\"dataframe\">\n",
       "  <thead>\n",
       "    <tr style=\"text-align: right;\">\n",
       "      <th></th>\n",
       "      <th># of rows for each series</th>\n",
       "    </tr>\n",
       "    <tr>\n",
       "      <th>LCLid</th>\n",
       "      <th></th>\n",
       "    </tr>\n",
       "  </thead>\n",
       "  <tbody>\n",
       "    <tr>\n",
       "      <th>MAC000002</th>\n",
       "      <td>17580</td>\n",
       "    </tr>\n",
       "    <tr>\n",
       "      <th>MAC000003</th>\n",
       "      <td>17578</td>\n",
       "    </tr>\n",
       "    <tr>\n",
       "      <th>MAC000004</th>\n",
       "      <td>17579</td>\n",
       "    </tr>\n",
       "    <tr>\n",
       "      <th>MAC000005</th>\n",
       "      <td>17579</td>\n",
       "    </tr>\n",
       "    <tr>\n",
       "      <th>MAC000006</th>\n",
       "      <td>17580</td>\n",
       "    </tr>\n",
       "    <tr>\n",
       "      <th>...</th>\n",
       "      <td>...</td>\n",
       "    </tr>\n",
       "    <tr>\n",
       "      <th>MAC005561</th>\n",
       "      <td>17575</td>\n",
       "    </tr>\n",
       "    <tr>\n",
       "      <th>MAC005562</th>\n",
       "      <td>17579</td>\n",
       "    </tr>\n",
       "    <tr>\n",
       "      <th>MAC005564</th>\n",
       "      <td>17571</td>\n",
       "    </tr>\n",
       "    <tr>\n",
       "      <th>MAC005566</th>\n",
       "      <td>17579</td>\n",
       "    </tr>\n",
       "    <tr>\n",
       "      <th>MAC005567</th>\n",
       "      <td>17576</td>\n",
       "    </tr>\n",
       "  </tbody>\n",
       "</table>\n",
       "<p>5478 rows × 1 columns</p>\n",
       "</div>"
      ],
      "text/plain": [
       "           # of rows for each series\n",
       "LCLid                               \n",
       "MAC000002                      17580\n",
       "MAC000003                      17578\n",
       "MAC000004                      17579\n",
       "MAC000005                      17579\n",
       "MAC000006                      17580\n",
       "...                              ...\n",
       "MAC005561                      17575\n",
       "MAC005562                      17579\n",
       "MAC005564                      17571\n",
       "MAC005566                      17579\n",
       "MAC005567                      17576\n",
       "\n",
       "[5478 rows x 1 columns]"
      ]
     },
     "execution_count": 23,
     "metadata": {},
     "output_type": "execute_result"
    }
   ],
   "source": [
    "df3"
   ]
  },
  {
   "cell_type": "code",
   "execution_count": 24,
   "metadata": {},
   "outputs": [],
   "source": [
    "lst_for_good_ids = [17580] # Series whos # of rows equals 17,580.\n",
    "# Filter df for only series of len 17,580.\n",
    "df4 = pd.DataFrame(df3.loc[df3['# of rows for each series'].isin(lst_for_good_ids)])"
   ]
  },
  {
   "cell_type": "markdown",
   "metadata": {},
   "source": [
    "Here I filter the dataframe to only include LCLids that have 17,580 rows."
   ]
  },
  {
   "cell_type": "code",
   "execution_count": 25,
   "metadata": {},
   "outputs": [
    {
     "data": {
      "text/html": [
       "<div>\n",
       "<style scoped>\n",
       "    .dataframe tbody tr th:only-of-type {\n",
       "        vertical-align: middle;\n",
       "    }\n",
       "\n",
       "    .dataframe tbody tr th {\n",
       "        vertical-align: top;\n",
       "    }\n",
       "\n",
       "    .dataframe thead th {\n",
       "        text-align: right;\n",
       "    }\n",
       "</style>\n",
       "<table border=\"1\" class=\"dataframe\">\n",
       "  <thead>\n",
       "    <tr style=\"text-align: right;\">\n",
       "      <th></th>\n",
       "      <th>DateTime</th>\n",
       "      <th>LCLid</th>\n",
       "      <th>stdorToU</th>\n",
       "      <th>KWH/hh</th>\n",
       "      <th>Acorn</th>\n",
       "      <th>Acorn_grouped</th>\n",
       "    </tr>\n",
       "  </thead>\n",
       "  <tbody>\n",
       "    <tr>\n",
       "      <th>0</th>\n",
       "      <td>2013-01-01 00:00:00</td>\n",
       "      <td>MAC000002</td>\n",
       "      <td>Std</td>\n",
       "      <td>0.219</td>\n",
       "      <td>ACORN-A</td>\n",
       "      <td>Affluent</td>\n",
       "    </tr>\n",
       "    <tr>\n",
       "      <th>1</th>\n",
       "      <td>2013-01-01 00:30:00</td>\n",
       "      <td>MAC000002</td>\n",
       "      <td>Std</td>\n",
       "      <td>0.241</td>\n",
       "      <td>ACORN-A</td>\n",
       "      <td>Affluent</td>\n",
       "    </tr>\n",
       "    <tr>\n",
       "      <th>2</th>\n",
       "      <td>2013-01-01 01:00:00</td>\n",
       "      <td>MAC000002</td>\n",
       "      <td>Std</td>\n",
       "      <td>0.191</td>\n",
       "      <td>ACORN-A</td>\n",
       "      <td>Affluent</td>\n",
       "    </tr>\n",
       "    <tr>\n",
       "      <th>3</th>\n",
       "      <td>2013-01-01 01:30:00</td>\n",
       "      <td>MAC000002</td>\n",
       "      <td>Std</td>\n",
       "      <td>0.235</td>\n",
       "      <td>ACORN-A</td>\n",
       "      <td>Affluent</td>\n",
       "    </tr>\n",
       "    <tr>\n",
       "      <th>4</th>\n",
       "      <td>2013-01-01 02:00:00</td>\n",
       "      <td>MAC000002</td>\n",
       "      <td>Std</td>\n",
       "      <td>0.182</td>\n",
       "      <td>ACORN-A</td>\n",
       "      <td>Affluent</td>\n",
       "    </tr>\n",
       "    <tr>\n",
       "      <th>...</th>\n",
       "      <td>...</td>\n",
       "      <td>...</td>\n",
       "      <td>...</td>\n",
       "      <td>...</td>\n",
       "      <td>...</td>\n",
       "      <td>...</td>\n",
       "    </tr>\n",
       "    <tr>\n",
       "      <th>92477104</th>\n",
       "      <td>2014-01-01 21:30:00</td>\n",
       "      <td>MAC004219</td>\n",
       "      <td>Std</td>\n",
       "      <td>0.266</td>\n",
       "      <td>ACORN-E</td>\n",
       "      <td>Affluent</td>\n",
       "    </tr>\n",
       "    <tr>\n",
       "      <th>92477105</th>\n",
       "      <td>2014-01-01 22:00:00</td>\n",
       "      <td>MAC004219</td>\n",
       "      <td>Std</td>\n",
       "      <td>0.260</td>\n",
       "      <td>ACORN-E</td>\n",
       "      <td>Affluent</td>\n",
       "    </tr>\n",
       "    <tr>\n",
       "      <th>92477106</th>\n",
       "      <td>2014-01-01 22:30:00</td>\n",
       "      <td>MAC004219</td>\n",
       "      <td>Std</td>\n",
       "      <td>0.301</td>\n",
       "      <td>ACORN-E</td>\n",
       "      <td>Affluent</td>\n",
       "    </tr>\n",
       "    <tr>\n",
       "      <th>92477107</th>\n",
       "      <td>2014-01-01 23:00:00</td>\n",
       "      <td>MAC004219</td>\n",
       "      <td>Std</td>\n",
       "      <td>0.223</td>\n",
       "      <td>ACORN-E</td>\n",
       "      <td>Affluent</td>\n",
       "    </tr>\n",
       "    <tr>\n",
       "      <th>92477108</th>\n",
       "      <td>2014-01-01 23:30:00</td>\n",
       "      <td>MAC004219</td>\n",
       "      <td>Std</td>\n",
       "      <td>0.218</td>\n",
       "      <td>ACORN-E</td>\n",
       "      <td>Affluent</td>\n",
       "    </tr>\n",
       "  </tbody>\n",
       "</table>\n",
       "<p>19654440 rows × 6 columns</p>\n",
       "</div>"
      ],
      "text/plain": [
       "                    DateTime      LCLid stdorToU  KWH/hh    Acorn  \\\n",
       "0        2013-01-01 00:00:00  MAC000002      Std   0.219  ACORN-A   \n",
       "1        2013-01-01 00:30:00  MAC000002      Std   0.241  ACORN-A   \n",
       "2        2013-01-01 01:00:00  MAC000002      Std   0.191  ACORN-A   \n",
       "3        2013-01-01 01:30:00  MAC000002      Std   0.235  ACORN-A   \n",
       "4        2013-01-01 02:00:00  MAC000002      Std   0.182  ACORN-A   \n",
       "...                      ...        ...      ...     ...      ...   \n",
       "92477104 2014-01-01 21:30:00  MAC004219      Std   0.266  ACORN-E   \n",
       "92477105 2014-01-01 22:00:00  MAC004219      Std   0.260  ACORN-E   \n",
       "92477106 2014-01-01 22:30:00  MAC004219      Std   0.301  ACORN-E   \n",
       "92477107 2014-01-01 23:00:00  MAC004219      Std   0.223  ACORN-E   \n",
       "92477108 2014-01-01 23:30:00  MAC004219      Std   0.218  ACORN-E   \n",
       "\n",
       "         Acorn_grouped  \n",
       "0             Affluent  \n",
       "1             Affluent  \n",
       "2             Affluent  \n",
       "3             Affluent  \n",
       "4             Affluent  \n",
       "...                ...  \n",
       "92477104      Affluent  \n",
       "92477105      Affluent  \n",
       "92477106      Affluent  \n",
       "92477107      Affluent  \n",
       "92477108      Affluent  \n",
       "\n",
       "[19654440 rows x 6 columns]"
      ]
     },
     "execution_count": 25,
     "metadata": {},
     "output_type": "execute_result"
    }
   ],
   "source": [
    "df6 = pd.DataFrame(df2.loc[df2['LCLid'].isin(df4.index.to_list())])\n",
    "df6"
   ]
  },
  {
   "cell_type": "markdown",
   "metadata": {},
   "source": [
    "Now, that I've achieved a years’ worth of data I want to add columns that will assist in answering our classification question and give us more insight into our data.\n",
    "\n",
    "Here I will add the day of the week to differentiate analysis from weekday or weekend since power consumption is likely to change depending on the day of the week because these are residential meters.\n",
    "\n",
    "Also, I add the hourly temperature. Since our data is half hourly I take the previous temperature and the next temperature and average them to fille the temperature for the missing half hour.\n"
   ]
  },
  {
   "cell_type": "code",
   "execution_count": 26,
   "metadata": {},
   "outputs": [],
   "source": [
    "df6['Day'] = df6['DateTime'].dt.day_name() # Add the day of the week."
   ]
  },
  {
   "cell_type": "code",
   "execution_count": 28,
   "metadata": {},
   "outputs": [],
   "source": [
    "path2 = r'C:\\\\Users\\\\jesse\\\\Downloads\\\\clases\\\\electrical data\\\\london data\\\\data\\\\london 2013 temp.csv'\n",
    "df_temp = pd.read_csv(path2) # Load hourly temp data for London, UK in 2013."
   ]
  },
  {
   "cell_type": "code",
   "execution_count": 29,
   "metadata": {},
   "outputs": [],
   "source": [
    "df_temp\n",
    "df_temp['DateTime'] = pd.to_datetime(df_temp['ob_time']) # convert to datetime datetype\n",
    "df_temp.drop(['ob_time'], axis=1, inplace = True)"
   ]
  },
  {
   "cell_type": "code",
   "execution_count": 30,
   "metadata": {},
   "outputs": [],
   "source": [
    "df7 = pd.merge(df6,df_temp ,on='DateTime',how='left')\n",
    "df7['air_temperature'] = df7['air_temperature'].interpolate() # Fill in missing values for temp.\n",
    "df7['air_temperature'] = df7['air_temperature'] * 1.8 + 32 # Convert to F degress."
   ]
  },
  {
   "cell_type": "code",
   "execution_count": 31,
   "metadata": {},
   "outputs": [
    {
     "data": {
      "text/html": [
       "<div>\n",
       "<style scoped>\n",
       "    .dataframe tbody tr th:only-of-type {\n",
       "        vertical-align: middle;\n",
       "    }\n",
       "\n",
       "    .dataframe tbody tr th {\n",
       "        vertical-align: top;\n",
       "    }\n",
       "\n",
       "    .dataframe thead th {\n",
       "        text-align: right;\n",
       "    }\n",
       "</style>\n",
       "<table border=\"1\" class=\"dataframe\">\n",
       "  <thead>\n",
       "    <tr style=\"text-align: right;\">\n",
       "      <th></th>\n",
       "      <th>DateTime</th>\n",
       "      <th>LCLid</th>\n",
       "      <th>stdorToU</th>\n",
       "      <th>KWH/hh</th>\n",
       "      <th>Acorn</th>\n",
       "      <th>Acorn_grouped</th>\n",
       "      <th>Day</th>\n",
       "      <th>air_temperature</th>\n",
       "    </tr>\n",
       "  </thead>\n",
       "  <tbody>\n",
       "    <tr>\n",
       "      <th>0</th>\n",
       "      <td>2013-01-01 00:00:00</td>\n",
       "      <td>MAC000002</td>\n",
       "      <td>Std</td>\n",
       "      <td>0.219</td>\n",
       "      <td>ACORN-A</td>\n",
       "      <td>Affluent</td>\n",
       "      <td>Tuesday</td>\n",
       "      <td>48.02</td>\n",
       "    </tr>\n",
       "    <tr>\n",
       "      <th>1</th>\n",
       "      <td>2013-01-01 00:30:00</td>\n",
       "      <td>MAC000002</td>\n",
       "      <td>Std</td>\n",
       "      <td>0.241</td>\n",
       "      <td>ACORN-A</td>\n",
       "      <td>Affluent</td>\n",
       "      <td>Tuesday</td>\n",
       "      <td>47.84</td>\n",
       "    </tr>\n",
       "    <tr>\n",
       "      <th>2</th>\n",
       "      <td>2013-01-01 01:00:00</td>\n",
       "      <td>MAC000002</td>\n",
       "      <td>Std</td>\n",
       "      <td>0.191</td>\n",
       "      <td>ACORN-A</td>\n",
       "      <td>Affluent</td>\n",
       "      <td>Tuesday</td>\n",
       "      <td>47.66</td>\n",
       "    </tr>\n",
       "    <tr>\n",
       "      <th>3</th>\n",
       "      <td>2013-01-01 01:30:00</td>\n",
       "      <td>MAC000002</td>\n",
       "      <td>Std</td>\n",
       "      <td>0.235</td>\n",
       "      <td>ACORN-A</td>\n",
       "      <td>Affluent</td>\n",
       "      <td>Tuesday</td>\n",
       "      <td>47.39</td>\n",
       "    </tr>\n",
       "    <tr>\n",
       "      <th>4</th>\n",
       "      <td>2013-01-01 02:00:00</td>\n",
       "      <td>MAC000002</td>\n",
       "      <td>Std</td>\n",
       "      <td>0.182</td>\n",
       "      <td>ACORN-A</td>\n",
       "      <td>Affluent</td>\n",
       "      <td>Tuesday</td>\n",
       "      <td>47.12</td>\n",
       "    </tr>\n",
       "    <tr>\n",
       "      <th>...</th>\n",
       "      <td>...</td>\n",
       "      <td>...</td>\n",
       "      <td>...</td>\n",
       "      <td>...</td>\n",
       "      <td>...</td>\n",
       "      <td>...</td>\n",
       "      <td>...</td>\n",
       "      <td>...</td>\n",
       "    </tr>\n",
       "    <tr>\n",
       "      <th>19654435</th>\n",
       "      <td>2014-01-01 21:30:00</td>\n",
       "      <td>MAC004219</td>\n",
       "      <td>Std</td>\n",
       "      <td>0.266</td>\n",
       "      <td>ACORN-E</td>\n",
       "      <td>Affluent</td>\n",
       "      <td>Wednesday</td>\n",
       "      <td>42.80</td>\n",
       "    </tr>\n",
       "    <tr>\n",
       "      <th>19654436</th>\n",
       "      <td>2014-01-01 22:00:00</td>\n",
       "      <td>MAC004219</td>\n",
       "      <td>Std</td>\n",
       "      <td>0.260</td>\n",
       "      <td>ACORN-E</td>\n",
       "      <td>Affluent</td>\n",
       "      <td>Wednesday</td>\n",
       "      <td>42.80</td>\n",
       "    </tr>\n",
       "    <tr>\n",
       "      <th>19654437</th>\n",
       "      <td>2014-01-01 22:30:00</td>\n",
       "      <td>MAC004219</td>\n",
       "      <td>Std</td>\n",
       "      <td>0.301</td>\n",
       "      <td>ACORN-E</td>\n",
       "      <td>Affluent</td>\n",
       "      <td>Wednesday</td>\n",
       "      <td>42.80</td>\n",
       "    </tr>\n",
       "    <tr>\n",
       "      <th>19654438</th>\n",
       "      <td>2014-01-01 23:00:00</td>\n",
       "      <td>MAC004219</td>\n",
       "      <td>Std</td>\n",
       "      <td>0.223</td>\n",
       "      <td>ACORN-E</td>\n",
       "      <td>Affluent</td>\n",
       "      <td>Wednesday</td>\n",
       "      <td>42.80</td>\n",
       "    </tr>\n",
       "    <tr>\n",
       "      <th>19654439</th>\n",
       "      <td>2014-01-01 23:30:00</td>\n",
       "      <td>MAC004219</td>\n",
       "      <td>Std</td>\n",
       "      <td>0.218</td>\n",
       "      <td>ACORN-E</td>\n",
       "      <td>Affluent</td>\n",
       "      <td>Wednesday</td>\n",
       "      <td>42.80</td>\n",
       "    </tr>\n",
       "  </tbody>\n",
       "</table>\n",
       "<p>19654440 rows × 8 columns</p>\n",
       "</div>"
      ],
      "text/plain": [
       "                    DateTime      LCLid stdorToU  KWH/hh    Acorn  \\\n",
       "0        2013-01-01 00:00:00  MAC000002      Std   0.219  ACORN-A   \n",
       "1        2013-01-01 00:30:00  MAC000002      Std   0.241  ACORN-A   \n",
       "2        2013-01-01 01:00:00  MAC000002      Std   0.191  ACORN-A   \n",
       "3        2013-01-01 01:30:00  MAC000002      Std   0.235  ACORN-A   \n",
       "4        2013-01-01 02:00:00  MAC000002      Std   0.182  ACORN-A   \n",
       "...                      ...        ...      ...     ...      ...   \n",
       "19654435 2014-01-01 21:30:00  MAC004219      Std   0.266  ACORN-E   \n",
       "19654436 2014-01-01 22:00:00  MAC004219      Std   0.260  ACORN-E   \n",
       "19654437 2014-01-01 22:30:00  MAC004219      Std   0.301  ACORN-E   \n",
       "19654438 2014-01-01 23:00:00  MAC004219      Std   0.223  ACORN-E   \n",
       "19654439 2014-01-01 23:30:00  MAC004219      Std   0.218  ACORN-E   \n",
       "\n",
       "         Acorn_grouped        Day  air_temperature  \n",
       "0             Affluent    Tuesday            48.02  \n",
       "1             Affluent    Tuesday            47.84  \n",
       "2             Affluent    Tuesday            47.66  \n",
       "3             Affluent    Tuesday            47.39  \n",
       "4             Affluent    Tuesday            47.12  \n",
       "...                ...        ...              ...  \n",
       "19654435      Affluent  Wednesday            42.80  \n",
       "19654436      Affluent  Wednesday            42.80  \n",
       "19654437      Affluent  Wednesday            42.80  \n",
       "19654438      Affluent  Wednesday            42.80  \n",
       "19654439      Affluent  Wednesday            42.80  \n",
       "\n",
       "[19654440 rows x 8 columns]"
      ]
     },
     "execution_count": 31,
     "metadata": {},
     "output_type": "execute_result"
    }
   ],
   "source": [
    "df7"
   ]
  },
  {
   "cell_type": "markdown",
   "metadata": {},
   "source": [
    "Finally, I add the month to our data."
   ]
  },
  {
   "cell_type": "code",
   "execution_count": 32,
   "metadata": {},
   "outputs": [],
   "source": [
    "df7['Month'] = df7['DateTime'].dt.strftime('%B')"
   ]
  },
  {
   "cell_type": "code",
   "execution_count": 33,
   "metadata": {},
   "outputs": [
    {
     "data": {
      "text/html": [
       "<div>\n",
       "<style scoped>\n",
       "    .dataframe tbody tr th:only-of-type {\n",
       "        vertical-align: middle;\n",
       "    }\n",
       "\n",
       "    .dataframe tbody tr th {\n",
       "        vertical-align: top;\n",
       "    }\n",
       "\n",
       "    .dataframe thead th {\n",
       "        text-align: right;\n",
       "    }\n",
       "</style>\n",
       "<table border=\"1\" class=\"dataframe\">\n",
       "  <thead>\n",
       "    <tr style=\"text-align: right;\">\n",
       "      <th></th>\n",
       "      <th>DateTime</th>\n",
       "      <th>LCLid</th>\n",
       "      <th>stdorToU</th>\n",
       "      <th>KWH/hh</th>\n",
       "      <th>Acorn</th>\n",
       "      <th>Acorn_grouped</th>\n",
       "      <th>Day</th>\n",
       "      <th>air_temperature</th>\n",
       "      <th>Month</th>\n",
       "    </tr>\n",
       "  </thead>\n",
       "  <tbody>\n",
       "    <tr>\n",
       "      <th>0</th>\n",
       "      <td>2013-01-01 00:00:00</td>\n",
       "      <td>MAC000002</td>\n",
       "      <td>Std</td>\n",
       "      <td>0.219</td>\n",
       "      <td>ACORN-A</td>\n",
       "      <td>Affluent</td>\n",
       "      <td>Tuesday</td>\n",
       "      <td>48.02</td>\n",
       "      <td>January</td>\n",
       "    </tr>\n",
       "    <tr>\n",
       "      <th>1</th>\n",
       "      <td>2013-01-01 00:30:00</td>\n",
       "      <td>MAC000002</td>\n",
       "      <td>Std</td>\n",
       "      <td>0.241</td>\n",
       "      <td>ACORN-A</td>\n",
       "      <td>Affluent</td>\n",
       "      <td>Tuesday</td>\n",
       "      <td>47.84</td>\n",
       "      <td>January</td>\n",
       "    </tr>\n",
       "    <tr>\n",
       "      <th>2</th>\n",
       "      <td>2013-01-01 01:00:00</td>\n",
       "      <td>MAC000002</td>\n",
       "      <td>Std</td>\n",
       "      <td>0.191</td>\n",
       "      <td>ACORN-A</td>\n",
       "      <td>Affluent</td>\n",
       "      <td>Tuesday</td>\n",
       "      <td>47.66</td>\n",
       "      <td>January</td>\n",
       "    </tr>\n",
       "    <tr>\n",
       "      <th>3</th>\n",
       "      <td>2013-01-01 01:30:00</td>\n",
       "      <td>MAC000002</td>\n",
       "      <td>Std</td>\n",
       "      <td>0.235</td>\n",
       "      <td>ACORN-A</td>\n",
       "      <td>Affluent</td>\n",
       "      <td>Tuesday</td>\n",
       "      <td>47.39</td>\n",
       "      <td>January</td>\n",
       "    </tr>\n",
       "    <tr>\n",
       "      <th>4</th>\n",
       "      <td>2013-01-01 02:00:00</td>\n",
       "      <td>MAC000002</td>\n",
       "      <td>Std</td>\n",
       "      <td>0.182</td>\n",
       "      <td>ACORN-A</td>\n",
       "      <td>Affluent</td>\n",
       "      <td>Tuesday</td>\n",
       "      <td>47.12</td>\n",
       "      <td>January</td>\n",
       "    </tr>\n",
       "    <tr>\n",
       "      <th>...</th>\n",
       "      <td>...</td>\n",
       "      <td>...</td>\n",
       "      <td>...</td>\n",
       "      <td>...</td>\n",
       "      <td>...</td>\n",
       "      <td>...</td>\n",
       "      <td>...</td>\n",
       "      <td>...</td>\n",
       "      <td>...</td>\n",
       "    </tr>\n",
       "    <tr>\n",
       "      <th>19654435</th>\n",
       "      <td>2014-01-01 21:30:00</td>\n",
       "      <td>MAC004219</td>\n",
       "      <td>Std</td>\n",
       "      <td>0.266</td>\n",
       "      <td>ACORN-E</td>\n",
       "      <td>Affluent</td>\n",
       "      <td>Wednesday</td>\n",
       "      <td>42.80</td>\n",
       "      <td>January</td>\n",
       "    </tr>\n",
       "    <tr>\n",
       "      <th>19654436</th>\n",
       "      <td>2014-01-01 22:00:00</td>\n",
       "      <td>MAC004219</td>\n",
       "      <td>Std</td>\n",
       "      <td>0.260</td>\n",
       "      <td>ACORN-E</td>\n",
       "      <td>Affluent</td>\n",
       "      <td>Wednesday</td>\n",
       "      <td>42.80</td>\n",
       "      <td>January</td>\n",
       "    </tr>\n",
       "    <tr>\n",
       "      <th>19654437</th>\n",
       "      <td>2014-01-01 22:30:00</td>\n",
       "      <td>MAC004219</td>\n",
       "      <td>Std</td>\n",
       "      <td>0.301</td>\n",
       "      <td>ACORN-E</td>\n",
       "      <td>Affluent</td>\n",
       "      <td>Wednesday</td>\n",
       "      <td>42.80</td>\n",
       "      <td>January</td>\n",
       "    </tr>\n",
       "    <tr>\n",
       "      <th>19654438</th>\n",
       "      <td>2014-01-01 23:00:00</td>\n",
       "      <td>MAC004219</td>\n",
       "      <td>Std</td>\n",
       "      <td>0.223</td>\n",
       "      <td>ACORN-E</td>\n",
       "      <td>Affluent</td>\n",
       "      <td>Wednesday</td>\n",
       "      <td>42.80</td>\n",
       "      <td>January</td>\n",
       "    </tr>\n",
       "    <tr>\n",
       "      <th>19654439</th>\n",
       "      <td>2014-01-01 23:30:00</td>\n",
       "      <td>MAC004219</td>\n",
       "      <td>Std</td>\n",
       "      <td>0.218</td>\n",
       "      <td>ACORN-E</td>\n",
       "      <td>Affluent</td>\n",
       "      <td>Wednesday</td>\n",
       "      <td>42.80</td>\n",
       "      <td>January</td>\n",
       "    </tr>\n",
       "  </tbody>\n",
       "</table>\n",
       "<p>19654440 rows × 9 columns</p>\n",
       "</div>"
      ],
      "text/plain": [
       "                    DateTime      LCLid stdorToU  KWH/hh    Acorn  \\\n",
       "0        2013-01-01 00:00:00  MAC000002      Std   0.219  ACORN-A   \n",
       "1        2013-01-01 00:30:00  MAC000002      Std   0.241  ACORN-A   \n",
       "2        2013-01-01 01:00:00  MAC000002      Std   0.191  ACORN-A   \n",
       "3        2013-01-01 01:30:00  MAC000002      Std   0.235  ACORN-A   \n",
       "4        2013-01-01 02:00:00  MAC000002      Std   0.182  ACORN-A   \n",
       "...                      ...        ...      ...     ...      ...   \n",
       "19654435 2014-01-01 21:30:00  MAC004219      Std   0.266  ACORN-E   \n",
       "19654436 2014-01-01 22:00:00  MAC004219      Std   0.260  ACORN-E   \n",
       "19654437 2014-01-01 22:30:00  MAC004219      Std   0.301  ACORN-E   \n",
       "19654438 2014-01-01 23:00:00  MAC004219      Std   0.223  ACORN-E   \n",
       "19654439 2014-01-01 23:30:00  MAC004219      Std   0.218  ACORN-E   \n",
       "\n",
       "         Acorn_grouped        Day  air_temperature    Month  \n",
       "0             Affluent    Tuesday            48.02  January  \n",
       "1             Affluent    Tuesday            47.84  January  \n",
       "2             Affluent    Tuesday            47.66  January  \n",
       "3             Affluent    Tuesday            47.39  January  \n",
       "4             Affluent    Tuesday            47.12  January  \n",
       "...                ...        ...              ...      ...  \n",
       "19654435      Affluent  Wednesday            42.80  January  \n",
       "19654436      Affluent  Wednesday            42.80  January  \n",
       "19654437      Affluent  Wednesday            42.80  January  \n",
       "19654438      Affluent  Wednesday            42.80  January  \n",
       "19654439      Affluent  Wednesday            42.80  January  \n",
       "\n",
       "[19654440 rows x 9 columns]"
      ]
     },
     "execution_count": 33,
     "metadata": {},
     "output_type": "execute_result"
    }
   ],
   "source": [
    "df7"
   ]
  },
  {
   "cell_type": "code",
   "execution_count": null,
   "metadata": {},
   "outputs": [],
   "source": [
    "# df7.to_csv(\"C:\\\\Users\\\\jesse\\\\Downloads\\\\clases\\\\electrical data\\\\london data\\\\data\\\\2013_01_01_2014_01_01_day_temp.csv\", index = False) # full dataset"
   ]
  },
  {
   "cell_type": "markdown",
   "metadata": {},
   "source": [
    "At this point I was ready to do some modeling. I have another notebook 'Modeling' where I created a 3-d numpy data frame out of the above data to do the clustering, but the algorithm kept stalling on the data. So below I try to shrik the data to be able to do the clustering.\n",
    "\n",
    "My attempt are listed here and then the code follows.\n",
    "\n",
    "1. I tried to just randomly sample the data down to 30 series of each group. Specifically, I took 30 series from each of the affluence groups and program groups together.\n"
   ]
  },
  {
   "cell_type": "markdown",
   "metadata": {},
   "source": [
    "### This section is created to filter the df LCLid's down from there current amout to just 30 per group of acorn_group and std or tou."
   ]
  },
  {
   "cell_type": "code",
   "execution_count": 34,
   "metadata": {},
   "outputs": [],
   "source": [
    "import random"
   ]
  },
  {
   "cell_type": "code",
   "execution_count": 35,
   "metadata": {},
   "outputs": [],
   "source": [
    "gb1 = df7.groupby(['Acorn_grouped', 'stdorToU']) # group by to do more EDA.\n",
    "groups = dict(list(gb1)) # makes a dict of dataframs which can be accesed below. \n",
    "\n",
    "Adversity_Std = groups['Adversity', 'Std']\n",
    "Adversity_ToU = groups['Adversity', 'ToU']\n",
    "Affluent_Std = groups['Affluent', 'Std']\n",
    "Affluent_ToU = groups['Affluent', 'ToU']\n",
    "Comfortable_Std = groups['Comfortable', 'Std']\n",
    "Comfortable_ToU = groups['Comfortable', 'ToU']"
   ]
  },
  {
   "cell_type": "code",
   "execution_count": 36,
   "metadata": {},
   "outputs": [
    {
     "data": {
      "text/plain": [
       "Acorn_grouped  stdorToU\n",
       "Adversity      Std         280.0\n",
       "               ToU          70.0\n",
       "Affluent       Std         348.0\n",
       "               ToU         106.0\n",
       "Comfortable    Std         241.0\n",
       "               ToU          73.0\n",
       "dtype: float64"
      ]
     },
     "execution_count": 36,
     "metadata": {},
     "output_type": "execute_result"
    }
   ],
   "source": [
    "(gb1.size()/17580).round(0) # A count of how many series belong to each group."
   ]
  },
  {
   "cell_type": "markdown",
   "metadata": {},
   "source": [
    "Here I create a series of unique LCLids by the 6 groups so that I might randomly sample the id's to create a smaller data frame."
   ]
  },
  {
   "cell_type": "code",
   "execution_count": 37,
   "metadata": {},
   "outputs": [],
   "source": [
    "ad_st = pd.Series(Adversity_Std['LCLid']).unique()\n",
    "ad_t = pd.Series(Adversity_ToU['LCLid']).unique()\n",
    "af_st = pd.Series(Affluent_Std['LCLid']).unique()\n",
    "af_t = pd.Series(Affluent_ToU['LCLid']).unique()\n",
    "c_st = pd.Series(Comfortable_Std['LCLid']).unique()\n",
    "c_t = pd.Series(Comfortable_ToU['LCLid']).unique()"
   ]
  },
  {
   "cell_type": "code",
   "execution_count": 38,
   "metadata": {},
   "outputs": [],
   "source": [
    "ad_st_lst = random.sample(list(ad_st), 30)\n",
    "ad_t_lst = random.sample(list(ad_t), 30)\n",
    "af_st_lst = random.sample(list(af_st), 30)\n",
    "af_t_lst = random.sample(list(af_t), 30)\n",
    "c_st_lst = random.sample(list(c_st), 30)\n",
    "c_t_lst = random.sample(list(c_t), 30)"
   ]
  },
  {
   "cell_type": "markdown",
   "metadata": {},
   "source": [
    "Here I append the 6 list together into one list to be able to filter the data frame."
   ]
  },
  {
   "cell_type": "code",
   "execution_count": 39,
   "metadata": {},
   "outputs": [
    {
     "name": "stdout",
     "output_type": "stream",
     "text": [
      "180\n"
     ]
    }
   ],
   "source": [
    "import itertools\n",
    "filter_list =  []\n",
    "for i in itertools.chain(ad_st_lst, ad_t_lst, af_st_lst, af_t_lst, c_st_lst, c_t_lst):\n",
    "    # print(i)\n",
    "    filter_list.append(i)\n",
    "\n",
    "print(len(filter_list))"
   ]
  },
  {
   "cell_type": "code",
   "execution_count": 40,
   "metadata": {},
   "outputs": [],
   "source": [
    "df8 = df7[df7['LCLid'].isin(filter_list)]"
   ]
  },
  {
   "cell_type": "code",
   "execution_count": 41,
   "metadata": {},
   "outputs": [
    {
     "data": {
      "text/html": [
       "<div>\n",
       "<style scoped>\n",
       "    .dataframe tbody tr th:only-of-type {\n",
       "        vertical-align: middle;\n",
       "    }\n",
       "\n",
       "    .dataframe tbody tr th {\n",
       "        vertical-align: top;\n",
       "    }\n",
       "\n",
       "    .dataframe thead th {\n",
       "        text-align: right;\n",
       "    }\n",
       "</style>\n",
       "<table border=\"1\" class=\"dataframe\">\n",
       "  <thead>\n",
       "    <tr style=\"text-align: right;\">\n",
       "      <th></th>\n",
       "      <th>DateTime</th>\n",
       "      <th>LCLid</th>\n",
       "      <th>stdorToU</th>\n",
       "      <th>KWH/hh</th>\n",
       "      <th>Acorn</th>\n",
       "      <th>Acorn_grouped</th>\n",
       "      <th>Day</th>\n",
       "      <th>air_temperature</th>\n",
       "      <th>Month</th>\n",
       "    </tr>\n",
       "  </thead>\n",
       "  <tbody>\n",
       "    <tr>\n",
       "      <th>281280</th>\n",
       "      <td>2013-01-01 00:00:00</td>\n",
       "      <td>MAC000323</td>\n",
       "      <td>Std</td>\n",
       "      <td>0.388</td>\n",
       "      <td>ACORN-A</td>\n",
       "      <td>Affluent</td>\n",
       "      <td>Tuesday</td>\n",
       "      <td>48.02</td>\n",
       "      <td>January</td>\n",
       "    </tr>\n",
       "    <tr>\n",
       "      <th>281281</th>\n",
       "      <td>2013-01-01 00:30:00</td>\n",
       "      <td>MAC000323</td>\n",
       "      <td>Std</td>\n",
       "      <td>0.424</td>\n",
       "      <td>ACORN-A</td>\n",
       "      <td>Affluent</td>\n",
       "      <td>Tuesday</td>\n",
       "      <td>47.84</td>\n",
       "      <td>January</td>\n",
       "    </tr>\n",
       "    <tr>\n",
       "      <th>281282</th>\n",
       "      <td>2013-01-01 01:00:00</td>\n",
       "      <td>MAC000323</td>\n",
       "      <td>Std</td>\n",
       "      <td>0.529</td>\n",
       "      <td>ACORN-A</td>\n",
       "      <td>Affluent</td>\n",
       "      <td>Tuesday</td>\n",
       "      <td>47.66</td>\n",
       "      <td>January</td>\n",
       "    </tr>\n",
       "    <tr>\n",
       "      <th>281283</th>\n",
       "      <td>2013-01-01 01:30:00</td>\n",
       "      <td>MAC000323</td>\n",
       "      <td>Std</td>\n",
       "      <td>0.244</td>\n",
       "      <td>ACORN-A</td>\n",
       "      <td>Affluent</td>\n",
       "      <td>Tuesday</td>\n",
       "      <td>47.39</td>\n",
       "      <td>January</td>\n",
       "    </tr>\n",
       "    <tr>\n",
       "      <th>281284</th>\n",
       "      <td>2013-01-01 02:00:00</td>\n",
       "      <td>MAC000323</td>\n",
       "      <td>Std</td>\n",
       "      <td>0.129</td>\n",
       "      <td>ACORN-A</td>\n",
       "      <td>Affluent</td>\n",
       "      <td>Tuesday</td>\n",
       "      <td>47.12</td>\n",
       "      <td>January</td>\n",
       "    </tr>\n",
       "    <tr>\n",
       "      <th>...</th>\n",
       "      <td>...</td>\n",
       "      <td>...</td>\n",
       "      <td>...</td>\n",
       "      <td>...</td>\n",
       "      <td>...</td>\n",
       "      <td>...</td>\n",
       "      <td>...</td>\n",
       "      <td>...</td>\n",
       "      <td>...</td>\n",
       "    </tr>\n",
       "    <tr>\n",
       "      <th>18916075</th>\n",
       "      <td>2014-01-01 21:30:00</td>\n",
       "      <td>MAC003997</td>\n",
       "      <td>Std</td>\n",
       "      <td>0.195</td>\n",
       "      <td>ACORN-F</td>\n",
       "      <td>Comfortable</td>\n",
       "      <td>Wednesday</td>\n",
       "      <td>42.80</td>\n",
       "      <td>January</td>\n",
       "    </tr>\n",
       "    <tr>\n",
       "      <th>18916076</th>\n",
       "      <td>2014-01-01 22:00:00</td>\n",
       "      <td>MAC003997</td>\n",
       "      <td>Std</td>\n",
       "      <td>0.323</td>\n",
       "      <td>ACORN-F</td>\n",
       "      <td>Comfortable</td>\n",
       "      <td>Wednesday</td>\n",
       "      <td>42.80</td>\n",
       "      <td>January</td>\n",
       "    </tr>\n",
       "    <tr>\n",
       "      <th>18916077</th>\n",
       "      <td>2014-01-01 22:30:00</td>\n",
       "      <td>MAC003997</td>\n",
       "      <td>Std</td>\n",
       "      <td>0.173</td>\n",
       "      <td>ACORN-F</td>\n",
       "      <td>Comfortable</td>\n",
       "      <td>Wednesday</td>\n",
       "      <td>42.80</td>\n",
       "      <td>January</td>\n",
       "    </tr>\n",
       "    <tr>\n",
       "      <th>18916078</th>\n",
       "      <td>2014-01-01 23:00:00</td>\n",
       "      <td>MAC003997</td>\n",
       "      <td>Std</td>\n",
       "      <td>0.474</td>\n",
       "      <td>ACORN-F</td>\n",
       "      <td>Comfortable</td>\n",
       "      <td>Wednesday</td>\n",
       "      <td>42.80</td>\n",
       "      <td>January</td>\n",
       "    </tr>\n",
       "    <tr>\n",
       "      <th>18916079</th>\n",
       "      <td>2014-01-01 23:30:00</td>\n",
       "      <td>MAC003997</td>\n",
       "      <td>Std</td>\n",
       "      <td>0.071</td>\n",
       "      <td>ACORN-F</td>\n",
       "      <td>Comfortable</td>\n",
       "      <td>Wednesday</td>\n",
       "      <td>45.41</td>\n",
       "      <td>January</td>\n",
       "    </tr>\n",
       "  </tbody>\n",
       "</table>\n",
       "<p>3164400 rows × 9 columns</p>\n",
       "</div>"
      ],
      "text/plain": [
       "                    DateTime      LCLid stdorToU  KWH/hh    Acorn  \\\n",
       "281280   2013-01-01 00:00:00  MAC000323      Std   0.388  ACORN-A   \n",
       "281281   2013-01-01 00:30:00  MAC000323      Std   0.424  ACORN-A   \n",
       "281282   2013-01-01 01:00:00  MAC000323      Std   0.529  ACORN-A   \n",
       "281283   2013-01-01 01:30:00  MAC000323      Std   0.244  ACORN-A   \n",
       "281284   2013-01-01 02:00:00  MAC000323      Std   0.129  ACORN-A   \n",
       "...                      ...        ...      ...     ...      ...   \n",
       "18916075 2014-01-01 21:30:00  MAC003997      Std   0.195  ACORN-F   \n",
       "18916076 2014-01-01 22:00:00  MAC003997      Std   0.323  ACORN-F   \n",
       "18916077 2014-01-01 22:30:00  MAC003997      Std   0.173  ACORN-F   \n",
       "18916078 2014-01-01 23:00:00  MAC003997      Std   0.474  ACORN-F   \n",
       "18916079 2014-01-01 23:30:00  MAC003997      Std   0.071  ACORN-F   \n",
       "\n",
       "         Acorn_grouped        Day  air_temperature    Month  \n",
       "281280        Affluent    Tuesday            48.02  January  \n",
       "281281        Affluent    Tuesday            47.84  January  \n",
       "281282        Affluent    Tuesday            47.66  January  \n",
       "281283        Affluent    Tuesday            47.39  January  \n",
       "281284        Affluent    Tuesday            47.12  January  \n",
       "...                ...        ...              ...      ...  \n",
       "18916075   Comfortable  Wednesday            42.80  January  \n",
       "18916076   Comfortable  Wednesday            42.80  January  \n",
       "18916077   Comfortable  Wednesday            42.80  January  \n",
       "18916078   Comfortable  Wednesday            42.80  January  \n",
       "18916079   Comfortable  Wednesday            45.41  January  \n",
       "\n",
       "[3164400 rows x 9 columns]"
      ]
     },
     "execution_count": 41,
     "metadata": {},
     "output_type": "execute_result"
    }
   ],
   "source": [
    "df8"
   ]
  },
  {
   "cell_type": "markdown",
   "metadata": {},
   "source": [
    "Here you can see that we have successfully reduced the size of the data to 30 series per group. Unfortunately, the clustering still didn’t work."
   ]
  },
  {
   "cell_type": "code",
   "execution_count": 42,
   "metadata": {},
   "outputs": [
    {
     "data": {
      "text/plain": [
       "Acorn_grouped  stdorToU\n",
       "Adversity      Std         30.0\n",
       "               ToU         30.0\n",
       "Affluent       Std         30.0\n",
       "               ToU         30.0\n",
       "Comfortable    Std         30.0\n",
       "               ToU         30.0\n",
       "dtype: float64"
      ]
     },
     "execution_count": 42,
     "metadata": {},
     "output_type": "execute_result"
    }
   ],
   "source": [
    "gb8 = df8.groupby(['Acorn_grouped', 'stdorToU']) # group by to do more EDA.\n",
    "(gb8.size()/17580).round(0) # how many series belong to each group."
   ]
  },
  {
   "cell_type": "code",
   "execution_count": 43,
   "metadata": {},
   "outputs": [],
   "source": [
    "# df8.to_csv(\"C:\\\\Users\\\\jesse\\\\Downloads\\\\clases\\\\electrical data\\\\london data\\\\data\\\\2013_01_01_2014_01_01_day_temp_filtered.csv\", index = False) # full dataset"
   ]
  },
  {
   "cell_type": "markdown",
   "metadata": {},
   "source": [
    "### End idea 1."
   ]
  },
  {
   "cell_type": "markdown",
   "metadata": {},
   "source": [
    "The next two sections are me trying to figure out where and why the data sometimes has values 10 to 50 times the standard deviation of the mean.\n",
    "\n",
    "My first idea is to seperate the data based on on-peak or off-peak data. \"On-peak hours that generally refer to the hours beginning at 7:00 a.m. until 11:00 p.m. on weekdays, and off-peak hours that are between 11:00 p.m. \n",
    "and 7:00 a.m. on weekdays and all day on Saturdays, Sundays, and holidays.\" \n",
    "from https://www.eia.gov/todayinenergy/detail.php?id=42915\n",
    "\n",
    "On-peak is when the power is more expensive and off-peak is when its less expensive. "
   ]
  },
  {
   "cell_type": "code",
   "execution_count": 44,
   "metadata": {},
   "outputs": [],
   "source": [
    "Adversity_Std = Adversity_Std.set_index(['DateTime'])\n",
    "Adversity_ToU = Adversity_ToU.set_index(['DateTime'])\n",
    "Affluent_Std = Affluent_Std.set_index(['DateTime'])\n",
    "Affluent_ToU = Affluent_ToU.set_index(['DateTime'])\n",
    "Comfortable_Std = Comfortable_Std.set_index(['DateTime'])\n",
    "Comfortable_ToU = Comfortable_ToU.set_index(['DateTime'])"
   ]
  },
  {
   "cell_type": "code",
   "execution_count": 45,
   "metadata": {},
   "outputs": [
    {
     "data": {
      "text/html": [
       "<div>\n",
       "<style scoped>\n",
       "    .dataframe tbody tr th:only-of-type {\n",
       "        vertical-align: middle;\n",
       "    }\n",
       "\n",
       "    .dataframe tbody tr th {\n",
       "        vertical-align: top;\n",
       "    }\n",
       "\n",
       "    .dataframe thead th {\n",
       "        text-align: right;\n",
       "    }\n",
       "</style>\n",
       "<table border=\"1\" class=\"dataframe\">\n",
       "  <thead>\n",
       "    <tr style=\"text-align: right;\">\n",
       "      <th></th>\n",
       "      <th>LCLid</th>\n",
       "      <th>stdorToU</th>\n",
       "      <th>KWH/hh</th>\n",
       "      <th>Acorn</th>\n",
       "      <th>Acorn_grouped</th>\n",
       "      <th>Day</th>\n",
       "      <th>air_temperature</th>\n",
       "      <th>Month</th>\n",
       "    </tr>\n",
       "    <tr>\n",
       "      <th>DateTime</th>\n",
       "      <th></th>\n",
       "      <th></th>\n",
       "      <th></th>\n",
       "      <th></th>\n",
       "      <th></th>\n",
       "      <th></th>\n",
       "      <th></th>\n",
       "      <th></th>\n",
       "    </tr>\n",
       "  </thead>\n",
       "  <tbody>\n",
       "    <tr>\n",
       "      <th>2013-01-01 00:00:00</th>\n",
       "      <td>MAC000006</td>\n",
       "      <td>Std</td>\n",
       "      <td>0.000</td>\n",
       "      <td>ACORN-Q</td>\n",
       "      <td>Adversity</td>\n",
       "      <td>Tuesday</td>\n",
       "      <td>48.02</td>\n",
       "      <td>January</td>\n",
       "    </tr>\n",
       "    <tr>\n",
       "      <th>2013-01-01 00:30:00</th>\n",
       "      <td>MAC000006</td>\n",
       "      <td>Std</td>\n",
       "      <td>0.000</td>\n",
       "      <td>ACORN-Q</td>\n",
       "      <td>Adversity</td>\n",
       "      <td>Tuesday</td>\n",
       "      <td>47.84</td>\n",
       "      <td>January</td>\n",
       "    </tr>\n",
       "    <tr>\n",
       "      <th>2013-01-01 01:00:00</th>\n",
       "      <td>MAC000006</td>\n",
       "      <td>Std</td>\n",
       "      <td>0.000</td>\n",
       "      <td>ACORN-Q</td>\n",
       "      <td>Adversity</td>\n",
       "      <td>Tuesday</td>\n",
       "      <td>47.66</td>\n",
       "      <td>January</td>\n",
       "    </tr>\n",
       "    <tr>\n",
       "      <th>2013-01-01 01:30:00</th>\n",
       "      <td>MAC000006</td>\n",
       "      <td>Std</td>\n",
       "      <td>0.000</td>\n",
       "      <td>ACORN-Q</td>\n",
       "      <td>Adversity</td>\n",
       "      <td>Tuesday</td>\n",
       "      <td>47.39</td>\n",
       "      <td>January</td>\n",
       "    </tr>\n",
       "    <tr>\n",
       "      <th>2013-01-01 02:00:00</th>\n",
       "      <td>MAC000006</td>\n",
       "      <td>Std</td>\n",
       "      <td>0.000</td>\n",
       "      <td>ACORN-Q</td>\n",
       "      <td>Adversity</td>\n",
       "      <td>Tuesday</td>\n",
       "      <td>47.12</td>\n",
       "      <td>January</td>\n",
       "    </tr>\n",
       "    <tr>\n",
       "      <th>...</th>\n",
       "      <td>...</td>\n",
       "      <td>...</td>\n",
       "      <td>...</td>\n",
       "      <td>...</td>\n",
       "      <td>...</td>\n",
       "      <td>...</td>\n",
       "      <td>...</td>\n",
       "      <td>...</td>\n",
       "    </tr>\n",
       "    <tr>\n",
       "      <th>2014-01-01 21:30:00</th>\n",
       "      <td>MAC004208</td>\n",
       "      <td>Std</td>\n",
       "      <td>0.739</td>\n",
       "      <td>ACORN-Q</td>\n",
       "      <td>Adversity</td>\n",
       "      <td>Wednesday</td>\n",
       "      <td>42.80</td>\n",
       "      <td>January</td>\n",
       "    </tr>\n",
       "    <tr>\n",
       "      <th>2014-01-01 22:00:00</th>\n",
       "      <td>MAC004208</td>\n",
       "      <td>Std</td>\n",
       "      <td>0.485</td>\n",
       "      <td>ACORN-Q</td>\n",
       "      <td>Adversity</td>\n",
       "      <td>Wednesday</td>\n",
       "      <td>42.80</td>\n",
       "      <td>January</td>\n",
       "    </tr>\n",
       "    <tr>\n",
       "      <th>2014-01-01 22:30:00</th>\n",
       "      <td>MAC004208</td>\n",
       "      <td>Std</td>\n",
       "      <td>0.520</td>\n",
       "      <td>ACORN-Q</td>\n",
       "      <td>Adversity</td>\n",
       "      <td>Wednesday</td>\n",
       "      <td>42.80</td>\n",
       "      <td>January</td>\n",
       "    </tr>\n",
       "    <tr>\n",
       "      <th>2014-01-01 23:00:00</th>\n",
       "      <td>MAC004208</td>\n",
       "      <td>Std</td>\n",
       "      <td>0.390</td>\n",
       "      <td>ACORN-Q</td>\n",
       "      <td>Adversity</td>\n",
       "      <td>Wednesday</td>\n",
       "      <td>42.80</td>\n",
       "      <td>January</td>\n",
       "    </tr>\n",
       "    <tr>\n",
       "      <th>2014-01-01 23:30:00</th>\n",
       "      <td>MAC004208</td>\n",
       "      <td>Std</td>\n",
       "      <td>0.337</td>\n",
       "      <td>ACORN-Q</td>\n",
       "      <td>Adversity</td>\n",
       "      <td>Wednesday</td>\n",
       "      <td>45.41</td>\n",
       "      <td>January</td>\n",
       "    </tr>\n",
       "  </tbody>\n",
       "</table>\n",
       "<p>4922400 rows × 8 columns</p>\n",
       "</div>"
      ],
      "text/plain": [
       "                         LCLid stdorToU  KWH/hh    Acorn Acorn_grouped  \\\n",
       "DateTime                                                                 \n",
       "2013-01-01 00:00:00  MAC000006      Std   0.000  ACORN-Q     Adversity   \n",
       "2013-01-01 00:30:00  MAC000006      Std   0.000  ACORN-Q     Adversity   \n",
       "2013-01-01 01:00:00  MAC000006      Std   0.000  ACORN-Q     Adversity   \n",
       "2013-01-01 01:30:00  MAC000006      Std   0.000  ACORN-Q     Adversity   \n",
       "2013-01-01 02:00:00  MAC000006      Std   0.000  ACORN-Q     Adversity   \n",
       "...                        ...      ...     ...      ...           ...   \n",
       "2014-01-01 21:30:00  MAC004208      Std   0.739  ACORN-Q     Adversity   \n",
       "2014-01-01 22:00:00  MAC004208      Std   0.485  ACORN-Q     Adversity   \n",
       "2014-01-01 22:30:00  MAC004208      Std   0.520  ACORN-Q     Adversity   \n",
       "2014-01-01 23:00:00  MAC004208      Std   0.390  ACORN-Q     Adversity   \n",
       "2014-01-01 23:30:00  MAC004208      Std   0.337  ACORN-Q     Adversity   \n",
       "\n",
       "                           Day  air_temperature    Month  \n",
       "DateTime                                                  \n",
       "2013-01-01 00:00:00    Tuesday            48.02  January  \n",
       "2013-01-01 00:30:00    Tuesday            47.84  January  \n",
       "2013-01-01 01:00:00    Tuesday            47.66  January  \n",
       "2013-01-01 01:30:00    Tuesday            47.39  January  \n",
       "2013-01-01 02:00:00    Tuesday            47.12  January  \n",
       "...                        ...              ...      ...  \n",
       "2014-01-01 21:30:00  Wednesday            42.80  January  \n",
       "2014-01-01 22:00:00  Wednesday            42.80  January  \n",
       "2014-01-01 22:30:00  Wednesday            42.80  January  \n",
       "2014-01-01 23:00:00  Wednesday            42.80  January  \n",
       "2014-01-01 23:30:00  Wednesday            45.41  January  \n",
       "\n",
       "[4922400 rows x 8 columns]"
      ]
     },
     "execution_count": 45,
     "metadata": {},
     "output_type": "execute_result"
    }
   ],
   "source": [
    "Adversity_Std"
   ]
  },
  {
   "cell_type": "code",
   "execution_count": 46,
   "metadata": {},
   "outputs": [],
   "source": [
    "on_peakdays = ['Monday' , 'Tuesday', 'Wednesday', 'Thursday', 'Friday']\n",
    "off_peakdays = ['Saturday', 'Sunday']"
   ]
  },
  {
   "cell_type": "code",
   "execution_count": 47,
   "metadata": {},
   "outputs": [],
   "source": [
    "# on peak."
   ]
  },
  {
   "cell_type": "code",
   "execution_count": 48,
   "metadata": {},
   "outputs": [],
   "source": [
    "on_peak_Adversity_Std = Adversity_Std.between_time('07:00','23:00')\n",
    "on_peak_Adversity_ToU = Adversity_ToU.between_time('07:00','23:00')\n",
    "on_peak_Affluent_Std = Affluent_Std.between_time('07:00','23:00')\n",
    "on_peak_Affluent_ToU = Affluent_ToU.between_time('07:00','23:00')\n",
    "on_peak_Comfortable_Std = Comfortable_Std.between_time('07:00','23:00')\n",
    "on_peak_Comfortable_ToU = Comfortable_ToU.between_time('07:00','23:00')"
   ]
  },
  {
   "cell_type": "code",
   "execution_count": 49,
   "metadata": {},
   "outputs": [],
   "source": [
    "on_peak_Adversity_Std = on_peak_Adversity_Std[on_peak_Adversity_Std['Day'].isin(on_peakdays)] \n",
    "on_peak_Adversity_ToU = on_peak_Adversity_ToU[on_peak_Adversity_ToU['Day'].isin(on_peakdays)] \n",
    "on_peak_Affluent_Std = on_peak_Affluent_Std[on_peak_Affluent_Std['Day'].isin(on_peakdays)] \n",
    "on_peak_Affluent_ToU = on_peak_Affluent_ToU[on_peak_Affluent_ToU['Day'].isin(on_peakdays)] \n",
    "on_peak_Comfortable_Std = on_peak_Comfortable_Std[on_peak_Comfortable_Std['Day'].isin(on_peakdays)] \n",
    "on_peak_Comfortable_ToU = on_peak_Comfortable_ToU[on_peak_Comfortable_ToU['Day'].isin(on_peakdays)] "
   ]
  },
  {
   "cell_type": "code",
   "execution_count": 50,
   "metadata": {},
   "outputs": [],
   "source": [
    "## off-peak"
   ]
  },
  {
   "cell_type": "code",
   "execution_count": 51,
   "metadata": {},
   "outputs": [],
   "source": [
    "off_peak_Adversity_Std = Adversity_Std.between_time('23:30','06:30')\n",
    "off_peak_Adversity_ToU = Adversity_ToU.between_time('23:30','06:30')\n",
    "off_peak_Affluent_Std = Affluent_Std.between_time('23:30','06:30')\n",
    "off_peak_Affluent_ToU = Affluent_ToU.between_time('23:30','06:30')\n",
    "off_peak_Comfortable_Std = Comfortable_Std.between_time('23:30','06:30')\n",
    "off_peak_Comfortable_ToU = Comfortable_ToU.between_time('23:30','06:30')"
   ]
  },
  {
   "cell_type": "code",
   "execution_count": 52,
   "metadata": {},
   "outputs": [],
   "source": [
    "off_peak_Adversity_Std = off_peak_Adversity_Std[off_peak_Adversity_Std['Day'].isin(off_peakdays)] \n",
    "off_peak_Adversity_ToU = off_peak_Adversity_ToU[off_peak_Adversity_ToU['Day'].isin(off_peakdays)] \n",
    "off_peak_Affluent_Std = off_peak_Affluent_Std[off_peak_Affluent_Std['Day'].isin(off_peakdays)] \n",
    "off_peak_Affluent_ToU = off_peak_Affluent_ToU[off_peak_Affluent_ToU['Day'].isin(off_peakdays)] \n",
    "off_peak_Comfortable_Std = off_peak_Comfortable_Std[off_peak_Comfortable_Std['Day'].isin(off_peakdays)] \n",
    "off_peak_Comfortable_ToU = off_peak_Comfortable_ToU[off_peak_Comfortable_ToU['Day'].isin(off_peakdays)] "
   ]
  },
  {
   "cell_type": "code",
   "execution_count": 53,
   "metadata": {},
   "outputs": [],
   "source": [
    "# output all 12 dfs to:\n",
    "# on_peak_Adversity_Std.to_csv(\"C:\\\\Users\\\\jesse\\\\Downloads\\\\clases\\\\electrical data\\\\london data\\\\data\\\\peak\\\\on_peak_Adversity_Std.csv\", index = True) # full dataset\n",
    "# on_peak_Adversity_ToU.to_csv(\"C:\\\\Users\\\\jesse\\\\Downloads\\\\clases\\\\electrical data\\\\london data\\\\data\\\\peak\\\\on_peak_Adversity_ToU.csv\", index = True)\n",
    "# on_peak_Affluent_Std.to_csv(\"C:\\\\Users\\\\jesse\\\\Downloads\\\\clases\\\\electrical data\\\\london data\\\\data\\\\peak\\\\on_peak_Affluent_Std.csv\", index = True)\n",
    "# on_peak_Affluent_ToU.to_csv(\"C:\\\\Users\\\\jesse\\\\Downloads\\\\clases\\\\electrical data\\\\london data\\\\data\\\\peak\\\\on_peak_Affluent_ToU.csv\", index = True)\n",
    "# on_peak_Comfortable_Std.to_csv(\"C:\\\\Users\\\\jesse\\\\Downloads\\\\clases\\\\electrical data\\\\london data\\\\data\\\\peak\\\\on_peak_Comfortable_Std.csv\", index = True)\n",
    "# on_peak_Comfortable_ToU.to_csv(\"C:\\\\Users\\\\jesse\\\\Downloads\\\\clases\\\\electrical data\\\\london data\\\\data\\\\peak\\\\on_peak_Comfortable_ToU.csv\", index = True)\n",
    "\n",
    "###\n",
    "# off_peak_Adversity_Std.to_csv(\"C:\\\\Users\\\\jesse\\\\Downloads\\\\clases\\\\electrical data\\\\london data\\\\data\\\\peak\\\\off_peak_Adversity_Std.csv\", index = True)\n",
    "# off_peak_Adversity_ToU.to_csv(\"C:\\\\Users\\\\jesse\\\\Downloads\\\\clases\\\\electrical data\\\\london data\\\\data\\\\peak\\\\off_peak_Adversity_ToU.csv\", index = True)\n",
    "# off_peak_Affluent_Std.to_csv(\"C:\\\\Users\\\\jesse\\\\Downloads\\\\clases\\\\electrical data\\\\london data\\\\data\\\\peak\\\\off_peak_Affluent_Std.csv\", index = True)\n",
    "# off_peak_Affluent_ToU.to_csv(\"C:\\\\Users\\\\jesse\\\\Downloads\\\\clases\\\\electrical data\\\\london data\\\\data\\\\peak\\\\off_peak_Affluent_ToU.csv\", index = True)\n",
    "# off_peak_Comfortable_Std.to_csv(\"C:\\\\Users\\\\jesse\\\\Downloads\\\\clases\\\\electrical data\\\\london data\\\\data\\\\peak\\\\off_peak_Comfortable_Std.csv\", index = True)\n",
    "# off_peak_Comfortable_ToU.to_csv(\"C:\\\\Users\\\\jesse\\\\Downloads\\\\clases\\\\electrical data\\\\london data\\\\data\\\\peak\\\\off_peak_Comfortable_ToU.csv\", index = True)"
   ]
  },
  {
   "cell_type": "markdown",
   "metadata": {},
   "source": [
    "### Affluent"
   ]
  },
  {
   "cell_type": "code",
   "execution_count": 54,
   "metadata": {},
   "outputs": [
    {
     "data": {
      "text/html": [
       "<div>\n",
       "<style scoped>\n",
       "    .dataframe tbody tr th:only-of-type {\n",
       "        vertical-align: middle;\n",
       "    }\n",
       "\n",
       "    .dataframe tbody tr th {\n",
       "        vertical-align: top;\n",
       "    }\n",
       "\n",
       "    .dataframe thead th {\n",
       "        text-align: right;\n",
       "    }\n",
       "</style>\n",
       "<table border=\"1\" class=\"dataframe\">\n",
       "  <thead>\n",
       "    <tr style=\"text-align: right;\">\n",
       "      <th></th>\n",
       "      <th>KWH/hh</th>\n",
       "      <th>air_temperature</th>\n",
       "    </tr>\n",
       "  </thead>\n",
       "  <tbody>\n",
       "    <tr>\n",
       "      <th>count</th>\n",
       "      <td>3008808.000</td>\n",
       "      <td>3008808.000</td>\n",
       "    </tr>\n",
       "    <tr>\n",
       "      <th>mean</th>\n",
       "      <td>0.289</td>\n",
       "      <td>53.627</td>\n",
       "    </tr>\n",
       "    <tr>\n",
       "      <th>std</th>\n",
       "      <td>0.396</td>\n",
       "      <td>12.570</td>\n",
       "    </tr>\n",
       "    <tr>\n",
       "      <th>min</th>\n",
       "      <td>0.000</td>\n",
       "      <td>25.880</td>\n",
       "    </tr>\n",
       "    <tr>\n",
       "      <th>25%</th>\n",
       "      <td>0.071</td>\n",
       "      <td>43.700</td>\n",
       "    </tr>\n",
       "    <tr>\n",
       "      <th>50%</th>\n",
       "      <td>0.152</td>\n",
       "      <td>52.700</td>\n",
       "    </tr>\n",
       "    <tr>\n",
       "      <th>75%</th>\n",
       "      <td>0.334</td>\n",
       "      <td>62.780</td>\n",
       "    </tr>\n",
       "    <tr>\n",
       "      <th>max</th>\n",
       "      <td>9.141</td>\n",
       "      <td>92.660</td>\n",
       "    </tr>\n",
       "  </tbody>\n",
       "</table>\n",
       "</div>"
      ],
      "text/plain": [
       "            KWH/hh  air_temperature\n",
       "count  3008808.000      3008808.000\n",
       "mean         0.289           53.627\n",
       "std          0.396           12.570\n",
       "min          0.000           25.880\n",
       "25%          0.071           43.700\n",
       "50%          0.152           52.700\n",
       "75%          0.334           62.780\n",
       "max          9.141           92.660"
      ]
     },
     "execution_count": 54,
     "metadata": {},
     "output_type": "execute_result"
    }
   ],
   "source": [
    "on_peak_Affluent_Std.describe().round(3)"
   ]
  },
  {
   "cell_type": "code",
   "execution_count": 55,
   "metadata": {},
   "outputs": [
    {
     "data": {
      "text/html": [
       "<div>\n",
       "<style scoped>\n",
       "    .dataframe tbody tr th:only-of-type {\n",
       "        vertical-align: middle;\n",
       "    }\n",
       "\n",
       "    .dataframe tbody tr th {\n",
       "        vertical-align: top;\n",
       "    }\n",
       "\n",
       "    .dataframe thead th {\n",
       "        text-align: right;\n",
       "    }\n",
       "</style>\n",
       "<table border=\"1\" class=\"dataframe\">\n",
       "  <thead>\n",
       "    <tr style=\"text-align: right;\">\n",
       "      <th></th>\n",
       "      <th>KWH/hh</th>\n",
       "      <th>air_temperature</th>\n",
       "    </tr>\n",
       "  </thead>\n",
       "  <tbody>\n",
       "    <tr>\n",
       "      <th>count</th>\n",
       "      <td>916476.000</td>\n",
       "      <td>916476.000</td>\n",
       "    </tr>\n",
       "    <tr>\n",
       "      <th>mean</th>\n",
       "      <td>0.218</td>\n",
       "      <td>53.627</td>\n",
       "    </tr>\n",
       "    <tr>\n",
       "      <th>std</th>\n",
       "      <td>0.277</td>\n",
       "      <td>12.570</td>\n",
       "    </tr>\n",
       "    <tr>\n",
       "      <th>min</th>\n",
       "      <td>0.000</td>\n",
       "      <td>25.880</td>\n",
       "    </tr>\n",
       "    <tr>\n",
       "      <th>25%</th>\n",
       "      <td>0.059</td>\n",
       "      <td>43.700</td>\n",
       "    </tr>\n",
       "    <tr>\n",
       "      <th>50%</th>\n",
       "      <td>0.126</td>\n",
       "      <td>52.700</td>\n",
       "    </tr>\n",
       "    <tr>\n",
       "      <th>75%</th>\n",
       "      <td>0.261</td>\n",
       "      <td>62.780</td>\n",
       "    </tr>\n",
       "    <tr>\n",
       "      <th>max</th>\n",
       "      <td>5.558</td>\n",
       "      <td>92.660</td>\n",
       "    </tr>\n",
       "  </tbody>\n",
       "</table>\n",
       "</div>"
      ],
      "text/plain": [
       "           KWH/hh  air_temperature\n",
       "count  916476.000       916476.000\n",
       "mean        0.218           53.627\n",
       "std         0.277           12.570\n",
       "min         0.000           25.880\n",
       "25%         0.059           43.700\n",
       "50%         0.126           52.700\n",
       "75%         0.261           62.780\n",
       "max         5.558           92.660"
      ]
     },
     "execution_count": 55,
     "metadata": {},
     "output_type": "execute_result"
    }
   ],
   "source": [
    "on_peak_Affluent_ToU.describe().round(3)"
   ]
  },
  {
   "cell_type": "code",
   "execution_count": 56,
   "metadata": {},
   "outputs": [
    {
     "data": {
      "text/html": [
       "<div>\n",
       "<style scoped>\n",
       "    .dataframe tbody tr th:only-of-type {\n",
       "        vertical-align: middle;\n",
       "    }\n",
       "\n",
       "    .dataframe tbody tr th {\n",
       "        vertical-align: top;\n",
       "    }\n",
       "\n",
       "    .dataframe thead th {\n",
       "        text-align: right;\n",
       "    }\n",
       "</style>\n",
       "<table border=\"1\" class=\"dataframe\">\n",
       "  <thead>\n",
       "    <tr style=\"text-align: right;\">\n",
       "      <th></th>\n",
       "      <th>KWH/hh</th>\n",
       "      <th>air_temperature</th>\n",
       "    </tr>\n",
       "  </thead>\n",
       "  <tbody>\n",
       "    <tr>\n",
       "      <th>count</th>\n",
       "      <td>544272.000</td>\n",
       "      <td>544272.000</td>\n",
       "    </tr>\n",
       "    <tr>\n",
       "      <th>mean</th>\n",
       "      <td>0.192</td>\n",
       "      <td>47.395</td>\n",
       "    </tr>\n",
       "    <tr>\n",
       "      <th>std</th>\n",
       "      <td>0.369</td>\n",
       "      <td>9.971</td>\n",
       "    </tr>\n",
       "    <tr>\n",
       "      <th>min</th>\n",
       "      <td>0.000</td>\n",
       "      <td>27.140</td>\n",
       "    </tr>\n",
       "    <tr>\n",
       "      <th>25%</th>\n",
       "      <td>0.049</td>\n",
       "      <td>38.660</td>\n",
       "    </tr>\n",
       "    <tr>\n",
       "      <th>50%</th>\n",
       "      <td>0.090</td>\n",
       "      <td>46.940</td>\n",
       "    </tr>\n",
       "    <tr>\n",
       "      <th>75%</th>\n",
       "      <td>0.175</td>\n",
       "      <td>55.760</td>\n",
       "    </tr>\n",
       "    <tr>\n",
       "      <th>max</th>\n",
       "      <td>6.891</td>\n",
       "      <td>73.850</td>\n",
       "    </tr>\n",
       "  </tbody>\n",
       "</table>\n",
       "</div>"
      ],
      "text/plain": [
       "           KWH/hh  air_temperature\n",
       "count  544272.000       544272.000\n",
       "mean        0.192           47.395\n",
       "std         0.369            9.971\n",
       "min         0.000           27.140\n",
       "25%         0.049           38.660\n",
       "50%         0.090           46.940\n",
       "75%         0.175           55.760\n",
       "max         6.891           73.850"
      ]
     },
     "execution_count": 56,
     "metadata": {},
     "output_type": "execute_result"
    }
   ],
   "source": [
    "off_peak_Affluent_Std.describe().round(3)"
   ]
  },
  {
   "cell_type": "code",
   "execution_count": 57,
   "metadata": {},
   "outputs": [
    {
     "data": {
      "text/html": [
       "<div>\n",
       "<style scoped>\n",
       "    .dataframe tbody tr th:only-of-type {\n",
       "        vertical-align: middle;\n",
       "    }\n",
       "\n",
       "    .dataframe tbody tr th {\n",
       "        vertical-align: top;\n",
       "    }\n",
       "\n",
       "    .dataframe thead th {\n",
       "        text-align: right;\n",
       "    }\n",
       "</style>\n",
       "<table border=\"1\" class=\"dataframe\">\n",
       "  <thead>\n",
       "    <tr style=\"text-align: right;\">\n",
       "      <th></th>\n",
       "      <th>KWH/hh</th>\n",
       "      <th>air_temperature</th>\n",
       "    </tr>\n",
       "  </thead>\n",
       "  <tbody>\n",
       "    <tr>\n",
       "      <th>count</th>\n",
       "      <td>165784.000</td>\n",
       "      <td>165784.000</td>\n",
       "    </tr>\n",
       "    <tr>\n",
       "      <th>mean</th>\n",
       "      <td>0.117</td>\n",
       "      <td>47.395</td>\n",
       "    </tr>\n",
       "    <tr>\n",
       "      <th>std</th>\n",
       "      <td>0.158</td>\n",
       "      <td>9.971</td>\n",
       "    </tr>\n",
       "    <tr>\n",
       "      <th>min</th>\n",
       "      <td>0.000</td>\n",
       "      <td>27.140</td>\n",
       "    </tr>\n",
       "    <tr>\n",
       "      <th>25%</th>\n",
       "      <td>0.044</td>\n",
       "      <td>38.660</td>\n",
       "    </tr>\n",
       "    <tr>\n",
       "      <th>50%</th>\n",
       "      <td>0.074</td>\n",
       "      <td>46.940</td>\n",
       "    </tr>\n",
       "    <tr>\n",
       "      <th>75%</th>\n",
       "      <td>0.129</td>\n",
       "      <td>55.760</td>\n",
       "    </tr>\n",
       "    <tr>\n",
       "      <th>max</th>\n",
       "      <td>4.764</td>\n",
       "      <td>73.850</td>\n",
       "    </tr>\n",
       "  </tbody>\n",
       "</table>\n",
       "</div>"
      ],
      "text/plain": [
       "           KWH/hh  air_temperature\n",
       "count  165784.000       165784.000\n",
       "mean        0.117           47.395\n",
       "std         0.158            9.971\n",
       "min         0.000           27.140\n",
       "25%         0.044           38.660\n",
       "50%         0.074           46.940\n",
       "75%         0.129           55.760\n",
       "max         4.764           73.850"
      ]
     },
     "execution_count": 57,
     "metadata": {},
     "output_type": "execute_result"
    }
   ],
   "source": [
    "off_peak_Affluent_ToU.describe().round(3)"
   ]
  },
  {
   "cell_type": "markdown",
   "metadata": {},
   "source": [
    "### Adversity"
   ]
  },
  {
   "cell_type": "code",
   "execution_count": 58,
   "metadata": {},
   "outputs": [
    {
     "data": {
      "text/html": [
       "<div>\n",
       "<style scoped>\n",
       "    .dataframe tbody tr th:only-of-type {\n",
       "        vertical-align: middle;\n",
       "    }\n",
       "\n",
       "    .dataframe tbody tr th {\n",
       "        vertical-align: top;\n",
       "    }\n",
       "\n",
       "    .dataframe thead th {\n",
       "        text-align: right;\n",
       "    }\n",
       "</style>\n",
       "<table border=\"1\" class=\"dataframe\">\n",
       "  <thead>\n",
       "    <tr style=\"text-align: right;\">\n",
       "      <th></th>\n",
       "      <th>KWH/hh</th>\n",
       "      <th>air_temperature</th>\n",
       "    </tr>\n",
       "  </thead>\n",
       "  <tbody>\n",
       "    <tr>\n",
       "      <th>count</th>\n",
       "      <td>2420880.000</td>\n",
       "      <td>2420880.000</td>\n",
       "    </tr>\n",
       "    <tr>\n",
       "      <th>mean</th>\n",
       "      <td>0.207</td>\n",
       "      <td>53.627</td>\n",
       "    </tr>\n",
       "    <tr>\n",
       "      <th>std</th>\n",
       "      <td>0.237</td>\n",
       "      <td>12.570</td>\n",
       "    </tr>\n",
       "    <tr>\n",
       "      <th>min</th>\n",
       "      <td>0.000</td>\n",
       "      <td>25.880</td>\n",
       "    </tr>\n",
       "    <tr>\n",
       "      <th>25%</th>\n",
       "      <td>0.071</td>\n",
       "      <td>43.700</td>\n",
       "    </tr>\n",
       "    <tr>\n",
       "      <th>50%</th>\n",
       "      <td>0.137</td>\n",
       "      <td>52.700</td>\n",
       "    </tr>\n",
       "    <tr>\n",
       "      <th>75%</th>\n",
       "      <td>0.248</td>\n",
       "      <td>62.780</td>\n",
       "    </tr>\n",
       "    <tr>\n",
       "      <th>max</th>\n",
       "      <td>5.670</td>\n",
       "      <td>92.660</td>\n",
       "    </tr>\n",
       "  </tbody>\n",
       "</table>\n",
       "</div>"
      ],
      "text/plain": [
       "            KWH/hh  air_temperature\n",
       "count  2420880.000      2420880.000\n",
       "mean         0.207           53.627\n",
       "std          0.237           12.570\n",
       "min          0.000           25.880\n",
       "25%          0.071           43.700\n",
       "50%          0.137           52.700\n",
       "75%          0.248           62.780\n",
       "max          5.670           92.660"
      ]
     },
     "execution_count": 58,
     "metadata": {},
     "output_type": "execute_result"
    }
   ],
   "source": [
    "on_peak_Adversity_Std.describe().round(3)"
   ]
  },
  {
   "cell_type": "code",
   "execution_count": 59,
   "metadata": {},
   "outputs": [
    {
     "data": {
      "text/html": [
       "<div>\n",
       "<style scoped>\n",
       "    .dataframe tbody tr th:only-of-type {\n",
       "        vertical-align: middle;\n",
       "    }\n",
       "\n",
       "    .dataframe tbody tr th {\n",
       "        vertical-align: top;\n",
       "    }\n",
       "\n",
       "    .dataframe thead th {\n",
       "        text-align: right;\n",
       "    }\n",
       "</style>\n",
       "<table border=\"1\" class=\"dataframe\">\n",
       "  <thead>\n",
       "    <tr style=\"text-align: right;\">\n",
       "      <th></th>\n",
       "      <th>KWH/hh</th>\n",
       "      <th>air_temperature</th>\n",
       "    </tr>\n",
       "  </thead>\n",
       "  <tbody>\n",
       "    <tr>\n",
       "      <th>count</th>\n",
       "      <td>605220.000</td>\n",
       "      <td>605220.000</td>\n",
       "    </tr>\n",
       "    <tr>\n",
       "      <th>mean</th>\n",
       "      <td>0.202</td>\n",
       "      <td>53.627</td>\n",
       "    </tr>\n",
       "    <tr>\n",
       "      <th>std</th>\n",
       "      <td>0.250</td>\n",
       "      <td>12.570</td>\n",
       "    </tr>\n",
       "    <tr>\n",
       "      <th>min</th>\n",
       "      <td>0.000</td>\n",
       "      <td>25.880</td>\n",
       "    </tr>\n",
       "    <tr>\n",
       "      <th>25%</th>\n",
       "      <td>0.062</td>\n",
       "      <td>43.700</td>\n",
       "    </tr>\n",
       "    <tr>\n",
       "      <th>50%</th>\n",
       "      <td>0.126</td>\n",
       "      <td>52.700</td>\n",
       "    </tr>\n",
       "    <tr>\n",
       "      <th>75%</th>\n",
       "      <td>0.236</td>\n",
       "      <td>62.780</td>\n",
       "    </tr>\n",
       "    <tr>\n",
       "      <th>max</th>\n",
       "      <td>6.216</td>\n",
       "      <td>92.660</td>\n",
       "    </tr>\n",
       "  </tbody>\n",
       "</table>\n",
       "</div>"
      ],
      "text/plain": [
       "           KWH/hh  air_temperature\n",
       "count  605220.000       605220.000\n",
       "mean        0.202           53.627\n",
       "std         0.250           12.570\n",
       "min         0.000           25.880\n",
       "25%         0.062           43.700\n",
       "50%         0.126           52.700\n",
       "75%         0.236           62.780\n",
       "max         6.216           92.660"
      ]
     },
     "execution_count": 59,
     "metadata": {},
     "output_type": "execute_result"
    }
   ],
   "source": [
    "on_peak_Adversity_ToU.describe().round(3)"
   ]
  },
  {
   "cell_type": "code",
   "execution_count": 60,
   "metadata": {},
   "outputs": [
    {
     "data": {
      "text/html": [
       "<div>\n",
       "<style scoped>\n",
       "    .dataframe tbody tr th:only-of-type {\n",
       "        vertical-align: middle;\n",
       "    }\n",
       "\n",
       "    .dataframe tbody tr th {\n",
       "        vertical-align: top;\n",
       "    }\n",
       "\n",
       "    .dataframe thead th {\n",
       "        text-align: right;\n",
       "    }\n",
       "</style>\n",
       "<table border=\"1\" class=\"dataframe\">\n",
       "  <thead>\n",
       "    <tr style=\"text-align: right;\">\n",
       "      <th></th>\n",
       "      <th>KWH/hh</th>\n",
       "      <th>air_temperature</th>\n",
       "    </tr>\n",
       "  </thead>\n",
       "  <tbody>\n",
       "    <tr>\n",
       "      <th>count</th>\n",
       "      <td>109480.000</td>\n",
       "      <td>109480.000</td>\n",
       "    </tr>\n",
       "    <tr>\n",
       "      <th>mean</th>\n",
       "      <td>0.102</td>\n",
       "      <td>47.395</td>\n",
       "    </tr>\n",
       "    <tr>\n",
       "      <th>std</th>\n",
       "      <td>0.136</td>\n",
       "      <td>9.971</td>\n",
       "    </tr>\n",
       "    <tr>\n",
       "      <th>min</th>\n",
       "      <td>0.000</td>\n",
       "      <td>27.140</td>\n",
       "    </tr>\n",
       "    <tr>\n",
       "      <th>25%</th>\n",
       "      <td>0.039</td>\n",
       "      <td>38.660</td>\n",
       "    </tr>\n",
       "    <tr>\n",
       "      <th>50%</th>\n",
       "      <td>0.066</td>\n",
       "      <td>46.940</td>\n",
       "    </tr>\n",
       "    <tr>\n",
       "      <th>75%</th>\n",
       "      <td>0.115</td>\n",
       "      <td>55.760</td>\n",
       "    </tr>\n",
       "    <tr>\n",
       "      <th>max</th>\n",
       "      <td>4.835</td>\n",
       "      <td>73.850</td>\n",
       "    </tr>\n",
       "  </tbody>\n",
       "</table>\n",
       "</div>"
      ],
      "text/plain": [
       "           KWH/hh  air_temperature\n",
       "count  109480.000       109480.000\n",
       "mean        0.102           47.395\n",
       "std         0.136            9.971\n",
       "min         0.000           27.140\n",
       "25%         0.039           38.660\n",
       "50%         0.066           46.940\n",
       "75%         0.115           55.760\n",
       "max         4.835           73.850"
      ]
     },
     "execution_count": 60,
     "metadata": {},
     "output_type": "execute_result"
    }
   ],
   "source": [
    "off_peak_Adversity_ToU.describe().round(3)"
   ]
  },
  {
   "cell_type": "code",
   "execution_count": 61,
   "metadata": {},
   "outputs": [
    {
     "data": {
      "text/html": [
       "<div>\n",
       "<style scoped>\n",
       "    .dataframe tbody tr th:only-of-type {\n",
       "        vertical-align: middle;\n",
       "    }\n",
       "\n",
       "    .dataframe tbody tr th {\n",
       "        vertical-align: top;\n",
       "    }\n",
       "\n",
       "    .dataframe thead th {\n",
       "        text-align: right;\n",
       "    }\n",
       "</style>\n",
       "<table border=\"1\" class=\"dataframe\">\n",
       "  <thead>\n",
       "    <tr style=\"text-align: right;\">\n",
       "      <th></th>\n",
       "      <th>KWH/hh</th>\n",
       "      <th>air_temperature</th>\n",
       "    </tr>\n",
       "  </thead>\n",
       "  <tbody>\n",
       "    <tr>\n",
       "      <th>count</th>\n",
       "      <td>437920.000</td>\n",
       "      <td>437920.000</td>\n",
       "    </tr>\n",
       "    <tr>\n",
       "      <th>mean</th>\n",
       "      <td>0.132</td>\n",
       "      <td>47.395</td>\n",
       "    </tr>\n",
       "    <tr>\n",
       "      <th>std</th>\n",
       "      <td>0.234</td>\n",
       "      <td>9.971</td>\n",
       "    </tr>\n",
       "    <tr>\n",
       "      <th>min</th>\n",
       "      <td>0.000</td>\n",
       "      <td>27.140</td>\n",
       "    </tr>\n",
       "    <tr>\n",
       "      <th>25%</th>\n",
       "      <td>0.043</td>\n",
       "      <td>38.660</td>\n",
       "    </tr>\n",
       "    <tr>\n",
       "      <th>50%</th>\n",
       "      <td>0.077</td>\n",
       "      <td>46.940</td>\n",
       "    </tr>\n",
       "    <tr>\n",
       "      <th>75%</th>\n",
       "      <td>0.139</td>\n",
       "      <td>55.760</td>\n",
       "    </tr>\n",
       "    <tr>\n",
       "      <th>max</th>\n",
       "      <td>4.887</td>\n",
       "      <td>73.850</td>\n",
       "    </tr>\n",
       "  </tbody>\n",
       "</table>\n",
       "</div>"
      ],
      "text/plain": [
       "           KWH/hh  air_temperature\n",
       "count  437920.000       437920.000\n",
       "mean        0.132           47.395\n",
       "std         0.234            9.971\n",
       "min         0.000           27.140\n",
       "25%         0.043           38.660\n",
       "50%         0.077           46.940\n",
       "75%         0.139           55.760\n",
       "max         4.887           73.850"
      ]
     },
     "execution_count": 61,
     "metadata": {},
     "output_type": "execute_result"
    }
   ],
   "source": [
    "off_peak_Adversity_Std.describe().round(3)"
   ]
  },
  {
   "cell_type": "markdown",
   "metadata": {},
   "source": [
    "### Comfortable"
   ]
  },
  {
   "cell_type": "code",
   "execution_count": 62,
   "metadata": {},
   "outputs": [
    {
     "data": {
      "text/html": [
       "<div>\n",
       "<style scoped>\n",
       "    .dataframe tbody tr th:only-of-type {\n",
       "        vertical-align: middle;\n",
       "    }\n",
       "\n",
       "    .dataframe tbody tr th {\n",
       "        vertical-align: top;\n",
       "    }\n",
       "\n",
       "    .dataframe thead th {\n",
       "        text-align: right;\n",
       "    }\n",
       "</style>\n",
       "<table border=\"1\" class=\"dataframe\">\n",
       "  <thead>\n",
       "    <tr style=\"text-align: right;\">\n",
       "      <th></th>\n",
       "      <th>KWH/hh</th>\n",
       "      <th>air_temperature</th>\n",
       "    </tr>\n",
       "  </thead>\n",
       "  <tbody>\n",
       "    <tr>\n",
       "      <th>count</th>\n",
       "      <td>2083686.000</td>\n",
       "      <td>2083686.000</td>\n",
       "    </tr>\n",
       "    <tr>\n",
       "      <th>mean</th>\n",
       "      <td>0.254</td>\n",
       "      <td>53.627</td>\n",
       "    </tr>\n",
       "    <tr>\n",
       "      <th>std</th>\n",
       "      <td>0.301</td>\n",
       "      <td>12.570</td>\n",
       "    </tr>\n",
       "    <tr>\n",
       "      <th>min</th>\n",
       "      <td>0.000</td>\n",
       "      <td>25.880</td>\n",
       "    </tr>\n",
       "    <tr>\n",
       "      <th>25%</th>\n",
       "      <td>0.079</td>\n",
       "      <td>43.700</td>\n",
       "    </tr>\n",
       "    <tr>\n",
       "      <th>50%</th>\n",
       "      <td>0.159</td>\n",
       "      <td>52.700</td>\n",
       "    </tr>\n",
       "    <tr>\n",
       "      <th>75%</th>\n",
       "      <td>0.308</td>\n",
       "      <td>62.780</td>\n",
       "    </tr>\n",
       "    <tr>\n",
       "      <th>max</th>\n",
       "      <td>5.982</td>\n",
       "      <td>92.660</td>\n",
       "    </tr>\n",
       "  </tbody>\n",
       "</table>\n",
       "</div>"
      ],
      "text/plain": [
       "            KWH/hh  air_temperature\n",
       "count  2083686.000      2083686.000\n",
       "mean         0.254           53.627\n",
       "std          0.301           12.570\n",
       "min          0.000           25.880\n",
       "25%          0.079           43.700\n",
       "50%          0.159           52.700\n",
       "75%          0.308           62.780\n",
       "max          5.982           92.660"
      ]
     },
     "execution_count": 62,
     "metadata": {},
     "output_type": "execute_result"
    }
   ],
   "source": [
    "on_peak_Comfortable_Std.describe().round(3)"
   ]
  },
  {
   "cell_type": "code",
   "execution_count": 63,
   "metadata": {},
   "outputs": [
    {
     "data": {
      "text/html": [
       "<div>\n",
       "<style scoped>\n",
       "    .dataframe tbody tr th:only-of-type {\n",
       "        vertical-align: middle;\n",
       "    }\n",
       "\n",
       "    .dataframe tbody tr th {\n",
       "        vertical-align: top;\n",
       "    }\n",
       "\n",
       "    .dataframe thead th {\n",
       "        text-align: right;\n",
       "    }\n",
       "</style>\n",
       "<table border=\"1\" class=\"dataframe\">\n",
       "  <thead>\n",
       "    <tr style=\"text-align: right;\">\n",
       "      <th></th>\n",
       "      <th>KWH/hh</th>\n",
       "      <th>air_temperature</th>\n",
       "    </tr>\n",
       "  </thead>\n",
       "  <tbody>\n",
       "    <tr>\n",
       "      <th>count</th>\n",
       "      <td>631158.000</td>\n",
       "      <td>631158.000</td>\n",
       "    </tr>\n",
       "    <tr>\n",
       "      <th>mean</th>\n",
       "      <td>0.213</td>\n",
       "      <td>53.627</td>\n",
       "    </tr>\n",
       "    <tr>\n",
       "      <th>std</th>\n",
       "      <td>0.275</td>\n",
       "      <td>12.570</td>\n",
       "    </tr>\n",
       "    <tr>\n",
       "      <th>min</th>\n",
       "      <td>0.000</td>\n",
       "      <td>25.880</td>\n",
       "    </tr>\n",
       "    <tr>\n",
       "      <th>25%</th>\n",
       "      <td>0.069</td>\n",
       "      <td>43.700</td>\n",
       "    </tr>\n",
       "    <tr>\n",
       "      <th>50%</th>\n",
       "      <td>0.136</td>\n",
       "      <td>52.700</td>\n",
       "    </tr>\n",
       "    <tr>\n",
       "      <th>75%</th>\n",
       "      <td>0.251</td>\n",
       "      <td>62.780</td>\n",
       "    </tr>\n",
       "    <tr>\n",
       "      <th>max</th>\n",
       "      <td>5.918</td>\n",
       "      <td>92.660</td>\n",
       "    </tr>\n",
       "  </tbody>\n",
       "</table>\n",
       "</div>"
      ],
      "text/plain": [
       "           KWH/hh  air_temperature\n",
       "count  631158.000       631158.000\n",
       "mean        0.213           53.627\n",
       "std         0.275           12.570\n",
       "min         0.000           25.880\n",
       "25%         0.069           43.700\n",
       "50%         0.136           52.700\n",
       "75%         0.251           62.780\n",
       "max         5.918           92.660"
      ]
     },
     "execution_count": 63,
     "metadata": {},
     "output_type": "execute_result"
    }
   ],
   "source": [
    "on_peak_Comfortable_ToU.describe().round(3)"
   ]
  },
  {
   "cell_type": "code",
   "execution_count": 64,
   "metadata": {},
   "outputs": [
    {
     "data": {
      "text/html": [
       "<div>\n",
       "<style scoped>\n",
       "    .dataframe tbody tr th:only-of-type {\n",
       "        vertical-align: middle;\n",
       "    }\n",
       "\n",
       "    .dataframe tbody tr th {\n",
       "        vertical-align: top;\n",
       "    }\n",
       "\n",
       "    .dataframe thead th {\n",
       "        text-align: right;\n",
       "    }\n",
       "</style>\n",
       "<table border=\"1\" class=\"dataframe\">\n",
       "  <thead>\n",
       "    <tr style=\"text-align: right;\">\n",
       "      <th></th>\n",
       "      <th>KWH/hh</th>\n",
       "      <th>air_temperature</th>\n",
       "    </tr>\n",
       "  </thead>\n",
       "  <tbody>\n",
       "    <tr>\n",
       "      <th>count</th>\n",
       "      <td>376924.000</td>\n",
       "      <td>376924.000</td>\n",
       "    </tr>\n",
       "    <tr>\n",
       "      <th>mean</th>\n",
       "      <td>0.159</td>\n",
       "      <td>47.395</td>\n",
       "    </tr>\n",
       "    <tr>\n",
       "      <th>std</th>\n",
       "      <td>0.295</td>\n",
       "      <td>9.971</td>\n",
       "    </tr>\n",
       "    <tr>\n",
       "      <th>min</th>\n",
       "      <td>0.000</td>\n",
       "      <td>27.140</td>\n",
       "    </tr>\n",
       "    <tr>\n",
       "      <th>25%</th>\n",
       "      <td>0.048</td>\n",
       "      <td>38.660</td>\n",
       "    </tr>\n",
       "    <tr>\n",
       "      <th>50%</th>\n",
       "      <td>0.088</td>\n",
       "      <td>46.940</td>\n",
       "    </tr>\n",
       "    <tr>\n",
       "      <th>75%</th>\n",
       "      <td>0.161</td>\n",
       "      <td>55.760</td>\n",
       "    </tr>\n",
       "    <tr>\n",
       "      <th>max</th>\n",
       "      <td>6.363</td>\n",
       "      <td>73.850</td>\n",
       "    </tr>\n",
       "  </tbody>\n",
       "</table>\n",
       "</div>"
      ],
      "text/plain": [
       "           KWH/hh  air_temperature\n",
       "count  376924.000       376924.000\n",
       "mean        0.159           47.395\n",
       "std         0.295            9.971\n",
       "min         0.000           27.140\n",
       "25%         0.048           38.660\n",
       "50%         0.088           46.940\n",
       "75%         0.161           55.760\n",
       "max         6.363           73.850"
      ]
     },
     "execution_count": 64,
     "metadata": {},
     "output_type": "execute_result"
    }
   ],
   "source": [
    "off_peak_Comfortable_Std.describe().round(3)"
   ]
  },
  {
   "cell_type": "code",
   "execution_count": 65,
   "metadata": {},
   "outputs": [
    {
     "data": {
      "text/html": [
       "<div>\n",
       "<style scoped>\n",
       "    .dataframe tbody tr th:only-of-type {\n",
       "        vertical-align: middle;\n",
       "    }\n",
       "\n",
       "    .dataframe tbody tr th {\n",
       "        vertical-align: top;\n",
       "    }\n",
       "\n",
       "    .dataframe thead th {\n",
       "        text-align: right;\n",
       "    }\n",
       "</style>\n",
       "<table border=\"1\" class=\"dataframe\">\n",
       "  <thead>\n",
       "    <tr style=\"text-align: right;\">\n",
       "      <th></th>\n",
       "      <th>KWH/hh</th>\n",
       "      <th>air_temperature</th>\n",
       "    </tr>\n",
       "  </thead>\n",
       "  <tbody>\n",
       "    <tr>\n",
       "      <th>count</th>\n",
       "      <td>114172.000</td>\n",
       "      <td>114172.000</td>\n",
       "    </tr>\n",
       "    <tr>\n",
       "      <th>mean</th>\n",
       "      <td>0.114</td>\n",
       "      <td>47.395</td>\n",
       "    </tr>\n",
       "    <tr>\n",
       "      <th>std</th>\n",
       "      <td>0.150</td>\n",
       "      <td>9.971</td>\n",
       "    </tr>\n",
       "    <tr>\n",
       "      <th>min</th>\n",
       "      <td>0.000</td>\n",
       "      <td>27.140</td>\n",
       "    </tr>\n",
       "    <tr>\n",
       "      <th>25%</th>\n",
       "      <td>0.047</td>\n",
       "      <td>38.660</td>\n",
       "    </tr>\n",
       "    <tr>\n",
       "      <th>50%</th>\n",
       "      <td>0.077</td>\n",
       "      <td>46.940</td>\n",
       "    </tr>\n",
       "    <tr>\n",
       "      <th>75%</th>\n",
       "      <td>0.133</td>\n",
       "      <td>55.760</td>\n",
       "    </tr>\n",
       "    <tr>\n",
       "      <th>max</th>\n",
       "      <td>3.426</td>\n",
       "      <td>73.850</td>\n",
       "    </tr>\n",
       "  </tbody>\n",
       "</table>\n",
       "</div>"
      ],
      "text/plain": [
       "           KWH/hh  air_temperature\n",
       "count  114172.000       114172.000\n",
       "mean        0.114           47.395\n",
       "std         0.150            9.971\n",
       "min         0.000           27.140\n",
       "25%         0.047           38.660\n",
       "50%         0.077           46.940\n",
       "75%         0.133           55.760\n",
       "max         3.426           73.850"
      ]
     },
     "execution_count": 65,
     "metadata": {},
     "output_type": "execute_result"
    }
   ],
   "source": [
    "off_peak_Comfortable_ToU.describe().round(3)"
   ]
  },
  {
   "cell_type": "markdown",
   "metadata": {},
   "source": [
    "As you can see from the above out put the on-peak vs off-peak by itself isn’t the reason that the power consumption is 50 times mean sometimes."
   ]
  },
  {
   "cell_type": "code",
   "execution_count": 66,
   "metadata": {},
   "outputs": [],
   "source": [
    "# output all 12 dfs to:\n",
    "on_peak_Adversity_Std_avg = pd.DataFrame(on_peak_Adversity_Std.groupby('LCLid')['KWH/hh'].apply(list).to_dict()).mean(axis=1)\n",
    "on_peak_Adversity_ToU_avg = pd.DataFrame(on_peak_Adversity_ToU.groupby('LCLid')['KWH/hh'].apply(list).to_dict()).mean(axis=1)\n",
    "on_peak_Affluent_Std_avg = pd.DataFrame(on_peak_Affluent_Std.groupby('LCLid')['KWH/hh'].apply(list).to_dict()).mean(axis=1)\n",
    "on_peak_Affluent_ToU_avg = pd.DataFrame(on_peak_Affluent_ToU.groupby('LCLid')['KWH/hh'].apply(list).to_dict()).mean(axis=1)\n",
    "on_peak_Comfortable_Std_avg = pd.DataFrame(on_peak_Comfortable_Std.groupby('LCLid')['KWH/hh'].apply(list).to_dict()).mean(axis=1)\n",
    "on_peak_Comfortable_ToU_avg = pd.DataFrame(on_peak_Comfortable_ToU.groupby('LCLid')['KWH/hh'].apply(list).to_dict()).mean(axis=1)\n",
    "\n",
    "###\n",
    "off_peak_Adversity_Std_avg = pd.DataFrame(off_peak_Adversity_Std.groupby('LCLid')['KWH/hh'].apply(list).to_dict()).mean(axis=1)\n",
    "off_peak_Adversity_ToU_avg = pd.DataFrame(off_peak_Adversity_ToU.groupby('LCLid')['KWH/hh'].apply(list).to_dict()).mean(axis=1)\n",
    "off_peak_Affluent_Std_avg = pd.DataFrame(off_peak_Affluent_Std.groupby('LCLid')['KWH/hh'].apply(list).to_dict()).mean(axis=1)\n",
    "off_peak_Affluent_ToU_avg = pd.DataFrame(off_peak_Affluent_ToU.groupby('LCLid')['KWH/hh'].apply(list).to_dict()).mean(axis=1)\n",
    "off_peak_Comfortable_Std_avg = pd.DataFrame(off_peak_Comfortable_Std.groupby('LCLid')['KWH/hh'].apply(list).to_dict()).mean(axis=1)\n",
    "off_peak_Comfortable_ToU_avg = pd.DataFrame(off_peak_Comfortable_ToU.groupby('LCLid')['KWH/hh'].apply(list).to_dict()).mean(axis=1)"
   ]
  },
  {
   "cell_type": "markdown",
   "metadata": {},
   "source": [
    "## Discretizing\n",
    "\n",
    "Here I decide to separate the data that has values that are more than 10 times the standard deviation above the mean out of the data frame because these values will effect my ability to detect anomalies because the std are so high.\n",
    "\n",
    "So, what I do here is find out what the 99th percentile is and exclude any series that has rows that have values in the 99th percentile."
   ]
  },
  {
   "cell_type": "code",
   "execution_count": 67,
   "metadata": {},
   "outputs": [
    {
     "data": {
      "text/html": [
       "<div>\n",
       "<style scoped>\n",
       "    .dataframe tbody tr th:only-of-type {\n",
       "        vertical-align: middle;\n",
       "    }\n",
       "\n",
       "    .dataframe tbody tr th {\n",
       "        vertical-align: top;\n",
       "    }\n",
       "\n",
       "    .dataframe thead th {\n",
       "        text-align: right;\n",
       "    }\n",
       "</style>\n",
       "<table border=\"1\" class=\"dataframe\">\n",
       "  <thead>\n",
       "    <tr style=\"text-align: right;\">\n",
       "      <th></th>\n",
       "      <th>DateTime</th>\n",
       "      <th>LCLid</th>\n",
       "      <th>stdorToU</th>\n",
       "      <th>KWH/hh</th>\n",
       "      <th>Acorn</th>\n",
       "      <th>Acorn_grouped</th>\n",
       "      <th>Day</th>\n",
       "      <th>air_temperature</th>\n",
       "      <th>Month</th>\n",
       "    </tr>\n",
       "  </thead>\n",
       "  <tbody>\n",
       "    <tr>\n",
       "      <th>0</th>\n",
       "      <td>2013-01-01 00:00:00</td>\n",
       "      <td>MAC000002</td>\n",
       "      <td>Std</td>\n",
       "      <td>0.219</td>\n",
       "      <td>ACORN-A</td>\n",
       "      <td>Affluent</td>\n",
       "      <td>Tuesday</td>\n",
       "      <td>48.02</td>\n",
       "      <td>January</td>\n",
       "    </tr>\n",
       "    <tr>\n",
       "      <th>1</th>\n",
       "      <td>2013-01-01 00:30:00</td>\n",
       "      <td>MAC000002</td>\n",
       "      <td>Std</td>\n",
       "      <td>0.241</td>\n",
       "      <td>ACORN-A</td>\n",
       "      <td>Affluent</td>\n",
       "      <td>Tuesday</td>\n",
       "      <td>47.84</td>\n",
       "      <td>January</td>\n",
       "    </tr>\n",
       "    <tr>\n",
       "      <th>2</th>\n",
       "      <td>2013-01-01 01:00:00</td>\n",
       "      <td>MAC000002</td>\n",
       "      <td>Std</td>\n",
       "      <td>0.191</td>\n",
       "      <td>ACORN-A</td>\n",
       "      <td>Affluent</td>\n",
       "      <td>Tuesday</td>\n",
       "      <td>47.66</td>\n",
       "      <td>January</td>\n",
       "    </tr>\n",
       "    <tr>\n",
       "      <th>3</th>\n",
       "      <td>2013-01-01 01:30:00</td>\n",
       "      <td>MAC000002</td>\n",
       "      <td>Std</td>\n",
       "      <td>0.235</td>\n",
       "      <td>ACORN-A</td>\n",
       "      <td>Affluent</td>\n",
       "      <td>Tuesday</td>\n",
       "      <td>47.39</td>\n",
       "      <td>January</td>\n",
       "    </tr>\n",
       "    <tr>\n",
       "      <th>4</th>\n",
       "      <td>2013-01-01 02:00:00</td>\n",
       "      <td>MAC000002</td>\n",
       "      <td>Std</td>\n",
       "      <td>0.182</td>\n",
       "      <td>ACORN-A</td>\n",
       "      <td>Affluent</td>\n",
       "      <td>Tuesday</td>\n",
       "      <td>47.12</td>\n",
       "      <td>January</td>\n",
       "    </tr>\n",
       "    <tr>\n",
       "      <th>...</th>\n",
       "      <td>...</td>\n",
       "      <td>...</td>\n",
       "      <td>...</td>\n",
       "      <td>...</td>\n",
       "      <td>...</td>\n",
       "      <td>...</td>\n",
       "      <td>...</td>\n",
       "      <td>...</td>\n",
       "      <td>...</td>\n",
       "    </tr>\n",
       "    <tr>\n",
       "      <th>19654435</th>\n",
       "      <td>2014-01-01 21:30:00</td>\n",
       "      <td>MAC004219</td>\n",
       "      <td>Std</td>\n",
       "      <td>0.266</td>\n",
       "      <td>ACORN-E</td>\n",
       "      <td>Affluent</td>\n",
       "      <td>Wednesday</td>\n",
       "      <td>42.80</td>\n",
       "      <td>January</td>\n",
       "    </tr>\n",
       "    <tr>\n",
       "      <th>19654436</th>\n",
       "      <td>2014-01-01 22:00:00</td>\n",
       "      <td>MAC004219</td>\n",
       "      <td>Std</td>\n",
       "      <td>0.260</td>\n",
       "      <td>ACORN-E</td>\n",
       "      <td>Affluent</td>\n",
       "      <td>Wednesday</td>\n",
       "      <td>42.80</td>\n",
       "      <td>January</td>\n",
       "    </tr>\n",
       "    <tr>\n",
       "      <th>19654437</th>\n",
       "      <td>2014-01-01 22:30:00</td>\n",
       "      <td>MAC004219</td>\n",
       "      <td>Std</td>\n",
       "      <td>0.301</td>\n",
       "      <td>ACORN-E</td>\n",
       "      <td>Affluent</td>\n",
       "      <td>Wednesday</td>\n",
       "      <td>42.80</td>\n",
       "      <td>January</td>\n",
       "    </tr>\n",
       "    <tr>\n",
       "      <th>19654438</th>\n",
       "      <td>2014-01-01 23:00:00</td>\n",
       "      <td>MAC004219</td>\n",
       "      <td>Std</td>\n",
       "      <td>0.223</td>\n",
       "      <td>ACORN-E</td>\n",
       "      <td>Affluent</td>\n",
       "      <td>Wednesday</td>\n",
       "      <td>42.80</td>\n",
       "      <td>January</td>\n",
       "    </tr>\n",
       "    <tr>\n",
       "      <th>19654439</th>\n",
       "      <td>2014-01-01 23:30:00</td>\n",
       "      <td>MAC004219</td>\n",
       "      <td>Std</td>\n",
       "      <td>0.218</td>\n",
       "      <td>ACORN-E</td>\n",
       "      <td>Affluent</td>\n",
       "      <td>Wednesday</td>\n",
       "      <td>42.80</td>\n",
       "      <td>January</td>\n",
       "    </tr>\n",
       "  </tbody>\n",
       "</table>\n",
       "<p>19654440 rows × 9 columns</p>\n",
       "</div>"
      ],
      "text/plain": [
       "                    DateTime      LCLid stdorToU  KWH/hh    Acorn  \\\n",
       "0        2013-01-01 00:00:00  MAC000002      Std   0.219  ACORN-A   \n",
       "1        2013-01-01 00:30:00  MAC000002      Std   0.241  ACORN-A   \n",
       "2        2013-01-01 01:00:00  MAC000002      Std   0.191  ACORN-A   \n",
       "3        2013-01-01 01:30:00  MAC000002      Std   0.235  ACORN-A   \n",
       "4        2013-01-01 02:00:00  MAC000002      Std   0.182  ACORN-A   \n",
       "...                      ...        ...      ...     ...      ...   \n",
       "19654435 2014-01-01 21:30:00  MAC004219      Std   0.266  ACORN-E   \n",
       "19654436 2014-01-01 22:00:00  MAC004219      Std   0.260  ACORN-E   \n",
       "19654437 2014-01-01 22:30:00  MAC004219      Std   0.301  ACORN-E   \n",
       "19654438 2014-01-01 23:00:00  MAC004219      Std   0.223  ACORN-E   \n",
       "19654439 2014-01-01 23:30:00  MAC004219      Std   0.218  ACORN-E   \n",
       "\n",
       "         Acorn_grouped        Day  air_temperature    Month  \n",
       "0             Affluent    Tuesday            48.02  January  \n",
       "1             Affluent    Tuesday            47.84  January  \n",
       "2             Affluent    Tuesday            47.66  January  \n",
       "3             Affluent    Tuesday            47.39  January  \n",
       "4             Affluent    Tuesday            47.12  January  \n",
       "...                ...        ...              ...      ...  \n",
       "19654435      Affluent  Wednesday            42.80  January  \n",
       "19654436      Affluent  Wednesday            42.80  January  \n",
       "19654437      Affluent  Wednesday            42.80  January  \n",
       "19654438      Affluent  Wednesday            42.80  January  \n",
       "19654439      Affluent  Wednesday            42.80  January  \n",
       "\n",
       "[19654440 rows x 9 columns]"
      ]
     },
     "execution_count": 67,
     "metadata": {},
     "output_type": "execute_result"
    }
   ],
   "source": [
    "df7"
   ]
  },
  {
   "cell_type": "markdown",
   "metadata": {},
   "source": [
    "Here I find that the 99th quantile is at 1.562 KWH/hh."
   ]
  },
  {
   "cell_type": "code",
   "execution_count": 68,
   "metadata": {},
   "outputs": [
    {
     "data": {
      "text/plain": [
       "1.562"
      ]
     },
     "execution_count": 68,
     "metadata": {},
     "output_type": "execute_result"
    }
   ],
   "source": [
    "df7['KWH/hh'].quantile(0.99)"
   ]
  },
  {
   "cell_type": "markdown",
   "metadata": {},
   "source": [
    "Label the rows by whether the rows values is above or below the 99th quantile."
   ]
  },
  {
   "cell_type": "code",
   "execution_count": 69,
   "metadata": {},
   "outputs": [
    {
     "data": {
      "text/html": [
       "<div>\n",
       "<style scoped>\n",
       "    .dataframe tbody tr th:only-of-type {\n",
       "        vertical-align: middle;\n",
       "    }\n",
       "\n",
       "    .dataframe tbody tr th {\n",
       "        vertical-align: top;\n",
       "    }\n",
       "\n",
       "    .dataframe thead th {\n",
       "        text-align: right;\n",
       "    }\n",
       "</style>\n",
       "<table border=\"1\" class=\"dataframe\">\n",
       "  <thead>\n",
       "    <tr style=\"text-align: right;\">\n",
       "      <th></th>\n",
       "      <th>DateTime</th>\n",
       "      <th>LCLid</th>\n",
       "      <th>stdorToU</th>\n",
       "      <th>KWH/hh</th>\n",
       "      <th>Acorn</th>\n",
       "      <th>Acorn_grouped</th>\n",
       "      <th>Day</th>\n",
       "      <th>air_temperature</th>\n",
       "      <th>Month</th>\n",
       "      <th>KWH/hh_group</th>\n",
       "    </tr>\n",
       "  </thead>\n",
       "  <tbody>\n",
       "    <tr>\n",
       "      <th>0</th>\n",
       "      <td>2013-01-01 00:00:00</td>\n",
       "      <td>MAC000002</td>\n",
       "      <td>Std</td>\n",
       "      <td>0.219</td>\n",
       "      <td>ACORN-A</td>\n",
       "      <td>Affluent</td>\n",
       "      <td>Tuesday</td>\n",
       "      <td>48.02</td>\n",
       "      <td>January</td>\n",
       "      <td>&lt; 99th per</td>\n",
       "    </tr>\n",
       "    <tr>\n",
       "      <th>13071176</th>\n",
       "      <td>2013-08-07 17:00:00</td>\n",
       "      <td>MAC000162</td>\n",
       "      <td>Std</td>\n",
       "      <td>0.129</td>\n",
       "      <td>ACORN-Q</td>\n",
       "      <td>Adversity</td>\n",
       "      <td>Wednesday</td>\n",
       "      <td>71.60</td>\n",
       "      <td>August</td>\n",
       "      <td>&lt; 99th per</td>\n",
       "    </tr>\n",
       "    <tr>\n",
       "      <th>13071175</th>\n",
       "      <td>2013-08-07 16:30:00</td>\n",
       "      <td>MAC000162</td>\n",
       "      <td>Std</td>\n",
       "      <td>0.257</td>\n",
       "      <td>ACORN-Q</td>\n",
       "      <td>Adversity</td>\n",
       "      <td>Wednesday</td>\n",
       "      <td>71.15</td>\n",
       "      <td>August</td>\n",
       "      <td>&lt; 99th per</td>\n",
       "    </tr>\n",
       "    <tr>\n",
       "      <th>13071174</th>\n",
       "      <td>2013-08-07 16:00:00</td>\n",
       "      <td>MAC000162</td>\n",
       "      <td>Std</td>\n",
       "      <td>0.184</td>\n",
       "      <td>ACORN-Q</td>\n",
       "      <td>Adversity</td>\n",
       "      <td>Wednesday</td>\n",
       "      <td>70.70</td>\n",
       "      <td>August</td>\n",
       "      <td>&lt; 99th per</td>\n",
       "    </tr>\n",
       "    <tr>\n",
       "      <th>13071173</th>\n",
       "      <td>2013-08-07 15:30:00</td>\n",
       "      <td>MAC000162</td>\n",
       "      <td>Std</td>\n",
       "      <td>0.334</td>\n",
       "      <td>ACORN-Q</td>\n",
       "      <td>Adversity</td>\n",
       "      <td>Wednesday</td>\n",
       "      <td>70.97</td>\n",
       "      <td>August</td>\n",
       "      <td>&lt; 99th per</td>\n",
       "    </tr>\n",
       "    <tr>\n",
       "      <th>...</th>\n",
       "      <td>...</td>\n",
       "      <td>...</td>\n",
       "      <td>...</td>\n",
       "      <td>...</td>\n",
       "      <td>...</td>\n",
       "      <td>...</td>\n",
       "      <td>...</td>\n",
       "      <td>...</td>\n",
       "      <td>...</td>\n",
       "      <td>...</td>\n",
       "    </tr>\n",
       "    <tr>\n",
       "      <th>9566656</th>\n",
       "      <td>2013-03-07 07:00:00</td>\n",
       "      <td>MAC000049</td>\n",
       "      <td>Std</td>\n",
       "      <td>2.383</td>\n",
       "      <td>ACORN-E</td>\n",
       "      <td>Affluent</td>\n",
       "      <td>Thursday</td>\n",
       "      <td>46.22</td>\n",
       "      <td>March</td>\n",
       "      <td>99th per</td>\n",
       "    </tr>\n",
       "    <tr>\n",
       "      <th>5155055</th>\n",
       "      <td>2013-03-27 16:00:00</td>\n",
       "      <td>MAC000834</td>\n",
       "      <td>ToU</td>\n",
       "      <td>1.572</td>\n",
       "      <td>ACORN-F</td>\n",
       "      <td>Comfortable</td>\n",
       "      <td>Wednesday</td>\n",
       "      <td>37.76</td>\n",
       "      <td>March</td>\n",
       "      <td>99th per</td>\n",
       "    </tr>\n",
       "    <tr>\n",
       "      <th>5155056</th>\n",
       "      <td>2013-03-27 16:30:00</td>\n",
       "      <td>MAC000834</td>\n",
       "      <td>ToU</td>\n",
       "      <td>1.581</td>\n",
       "      <td>ACORN-F</td>\n",
       "      <td>Comfortable</td>\n",
       "      <td>Wednesday</td>\n",
       "      <td>37.49</td>\n",
       "      <td>March</td>\n",
       "      <td>99th per</td>\n",
       "    </tr>\n",
       "    <tr>\n",
       "      <th>5155044</th>\n",
       "      <td>2013-03-27 10:30:00</td>\n",
       "      <td>MAC000834</td>\n",
       "      <td>ToU</td>\n",
       "      <td>1.575</td>\n",
       "      <td>ACORN-F</td>\n",
       "      <td>Comfortable</td>\n",
       "      <td>Wednesday</td>\n",
       "      <td>37.31</td>\n",
       "      <td>March</td>\n",
       "      <td>99th per</td>\n",
       "    </tr>\n",
       "    <tr>\n",
       "      <th>11947376</th>\n",
       "      <td>2013-01-17 00:00:00</td>\n",
       "      <td>MAC001571</td>\n",
       "      <td>Std</td>\n",
       "      <td>3.156</td>\n",
       "      <td>ACORN-E</td>\n",
       "      <td>Affluent</td>\n",
       "      <td>Thursday</td>\n",
       "      <td>26.96</td>\n",
       "      <td>January</td>\n",
       "      <td>99th per</td>\n",
       "    </tr>\n",
       "  </tbody>\n",
       "</table>\n",
       "<p>19654440 rows × 10 columns</p>\n",
       "</div>"
      ],
      "text/plain": [
       "                    DateTime      LCLid stdorToU  KWH/hh    Acorn  \\\n",
       "0        2013-01-01 00:00:00  MAC000002      Std   0.219  ACORN-A   \n",
       "13071176 2013-08-07 17:00:00  MAC000162      Std   0.129  ACORN-Q   \n",
       "13071175 2013-08-07 16:30:00  MAC000162      Std   0.257  ACORN-Q   \n",
       "13071174 2013-08-07 16:00:00  MAC000162      Std   0.184  ACORN-Q   \n",
       "13071173 2013-08-07 15:30:00  MAC000162      Std   0.334  ACORN-Q   \n",
       "...                      ...        ...      ...     ...      ...   \n",
       "9566656  2013-03-07 07:00:00  MAC000049      Std   2.383  ACORN-E   \n",
       "5155055  2013-03-27 16:00:00  MAC000834      ToU   1.572  ACORN-F   \n",
       "5155056  2013-03-27 16:30:00  MAC000834      ToU   1.581  ACORN-F   \n",
       "5155044  2013-03-27 10:30:00  MAC000834      ToU   1.575  ACORN-F   \n",
       "11947376 2013-01-17 00:00:00  MAC001571      Std   3.156  ACORN-E   \n",
       "\n",
       "         Acorn_grouped        Day  air_temperature    Month KWH/hh_group  \n",
       "0             Affluent    Tuesday            48.02  January   < 99th per  \n",
       "13071176     Adversity  Wednesday            71.60   August   < 99th per  \n",
       "13071175     Adversity  Wednesday            71.15   August   < 99th per  \n",
       "13071174     Adversity  Wednesday            70.70   August   < 99th per  \n",
       "13071173     Adversity  Wednesday            70.97   August   < 99th per  \n",
       "...                ...        ...              ...      ...          ...  \n",
       "9566656       Affluent   Thursday            46.22    March     99th per  \n",
       "5155055    Comfortable  Wednesday            37.76    March     99th per  \n",
       "5155056    Comfortable  Wednesday            37.49    March     99th per  \n",
       "5155044    Comfortable  Wednesday            37.31    March     99th per  \n",
       "11947376      Affluent   Thursday            26.96  January     99th per  \n",
       "\n",
       "[19654440 rows x 10 columns]"
      ]
     },
     "execution_count": 69,
     "metadata": {},
     "output_type": "execute_result"
    }
   ],
   "source": [
    "df7['KWH/hh_group'] = pd.cut(df7['KWH/hh'], [0,1.561,10], include_lowest=True, labels=['< 99th per', '99th per'])\n",
    "df7.sort_values('KWH/hh_group')"
   ]
  },
  {
   "cell_type": "code",
   "execution_count": 70,
   "metadata": {},
   "outputs": [],
   "source": [
    "gb9 = df7.groupby(['KWH/hh_group']) # group by to do more EDA."
   ]
  },
  {
   "cell_type": "code",
   "execution_count": 71,
   "metadata": {},
   "outputs": [
    {
     "data": {
      "text/plain": [
       "KWH/hh_group\n",
       "< 99th per    19457722\n",
       "99th per        196718\n",
       "dtype: int64"
      ]
     },
     "execution_count": 71,
     "metadata": {},
     "output_type": "execute_result"
    }
   ],
   "source": [
    "gb9.size()"
   ]
  },
  {
   "cell_type": "code",
   "execution_count": 72,
   "metadata": {},
   "outputs": [],
   "source": [
    "df_99th = gb9.get_group('99th per')\n",
    "#df_less_99th = gb9.get_group('< 99th per')"
   ]
  },
  {
   "cell_type": "markdown",
   "metadata": {},
   "source": [
    "Here I try to find a pattern in the top 1% by day or by month. The count of top 1% values look evenly distributed."
   ]
  },
  {
   "cell_type": "code",
   "execution_count": 73,
   "metadata": {},
   "outputs": [
    {
     "data": {
      "text/plain": [
       "Sunday       30985\n",
       "Saturday     28444\n",
       "Friday       27916\n",
       "Monday       27790\n",
       "Wednesday    27651\n",
       "Tuesday      27363\n",
       "Thursday     26569\n",
       "Name: Day, dtype: int64"
      ]
     },
     "execution_count": 73,
     "metadata": {},
     "output_type": "execute_result"
    }
   ],
   "source": [
    "df_99th['Day'].value_counts()"
   ]
  },
  {
   "cell_type": "code",
   "execution_count": 74,
   "metadata": {},
   "outputs": [
    {
     "data": {
      "text/plain": [
       "January      31012\n",
       "March        27060\n",
       "February     25898\n",
       "December     24155\n",
       "November     18816\n",
       "April        16795\n",
       "October      11884\n",
       "May          11065\n",
       "September     9477\n",
       "June          8196\n",
       "August        6236\n",
       "July          6124\n",
       "Name: Month, dtype: int64"
      ]
     },
     "execution_count": 74,
     "metadata": {},
     "output_type": "execute_result"
    }
   ],
   "source": [
    "df_99th['Month'].value_counts()"
   ]
  },
  {
   "cell_type": "code",
   "execution_count": 75,
   "metadata": {},
   "outputs": [],
   "source": [
    "arr1 = df_99th['LCLid'].unique()\n",
    "arr2 = df7['LCLid'].unique()"
   ]
  },
  {
   "cell_type": "code",
   "execution_count": 76,
   "metadata": {},
   "outputs": [],
   "source": [
    "diff = np.setdiff1d(arr2, arr1, assume_unique=False)"
   ]
  },
  {
   "cell_type": "markdown",
   "metadata": {},
   "source": [
    "Here we see how many series have values in the top 1% or not."
   ]
  },
  {
   "cell_type": "code",
   "execution_count": 77,
   "metadata": {},
   "outputs": [
    {
     "data": {
      "text/plain": [
       "(1118,)"
      ]
     },
     "execution_count": 77,
     "metadata": {},
     "output_type": "execute_result"
    }
   ],
   "source": [
    "arr2.shape # all metrers ids"
   ]
  },
  {
   "cell_type": "code",
   "execution_count": 78,
   "metadata": {},
   "outputs": [
    {
     "data": {
      "text/plain": [
       "(341,)"
      ]
     },
     "execution_count": 78,
     "metadata": {},
     "output_type": "execute_result"
    }
   ],
   "source": [
    "diff.shape # number of meters that dont have values in the top 1% over 1.5"
   ]
  },
  {
   "cell_type": "code",
   "execution_count": 79,
   "metadata": {},
   "outputs": [
    {
     "data": {
      "text/plain": [
       "(777,)"
      ]
     },
     "execution_count": 79,
     "metadata": {},
     "output_type": "execute_result"
    }
   ],
   "source": [
    "arr1.shape # # number of meters that do have values in the top 1% over 1.5"
   ]
  },
  {
   "cell_type": "code",
   "execution_count": 80,
   "metadata": {},
   "outputs": [
    {
     "data": {
      "text/html": [
       "<div>\n",
       "<style scoped>\n",
       "    .dataframe tbody tr th:only-of-type {\n",
       "        vertical-align: middle;\n",
       "    }\n",
       "\n",
       "    .dataframe tbody tr th {\n",
       "        vertical-align: top;\n",
       "    }\n",
       "\n",
       "    .dataframe thead th {\n",
       "        text-align: right;\n",
       "    }\n",
       "</style>\n",
       "<table border=\"1\" class=\"dataframe\">\n",
       "  <thead>\n",
       "    <tr style=\"text-align: right;\">\n",
       "      <th></th>\n",
       "      <th>DateTime</th>\n",
       "      <th>LCLid</th>\n",
       "      <th>stdorToU</th>\n",
       "      <th>KWH/hh</th>\n",
       "      <th>Acorn</th>\n",
       "      <th>Acorn_grouped</th>\n",
       "      <th>Day</th>\n",
       "      <th>air_temperature</th>\n",
       "      <th>Month</th>\n",
       "      <th>KWH/hh_group</th>\n",
       "    </tr>\n",
       "  </thead>\n",
       "  <tbody>\n",
       "    <tr>\n",
       "      <th>1241</th>\n",
       "      <td>2013-01-26 20:00:00</td>\n",
       "      <td>MAC000002</td>\n",
       "      <td>Std</td>\n",
       "      <td>1.603</td>\n",
       "      <td>ACORN-A</td>\n",
       "      <td>Affluent</td>\n",
       "      <td>Saturday</td>\n",
       "      <td>45.32</td>\n",
       "      <td>January</td>\n",
       "      <td>99th per</td>\n",
       "    </tr>\n",
       "    <tr>\n",
       "      <th>2488</th>\n",
       "      <td>2013-02-21 19:00:00</td>\n",
       "      <td>MAC000002</td>\n",
       "      <td>Std</td>\n",
       "      <td>2.887</td>\n",
       "      <td>ACORN-A</td>\n",
       "      <td>Affluent</td>\n",
       "      <td>Thursday</td>\n",
       "      <td>34.34</td>\n",
       "      <td>February</td>\n",
       "      <td>99th per</td>\n",
       "    </tr>\n",
       "    <tr>\n",
       "      <th>2489</th>\n",
       "      <td>2013-02-21 19:30:00</td>\n",
       "      <td>MAC000002</td>\n",
       "      <td>Std</td>\n",
       "      <td>1.699</td>\n",
       "      <td>ACORN-A</td>\n",
       "      <td>Affluent</td>\n",
       "      <td>Thursday</td>\n",
       "      <td>34.07</td>\n",
       "      <td>February</td>\n",
       "      <td>99th per</td>\n",
       "    </tr>\n",
       "    <tr>\n",
       "      <th>2490</th>\n",
       "      <td>2013-02-21 20:00:00</td>\n",
       "      <td>MAC000002</td>\n",
       "      <td>Std</td>\n",
       "      <td>1.665</td>\n",
       "      <td>ACORN-A</td>\n",
       "      <td>Affluent</td>\n",
       "      <td>Thursday</td>\n",
       "      <td>33.80</td>\n",
       "      <td>February</td>\n",
       "      <td>99th per</td>\n",
       "    </tr>\n",
       "    <tr>\n",
       "      <th>2491</th>\n",
       "      <td>2013-02-21 20:30:00</td>\n",
       "      <td>MAC000002</td>\n",
       "      <td>Std</td>\n",
       "      <td>1.730</td>\n",
       "      <td>ACORN-A</td>\n",
       "      <td>Affluent</td>\n",
       "      <td>Thursday</td>\n",
       "      <td>33.62</td>\n",
       "      <td>February</td>\n",
       "      <td>99th per</td>\n",
       "    </tr>\n",
       "    <tr>\n",
       "      <th>...</th>\n",
       "      <td>...</td>\n",
       "      <td>...</td>\n",
       "      <td>...</td>\n",
       "      <td>...</td>\n",
       "      <td>...</td>\n",
       "      <td>...</td>\n",
       "      <td>...</td>\n",
       "      <td>...</td>\n",
       "      <td>...</td>\n",
       "      <td>...</td>\n",
       "    </tr>\n",
       "    <tr>\n",
       "      <th>19600489</th>\n",
       "      <td>2013-12-07 19:00:00</td>\n",
       "      <td>MAC004208</td>\n",
       "      <td>Std</td>\n",
       "      <td>1.590</td>\n",
       "      <td>ACORN-Q</td>\n",
       "      <td>Adversity</td>\n",
       "      <td>Saturday</td>\n",
       "      <td>46.04</td>\n",
       "      <td>December</td>\n",
       "      <td>99th per</td>\n",
       "    </tr>\n",
       "    <tr>\n",
       "      <th>19601201</th>\n",
       "      <td>2013-12-22 15:00:00</td>\n",
       "      <td>MAC004208</td>\n",
       "      <td>Std</td>\n",
       "      <td>1.618</td>\n",
       "      <td>ACORN-Q</td>\n",
       "      <td>Adversity</td>\n",
       "      <td>Sunday</td>\n",
       "      <td>48.74</td>\n",
       "      <td>December</td>\n",
       "      <td>99th per</td>\n",
       "    </tr>\n",
       "    <tr>\n",
       "      <th>19601211</th>\n",
       "      <td>2013-12-22 20:00:00</td>\n",
       "      <td>MAC004208</td>\n",
       "      <td>Std</td>\n",
       "      <td>1.622</td>\n",
       "      <td>ACORN-Q</td>\n",
       "      <td>Adversity</td>\n",
       "      <td>Sunday</td>\n",
       "      <td>42.80</td>\n",
       "      <td>December</td>\n",
       "      <td>99th per</td>\n",
       "    </tr>\n",
       "    <tr>\n",
       "      <th>19601636</th>\n",
       "      <td>2013-12-31 16:00:00</td>\n",
       "      <td>MAC004208</td>\n",
       "      <td>Std</td>\n",
       "      <td>1.593</td>\n",
       "      <td>ACORN-Q</td>\n",
       "      <td>Adversity</td>\n",
       "      <td>Tuesday</td>\n",
       "      <td>44.96</td>\n",
       "      <td>December</td>\n",
       "      <td>99th per</td>\n",
       "    </tr>\n",
       "    <tr>\n",
       "      <th>19620138</th>\n",
       "      <td>2013-01-18 21:00:00</td>\n",
       "      <td>MAC004213</td>\n",
       "      <td>Std</td>\n",
       "      <td>1.593</td>\n",
       "      <td>ACORN-E</td>\n",
       "      <td>Affluent</td>\n",
       "      <td>Friday</td>\n",
       "      <td>30.92</td>\n",
       "      <td>January</td>\n",
       "      <td>99th per</td>\n",
       "    </tr>\n",
       "  </tbody>\n",
       "</table>\n",
       "<p>196718 rows × 10 columns</p>\n",
       "</div>"
      ],
      "text/plain": [
       "                    DateTime      LCLid stdorToU  KWH/hh    Acorn  \\\n",
       "1241     2013-01-26 20:00:00  MAC000002      Std   1.603  ACORN-A   \n",
       "2488     2013-02-21 19:00:00  MAC000002      Std   2.887  ACORN-A   \n",
       "2489     2013-02-21 19:30:00  MAC000002      Std   1.699  ACORN-A   \n",
       "2490     2013-02-21 20:00:00  MAC000002      Std   1.665  ACORN-A   \n",
       "2491     2013-02-21 20:30:00  MAC000002      Std   1.730  ACORN-A   \n",
       "...                      ...        ...      ...     ...      ...   \n",
       "19600489 2013-12-07 19:00:00  MAC004208      Std   1.590  ACORN-Q   \n",
       "19601201 2013-12-22 15:00:00  MAC004208      Std   1.618  ACORN-Q   \n",
       "19601211 2013-12-22 20:00:00  MAC004208      Std   1.622  ACORN-Q   \n",
       "19601636 2013-12-31 16:00:00  MAC004208      Std   1.593  ACORN-Q   \n",
       "19620138 2013-01-18 21:00:00  MAC004213      Std   1.593  ACORN-E   \n",
       "\n",
       "         Acorn_grouped       Day  air_temperature     Month KWH/hh_group  \n",
       "1241          Affluent  Saturday            45.32   January     99th per  \n",
       "2488          Affluent  Thursday            34.34  February     99th per  \n",
       "2489          Affluent  Thursday            34.07  February     99th per  \n",
       "2490          Affluent  Thursday            33.80  February     99th per  \n",
       "2491          Affluent  Thursday            33.62  February     99th per  \n",
       "...                ...       ...              ...       ...          ...  \n",
       "19600489     Adversity  Saturday            46.04  December     99th per  \n",
       "19601201     Adversity    Sunday            48.74  December     99th per  \n",
       "19601211     Adversity    Sunday            42.80  December     99th per  \n",
       "19601636     Adversity   Tuesday            44.96  December     99th per  \n",
       "19620138      Affluent    Friday            30.92   January     99th per  \n",
       "\n",
       "[196718 rows x 10 columns]"
      ]
     },
     "execution_count": 80,
     "metadata": {},
     "output_type": "execute_result"
    }
   ],
   "source": [
    "df_99th"
   ]
  },
  {
   "cell_type": "markdown",
   "metadata": {},
   "source": [
    "This final part is just filtering the data frames according to whether it has values in the top 1% and outputting them to .csv for EDA."
   ]
  },
  {
   "cell_type": "code",
   "execution_count": 81,
   "metadata": {},
   "outputs": [],
   "source": [
    "df_99th_filtered = df7[df7['LCLid'].isin(arr1)] \n",
    "df_less_99th_filtered = df7[~df7['LCLid'].isin(arr1)] "
   ]
  },
  {
   "cell_type": "code",
   "execution_count": 82,
   "metadata": {},
   "outputs": [
    {
     "data": {
      "text/html": [
       "<div>\n",
       "<style scoped>\n",
       "    .dataframe tbody tr th:only-of-type {\n",
       "        vertical-align: middle;\n",
       "    }\n",
       "\n",
       "    .dataframe tbody tr th {\n",
       "        vertical-align: top;\n",
       "    }\n",
       "\n",
       "    .dataframe thead th {\n",
       "        text-align: right;\n",
       "    }\n",
       "</style>\n",
       "<table border=\"1\" class=\"dataframe\">\n",
       "  <thead>\n",
       "    <tr style=\"text-align: right;\">\n",
       "      <th></th>\n",
       "      <th>DateTime</th>\n",
       "      <th>LCLid</th>\n",
       "      <th>stdorToU</th>\n",
       "      <th>KWH/hh</th>\n",
       "      <th>Acorn</th>\n",
       "      <th>Acorn_grouped</th>\n",
       "      <th>Day</th>\n",
       "      <th>air_temperature</th>\n",
       "      <th>Month</th>\n",
       "      <th>KWH/hh_group</th>\n",
       "    </tr>\n",
       "  </thead>\n",
       "  <tbody>\n",
       "    <tr>\n",
       "      <th>0</th>\n",
       "      <td>2013-01-01 00:00:00</td>\n",
       "      <td>MAC000002</td>\n",
       "      <td>Std</td>\n",
       "      <td>0.219</td>\n",
       "      <td>ACORN-A</td>\n",
       "      <td>Affluent</td>\n",
       "      <td>Tuesday</td>\n",
       "      <td>48.02</td>\n",
       "      <td>January</td>\n",
       "      <td>&lt; 99th per</td>\n",
       "    </tr>\n",
       "    <tr>\n",
       "      <th>1</th>\n",
       "      <td>2013-01-01 00:30:00</td>\n",
       "      <td>MAC000002</td>\n",
       "      <td>Std</td>\n",
       "      <td>0.241</td>\n",
       "      <td>ACORN-A</td>\n",
       "      <td>Affluent</td>\n",
       "      <td>Tuesday</td>\n",
       "      <td>47.84</td>\n",
       "      <td>January</td>\n",
       "      <td>&lt; 99th per</td>\n",
       "    </tr>\n",
       "    <tr>\n",
       "      <th>2</th>\n",
       "      <td>2013-01-01 01:00:00</td>\n",
       "      <td>MAC000002</td>\n",
       "      <td>Std</td>\n",
       "      <td>0.191</td>\n",
       "      <td>ACORN-A</td>\n",
       "      <td>Affluent</td>\n",
       "      <td>Tuesday</td>\n",
       "      <td>47.66</td>\n",
       "      <td>January</td>\n",
       "      <td>&lt; 99th per</td>\n",
       "    </tr>\n",
       "    <tr>\n",
       "      <th>3</th>\n",
       "      <td>2013-01-01 01:30:00</td>\n",
       "      <td>MAC000002</td>\n",
       "      <td>Std</td>\n",
       "      <td>0.235</td>\n",
       "      <td>ACORN-A</td>\n",
       "      <td>Affluent</td>\n",
       "      <td>Tuesday</td>\n",
       "      <td>47.39</td>\n",
       "      <td>January</td>\n",
       "      <td>&lt; 99th per</td>\n",
       "    </tr>\n",
       "    <tr>\n",
       "      <th>4</th>\n",
       "      <td>2013-01-01 02:00:00</td>\n",
       "      <td>MAC000002</td>\n",
       "      <td>Std</td>\n",
       "      <td>0.182</td>\n",
       "      <td>ACORN-A</td>\n",
       "      <td>Affluent</td>\n",
       "      <td>Tuesday</td>\n",
       "      <td>47.12</td>\n",
       "      <td>January</td>\n",
       "      <td>&lt; 99th per</td>\n",
       "    </tr>\n",
       "    <tr>\n",
       "      <th>...</th>\n",
       "      <td>...</td>\n",
       "      <td>...</td>\n",
       "      <td>...</td>\n",
       "      <td>...</td>\n",
       "      <td>...</td>\n",
       "      <td>...</td>\n",
       "      <td>...</td>\n",
       "      <td>...</td>\n",
       "      <td>...</td>\n",
       "      <td>...</td>\n",
       "    </tr>\n",
       "    <tr>\n",
       "      <th>19636855</th>\n",
       "      <td>2014-01-01 21:30:00</td>\n",
       "      <td>MAC004213</td>\n",
       "      <td>Std</td>\n",
       "      <td>0.329</td>\n",
       "      <td>ACORN-E</td>\n",
       "      <td>Affluent</td>\n",
       "      <td>Wednesday</td>\n",
       "      <td>42.80</td>\n",
       "      <td>January</td>\n",
       "      <td>&lt; 99th per</td>\n",
       "    </tr>\n",
       "    <tr>\n",
       "      <th>19636856</th>\n",
       "      <td>2014-01-01 22:00:00</td>\n",
       "      <td>MAC004213</td>\n",
       "      <td>Std</td>\n",
       "      <td>0.242</td>\n",
       "      <td>ACORN-E</td>\n",
       "      <td>Affluent</td>\n",
       "      <td>Wednesday</td>\n",
       "      <td>42.80</td>\n",
       "      <td>January</td>\n",
       "      <td>&lt; 99th per</td>\n",
       "    </tr>\n",
       "    <tr>\n",
       "      <th>19636857</th>\n",
       "      <td>2014-01-01 22:30:00</td>\n",
       "      <td>MAC004213</td>\n",
       "      <td>Std</td>\n",
       "      <td>0.268</td>\n",
       "      <td>ACORN-E</td>\n",
       "      <td>Affluent</td>\n",
       "      <td>Wednesday</td>\n",
       "      <td>42.80</td>\n",
       "      <td>January</td>\n",
       "      <td>&lt; 99th per</td>\n",
       "    </tr>\n",
       "    <tr>\n",
       "      <th>19636858</th>\n",
       "      <td>2014-01-01 23:00:00</td>\n",
       "      <td>MAC004213</td>\n",
       "      <td>Std</td>\n",
       "      <td>0.364</td>\n",
       "      <td>ACORN-E</td>\n",
       "      <td>Affluent</td>\n",
       "      <td>Wednesday</td>\n",
       "      <td>42.80</td>\n",
       "      <td>January</td>\n",
       "      <td>&lt; 99th per</td>\n",
       "    </tr>\n",
       "    <tr>\n",
       "      <th>19636859</th>\n",
       "      <td>2014-01-01 23:30:00</td>\n",
       "      <td>MAC004213</td>\n",
       "      <td>Std</td>\n",
       "      <td>0.309</td>\n",
       "      <td>ACORN-E</td>\n",
       "      <td>Affluent</td>\n",
       "      <td>Wednesday</td>\n",
       "      <td>45.41</td>\n",
       "      <td>January</td>\n",
       "      <td>&lt; 99th per</td>\n",
       "    </tr>\n",
       "  </tbody>\n",
       "</table>\n",
       "<p>13659660 rows × 10 columns</p>\n",
       "</div>"
      ],
      "text/plain": [
       "                    DateTime      LCLid stdorToU  KWH/hh    Acorn  \\\n",
       "0        2013-01-01 00:00:00  MAC000002      Std   0.219  ACORN-A   \n",
       "1        2013-01-01 00:30:00  MAC000002      Std   0.241  ACORN-A   \n",
       "2        2013-01-01 01:00:00  MAC000002      Std   0.191  ACORN-A   \n",
       "3        2013-01-01 01:30:00  MAC000002      Std   0.235  ACORN-A   \n",
       "4        2013-01-01 02:00:00  MAC000002      Std   0.182  ACORN-A   \n",
       "...                      ...        ...      ...     ...      ...   \n",
       "19636855 2014-01-01 21:30:00  MAC004213      Std   0.329  ACORN-E   \n",
       "19636856 2014-01-01 22:00:00  MAC004213      Std   0.242  ACORN-E   \n",
       "19636857 2014-01-01 22:30:00  MAC004213      Std   0.268  ACORN-E   \n",
       "19636858 2014-01-01 23:00:00  MAC004213      Std   0.364  ACORN-E   \n",
       "19636859 2014-01-01 23:30:00  MAC004213      Std   0.309  ACORN-E   \n",
       "\n",
       "         Acorn_grouped        Day  air_temperature    Month KWH/hh_group  \n",
       "0             Affluent    Tuesday            48.02  January   < 99th per  \n",
       "1             Affluent    Tuesday            47.84  January   < 99th per  \n",
       "2             Affluent    Tuesday            47.66  January   < 99th per  \n",
       "3             Affluent    Tuesday            47.39  January   < 99th per  \n",
       "4             Affluent    Tuesday            47.12  January   < 99th per  \n",
       "...                ...        ...              ...      ...          ...  \n",
       "19636855      Affluent  Wednesday            42.80  January   < 99th per  \n",
       "19636856      Affluent  Wednesday            42.80  January   < 99th per  \n",
       "19636857      Affluent  Wednesday            42.80  January   < 99th per  \n",
       "19636858      Affluent  Wednesday            42.80  January   < 99th per  \n",
       "19636859      Affluent  Wednesday            45.41  January   < 99th per  \n",
       "\n",
       "[13659660 rows x 10 columns]"
      ]
     },
     "execution_count": 82,
     "metadata": {},
     "output_type": "execute_result"
    }
   ],
   "source": [
    "df_99th_filtered"
   ]
  },
  {
   "cell_type": "code",
   "execution_count": 83,
   "metadata": {},
   "outputs": [
    {
     "data": {
      "text/plain": [
       "< 99th per    5994780\n",
       "99th per            0\n",
       "Name: KWH/hh_group, dtype: int64"
      ]
     },
     "execution_count": 83,
     "metadata": {},
     "output_type": "execute_result"
    }
   ],
   "source": [
    "df_less_99th_filtered['KWH/hh_group'].value_counts()"
   ]
  },
  {
   "cell_type": "code",
   "execution_count": 84,
   "metadata": {},
   "outputs": [
    {
     "data": {
      "text/plain": [
       "< 99th per    13462942\n",
       "99th per        196718\n",
       "Name: KWH/hh_group, dtype: int64"
      ]
     },
     "execution_count": 84,
     "metadata": {},
     "output_type": "execute_result"
    }
   ],
   "source": [
    "df_99th_filtered['KWH/hh_group'].value_counts()"
   ]
  },
  {
   "cell_type": "code",
   "execution_count": 85,
   "metadata": {},
   "outputs": [],
   "source": [
    "# df_99th_filtered.to_csv(\"C:\\\\Users\\\\jesse\\\\Downloads\\\\clases\\\\electrical data\\\\london data\\\\data\\\\peak\\\\df_99th_filtered.csv\", index = False) # full dataset\n",
    "# df_less_99th_filtered.to_csv(\"C:\\\\Users\\\\jesse\\\\Downloads\\\\clases\\\\electrical data\\\\london data\\\\data\\\\peak\\\\df_less_99th_filtered.csv\", index = False)"
   ]
  },
  {
   "cell_type": "markdown",
   "metadata": {},
   "source": [
    "# 2. EDA"
   ]
  },
  {
   "cell_type": "markdown",
   "metadata": {},
   "source": [
    "Here is where we will start to visualize our data."
   ]
  },
  {
   "cell_type": "code",
   "execution_count": 86,
   "metadata": {},
   "outputs": [],
   "source": [
    "import matplotlib.pyplot as plt\n",
    "import seaborn as sns\n",
    "import missingno as msno\n",
    "import math\n",
    "from matplotlib.gridspec import GridSpec"
   ]
  },
  {
   "cell_type": "code",
   "execution_count": 104,
   "metadata": {},
   "outputs": [],
   "source": [
    "sns.set(rc = {'figure.figsize':(18,12)})\n",
    "SMALL_SIZE = 8\n",
    "MEDIUM_SIZE = 10\n",
    "BIGGER_SIZE = 16\n",
    "\n",
    "plt.rc('font', size=BIGGER_SIZE)          # controls default text sizes\n",
    "plt.rc('axes', titlesize=BIGGER_SIZE)     # fontsize of the axes title\n",
    "plt.rc('axes', labelsize=BIGGER_SIZE)    # fontsize of the x and y labels\n",
    "plt.rc('xtick', labelsize=BIGGER_SIZE)    # fontsize of the tick labels\n",
    "plt.rc('ytick', labelsize=BIGGER_SIZE)    # fontsize of the tick labels\n",
    "plt.rc('legend', fontsize=BIGGER_SIZE)    # legend fontsize\n",
    "plt.rc('figure', titlesize=BIGGER_SIZE)  # fontsize of the figure title"
   ]
  },
  {
   "cell_type": "markdown",
   "metadata": {},
   "source": [
    "Below you can see that we are not missing any data."
   ]
  },
  {
   "cell_type": "code",
   "execution_count": 88,
   "metadata": {},
   "outputs": [
    {
     "data": {
      "text/plain": [
       "<AxesSubplot:>"
      ]
     },
     "execution_count": 88,
     "metadata": {},
     "output_type": "execute_result"
    },
    {
     "data": {
      "image/png": "[encoded data removed]",
      "text/plain": [
       "<Figure size 1800x720 with 3 Axes>"
      ]
     },
     "metadata": {},
     "output_type": "display_data"
    }
   ],
   "source": [
    "msno.bar(df_less_99th_filtered)"
   ]
  },
  {
   "cell_type": "markdown",
   "metadata": {},
   "source": [
    "Here we check all our datatypes to make sure they are good. The numbers are floats, the datetime is a the datetime datetype, and the rest are strings which is correct."
   ]
  },
  {
   "cell_type": "code",
   "execution_count": 99,
   "metadata": {},
   "outputs": [
    {
     "name": "stdout",
     "output_type": "stream",
     "text": [
      "<class 'pandas.core.frame.DataFrame'>\n",
      "Int64Index: 5994780 entries, 17580 to 19654439\n",
      "Data columns (total 10 columns):\n",
      " #   Column           Dtype         \n",
      "---  ------           -----         \n",
      " 0   DateTime         datetime64[ns]\n",
      " 1   LCLid            object        \n",
      " 2   stdorToU         object        \n",
      " 3   KWH/hh           float64       \n",
      " 4   Acorn            object        \n",
      " 5   Acorn_grouped    object        \n",
      " 6   Day              object        \n",
      " 7   air_temperature  float64       \n",
      " 8   Month            object        \n",
      " 9   KWH/hh_group     category      \n",
      "dtypes: category(1), datetime64[ns](1), float64(2), object(6)\n",
      "memory usage: 463.1+ MB\n"
     ]
    }
   ],
   "source": [
    "df_less_99th_filtered.info(verbose = True)"
   ]
  },
  {
   "cell_type": "code",
   "execution_count": 89,
   "metadata": {},
   "outputs": [],
   "source": [
    "gb1 = df_less_99th_filtered.groupby(['Acorn_grouped', 'stdorToU']) # group by to do more EDA.\n",
    "groups = dict(list(gb1)) # makes a dict of dataframs which can be accesed below. "
   ]
  },
  {
   "cell_type": "markdown",
   "metadata": {},
   "source": [
    "Checking to see how man series belong to each group."
   ]
  },
  {
   "cell_type": "code",
   "execution_count": 90,
   "metadata": {},
   "outputs": [
    {
     "data": {
      "text/plain": [
       "Acorn_grouped  stdorToU\n",
       "Adversity      Std         112.0\n",
       "               ToU          33.0\n",
       "Affluent       Std          83.0\n",
       "               ToU          29.0\n",
       "Comfortable    Std          58.0\n",
       "               ToU          26.0\n",
       "dtype: float64"
      ]
     },
     "execution_count": 90,
     "metadata": {},
     "output_type": "execute_result"
    }
   ],
   "source": [
    "(gb1.size()/17580).round(0) # how many series belong to each group."
   ]
  },
  {
   "cell_type": "markdown",
   "metadata": {},
   "source": [
    "Here you can see the 5 number summary of the two numerical values KWH/hh and air temperature.\n",
    "\n",
    "-  The mean KWH/hh for each group are between .11 and .12 for the std classes and between .10 and .11 for tou. Interestingly the mean for the adversity class is higher which is unexpected."
   ]
  },
  {
   "cell_type": "code",
   "execution_count": 91,
   "metadata": {},
   "outputs": [
    {
     "data": {
      "text/html": [
       "<div>\n",
       "<style scoped>\n",
       "    .dataframe tbody tr th:only-of-type {\n",
       "        vertical-align: middle;\n",
       "    }\n",
       "\n",
       "    .dataframe tbody tr th {\n",
       "        vertical-align: top;\n",
       "    }\n",
       "\n",
       "    .dataframe thead tr th {\n",
       "        text-align: left;\n",
       "    }\n",
       "\n",
       "    .dataframe thead tr:last-of-type th {\n",
       "        text-align: right;\n",
       "    }\n",
       "</style>\n",
       "<table border=\"1\" class=\"dataframe\">\n",
       "  <thead>\n",
       "    <tr>\n",
       "      <th></th>\n",
       "      <th></th>\n",
       "      <th colspan=\"8\" halign=\"left\">KWH/hh</th>\n",
       "      <th colspan=\"8\" halign=\"left\">air_temperature</th>\n",
       "    </tr>\n",
       "    <tr>\n",
       "      <th></th>\n",
       "      <th></th>\n",
       "      <th>count</th>\n",
       "      <th>mean</th>\n",
       "      <th>std</th>\n",
       "      <th>min</th>\n",
       "      <th>25%</th>\n",
       "      <th>50%</th>\n",
       "      <th>75%</th>\n",
       "      <th>max</th>\n",
       "      <th>count</th>\n",
       "      <th>mean</th>\n",
       "      <th>std</th>\n",
       "      <th>min</th>\n",
       "      <th>25%</th>\n",
       "      <th>50%</th>\n",
       "      <th>75%</th>\n",
       "      <th>max</th>\n",
       "    </tr>\n",
       "    <tr>\n",
       "      <th>Acorn_grouped</th>\n",
       "      <th>stdorToU</th>\n",
       "      <th></th>\n",
       "      <th></th>\n",
       "      <th></th>\n",
       "      <th></th>\n",
       "      <th></th>\n",
       "      <th></th>\n",
       "      <th></th>\n",
       "      <th></th>\n",
       "      <th></th>\n",
       "      <th></th>\n",
       "      <th></th>\n",
       "      <th></th>\n",
       "      <th></th>\n",
       "      <th></th>\n",
       "      <th></th>\n",
       "      <th></th>\n",
       "    </tr>\n",
       "  </thead>\n",
       "  <tbody>\n",
       "    <tr>\n",
       "      <th rowspan=\"2\" valign=\"top\">Adversity</th>\n",
       "      <th>Std</th>\n",
       "      <td>1968960.0</td>\n",
       "      <td>0.121</td>\n",
       "      <td>0.123</td>\n",
       "      <td>0.0</td>\n",
       "      <td>0.044</td>\n",
       "      <td>0.085</td>\n",
       "      <td>0.156</td>\n",
       "      <td>1.559</td>\n",
       "      <td>1968960.0</td>\n",
       "      <td>51.681</td>\n",
       "      <td>12.046</td>\n",
       "      <td>24.44</td>\n",
       "      <td>42.44</td>\n",
       "      <td>50.945</td>\n",
       "      <td>60.44</td>\n",
       "      <td>92.66</td>\n",
       "    </tr>\n",
       "    <tr>\n",
       "      <th>ToU</th>\n",
       "      <td>580140.0</td>\n",
       "      <td>0.111</td>\n",
       "      <td>0.128</td>\n",
       "      <td>0.0</td>\n",
       "      <td>0.038</td>\n",
       "      <td>0.072</td>\n",
       "      <td>0.136</td>\n",
       "      <td>1.540</td>\n",
       "      <td>580140.0</td>\n",
       "      <td>51.681</td>\n",
       "      <td>12.046</td>\n",
       "      <td>24.44</td>\n",
       "      <td>42.44</td>\n",
       "      <td>50.945</td>\n",
       "      <td>60.44</td>\n",
       "      <td>92.66</td>\n",
       "    </tr>\n",
       "    <tr>\n",
       "      <th rowspan=\"2\" valign=\"top\">Affluent</th>\n",
       "      <th>Std</th>\n",
       "      <td>1459140.0</td>\n",
       "      <td>0.103</td>\n",
       "      <td>0.113</td>\n",
       "      <td>0.0</td>\n",
       "      <td>0.035</td>\n",
       "      <td>0.069</td>\n",
       "      <td>0.133</td>\n",
       "      <td>1.552</td>\n",
       "      <td>1459140.0</td>\n",
       "      <td>51.681</td>\n",
       "      <td>12.046</td>\n",
       "      <td>24.44</td>\n",
       "      <td>42.44</td>\n",
       "      <td>50.945</td>\n",
       "      <td>60.44</td>\n",
       "      <td>92.66</td>\n",
       "    </tr>\n",
       "    <tr>\n",
       "      <th>ToU</th>\n",
       "      <td>509820.0</td>\n",
       "      <td>0.106</td>\n",
       "      <td>0.118</td>\n",
       "      <td>0.0</td>\n",
       "      <td>0.037</td>\n",
       "      <td>0.064</td>\n",
       "      <td>0.131</td>\n",
       "      <td>1.540</td>\n",
       "      <td>509820.0</td>\n",
       "      <td>51.681</td>\n",
       "      <td>12.046</td>\n",
       "      <td>24.44</td>\n",
       "      <td>42.44</td>\n",
       "      <td>50.945</td>\n",
       "      <td>60.44</td>\n",
       "      <td>92.66</td>\n",
       "    </tr>\n",
       "    <tr>\n",
       "      <th rowspan=\"2\" valign=\"top\">Comfortable</th>\n",
       "      <th>Std</th>\n",
       "      <td>1019640.0</td>\n",
       "      <td>0.113</td>\n",
       "      <td>0.115</td>\n",
       "      <td>0.0</td>\n",
       "      <td>0.041</td>\n",
       "      <td>0.079</td>\n",
       "      <td>0.146</td>\n",
       "      <td>1.557</td>\n",
       "      <td>1019640.0</td>\n",
       "      <td>51.681</td>\n",
       "      <td>12.046</td>\n",
       "      <td>24.44</td>\n",
       "      <td>42.44</td>\n",
       "      <td>50.945</td>\n",
       "      <td>60.44</td>\n",
       "      <td>92.66</td>\n",
       "    </tr>\n",
       "    <tr>\n",
       "      <th>ToU</th>\n",
       "      <td>457080.0</td>\n",
       "      <td>0.107</td>\n",
       "      <td>0.114</td>\n",
       "      <td>0.0</td>\n",
       "      <td>0.039</td>\n",
       "      <td>0.073</td>\n",
       "      <td>0.134</td>\n",
       "      <td>1.539</td>\n",
       "      <td>457080.0</td>\n",
       "      <td>51.681</td>\n",
       "      <td>12.046</td>\n",
       "      <td>24.44</td>\n",
       "      <td>42.44</td>\n",
       "      <td>50.945</td>\n",
       "      <td>60.44</td>\n",
       "      <td>92.66</td>\n",
       "    </tr>\n",
       "  </tbody>\n",
       "</table>\n",
       "</div>"
      ],
      "text/plain": [
       "                           KWH/hh                                          \\\n",
       "                            count   mean    std  min    25%    50%    75%   \n",
       "Acorn_grouped stdorToU                                                      \n",
       "Adversity     Std       1968960.0  0.121  0.123  0.0  0.044  0.085  0.156   \n",
       "              ToU        580140.0  0.111  0.128  0.0  0.038  0.072  0.136   \n",
       "Affluent      Std       1459140.0  0.103  0.113  0.0  0.035  0.069  0.133   \n",
       "              ToU        509820.0  0.106  0.118  0.0  0.037  0.064  0.131   \n",
       "Comfortable   Std       1019640.0  0.113  0.115  0.0  0.041  0.079  0.146   \n",
       "              ToU        457080.0  0.107  0.114  0.0  0.039  0.073  0.134   \n",
       "\n",
       "                              air_temperature                                \\\n",
       "                          max           count    mean     std    min    25%   \n",
       "Acorn_grouped stdorToU                                                        \n",
       "Adversity     Std       1.559       1968960.0  51.681  12.046  24.44  42.44   \n",
       "              ToU       1.540        580140.0  51.681  12.046  24.44  42.44   \n",
       "Affluent      Std       1.552       1459140.0  51.681  12.046  24.44  42.44   \n",
       "              ToU       1.540        509820.0  51.681  12.046  24.44  42.44   \n",
       "Comfortable   Std       1.557       1019640.0  51.681  12.046  24.44  42.44   \n",
       "              ToU       1.539        457080.0  51.681  12.046  24.44  42.44   \n",
       "\n",
       "                                              \n",
       "                           50%    75%    max  \n",
       "Acorn_grouped stdorToU                        \n",
       "Adversity     Std       50.945  60.44  92.66  \n",
       "              ToU       50.945  60.44  92.66  \n",
       "Affluent      Std       50.945  60.44  92.66  \n",
       "              ToU       50.945  60.44  92.66  \n",
       "Comfortable   Std       50.945  60.44  92.66  \n",
       "              ToU       50.945  60.44  92.66  "
      ]
     },
     "execution_count": 91,
     "metadata": {},
     "output_type": "execute_result"
    }
   ],
   "source": [
    "gb1.describe().round(3) # 5 number summary."
   ]
  },
  {
   "cell_type": "code",
   "execution_count": 92,
   "metadata": {},
   "outputs": [],
   "source": [
    "Adversity_Std = groups['Adversity', 'Std']\n",
    "Adversity_ToU = groups['Adversity', 'ToU']\n",
    "Affluent_Std = groups['Affluent', 'Std']\n",
    "Affluent_ToU = groups['Affluent', 'ToU']\n",
    "Comfortable_Std = groups['Comfortable', 'Std']\n",
    "Comfortable_ToU = groups['Comfortable', 'ToU']"
   ]
  },
  {
   "cell_type": "markdown",
   "metadata": {},
   "source": [
    "Plot of the number of series for each group."
   ]
  },
  {
   "cell_type": "code",
   "execution_count": 93,
   "metadata": {},
   "outputs": [
    {
     "data": {
      "image/png": "[encoded data removed]",
      "text/plain": [
       "<Figure size 864x504 with 1 Axes>"
      ]
     },
     "metadata": {},
     "output_type": "display_data"
    }
   ],
   "source": [
    "# creating the dataset\n",
    "group = ['Adversity & Std', 'Adversity & ToU', 'Comfortable & Std', 'Comfortable & ToU',\n",
    "         'Affluent & Std', 'Affluent & ToU',]\n",
    "mean = [112, 33, 58, 26, 83, 29] # check these numbers.\n",
    "   \n",
    "fig = plt.figure(figsize = (12, 7))\n",
    " \n",
    "# creating the bar plot\n",
    "plt.bar(group, mean, color ='lightblue',\n",
    "        width = 0.4)\n",
    " \n",
    "plt.xlabel(\"Economic class & program\")\n",
    "plt.ylabel(\"Number of series\")\n",
    "plt.title(\"Number of series for each group\")\n",
    "plt.show()"
   ]
  },
  {
   "cell_type": "markdown",
   "metadata": {},
   "source": [
    "Plot of the mean KWH/hh for each group."
   ]
  },
  {
   "cell_type": "code",
   "execution_count": 94,
   "metadata": {},
   "outputs": [
    {
     "data": {
      "image/png": "[encoded data removed]",
      "text/plain": [
       "<Figure size 864x504 with 1 Axes>"
      ]
     },
     "metadata": {},
     "output_type": "display_data"
    }
   ],
   "source": [
    "# creating the dataset\n",
    "group = ['Adversity & Std', 'Adversity & ToU', 'Comfortable & Std', 'Comfortable & ToU',\n",
    "         'Affluent & Std', 'Affluent & ToU',]\n",
    "mean = [0.121, 0.111, 0.113, 0.107, 0.103, 0.106] # check these numbers.\n",
    "   \n",
    "fig = plt.figure(figsize = (12, 7))\n",
    " \n",
    "# creating the bar plot\n",
    "plt.bar(group, mean, color ='maroon',\n",
    "        width = 0.4)\n",
    " \n",
    "plt.xlabel(\"Economic class & program\")\n",
    "plt.ylabel(\"KW/hh\")\n",
    "plt.title(\"Mean KW/hh for each group\")\n",
    "plt.show()"
   ]
  },
  {
   "cell_type": "markdown",
   "metadata": {},
   "source": [
    "Below we do a groupby to be able to get the date to plot mean KWH/hh by month and acorn group."
   ]
  },
  {
   "cell_type": "code",
   "execution_count": 101,
   "metadata": {},
   "outputs": [],
   "source": [
    "gb3 = df_less_99th_filtered.groupby(['Acorn_grouped', 'Month']).mean() # group by to do more EDA.\n",
    "df3 = pd.DataFrame(gb3) # Put gb in df."
   ]
  },
  {
   "cell_type": "code",
   "execution_count": 103,
   "metadata": {},
   "outputs": [
    {
     "data": {
      "text/html": [
       "<div>\n",
       "<style scoped>\n",
       "    .dataframe tbody tr th:only-of-type {\n",
       "        vertical-align: middle;\n",
       "    }\n",
       "\n",
       "    .dataframe tbody tr th {\n",
       "        vertical-align: top;\n",
       "    }\n",
       "\n",
       "    .dataframe thead th {\n",
       "        text-align: right;\n",
       "    }\n",
       "</style>\n",
       "<table border=\"1\" class=\"dataframe\">\n",
       "  <thead>\n",
       "    <tr style=\"text-align: right;\">\n",
       "      <th></th>\n",
       "      <th></th>\n",
       "      <th>KWH/hh</th>\n",
       "      <th>air_temperature</th>\n",
       "    </tr>\n",
       "    <tr>\n",
       "      <th>Acorn_grouped</th>\n",
       "      <th>Month</th>\n",
       "      <th></th>\n",
       "      <th></th>\n",
       "    </tr>\n",
       "  </thead>\n",
       "  <tbody>\n",
       "    <tr>\n",
       "      <th rowspan=\"12\" valign=\"top\">Adversity</th>\n",
       "      <th>April</th>\n",
       "      <td>0.119172</td>\n",
       "      <td>47.556697</td>\n",
       "    </tr>\n",
       "    <tr>\n",
       "      <th>August</th>\n",
       "      <td>0.104867</td>\n",
       "      <td>65.831659</td>\n",
       "    </tr>\n",
       "    <tr>\n",
       "      <th>December</th>\n",
       "      <td>0.129467</td>\n",
       "      <td>44.900101</td>\n",
       "    </tr>\n",
       "    <tr>\n",
       "      <th>February</th>\n",
       "      <td>0.132816</td>\n",
       "      <td>38.783859</td>\n",
       "    </tr>\n",
       "    <tr>\n",
       "      <th>January</th>\n",
       "      <td>0.132532</td>\n",
       "      <td>40.243401</td>\n",
       "    </tr>\n",
       "    <tr>\n",
       "      <th>July</th>\n",
       "      <td>0.107214</td>\n",
       "      <td>69.265198</td>\n",
       "    </tr>\n",
       "    <tr>\n",
       "      <th>June</th>\n",
       "      <td>0.106000</td>\n",
       "      <td>59.791763</td>\n",
       "    </tr>\n",
       "    <tr>\n",
       "      <th>March</th>\n",
       "      <td>0.131516</td>\n",
       "      <td>38.838489</td>\n",
       "    </tr>\n",
       "    <tr>\n",
       "      <th>May</th>\n",
       "      <td>0.109825</td>\n",
       "      <td>53.245500</td>\n",
       "    </tr>\n",
       "    <tr>\n",
       "      <th>November</th>\n",
       "      <td>0.125977</td>\n",
       "      <td>45.544719</td>\n",
       "    </tr>\n",
       "    <tr>\n",
       "      <th>October</th>\n",
       "      <td>0.117602</td>\n",
       "      <td>56.331007</td>\n",
       "    </tr>\n",
       "    <tr>\n",
       "      <th>September</th>\n",
       "      <td>0.110318</td>\n",
       "      <td>59.129223</td>\n",
       "    </tr>\n",
       "    <tr>\n",
       "      <th rowspan=\"12\" valign=\"top\">Affluent</th>\n",
       "      <th>April</th>\n",
       "      <td>0.102047</td>\n",
       "      <td>47.556697</td>\n",
       "    </tr>\n",
       "    <tr>\n",
       "      <th>August</th>\n",
       "      <td>0.091270</td>\n",
       "      <td>65.831659</td>\n",
       "    </tr>\n",
       "    <tr>\n",
       "      <th>December</th>\n",
       "      <td>0.112060</td>\n",
       "      <td>44.900101</td>\n",
       "    </tr>\n",
       "    <tr>\n",
       "      <th>February</th>\n",
       "      <td>0.117571</td>\n",
       "      <td>38.783859</td>\n",
       "    </tr>\n",
       "    <tr>\n",
       "      <th>January</th>\n",
       "      <td>0.121560</td>\n",
       "      <td>40.243395</td>\n",
       "    </tr>\n",
       "    <tr>\n",
       "      <th>July</th>\n",
       "      <td>0.093008</td>\n",
       "      <td>69.265198</td>\n",
       "    </tr>\n",
       "    <tr>\n",
       "      <th>June</th>\n",
       "      <td>0.091832</td>\n",
       "      <td>59.791763</td>\n",
       "    </tr>\n",
       "    <tr>\n",
       "      <th>March</th>\n",
       "      <td>0.114354</td>\n",
       "      <td>38.838489</td>\n",
       "    </tr>\n",
       "    <tr>\n",
       "      <th>May</th>\n",
       "      <td>0.093458</td>\n",
       "      <td>53.245500</td>\n",
       "    </tr>\n",
       "    <tr>\n",
       "      <th>November</th>\n",
       "      <td>0.110032</td>\n",
       "      <td>45.544719</td>\n",
       "    </tr>\n",
       "    <tr>\n",
       "      <th>October</th>\n",
       "      <td>0.101673</td>\n",
       "      <td>56.331007</td>\n",
       "    </tr>\n",
       "    <tr>\n",
       "      <th>September</th>\n",
       "      <td>0.098489</td>\n",
       "      <td>59.129223</td>\n",
       "    </tr>\n",
       "    <tr>\n",
       "      <th rowspan=\"12\" valign=\"top\">Comfortable</th>\n",
       "      <th>April</th>\n",
       "      <td>0.108487</td>\n",
       "      <td>47.556697</td>\n",
       "    </tr>\n",
       "    <tr>\n",
       "      <th>August</th>\n",
       "      <td>0.101772</td>\n",
       "      <td>65.831659</td>\n",
       "    </tr>\n",
       "    <tr>\n",
       "      <th>December</th>\n",
       "      <td>0.120110</td>\n",
       "      <td>44.900101</td>\n",
       "    </tr>\n",
       "    <tr>\n",
       "      <th>February</th>\n",
       "      <td>0.122024</td>\n",
       "      <td>38.783859</td>\n",
       "    </tr>\n",
       "    <tr>\n",
       "      <th>January</th>\n",
       "      <td>0.125850</td>\n",
       "      <td>40.243403</td>\n",
       "    </tr>\n",
       "    <tr>\n",
       "      <th>July</th>\n",
       "      <td>0.103455</td>\n",
       "      <td>69.265198</td>\n",
       "    </tr>\n",
       "    <tr>\n",
       "      <th>June</th>\n",
       "      <td>0.101245</td>\n",
       "      <td>59.791763</td>\n",
       "    </tr>\n",
       "    <tr>\n",
       "      <th>March</th>\n",
       "      <td>0.119250</td>\n",
       "      <td>38.838489</td>\n",
       "    </tr>\n",
       "    <tr>\n",
       "      <th>May</th>\n",
       "      <td>0.103261</td>\n",
       "      <td>53.245500</td>\n",
       "    </tr>\n",
       "    <tr>\n",
       "      <th>November</th>\n",
       "      <td>0.117001</td>\n",
       "      <td>45.544719</td>\n",
       "    </tr>\n",
       "    <tr>\n",
       "      <th>October</th>\n",
       "      <td>0.110107</td>\n",
       "      <td>56.331007</td>\n",
       "    </tr>\n",
       "    <tr>\n",
       "      <th>September</th>\n",
       "      <td>0.102113</td>\n",
       "      <td>59.129223</td>\n",
       "    </tr>\n",
       "  </tbody>\n",
       "</table>\n",
       "</div>"
      ],
      "text/plain": [
       "                           KWH/hh  air_temperature\n",
       "Acorn_grouped Month                               \n",
       "Adversity     April      0.119172        47.556697\n",
       "              August     0.104867        65.831659\n",
       "              December   0.129467        44.900101\n",
       "              February   0.132816        38.783859\n",
       "              January    0.132532        40.243401\n",
       "              July       0.107214        69.265198\n",
       "              June       0.106000        59.791763\n",
       "              March      0.131516        38.838489\n",
       "              May        0.109825        53.245500\n",
       "              November   0.125977        45.544719\n",
       "              October    0.117602        56.331007\n",
       "              September  0.110318        59.129223\n",
       "Affluent      April      0.102047        47.556697\n",
       "              August     0.091270        65.831659\n",
       "              December   0.112060        44.900101\n",
       "              February   0.117571        38.783859\n",
       "              January    0.121560        40.243395\n",
       "              July       0.093008        69.265198\n",
       "              June       0.091832        59.791763\n",
       "              March      0.114354        38.838489\n",
       "              May        0.093458        53.245500\n",
       "              November   0.110032        45.544719\n",
       "              October    0.101673        56.331007\n",
       "              September  0.098489        59.129223\n",
       "Comfortable   April      0.108487        47.556697\n",
       "              August     0.101772        65.831659\n",
       "              December   0.120110        44.900101\n",
       "              February   0.122024        38.783859\n",
       "              January    0.125850        40.243403\n",
       "              July       0.103455        69.265198\n",
       "              June       0.101245        59.791763\n",
       "              March      0.119250        38.838489\n",
       "              May        0.103261        53.245500\n",
       "              November   0.117001        45.544719\n",
       "              October    0.110107        56.331007\n",
       "              September  0.102113        59.129223"
      ]
     },
     "execution_count": 103,
     "metadata": {},
     "output_type": "execute_result"
    }
   ],
   "source": [
    "df3"
   ]
  },
  {
   "cell_type": "code",
   "execution_count": 102,
   "metadata": {},
   "outputs": [],
   "source": [
    "Adversity_kh_per_month = [0.110318, 0.132816, 0.131516, 0.119172, 0.109825, 0.106000, 0.107214,\n",
    "                          0.104867, 0.110318, 0.117602, 0.125977, 0.129467]\n",
    "\n",
    "Comfortable_kh_per_month = [0.125850, 0.122024, 0.119250, 0.108487, 0.103261, 0.101245, 0.103455, \n",
    "                            0.10177, 0.102113, 0.110107, 0.117001, 0.120110]\n",
    "\n",
    "Affluent_kh_per_month = [0.121560, 0.117571, 0.114354, 0.102047, 0.0934458, 0.091832, 0.093008, \n",
    "                         0.0912270, 0.098489, 0.101673, 0.110032, 0.112060]\n",
    "months = ['January', 'February', 'March', 'April', 'May', 'June', 'July', 'August', 'September',\n",
    "         'October', 'November', 'December']\n",
    "temp = [40.243402/100.0, 38.783859/100.0, 38.838489/100.0, 47.556697/100.0, 53.245500/100.0, 59.791763/100.0, 69.265198/100.0, \n",
    "        65.831659/100.0, 59.129223/100.0, 56.331007/100.0, 45.544719/100.0, 44.900098/100.0]"
   ]
  },
  {
   "cell_type": "code",
   "execution_count": 105,
   "metadata": {},
   "outputs": [
    {
     "data": {
      "image/png": "[encoded data removed]",
      "text/plain": [
       "<Figure size 1152x720 with 1 Axes>"
      ]
     },
     "metadata": {},
     "output_type": "display_data"
    }
   ],
   "source": [
    "plt.figure(figsize=(16, 10))\n",
    "# plot lines\n",
    "\n",
    "plt.plot(months, Adversity_kh_per_month, label = \"Adversity\")\n",
    "plt.plot(months, Comfortable_kh_per_month, label = \"Comfortable\")\n",
    "plt.plot(months, Affluent_kh_per_month, label = \"Affluent\")\n",
    "plt.plot(months, temp, label = \"Temperature / 100\", color=\"Blue\")\n",
    "\n",
    "# Add title and axis names\n",
    "plt.title('Avg KWH per class with temperature')\n",
    "plt.ylabel('KWH/hh')\n",
    "plt.xlabel('Months')\n",
    "\n",
    "leg = plt.legend()\n",
    "# get the lines and texts inside legend box\n",
    "leg_lines = leg.get_lines()\n",
    "leg_texts = leg.get_texts()\n",
    "# bulk-set the properties of all lines and texts\n",
    "plt.setp(leg_lines, linewidth=4)\n",
    "plt.setp(leg_texts, fontsize='x-large')\n",
    "\n",
    "plt.show()"
   ]
  },
  {
   "cell_type": "markdown",
   "metadata": {},
   "source": [
    "Below we do a groupby to be able to get the date to plot mean KWH/hh by day and acorn group."
   ]
  },
  {
   "cell_type": "code",
   "execution_count": 107,
   "metadata": {},
   "outputs": [],
   "source": [
    "gb5 = df_less_99th_filtered.groupby(['Acorn_grouped', 'Day']).mean() # group by to do more EDA.\n",
    "df5 = pd.DataFrame(gb5) # Put gb in df."
   ]
  },
  {
   "cell_type": "code",
   "execution_count": 109,
   "metadata": {},
   "outputs": [
    {
     "data": {
      "text/html": [
       "<div>\n",
       "<style scoped>\n",
       "    .dataframe tbody tr th:only-of-type {\n",
       "        vertical-align: middle;\n",
       "    }\n",
       "\n",
       "    .dataframe tbody tr th {\n",
       "        vertical-align: top;\n",
       "    }\n",
       "\n",
       "    .dataframe thead th {\n",
       "        text-align: right;\n",
       "    }\n",
       "</style>\n",
       "<table border=\"1\" class=\"dataframe\">\n",
       "  <thead>\n",
       "    <tr style=\"text-align: right;\">\n",
       "      <th></th>\n",
       "      <th></th>\n",
       "      <th>KWH/hh</th>\n",
       "      <th>air_temperature</th>\n",
       "    </tr>\n",
       "    <tr>\n",
       "      <th>Acorn_grouped</th>\n",
       "      <th>Day</th>\n",
       "      <th></th>\n",
       "      <th></th>\n",
       "    </tr>\n",
       "  </thead>\n",
       "  <tbody>\n",
       "    <tr>\n",
       "      <th rowspan=\"7\" valign=\"top\">Adversity</th>\n",
       "      <th>Friday</th>\n",
       "      <td>0.117674</td>\n",
       "      <td>52.104602</td>\n",
       "    </tr>\n",
       "    <tr>\n",
       "      <th>Monday</th>\n",
       "      <td>0.118000</td>\n",
       "      <td>51.996249</td>\n",
       "    </tr>\n",
       "    <tr>\n",
       "      <th>Saturday</th>\n",
       "      <td>0.120011</td>\n",
       "      <td>51.191293</td>\n",
       "    </tr>\n",
       "    <tr>\n",
       "      <th>Sunday</th>\n",
       "      <td>0.124243</td>\n",
       "      <td>51.422454</td>\n",
       "    </tr>\n",
       "    <tr>\n",
       "      <th>Thursday</th>\n",
       "      <td>0.116792</td>\n",
       "      <td>51.934856</td>\n",
       "    </tr>\n",
       "    <tr>\n",
       "      <th>Tuesday</th>\n",
       "      <td>0.117313</td>\n",
       "      <td>51.483037</td>\n",
       "    </tr>\n",
       "    <tr>\n",
       "      <th>Wednesday</th>\n",
       "      <td>0.118341</td>\n",
       "      <td>51.637674</td>\n",
       "    </tr>\n",
       "    <tr>\n",
       "      <th rowspan=\"7\" valign=\"top\">Affluent</th>\n",
       "      <th>Friday</th>\n",
       "      <td>0.102840</td>\n",
       "      <td>52.104602</td>\n",
       "    </tr>\n",
       "    <tr>\n",
       "      <th>Monday</th>\n",
       "      <td>0.102783</td>\n",
       "      <td>51.996249</td>\n",
       "    </tr>\n",
       "    <tr>\n",
       "      <th>Saturday</th>\n",
       "      <td>0.106073</td>\n",
       "      <td>51.191293</td>\n",
       "    </tr>\n",
       "    <tr>\n",
       "      <th>Sunday</th>\n",
       "      <td>0.109554</td>\n",
       "      <td>51.422454</td>\n",
       "    </tr>\n",
       "    <tr>\n",
       "      <th>Thursday</th>\n",
       "      <td>0.101216</td>\n",
       "      <td>51.934856</td>\n",
       "    </tr>\n",
       "    <tr>\n",
       "      <th>Tuesday</th>\n",
       "      <td>0.102667</td>\n",
       "      <td>51.483037</td>\n",
       "    </tr>\n",
       "    <tr>\n",
       "      <th>Wednesday</th>\n",
       "      <td>0.102354</td>\n",
       "      <td>51.637670</td>\n",
       "    </tr>\n",
       "    <tr>\n",
       "      <th rowspan=\"7\" valign=\"top\">Comfortable</th>\n",
       "      <th>Friday</th>\n",
       "      <td>0.109574</td>\n",
       "      <td>52.104602</td>\n",
       "    </tr>\n",
       "    <tr>\n",
       "      <th>Monday</th>\n",
       "      <td>0.111360</td>\n",
       "      <td>51.996249</td>\n",
       "    </tr>\n",
       "    <tr>\n",
       "      <th>Saturday</th>\n",
       "      <td>0.113301</td>\n",
       "      <td>51.191293</td>\n",
       "    </tr>\n",
       "    <tr>\n",
       "      <th>Sunday</th>\n",
       "      <td>0.116100</td>\n",
       "      <td>51.422454</td>\n",
       "    </tr>\n",
       "    <tr>\n",
       "      <th>Thursday</th>\n",
       "      <td>0.109147</td>\n",
       "      <td>51.934856</td>\n",
       "    </tr>\n",
       "    <tr>\n",
       "      <th>Tuesday</th>\n",
       "      <td>0.109942</td>\n",
       "      <td>51.483037</td>\n",
       "    </tr>\n",
       "    <tr>\n",
       "      <th>Wednesday</th>\n",
       "      <td>0.109165</td>\n",
       "      <td>51.637675</td>\n",
       "    </tr>\n",
       "  </tbody>\n",
       "</table>\n",
       "</div>"
      ],
      "text/plain": [
       "                           KWH/hh  air_temperature\n",
       "Acorn_grouped Day                                 \n",
       "Adversity     Friday     0.117674        52.104602\n",
       "              Monday     0.118000        51.996249\n",
       "              Saturday   0.120011        51.191293\n",
       "              Sunday     0.124243        51.422454\n",
       "              Thursday   0.116792        51.934856\n",
       "              Tuesday    0.117313        51.483037\n",
       "              Wednesday  0.118341        51.637674\n",
       "Affluent      Friday     0.102840        52.104602\n",
       "              Monday     0.102783        51.996249\n",
       "              Saturday   0.106073        51.191293\n",
       "              Sunday     0.109554        51.422454\n",
       "              Thursday   0.101216        51.934856\n",
       "              Tuesday    0.102667        51.483037\n",
       "              Wednesday  0.102354        51.637670\n",
       "Comfortable   Friday     0.109574        52.104602\n",
       "              Monday     0.111360        51.996249\n",
       "              Saturday   0.113301        51.191293\n",
       "              Sunday     0.116100        51.422454\n",
       "              Thursday   0.109147        51.934856\n",
       "              Tuesday    0.109942        51.483037\n",
       "              Wednesday  0.109165        51.637675"
      ]
     },
     "execution_count": 109,
     "metadata": {},
     "output_type": "execute_result"
    }
   ],
   "source": [
    "df5"
   ]
  },
  {
   "cell_type": "code",
   "execution_count": 110,
   "metadata": {},
   "outputs": [],
   "source": [
    "Adversity_kh_per_day = [0.118000, 0.117313, 0.118341, 0.116792, 0.117674, 0.120011, 0.124243]\n",
    "\n",
    "Comfortable_kh_per_day = [0.1113, 0.109942, 0.109165, 0.109147, 0.109574, 0.113301, 0.116100]\n",
    "\n",
    "Affluent_kh_per_day = [0.102783, 0.102667, 0.102354, 0.101216, 0.102840, 0.106073, 0.109554]\n",
    "\n",
    "day = ['Monday', 'Tuesday', 'Wednesday', 'Thursday', 'Friday', 'Saturday', 'Sunday']"
   ]
  },
  {
   "cell_type": "code",
   "execution_count": 114,
   "metadata": {},
   "outputs": [
    {
     "data": {
      "image/png": "[encoded data removed]",
      "text/plain": [
       "<Figure size 1152x720 with 1 Axes>"
      ]
     },
     "metadata": {},
     "output_type": "display_data"
    }
   ],
   "source": [
    "plt.figure(figsize=(16, 10))\n",
    "# plot lines\n",
    "\n",
    "plt.plot(day, Adversity_kh_per_day, label = \"Adversity\")\n",
    "plt.plot(day, Comfortable_kh_per_day, label = \"Comfortable\")\n",
    "plt.plot(day, Affluent_kh_per_day, label = \"Affluent\")\n",
    "\n",
    "# Add title and axis names\n",
    "plt.title('Avg KWH per day by class')\n",
    "plt.ylabel('KWH/hh')\n",
    "plt.xlabel('Day')\n",
    "\n",
    "leg = plt.legend()\n",
    "# get the lines and texts inside legend box\n",
    "leg_lines = leg.get_lines()\n",
    "leg_texts = leg.get_texts()\n",
    "# bulk-set the properties of all lines and texts\n",
    "plt.setp(leg_lines, linewidth=4)\n",
    "plt.setp(leg_texts, fontsize='x-large')\n",
    "\n",
    "plt.show()"
   ]
  },
  {
   "cell_type": "markdown",
   "metadata": {},
   "source": [
    "Here we compute a correlation matrix to see if air temp and KWH/hh have any relationship. As you can see below there very small negative correlation."
   ]
  },
  {
   "cell_type": "code",
   "execution_count": 113,
   "metadata": {},
   "outputs": [
    {
     "data": {
      "text/plain": [
       "<AxesSubplot:>"
      ]
     },
     "execution_count": 113,
     "metadata": {},
     "output_type": "execute_result"
    },
    {
     "data": {
      "image/png": "[encoded data removed]",
      "text/plain": [
       "<Figure size 792x648 with 2 Axes>"
      ]
     },
     "metadata": {},
     "output_type": "display_data"
    }
   ],
   "source": [
    "# Compute the correlation matrix\n",
    "corr = df_less_99th_filtered.corr()\n",
    "\n",
    "# Generate a mask for the upper triangle\n",
    "mask = np.triu(np.ones_like(corr, dtype=bool))\n",
    "\n",
    "# Set up the matplotlib figure\n",
    "f, ax = plt.subplots(figsize=(11, 9))\n",
    "\n",
    "# Generate a custom diverging colormap\n",
    "cmap = sns.diverging_palette(230, 20, as_cmap=True)\n",
    "\n",
    "# Draw the heatmap with the mask and correct aspect ratio\n",
    "sns.heatmap(corr, mask=mask, cmap=cmap, vmax=.3, center=0,\n",
    "            square=True, linewidths=.5, cbar_kws={\"shrink\": .5})"
   ]
  },
  {
   "cell_type": "markdown",
   "metadata": {},
   "source": [
    "Here we make a box-plot to check the outliers."
   ]
  },
  {
   "cell_type": "code",
   "execution_count": 115,
   "metadata": {
    "scrolled": true
   },
   "outputs": [
    {
     "data": {
      "image/png": "[encoded data removed]",
      "text/plain": [
       "<Figure size 1296x864 with 1 Axes>"
      ]
     },
     "metadata": {},
     "output_type": "display_data"
    }
   ],
   "source": [
    "sns.boxplot(x='KWH/hh', y='Acorn_grouped',\n",
    "            hue=\"stdorToU\", palette=[\"m\", \"g\", \"b\"],\n",
    "            data=df_less_99th_filtered) \n",
    "sns.despine(offset=10, trim=True)"
   ]
  },
  {
   "cell_type": "markdown",
   "metadata": {},
   "source": [
    "# 3. Classification\n",
    "\n",
    "In this section we are going to explore attempting to classify households based solely on their energy cosumption."
   ]
  },
  {
   "cell_type": "code",
   "execution_count": null,
   "metadata": {},
   "outputs": [],
   "source": [
    "import plotly.express as px\n",
    "\n",
    "from sklearn import tree\n",
    "from sklearn.ensemble import RandomForestClassifier\n",
    "from sklearn.metrics import accuracy_score\n",
    "from sklearn.model_selection import train_test_split, GridSearchCV\n",
    "from sklearn.neighbors import KNeighborsClassifier\n",
    "from sklearn.pipeline import make_pipeline\n",
    "from sklearn.preprocessing import StandardScaler\n",
    "from sklearn.svm import SVC"
   ]
  },
  {
   "cell_type": "markdown",
   "metadata": {},
   "source": [
    "We are going to start with df6 from above. This was filtered all the way down to all the usable lines before we added the tempature data. Since we are only trying to base this on consumption we do not need that portion of the data."
   ]
  },
  {
   "cell_type": "code",
   "execution_count": null,
   "metadata": {},
   "outputs": [],
   "source": [
    "df6.head()"
   ]
  },
  {
   "cell_type": "code",
   "execution_count": null,
   "metadata": {},
   "outputs": [],
   "source": [
    "df6[\"groups\"] = np.where(df6[\"Acorn_grouped\"] == \"Affluent\", 1, np.where(df6[\"Acorn_grouped\"] == \"Comfortable\", 2, 3))"
   ]
  },
  {
   "cell_type": "markdown",
   "metadata": {},
   "source": [
    "Here we groupby the households to get an idea of what the typical usage is for each home. "
   ]
  },
  {
   "cell_type": "code",
   "execution_count": null,
   "metadata": {},
   "outputs": [],
   "source": [
    "gb10 = data_frame.groupby(\"LCLid\").agg({\"KWH/hh\": [\"mean\", \"max\"], \"groups\": \"first\"})"
   ]
  },
  {
   "cell_type": "code",
   "execution_count": null,
   "metadata": {},
   "outputs": [],
   "source": [
    "gb10.head()"
   ]
  },
  {
   "cell_type": "code",
   "execution_count": null,
   "metadata": {},
   "outputs": [],
   "source": [
    "gb10 = gb10.droplevel(0, axis=1)"
   ]
  },
  {
   "cell_type": "markdown",
   "metadata": {},
   "source": [
    "First thing to do here is to split into test and training sets. "
   ]
  },
  {
   "cell_type": "code",
   "execution_count": null,
   "metadata": {},
   "outputs": [],
   "source": [
    "Xtrain, Xtest, y_train, y_test = train_test_split(gb10[[\"mean\", \"max\"]], gb10[\"first\"], random_state = 5, train_size = 0.8)"
   ]
  },
  {
   "cell_type": "markdown",
   "metadata": {},
   "source": [
    "From here the first step was to create some basic models to compare our adaptations to. For this we created models using kNN, Decision Trees, Random Forest and SVM."
   ]
  },
  {
   "cell_type": "code",
   "execution_count": null,
   "metadata": {},
   "outputs": [],
   "source": [
    "knn_model = KNeighborsClassifier(n_neighbors=2)\n",
    "knn_model.fit(Xtrain, y_train)\n",
    "knn_pred = knn_model.predict(Xtest)\n",
    "# accuracy_score(y_test, knn_pred)"
   ]
  },
  {
   "cell_type": "code",
   "execution_count": null,
   "metadata": {},
   "outputs": [],
   "source": [
    "dt_model = tree.DecisionTreeClassifier(min_samples_split=5, random_state=7)\n",
    "dt_model.fit(Xtrain, y_train)\n",
    "dt_preds = dt_model.predict(Xtest)\n",
    "# accuracy_score(y_test, dt_preds)"
   ]
  },
  {
   "cell_type": "code",
   "execution_count": null,
   "metadata": {},
   "outputs": [],
   "source": [
    "rf_model = RandomForestClassifier(n_estimators=100, min_samples_split=5,max_depth=10, random_state=0)\n",
    "rf_model.fit(Xtrain, y_train)\n",
    "rf_preds = dt_model.predict(Xtest)\n",
    "# accuracy_score(y_test, rf_preds)"
   ]
  },
  {
   "cell_type": "code",
   "execution_count": null,
   "metadata": {},
   "outputs": [],
   "source": [
    "svm_model = make_pipeline(StandardScaler(), SVC(gamma='auto'))\n",
    "svm_model.fit(Xtrain, y_train)\n",
    "svm_preds = svm_model.predict(Xtest)\n",
    "# accuracy_score(y_test, svm_preds)"
   ]
  },
  {
   "cell_type": "code",
   "execution_count": null,
   "metadata": {},
   "outputs": [],
   "source": [
    "print_model_acc(y_test, knn_preds, dt_preds, rf_preds, svm_preds)"
   ]
  },
  {
   "cell_type": "markdown",
   "metadata": {},
   "source": [
    "We are going to visualize the predictions to see if there are obvious differences in the models predictions. "
   ]
  },
  {
   "cell_type": "code",
   "execution_count": 3,
   "metadata": {},
   "outputs": [
    {
     "ename": "NameError",
     "evalue": "name 'Xtest' is not defined",
     "output_type": "error",
     "traceback": [
      "\u001b[0;31m---------------------------------------------------------------------------\u001b[0m",
      "\u001b[0;31mNameError\u001b[0m                                 Traceback (most recent call last)",
      "\u001b[1;32m/Users/jhall/Desktop/depaul/DSC672/Project/DSC672/src/final.ipynb Cell 161'\u001b[0m in \u001b[0;36m<cell line: 1>\u001b[0;34m()\u001b[0m\n\u001b[0;32m----> <a href='vscode-notebook-cell:/Users/jhall/Desktop/depaul/DSC672/Project/DSC672/src/final.ipynb#ch0000170?line=0'>1</a>\u001b[0m Xtest_answers \u001b[39m=\u001b[39m Xtest\n",
      "\u001b[0;31mNameError\u001b[0m: name 'Xtest' is not defined"
     ]
    }
   ],
   "source": [
    "Xtest_answers = Xtest"
   ]
  },
  {
   "cell_type": "code",
   "execution_count": null,
   "metadata": {},
   "outputs": [],
   "source": [
    "Xtest_answers[\"knn\"] = knn_pred\n",
    "Xtest_answers[\"dt\"] = dt_preds\n",
    "Xtest_answers[\"rf\"] = rf_preds\n",
    "Xtest_answers[\"svm\"] = svm_preds"
   ]
  },
  {
   "cell_type": "code",
   "execution_count": null,
   "metadata": {},
   "outputs": [],
   "source": [
    "Xtest_answers[\"knn_correct\"] = Xtest_answers.knn == Xtest_answers.target\n",
    "Xtest_answers[\"dt_correct\"] = Xtest_answers.dt == Xtest_answers.target\n",
    "Xtest_answers[\"rf_correct\"] = Xtest_answers.rf == Xtest_answers.target\n",
    "Xtest_answers[\"svm_correct\"] = Xtest_answers.svm == Xtest_answers.target"
   ]
  },
  {
   "cell_type": "code",
   "execution_count": null,
   "metadata": {},
   "outputs": [],
   "source": [
    "px.scatter(Xtest_answers, x=\"max\", y=\"mean\", color=\"knn_correct\", opacity=0.6, symbol='target', category_orders={\"knn_correct\": [True, False]})"
   ]
  },
  {
   "cell_type": "code",
   "execution_count": null,
   "metadata": {},
   "outputs": [],
   "source": [
    "px.scatter(Xtest_answers, x=\"max\", y=\"mean\", color=\"svm_correct\", opacity=0.6, symbol='target', category_orders={\"svm_correct\": [True, False]})"
   ]
  },
  {
   "cell_type": "code",
   "execution_count": null,
   "metadata": {},
   "outputs": [],
   "source": [
    "px.scatter(Xtest_answers, x=\"max\", y=\"mean\", color=\"dt_correct\", opacity=0.6, symbol='target',category_orders={\"dt_correct\": [True, False]})"
   ]
  },
  {
   "cell_type": "code",
   "execution_count": null,
   "metadata": {},
   "outputs": [],
   "source": [
    "px.scatter(Xtest_answers, x=\"max\", y=\"mean\", color=\"rf_correct\", opacity=0.6, symbol='target',category_orders={\"rf_correct\": [True, False]})"
   ]
  },
  {
   "cell_type": "markdown",
   "metadata": {},
   "source": [
    "The next step here is to try to optimize each of the models. We are going this with gridsearch cross validation for each of the models. "
   ]
  },
  {
   "cell_type": "code",
   "execution_count": null,
   "metadata": {},
   "outputs": [],
   "source": [
    "svc_parameters = {'kernel':['linear', 'sigmoid', 'rbf'], 'C':[1, 2, 5, 10, 20], \"degree\": [3, 5, 10], 'shrinking': [True, False], }\n",
    "svc = SVC()\n",
    "svc_grid = GridSearchCV(svc, svc_parameters)\n",
    "svc_grid.fit(Xtrain, y_train)"
   ]
  },
  {
   "cell_type": "code",
   "execution_count": null,
   "metadata": {},
   "outputs": [],
   "source": [
    "svc_grid.best_params_"
   ]
  },
  {
   "cell_type": "code",
   "execution_count": null,
   "metadata": {},
   "outputs": [],
   "source": [
    "svc_grid.best_score_"
   ]
  },
  {
   "cell_type": "code",
   "execution_count": null,
   "metadata": {},
   "outputs": [],
   "source": [
    "knn_parameters = {\n",
    "    \"n_neighbors\": [2, 3, 4, 5, 7, 10, 20],\n",
    "    \"algorithm\": [\"auto\", \"ball_tree\", \"kd_tree\"],\n",
    "    \"p\": [1, 2, 3],\n",
    "    \"leaf_size\": [10, 30, 50, 100],\n",
    "    \"weights\": [\"uniform\", \"distance\"],\n",
    "}\n",
    "knn = KNeighborsClassifier()\n",
    "knn_grid = GridSearchCV(knn, knn_parameters)\n",
    "knn_grid.fit(Xtrain, y_train)"
   ]
  },
  {
   "cell_type": "code",
   "execution_count": null,
   "metadata": {},
   "outputs": [],
   "source": [
    "knn_grid.best_params_"
   ]
  },
  {
   "cell_type": "code",
   "execution_count": null,
   "metadata": {},
   "outputs": [],
   "source": [
    "knn_grid.best_score_"
   ]
  },
  {
   "cell_type": "code",
   "execution_count": null,
   "metadata": {},
   "outputs": [],
   "source": [
    "dt_parameters = {\n",
    "    \"criterion\": [\"gini\", \"entropy\", \"log_loss\"],\n",
    "    \"max_depth\": [5, 10, 15, 20, 30],\n",
    "    \"min_samples_leaf\": [1, 2, 5, 10],\n",
    "}\n",
    "dt = tree.DecisionTreeClassifier()\n",
    "dt_grid = GridSearchCV(dt, dt_parameters)\n",
    "dt_grid.fit(Xtrain, y_train)"
   ]
  },
  {
   "cell_type": "code",
   "execution_count": null,
   "metadata": {},
   "outputs": [],
   "source": [
    "dt_grid.best_params_"
   ]
  },
  {
   "cell_type": "code",
   "execution_count": null,
   "metadata": {},
   "outputs": [],
   "source": [
    "dt_grid.best_score_"
   ]
  },
  {
   "cell_type": "code",
   "execution_count": null,
   "metadata": {},
   "outputs": [],
   "source": [
    "rf_parameters = {\n",
    "    \"n_estimators\": [5, 10, 50, 100, 200, 500],\n",
    "    \"criterion\": [\"gini\", \"entropy\", \"log_loss\"],\n",
    "    \"max_depth\": [5, 10, 15, 20, 30, None],\n",
    "    \"min_samples_leaf\": [1, 2, 5, 10],\n",
    "    \"min_weight_fraction_leaf\": [0.0, 0.3, 0.7, 1, 2]\n",
    "}\n",
    "rf = RandomForestClassifier()\n",
    "rf_grid = GridSearchCV(rf, rf_parameters)\n",
    "rf_grid.fit(Xtrain, y_train)"
   ]
  },
  {
   "cell_type": "code",
   "execution_count": null,
   "metadata": {},
   "outputs": [],
   "source": [
    "rf_grid.best_params_"
   ]
  },
  {
   "cell_type": "code",
   "execution_count": null,
   "metadata": {},
   "outputs": [],
   "source": [
    "rf_grid.best_score_"
   ]
  },
  {
   "cell_type": "markdown",
   "metadata": {},
   "source": [
    "As you can see each of these models except for kNN was optimized via the grid search to improve the accuaracy. Now we are going to run the Xtest data through these models. "
   ]
  },
  {
   "cell_type": "code",
   "execution_count": null,
   "metadata": {},
   "outputs": [],
   "source": [
    "rf_preds_2 = rf_model.predict(Xtest)\n",
    "# accuracy_score(y_test, rf_preds_2)"
   ]
  },
  {
   "cell_type": "code",
   "execution_count": null,
   "metadata": {},
   "outputs": [],
   "source": [
    "dt_preds_2 = dt_model.predict(Xtest)\n",
    "# accuracy_score(y_test, dt_preds_2)"
   ]
  },
  {
   "cell_type": "code",
   "execution_count": null,
   "metadata": {},
   "outputs": [],
   "source": [
    "knn_preds_2 = knn_model.predict(Xtest)\n",
    "# accuracy_score(y_test, knn_preds_2)"
   ]
  },
  {
   "cell_type": "code",
   "execution_count": null,
   "metadata": {},
   "outputs": [],
   "source": [
    "svm_preds_2 = svm_model.predict(Xtest)\n",
    "# accuracy_score(y_test, svm_preds_2)"
   ]
  },
  {
   "cell_type": "code",
   "execution_count": null,
   "metadata": {},
   "outputs": [],
   "source": [
    "print_model_acc(y_test, knn_preds_2, dt_preds_2, rf_preds_2, svm_preds_2)"
   ]
  },
  {
   "cell_type": "markdown",
   "metadata": {},
   "source": [
    "This has shown that even in the test data these models all improved slightly. But we have not dramatically improved over the SVM base model yet. We are going to look at the visual outputs of the predictions again."
   ]
  },
  {
   "cell_type": "code",
   "execution_count": null,
   "metadata": {},
   "outputs": [],
   "source": [
    "Xtest_answers_2 = Xtest"
   ]
  },
  {
   "cell_type": "code",
   "execution_count": null,
   "metadata": {},
   "outputs": [],
   "source": [
    "Xtest_answers_2[\"knn\"] = knn_pred_2\n",
    "Xtest_answers_2[\"dt\"] = dt_preds_2\n",
    "Xtest_answers_2[\"rf\"] = rf_preds_2\n",
    "Xtest_answers_2[\"svm\"] = svm_preds_2"
   ]
  },
  {
   "cell_type": "code",
   "execution_count": null,
   "metadata": {},
   "outputs": [],
   "source": [
    "Xtest_answers_2[\"knn_correct\"] = Xtest_answers_2.knn == Xtest_answers_2.target\n",
    "Xtest_answers_2[\"dt_correct\"] = Xtest_answers_2.dt == Xtest_answers_2.target\n",
    "Xtest_answers_2[\"rf_correct\"] = Xtest_answers_2.rf == Xtest_answers_2.target\n",
    "Xtest_answers_2[\"svm_correct\"] = Xtest_answers_2.svm == Xtest_answers_2.target"
   ]
  },
  {
   "cell_type": "code",
   "execution_count": null,
   "metadata": {},
   "outputs": [],
   "source": [
    "px.scatter(Xtest_answers_2, x=\"max\", y=\"mean\", color=\"knn_correct\", opacity=0.6, symbol='target', category_orders={\"knn_correct\": [True, False]})"
   ]
  },
  {
   "cell_type": "code",
   "execution_count": null,
   "metadata": {},
   "outputs": [],
   "source": [
    "px.scatter(Xtest_answers_2, x=\"max\", y=\"mean\", color=\"svm_correct\", opacity=0.6, symbol='target', category_orders={\"svm_correct\": [True, False]})"
   ]
  },
  {
   "cell_type": "code",
   "execution_count": null,
   "metadata": {},
   "outputs": [],
   "source": [
    "px.scatter(Xtest_answers_2, x=\"max\", y=\"mean\", color=\"dt_correct\", opacity=0.6, symbol='target',category_orders={\"dt_correct\": [True, False]})"
   ]
  },
  {
   "cell_type": "code",
   "execution_count": null,
   "metadata": {},
   "outputs": [],
   "source": [
    "px.scatter(Xtest_answers_2, x=\"max\", y=\"mean\", color=\"rf_correct\", opacity=0.6, symbol='target',category_orders={\"rf_correct\": [True, False]})"
   ]
  },
  {
   "cell_type": "markdown",
   "metadata": {},
   "source": [
    "After inspecting these there are some instances that are easy to see where multiple models where getting the same prediction but a third model was wrong. Therefore it seems obvious that we could attempt to implement a voting system and potentially improve the overall performance of the models if they are used together. \n",
    "\n",
    "The first voting system gives every model the same weight. The second gives a larger weigtht to SVM.  "
   ]
  },
  {
   "cell_type": "code",
   "execution_count": null,
   "metadata": {},
   "outputs": [],
   "source": [
    "final_array = voting_system(svm_preds, knn_preds, dt_preds, rf_preds)"
   ]
  },
  {
   "cell_type": "code",
   "execution_count": null,
   "metadata": {},
   "outputs": [],
   "source": [
    "accuracy_score(y_test, final_array)"
   ]
  },
  {
   "cell_type": "code",
   "execution_count": null,
   "metadata": {},
   "outputs": [],
   "source": [
    "final_array2 = voting_system(svm_preds, knn_preds, dt_preds, rf_preds)"
   ]
  },
  {
   "cell_type": "code",
   "execution_count": null,
   "metadata": {},
   "outputs": [],
   "source": [
    "accuracy_score(y_test, final_array2)"
   ]
  },
  {
   "cell_type": "markdown",
   "metadata": {},
   "source": [
    "As you can see we did not improve the accuracy of the overall system compared to the optimized SVM. Therfore for this dataset that is the best model.\n",
    "\n",
    "The last thing we are going to explore is removing the top 1% as we did above and see if that helps the classification models. "
   ]
  },
  {
   "cell_type": "code",
   "execution_count": null,
   "metadata": {},
   "outputs": [],
   "source": []
  },
  {
   "cell_type": "markdown",
   "metadata": {},
   "source": [
    "1. Data Cleaning (use read_data from utils.py)\n",
    "2. Data Exploration\n",
    "    1. Creating features\n",
    "    1. Adding Temp?\n",
    "    1. Clustering\n",
    "3. Time Series Analysis\n",
    "    1. Building models\n",
    "    1. Evaluating models\n",
    "    1. Major Takeaways/Results\n",
    "4. Classification Analysis\n",
    "    1. Building models\n",
    "    1. Evaluating models\n",
    "    1. Major Takeaways/Results"
   ]
  }
 ],
 "metadata": {
  "kernelspec": {
   "display_name": "Python 3",
   "language": "python",
   "name": "python3"
  },
  "language_info": {
   "codemirror_mode": {
    "name": "ipython",
    "version": 3
   },
   "file_extension": ".py",
   "mimetype": "text/x-python",
   "name": "python",
   "nbconvert_exporter": "python",
   "pygments_lexer": "ipython3",
   "version": "3.8.5"
  }
 },
 "nbformat": 4,
 "nbformat_minor": 4
}
