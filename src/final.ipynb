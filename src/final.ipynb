{
 "cells": [
  {
   "cell_type": "markdown",
   "metadata": {},
   "source": [
    "### DSC672 Group 10 Final Project\n",
    "\n",
    "Classification, Clustering, and Time Series Analysis of London Smart Meter Data\n",
    "\n",
    "by: Jennifer Franks and Josh Hall\n",
    "\n"
   ]
  },
  {
   "cell_type": "code",
   "execution_count": null,
   "metadata": {},
   "outputs": [],
   "source": [
    "# Put all of our imports here\n",
    "\n",
    "# python library\n",
    "\n",
    "\n",
    "# 3rd party library\n",
    "import numpy as np\n",
    "import matplotlib.pyplot as plt\n",
    "from minisom import MiniSom # This is for the unsupervised clustering\n",
    "import pandas as pd\n",
    "import seaborn as sns\n",
    "from sklearn.cluster import KMeans\n",
    "from sklearn.decomposition import PCA\n",
    "\n",
    "# local modules\n",
    "import utils"
   ]
  },
  {
   "cell_type": "markdown",
   "metadata": {},
   "source": [
    "Then we should basically clean up each of the notebook sections and put them in here as follows:\n",
    "\n",
    "\n",
    "1. Data Cleaning (use read_data from utils.py)\n",
    "1. Data Exploration\n",
    "    1. Creating features\n",
    "    1. Adding Temp?\n",
    "    1. Clustering\n",
    "1. Time Series Analysis\n",
    "    1. Building models\n",
    "    1. Evaluating models\n",
    "    1. Major Takeaways/Results\n",
    "1. Classification Analysis\n",
    "      1. Building models\n",
    "      1. Evaluating models\n",
    "      1. Major Takeaways/Results\n",
    "\n",
    "This markdown is our guide and we should remove it once we finish the notebook. "
   ]
  },
  {
   "cell_type": "code",
   "execution_count": null,
   "metadata": {},
   "outputs": [],
   "source": [
    "# Should probably rename this to not df. should be like base_df or something. \n",
    "# I just do not want to mess up all of the cells that you would copy and paste in here. \n",
    "df = utils.read_data(path=\"../data/\")"
   ]
  }
 ],
 "metadata": {
  "interpreter": {
   "hash": "b639160d2809dc83ccc933c15f415433651252739a31f9cb2360d773e521f41e"
  },
  "kernelspec": {
   "display_name": "Python 3.8.12 ('csc521')",
   "language": "python",
   "name": "python3"
  },
  "language_info": {
   "codemirror_mode": {
    "name": "ipython",
    "version": 3
   },
   "file_extension": ".py",
   "mimetype": "text/x-python",
   "name": "python",
   "nbconvert_exporter": "python",
   "pygments_lexer": "ipython3",
   "version": "3.8.12"
  },
  "orig_nbformat": 4
 },
 "nbformat": 4,
 "nbformat_minor": 2
}
