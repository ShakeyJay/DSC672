{
 "cells": [
  {
   "cell_type": "markdown",
   "metadata": {},
   "source": [
    "## Classification Part 2\n",
    "\n",
    "1. Here I am going to try and build on my clustering attempts but using actual classification models.\n",
    "1. Updated data from Data Cleaning to use same data as Jesse\n",
    "1. Try to beat the prediction accuracy of Clustering. \n",
    "1. Find the best basic model.\n",
    "\n",
    "\n",
    "## Further Expantion in Part 3\n",
    "1. Move from a basic model to the more advanced models.\n",
    "1. Split data into time of year or try to get seasonal trends out of the data that can skew things.\n",
    "1. Finalize the model and accuracy."
   ]
  },
  {
   "cell_type": "markdown",
   "metadata": {},
   "source": [
    "## Thoughts at this point. End of Update 1\n",
    "\n",
    "1. First off this was always going to be hard because income level does not determine what you do for fun in your free time. Some people have a lot of money and watch a lot of TV. Some people have no money or Job so they watch a lot of TV. \n",
    "1. I think there are quite a few outliers so I think maybe we do something to separate those out of the dataset and try again.\n",
    "1. Split Into averages for time of day I think this might get us closer to what we are looking for. \n",
    "1. Make sure each cluster has close to the same number of values? \n",
    "    1. So far there has always been 1 with far few values than the others. \n",
    "    1. I think that this coinsides with the outliers forcing a centroid to far away from the rest of the data."
   ]
  },
  {
   "cell_type": "code",
   "execution_count": null,
   "metadata": {},
   "outputs": [],
   "source": []
  },
  {
   "cell_type": "code",
   "execution_count": 68,
   "metadata": {},
   "outputs": [],
   "source": [
    "import pandas as pd\n",
    "import plotly.express as px\n",
    "import numpy as np\n",
    "\n",
    "# Find the correct sklearn packages.\n",
    "# KNN, Decision Tree, RandomForest, SVM\n",
    "from sklearn.neighbors import KNeighborsClassifier\n",
    "\n",
    "\n",
    "from sklearn.metrics import accuracy_score\n",
    "from sklearn.model_selection import train_test_split"
   ]
  },
  {
   "cell_type": "code",
   "execution_count": 2,
   "metadata": {},
   "outputs": [],
   "source": [
    "data_frame = pd.read_csv(\"final_data.csv\")"
   ]
  },
  {
   "cell_type": "code",
   "execution_count": 3,
   "metadata": {},
   "outputs": [
    {
     "data": {
      "text/html": [
       "<div>\n",
       "<style scoped>\n",
       "    .dataframe tbody tr th:only-of-type {\n",
       "        vertical-align: middle;\n",
       "    }\n",
       "\n",
       "    .dataframe tbody tr th {\n",
       "        vertical-align: top;\n",
       "    }\n",
       "\n",
       "    .dataframe thead th {\n",
       "        text-align: right;\n",
       "    }\n",
       "</style>\n",
       "<table border=\"1\" class=\"dataframe\">\n",
       "  <thead>\n",
       "    <tr style=\"text-align: right;\">\n",
       "      <th></th>\n",
       "      <th>DateTime</th>\n",
       "      <th>LCLid</th>\n",
       "      <th>stdorToU</th>\n",
       "      <th>KWH/hh</th>\n",
       "      <th>Acorn</th>\n",
       "      <th>Acorn_grouped</th>\n",
       "      <th>Day</th>\n",
       "      <th>Month</th>\n",
       "    </tr>\n",
       "  </thead>\n",
       "  <tbody>\n",
       "    <tr>\n",
       "      <th>0</th>\n",
       "      <td>2013-01-01 00:00:00</td>\n",
       "      <td>MAC000769</td>\n",
       "      <td>Std</td>\n",
       "      <td>0.014</td>\n",
       "      <td>ACORN-F</td>\n",
       "      <td>Comfortable</td>\n",
       "      <td>Tuesday</td>\n",
       "      <td>January</td>\n",
       "    </tr>\n",
       "    <tr>\n",
       "      <th>1</th>\n",
       "      <td>2013-01-01 00:30:00</td>\n",
       "      <td>MAC000769</td>\n",
       "      <td>Std</td>\n",
       "      <td>0.000</td>\n",
       "      <td>ACORN-F</td>\n",
       "      <td>Comfortable</td>\n",
       "      <td>Tuesday</td>\n",
       "      <td>January</td>\n",
       "    </tr>\n",
       "    <tr>\n",
       "      <th>2</th>\n",
       "      <td>2013-01-01 01:00:00</td>\n",
       "      <td>MAC000769</td>\n",
       "      <td>Std</td>\n",
       "      <td>0.044</td>\n",
       "      <td>ACORN-F</td>\n",
       "      <td>Comfortable</td>\n",
       "      <td>Tuesday</td>\n",
       "      <td>January</td>\n",
       "    </tr>\n",
       "    <tr>\n",
       "      <th>3</th>\n",
       "      <td>2013-01-01 01:30:00</td>\n",
       "      <td>MAC000769</td>\n",
       "      <td>Std</td>\n",
       "      <td>0.036</td>\n",
       "      <td>ACORN-F</td>\n",
       "      <td>Comfortable</td>\n",
       "      <td>Tuesday</td>\n",
       "      <td>January</td>\n",
       "    </tr>\n",
       "    <tr>\n",
       "      <th>4</th>\n",
       "      <td>2013-01-01 02:00:00</td>\n",
       "      <td>MAC000769</td>\n",
       "      <td>Std</td>\n",
       "      <td>0.029</td>\n",
       "      <td>ACORN-F</td>\n",
       "      <td>Comfortable</td>\n",
       "      <td>Tuesday</td>\n",
       "      <td>January</td>\n",
       "    </tr>\n",
       "  </tbody>\n",
       "</table>\n",
       "</div>"
      ],
      "text/plain": [
       "              DateTime      LCLid stdorToU  KWH/hh    Acorn Acorn_grouped  \\\n",
       "0  2013-01-01 00:00:00  MAC000769      Std   0.014  ACORN-F   Comfortable   \n",
       "1  2013-01-01 00:30:00  MAC000769      Std   0.000  ACORN-F   Comfortable   \n",
       "2  2013-01-01 01:00:00  MAC000769      Std   0.044  ACORN-F   Comfortable   \n",
       "3  2013-01-01 01:30:00  MAC000769      Std   0.036  ACORN-F   Comfortable   \n",
       "4  2013-01-01 02:00:00  MAC000769      Std   0.029  ACORN-F   Comfortable   \n",
       "\n",
       "       Day    Month  \n",
       "0  Tuesday  January  \n",
       "1  Tuesday  January  \n",
       "2  Tuesday  January  \n",
       "3  Tuesday  January  \n",
       "4  Tuesday  January  "
      ]
     },
     "execution_count": 3,
     "metadata": {},
     "output_type": "execute_result"
    }
   ],
   "source": [
    "data_frame.head()"
   ]
  },
  {
   "cell_type": "code",
   "execution_count": 22,
   "metadata": {},
   "outputs": [
    {
     "ename": "TypeError",
     "evalue": "'DataFrameGroupBy' object does not support item assignment",
     "output_type": "error",
     "traceback": [
      "\u001b[0;31m---------------------------------------------------------------------------\u001b[0m",
      "\u001b[0;31mTypeError\u001b[0m                                 Traceback (most recent call last)",
      "\u001b[1;32m/Users/jhall/Desktop/depaul/DSC672/Project/DSC672/src/classification_part2.ipynb Cell 9'\u001b[0m in \u001b[0;36m<cell line: 1>\u001b[0;34m()\u001b[0m\n\u001b[0;32m----> <a href='vscode-notebook-cell:/Users/jhall/Desktop/depaul/DSC672/Project/DSC672/src/classification_part2.ipynb#ch0000009?line=0'>1</a>\u001b[0m groups[\u001b[39m\"\u001b[39m\u001b[39mgroups\u001b[39m\u001b[39m\"\u001b[39m] \u001b[39m=\u001b[39m np\u001b[39m.\u001b[39mwhere(groups[\u001b[39m\"\u001b[39m\u001b[39mAcorn_grouped\u001b[39m\u001b[39m\"\u001b[39m] \u001b[39m==\u001b[39m \u001b[39m\"\u001b[39m\u001b[39mAffluent\u001b[39m\u001b[39m\"\u001b[39m, \u001b[39m1\u001b[39m, np\u001b[39m.\u001b[39mwhere(groups[\u001b[39m\"\u001b[39m\u001b[39mAcorn_grouped\u001b[39m\u001b[39m\"\u001b[39m] \u001b[39m==\u001b[39m \u001b[39m\"\u001b[39m\u001b[39mComfortable\u001b[39m\u001b[39m\"\u001b[39m, \u001b[39m2\u001b[39m, \u001b[39m3\u001b[39m))\n",
      "\u001b[0;31mTypeError\u001b[0m: 'DataFrameGroupBy' object does not support item assignment"
     ]
    }
   ],
   "source": [
    "data_frame[\"groups\"] = np.where(data_frame[\"Acorn_grouped\"] == \"Affluent\", 1, np.where(data_frame[\"Acorn_grouped\"] == \"Comfortable\", 2, 3))"
   ]
  },
  {
   "cell_type": "code",
   "execution_count": 23,
   "metadata": {},
   "outputs": [],
   "source": [
    "X = data_frame.groupby(\"LCLid\").agg({\"KWH/hh\": [\"mean\", \"max\"], \"groups\": \"first\"})"
   ]
  },
  {
   "cell_type": "code",
   "execution_count": 27,
   "metadata": {},
   "outputs": [
    {
     "data": {
      "text/html": [
       "<div>\n",
       "<style scoped>\n",
       "    .dataframe tbody tr th:only-of-type {\n",
       "        vertical-align: middle;\n",
       "    }\n",
       "\n",
       "    .dataframe tbody tr th {\n",
       "        vertical-align: top;\n",
       "    }\n",
       "\n",
       "    .dataframe thead tr th {\n",
       "        text-align: left;\n",
       "    }\n",
       "\n",
       "    .dataframe thead tr:last-of-type th {\n",
       "        text-align: right;\n",
       "    }\n",
       "</style>\n",
       "<table border=\"1\" class=\"dataframe\">\n",
       "  <thead>\n",
       "    <tr>\n",
       "      <th></th>\n",
       "      <th colspan=\"2\" halign=\"left\">KWH/hh</th>\n",
       "      <th>groups</th>\n",
       "    </tr>\n",
       "    <tr>\n",
       "      <th></th>\n",
       "      <th>mean</th>\n",
       "      <th>max</th>\n",
       "      <th>first</th>\n",
       "    </tr>\n",
       "    <tr>\n",
       "      <th>LCLid</th>\n",
       "      <th></th>\n",
       "      <th></th>\n",
       "      <th></th>\n",
       "    </tr>\n",
       "  </thead>\n",
       "  <tbody>\n",
       "    <tr>\n",
       "      <th>MAC000002</th>\n",
       "      <td>0.240788</td>\n",
       "      <td>2.994</td>\n",
       "      <td>1</td>\n",
       "    </tr>\n",
       "    <tr>\n",
       "      <th>MAC000006</th>\n",
       "      <td>0.060175</td>\n",
       "      <td>0.774</td>\n",
       "      <td>3</td>\n",
       "    </tr>\n",
       "    <tr>\n",
       "      <th>MAC000010</th>\n",
       "      <td>0.532447</td>\n",
       "      <td>4.189</td>\n",
       "      <td>2</td>\n",
       "    </tr>\n",
       "    <tr>\n",
       "      <th>MAC000018</th>\n",
       "      <td>0.212908</td>\n",
       "      <td>2.088</td>\n",
       "      <td>1</td>\n",
       "    </tr>\n",
       "    <tr>\n",
       "      <th>MAC000019</th>\n",
       "      <td>0.131976</td>\n",
       "      <td>1.641</td>\n",
       "      <td>3</td>\n",
       "    </tr>\n",
       "  </tbody>\n",
       "</table>\n",
       "</div>"
      ],
      "text/plain": [
       "             KWH/hh        groups\n",
       "               mean    max  first\n",
       "LCLid                            \n",
       "MAC000002  0.240788  2.994      1\n",
       "MAC000006  0.060175  0.774      3\n",
       "MAC000010  0.532447  4.189      2\n",
       "MAC000018  0.212908  2.088      1\n",
       "MAC000019  0.131976  1.641      3"
      ]
     },
     "execution_count": 27,
     "metadata": {},
     "output_type": "execute_result"
    }
   ],
   "source": [
    "X.head()"
   ]
  },
  {
   "cell_type": "code",
   "execution_count": 34,
   "metadata": {},
   "outputs": [],
   "source": [
    "X = X.droplevel(0, axis=1)"
   ]
  },
  {
   "cell_type": "code",
   "execution_count": 67,
   "metadata": {},
   "outputs": [
    {
     "data": {
      "text/html": [
       "<div>\n",
       "<style scoped>\n",
       "    .dataframe tbody tr th:only-of-type {\n",
       "        vertical-align: middle;\n",
       "    }\n",
       "\n",
       "    .dataframe tbody tr th {\n",
       "        vertical-align: top;\n",
       "    }\n",
       "\n",
       "    .dataframe thead th {\n",
       "        text-align: right;\n",
       "    }\n",
       "</style>\n",
       "<table border=\"1\" class=\"dataframe\">\n",
       "  <thead>\n",
       "    <tr style=\"text-align: right;\">\n",
       "      <th></th>\n",
       "      <th>mean</th>\n",
       "      <th>max</th>\n",
       "      <th>first</th>\n",
       "    </tr>\n",
       "    <tr>\n",
       "      <th>LCLid</th>\n",
       "      <th></th>\n",
       "      <th></th>\n",
       "      <th></th>\n",
       "    </tr>\n",
       "  </thead>\n",
       "  <tbody>\n",
       "    <tr>\n",
       "      <th>MAC000002</th>\n",
       "      <td>0.240788</td>\n",
       "      <td>2.994</td>\n",
       "      <td>1</td>\n",
       "    </tr>\n",
       "    <tr>\n",
       "      <th>MAC000006</th>\n",
       "      <td>0.060175</td>\n",
       "      <td>0.774</td>\n",
       "      <td>3</td>\n",
       "    </tr>\n",
       "    <tr>\n",
       "      <th>MAC000010</th>\n",
       "      <td>0.532447</td>\n",
       "      <td>4.189</td>\n",
       "      <td>2</td>\n",
       "    </tr>\n",
       "    <tr>\n",
       "      <th>MAC000018</th>\n",
       "      <td>0.212908</td>\n",
       "      <td>2.088</td>\n",
       "      <td>1</td>\n",
       "    </tr>\n",
       "    <tr>\n",
       "      <th>MAC000019</th>\n",
       "      <td>0.131976</td>\n",
       "      <td>1.641</td>\n",
       "      <td>3</td>\n",
       "    </tr>\n",
       "  </tbody>\n",
       "</table>\n",
       "</div>"
      ],
      "text/plain": [
       "               mean    max  first\n",
       "LCLid                            \n",
       "MAC000002  0.240788  2.994      1\n",
       "MAC000006  0.060175  0.774      3\n",
       "MAC000010  0.532447  4.189      2\n",
       "MAC000018  0.212908  2.088      1\n",
       "MAC000019  0.131976  1.641      3"
      ]
     },
     "execution_count": 67,
     "metadata": {},
     "output_type": "execute_result"
    }
   ],
   "source": [
    "X.head()"
   ]
  },
  {
   "cell_type": "code",
   "execution_count": 37,
   "metadata": {},
   "outputs": [],
   "source": [
    "x = X[[\"mean\", \"max\"]]"
   ]
  },
  {
   "cell_type": "code",
   "execution_count": 69,
   "metadata": {},
   "outputs": [],
   "source": [
    "Xtrain, Xtest, y_train, y_test = train_test_split(X[[\"mean\", \"max\"]], X[\"first\"], random_state = 5, train_size = 0.8)"
   ]
  },
  {
   "cell_type": "code",
   "execution_count": 70,
   "metadata": {},
   "outputs": [
    {
     "data": {
      "text/plain": [
       "KNeighborsClassifier(n_neighbors=2)"
      ]
     },
     "execution_count": 70,
     "metadata": {},
     "output_type": "execute_result"
    }
   ],
   "source": [
    "model = KNeighborsClassifier(n_neighbors=2)\n",
    "model.fit(Xtrain, y_train)\n"
   ]
  },
  {
   "cell_type": "code",
   "execution_count": 71,
   "metadata": {},
   "outputs": [],
   "source": [
    "knn_pred = model.predict(Xtest)\n"
   ]
  },
  {
   "cell_type": "code",
   "execution_count": 72,
   "metadata": {},
   "outputs": [
    {
     "data": {
      "text/plain": [
       "0.40625"
      ]
     },
     "execution_count": 72,
     "metadata": {},
     "output_type": "execute_result"
    }
   ],
   "source": [
    "accuracy_score(y_test, knn_pred)"
   ]
  },
  {
   "cell_type": "markdown",
   "metadata": {},
   "source": [
    "40% testing accuracy with base settings"
   ]
  },
  {
   "cell_type": "code",
   "execution_count": 73,
   "metadata": {},
   "outputs": [],
   "source": [
    "from sklearn import tree"
   ]
  },
  {
   "cell_type": "code",
   "execution_count": 139,
   "metadata": {},
   "outputs": [],
   "source": [
    "dt_model = tree.DecisionTreeClassifier(min_samples_split=5, random_state=7)"
   ]
  },
  {
   "cell_type": "code",
   "execution_count": 140,
   "metadata": {},
   "outputs": [
    {
     "data": {
      "text/plain": [
       "DecisionTreeClassifier(min_samples_split=5, random_state=7)"
      ]
     },
     "execution_count": 140,
     "metadata": {},
     "output_type": "execute_result"
    }
   ],
   "source": [
    "dt_model.fit(Xtrain, y_train)"
   ]
  },
  {
   "cell_type": "code",
   "execution_count": 141,
   "metadata": {},
   "outputs": [],
   "source": [
    "dt_preds = dt_model.predict(Xtest)"
   ]
  },
  {
   "cell_type": "code",
   "execution_count": 142,
   "metadata": {},
   "outputs": [
    {
     "data": {
      "text/plain": [
       "0.32589285714285715"
      ]
     },
     "execution_count": 142,
     "metadata": {},
     "output_type": "execute_result"
    }
   ],
   "source": [
    "accuracy_score(y_test, dt_preds)"
   ]
  },
  {
   "cell_type": "markdown",
   "metadata": {},
   "source": [
    "32% testing accuracy with base settings"
   ]
  },
  {
   "cell_type": "code",
   "execution_count": 143,
   "metadata": {},
   "outputs": [
    {
     "data": {
      "text/plain": [
       "21"
      ]
     },
     "execution_count": 143,
     "metadata": {},
     "output_type": "execute_result"
    }
   ],
   "source": [
    "dt_model.get_depth()"
   ]
  },
  {
   "cell_type": "code",
   "execution_count": 144,
   "metadata": {},
   "outputs": [],
   "source": [
    "from sklearn.ensemble import RandomForestClassifier"
   ]
  },
  {
   "cell_type": "code",
   "execution_count": 145,
   "metadata": {},
   "outputs": [],
   "source": [
    "rf_model = RandomForestClassifier(n_estimators=100, min_samples_split=5,max_depth=10, random_state=0)"
   ]
  },
  {
   "cell_type": "code",
   "execution_count": 146,
   "metadata": {},
   "outputs": [
    {
     "data": {
      "text/plain": [
       "RandomForestClassifier(max_depth=10, min_samples_split=5, random_state=0)"
      ]
     },
     "execution_count": 146,
     "metadata": {},
     "output_type": "execute_result"
    }
   ],
   "source": [
    "rf_model.fit(Xtrain, y_train)"
   ]
  },
  {
   "cell_type": "code",
   "execution_count": 147,
   "metadata": {},
   "outputs": [],
   "source": [
    "rf_preds = dt_model.predict(Xtest)"
   ]
  },
  {
   "cell_type": "code",
   "execution_count": 148,
   "metadata": {},
   "outputs": [
    {
     "data": {
      "text/plain": [
       "0.32589285714285715"
      ]
     },
     "execution_count": 148,
     "metadata": {},
     "output_type": "execute_result"
    }
   ],
   "source": [
    "accuracy_score(y_test, rf_preds)"
   ]
  },
  {
   "cell_type": "code",
   "execution_count": 156,
   "metadata": {},
   "outputs": [],
   "source": [
    "from sklearn.svm import SVC\n",
    "from sklearn.preprocessing import StandardScaler\n",
    "from sklearn.pipeline import make_pipeline"
   ]
  },
  {
   "cell_type": "code",
   "execution_count": 157,
   "metadata": {},
   "outputs": [],
   "source": [
    "svm_model = make_pipeline(StandardScaler(), SVC(gamma='auto'))"
   ]
  },
  {
   "cell_type": "code",
   "execution_count": 158,
   "metadata": {},
   "outputs": [
    {
     "data": {
      "text/plain": [
       "Pipeline(steps=[('standardscaler', StandardScaler()),\n",
       "                ('svc', SVC(gamma='auto'))])"
      ]
     },
     "execution_count": 158,
     "metadata": {},
     "output_type": "execute_result"
    }
   ],
   "source": [
    "svm_model.fit(Xtrain, y_train)"
   ]
  },
  {
   "cell_type": "code",
   "execution_count": 159,
   "metadata": {},
   "outputs": [],
   "source": [
    "svm_preds = svm_model.predict(Xtest)"
   ]
  },
  {
   "cell_type": "code",
   "execution_count": 160,
   "metadata": {},
   "outputs": [
    {
     "data": {
      "text/plain": [
       "0.4375"
      ]
     },
     "execution_count": 160,
     "metadata": {},
     "output_type": "execute_result"
    }
   ],
   "source": [
    "accuracy_score(y_test, svm_preds)"
   ]
  },
  {
   "cell_type": "code",
   "execution_count": 161,
   "metadata": {},
   "outputs": [
    {
     "data": {
      "text/plain": [
       "array([3, 1, 1, 1, 2, 1, 3, 1, 1, 3, 1, 2, 2, 3, 2, 3, 3, 3, 1, 2, 2, 2,\n",
       "       1, 1, 1, 3, 3, 1, 3, 3, 1, 2, 1, 1, 2, 1, 3, 1, 1, 2, 1, 1, 1, 2,\n",
       "       3, 3, 2, 3, 2, 3, 2, 1, 3, 1, 3, 2, 1, 3, 2, 3, 2, 2, 3, 1, 3, 1,\n",
       "       1, 3, 2, 2, 1, 3, 2, 1, 1, 1, 1, 1, 2, 2, 3, 1, 1, 3, 1, 1, 2, 1,\n",
       "       3, 2, 1, 3, 2, 1, 1, 3, 1, 1, 2, 1, 3, 2, 1, 2, 3, 3, 2, 3, 2, 2,\n",
       "       2, 3, 1, 2, 1, 1, 3, 1, 1, 2, 1, 2, 1, 3, 1, 1, 1, 1, 1, 2, 2, 1,\n",
       "       3, 3, 3, 1, 1, 2, 1, 3, 2, 1, 2, 1, 1, 1, 2, 2, 1, 2, 1, 3, 2, 3,\n",
       "       3, 1, 3, 1, 1, 3, 1, 1, 1, 1, 1, 1, 2, 2, 1, 1, 3, 1, 1, 3, 3, 3,\n",
       "       1, 1, 1, 1, 1, 2, 3, 2, 1, 3, 1, 1, 2, 2, 2, 1, 2, 3, 1, 1, 1, 1,\n",
       "       1, 1, 2, 1, 1, 1, 1, 1, 1, 3, 1, 3, 1, 2, 2, 1, 2, 2, 2, 1, 2, 3,\n",
       "       2, 2, 3, 2])"
      ]
     },
     "execution_count": 161,
     "metadata": {},
     "output_type": "execute_result"
    }
   ],
   "source": [
    "rf_preds"
   ]
  },
  {
   "cell_type": "code",
   "execution_count": 162,
   "metadata": {},
   "outputs": [
    {
     "data": {
      "text/plain": [
       "array([1, 1, 1, 3, 3, 2, 2, 3, 3, 3, 2, 3, 1, 2, 3, 3, 2, 3, 1, 3, 1, 2,\n",
       "       1, 3, 3, 3, 3, 2, 2, 1, 3, 1, 2, 2, 1, 1, 1, 1, 1, 1, 1, 1, 1, 1,\n",
       "       3, 2, 2, 3, 1, 3, 1, 3, 1, 2, 1, 1, 1, 2, 3, 2, 1, 1, 1, 1, 1, 1,\n",
       "       2, 2, 1, 3, 1, 2, 2, 3, 3, 2, 3, 3, 3, 2, 3, 3, 2, 2, 2, 3, 3, 2,\n",
       "       1, 1, 1, 3, 1, 2, 3, 2, 3, 1, 3, 1, 1, 2, 3, 2, 1, 1, 1, 3, 3, 2,\n",
       "       2, 2, 1, 2, 2, 2, 1, 1, 3, 1, 1, 3, 3, 1, 1, 2, 3, 1, 3, 1, 3, 2,\n",
       "       3, 2, 3, 3, 3, 1, 1, 2, 2, 3, 2, 2, 3, 2, 1, 1, 1, 3, 3, 3, 3, 3,\n",
       "       2, 1, 3, 1, 1, 1, 2, 1, 3, 3, 2, 3, 2, 3, 1, 1, 3, 2, 1, 1, 2, 1,\n",
       "       3, 1, 2, 1, 3, 2, 3, 3, 1, 3, 1, 1, 1, 1, 3, 2, 1, 1, 2, 1, 3, 3,\n",
       "       2, 2, 1, 3, 3, 1, 2, 3, 1, 2, 2, 3, 2, 3, 3, 1, 1, 3, 1, 3, 3, 2,\n",
       "       1, 1, 1, 1])"
      ]
     },
     "execution_count": 162,
     "metadata": {},
     "output_type": "execute_result"
    }
   ],
   "source": [
    "y_test.to_numpy()"
   ]
  },
  {
   "cell_type": "code",
   "execution_count": 163,
   "metadata": {},
   "outputs": [
    {
     "data": {
      "text/plain": [
       "array([3, 1, 1, 1, 2, 1, 3, 1, 1, 3, 1, 2, 2, 3, 2, 3, 3, 3, 1, 2, 2, 2,\n",
       "       1, 1, 1, 3, 3, 1, 3, 3, 1, 2, 1, 1, 2, 1, 3, 1, 1, 2, 1, 1, 1, 2,\n",
       "       3, 3, 2, 3, 2, 3, 2, 1, 3, 1, 3, 2, 1, 3, 2, 3, 2, 2, 3, 1, 3, 1,\n",
       "       1, 3, 2, 2, 1, 3, 2, 1, 1, 1, 1, 1, 2, 2, 3, 1, 1, 3, 1, 1, 2, 1,\n",
       "       3, 2, 1, 3, 2, 1, 1, 3, 1, 1, 2, 1, 3, 2, 1, 2, 3, 3, 2, 3, 2, 2,\n",
       "       2, 3, 1, 2, 1, 1, 3, 1, 1, 2, 1, 2, 1, 3, 1, 1, 1, 1, 1, 2, 2, 1,\n",
       "       3, 3, 3, 1, 1, 2, 1, 3, 2, 1, 2, 1, 1, 1, 2, 2, 1, 2, 1, 3, 2, 3,\n",
       "       3, 1, 3, 1, 1, 3, 1, 1, 1, 1, 1, 1, 2, 2, 1, 1, 3, 1, 1, 3, 3, 3,\n",
       "       1, 1, 1, 1, 1, 2, 3, 2, 1, 3, 1, 1, 2, 2, 2, 1, 2, 3, 1, 1, 1, 1,\n",
       "       1, 1, 2, 1, 1, 1, 1, 1, 1, 3, 1, 3, 1, 2, 2, 1, 2, 2, 2, 1, 2, 3,\n",
       "       2, 2, 3, 2])"
      ]
     },
     "execution_count": 163,
     "metadata": {},
     "output_type": "execute_result"
    }
   ],
   "source": [
    "dt_preds"
   ]
  },
  {
   "cell_type": "code",
   "execution_count": 164,
   "metadata": {},
   "outputs": [
    {
     "data": {
      "text/plain": [
       "array([1, 1, 1, 1, 1, 1, 1, 3, 1, 2, 2, 1, 1, 1, 2, 2, 3, 3, 2, 2, 2, 2,\n",
       "       1, 1, 1, 1, 2, 1, 1, 2, 1, 2, 1, 2, 2, 1, 1, 1, 3, 1, 1, 1, 2, 1,\n",
       "       2, 1, 2, 2, 3, 3, 1, 1, 1, 2, 3, 1, 1, 1, 1, 1, 1, 2, 1, 1, 2, 1,\n",
       "       1, 2, 1, 2, 1, 2, 2, 1, 3, 2, 3, 1, 1, 2, 1, 1, 1, 2, 1, 2, 1, 1,\n",
       "       3, 1, 3, 2, 1, 1, 1, 3, 1, 1, 1, 2, 1, 1, 1, 2, 2, 1, 2, 1, 3, 2,\n",
       "       2, 3, 1, 2, 1, 1, 1, 1, 1, 1, 1, 1, 1, 3, 1, 2, 1, 1, 1, 1, 3, 1,\n",
       "       2, 2, 1, 3, 1, 1, 1, 2, 2, 2, 1, 1, 1, 2, 1, 2, 2, 2, 1, 2, 2, 1,\n",
       "       1, 1, 1, 1, 1, 1, 1, 2, 1, 1, 1, 1, 2, 3, 3, 1, 2, 1, 1, 3, 1, 3,\n",
       "       1, 1, 1, 1, 1, 2, 2, 2, 1, 1, 1, 1, 1, 2, 1, 1, 2, 1, 1, 1, 1, 1,\n",
       "       1, 1, 1, 1, 1, 1, 2, 1, 1, 2, 1, 1, 1, 2, 1, 2, 2, 1, 2, 1, 1, 3,\n",
       "       1, 1, 1, 2])"
      ]
     },
     "execution_count": 164,
     "metadata": {},
     "output_type": "execute_result"
    }
   ],
   "source": [
    "knn_pred"
   ]
  },
  {
   "cell_type": "code",
   "execution_count": 165,
   "metadata": {},
   "outputs": [
    {
     "data": {
      "text/plain": [
       "array([3, 1, 1, 1, 3, 3, 1, 1, 1, 3, 1, 1, 1, 1, 1, 1, 3, 1, 1, 1, 1, 1,\n",
       "       1, 1, 3, 3, 1, 1, 1, 3, 3, 3, 3, 3, 1, 1, 1, 1, 1, 3, 1, 1, 1, 1,\n",
       "       3, 3, 1, 1, 3, 1, 1, 3, 1, 3, 1, 1, 1, 1, 1, 3, 3, 1, 3, 1, 3, 3,\n",
       "       1, 3, 1, 3, 1, 3, 1, 3, 3, 1, 1, 1, 1, 1, 1, 3, 3, 1, 1, 3, 1, 1,\n",
       "       1, 1, 1, 1, 3, 1, 1, 3, 1, 3, 1, 1, 3, 1, 1, 3, 1, 1, 1, 3, 1, 1,\n",
       "       1, 1, 1, 1, 1, 1, 1, 1, 1, 1, 1, 1, 1, 3, 1, 1, 3, 1, 1, 1, 3, 3,\n",
       "       3, 1, 1, 3, 1, 1, 1, 1, 1, 1, 3, 1, 3, 1, 1, 1, 3, 3, 1, 3, 1, 3,\n",
       "       1, 1, 1, 1, 3, 3, 3, 3, 3, 3, 3, 1, 1, 3, 1, 1, 1, 1, 1, 1, 1, 1,\n",
       "       1, 3, 1, 1, 3, 1, 3, 1, 1, 1, 1, 1, 1, 1, 1, 1, 1, 1, 1, 1, 1, 1,\n",
       "       1, 3, 1, 3, 3, 1, 1, 3, 1, 2, 3, 3, 1, 1, 1, 3, 1, 3, 3, 1, 1, 3,\n",
       "       1, 1, 3, 1])"
      ]
     },
     "execution_count": 165,
     "metadata": {},
     "output_type": "execute_result"
    }
   ],
   "source": [
    "svm_preds"
   ]
  },
  {
   "cell_type": "code",
   "execution_count": 169,
   "metadata": {},
   "outputs": [
    {
     "data": {
      "text/plain": [
       "1    0.406082\n",
       "3    0.313059\n",
       "2    0.280859\n",
       "Name: first, dtype: float64"
      ]
     },
     "execution_count": 169,
     "metadata": {},
     "output_type": "execute_result"
    }
   ],
   "source": [
    "X[\"first\"].value_counts() / X[\"first\"].count()"
   ]
  },
  {
   "cell_type": "markdown",
   "metadata": {},
   "source": [
    "So for Update 2 I updated the data to use the same data as Jesse. Then I went through 4 base models trying to find the best one for predicting which class a household belongs to based on mean and max KWH/hh. The assumption is that we should be able to randomly pick one of the 3 bins and have an accuracy of 33%. So as long as we are beating that then the model seems worth using in some capacity. Based on that the KNN and SVM models we both better than random chance at 40 and 43% accuracy respectively. DT and RF were both at 32% which is basically the same as random chance so they are not currently good models at all. \n",
    "\n",
    "I think the next steps are to see if one model is better than the others at predicting a class. Then we can actually build a model where each of the above models vote to make a prediction with maybe some bias to SVM or something along those lines. In theory the worst case should be SVM of 43% but we might be able to better that percentage using the mdoels in unison. \n",
    "\n",
    "We also might want to consider seasonal effects in the time series that might shine some extra light on these models. It is possible that certain groups are more consistent throughout the year or time of day and that can teach us something or make us better at predicting. "
   ]
  },
  {
   "cell_type": "code",
   "execution_count": 172,
   "metadata": {},
   "outputs": [
    {
     "data": {
      "text/plain": [
       "1    0.410515\n",
       "3    0.305369\n",
       "2    0.284116\n",
       "Name: first, dtype: float64"
      ]
     },
     "execution_count": 172,
     "metadata": {},
     "output_type": "execute_result"
    }
   ],
   "source": [
    "y_train.value_counts() / y_train.count()"
   ]
  },
  {
   "cell_type": "code",
   "execution_count": 173,
   "metadata": {},
   "outputs": [
    {
     "data": {
      "text/plain": [
       "1    0.388393\n",
       "3    0.343750\n",
       "2    0.267857\n",
       "Name: first, dtype: float64"
      ]
     },
     "execution_count": 173,
     "metadata": {},
     "output_type": "execute_result"
    }
   ],
   "source": [
    "y_test.value_counts() / y_test.count()"
   ]
  },
  {
   "cell_type": "code",
   "execution_count": 175,
   "metadata": {},
   "outputs": [
    {
     "data": {
      "text/html": [
       "<div>\n",
       "<style scoped>\n",
       "    .dataframe tbody tr th:only-of-type {\n",
       "        vertical-align: middle;\n",
       "    }\n",
       "\n",
       "    .dataframe tbody tr th {\n",
       "        vertical-align: top;\n",
       "    }\n",
       "\n",
       "    .dataframe thead th {\n",
       "        text-align: right;\n",
       "    }\n",
       "</style>\n",
       "<table border=\"1\" class=\"dataframe\">\n",
       "  <thead>\n",
       "    <tr style=\"text-align: right;\">\n",
       "      <th></th>\n",
       "      <th>mean</th>\n",
       "      <th>max</th>\n",
       "    </tr>\n",
       "    <tr>\n",
       "      <th>LCLid</th>\n",
       "      <th></th>\n",
       "      <th></th>\n",
       "    </tr>\n",
       "  </thead>\n",
       "  <tbody>\n",
       "    <tr>\n",
       "      <th>MAC004730</th>\n",
       "      <td>0.076228</td>\n",
       "      <td>1.186</td>\n",
       "    </tr>\n",
       "    <tr>\n",
       "      <th>MAC002563</th>\n",
       "      <td>0.237328</td>\n",
       "      <td>2.296</td>\n",
       "    </tr>\n",
       "    <tr>\n",
       "      <th>MAC003603</th>\n",
       "      <td>0.771411</td>\n",
       "      <td>4.037</td>\n",
       "    </tr>\n",
       "    <tr>\n",
       "      <th>MAC002576</th>\n",
       "      <td>0.184566</td>\n",
       "      <td>1.845</td>\n",
       "    </tr>\n",
       "    <tr>\n",
       "      <th>MAC001773</th>\n",
       "      <td>0.095766</td>\n",
       "      <td>0.934</td>\n",
       "    </tr>\n",
       "    <tr>\n",
       "      <th>...</th>\n",
       "      <td>...</td>\n",
       "      <td>...</td>\n",
       "    </tr>\n",
       "    <tr>\n",
       "      <th>MAC002388</th>\n",
       "      <td>0.006913</td>\n",
       "      <td>0.011</td>\n",
       "    </tr>\n",
       "    <tr>\n",
       "      <th>MAC001665</th>\n",
       "      <td>0.624861</td>\n",
       "      <td>3.532</td>\n",
       "    </tr>\n",
       "    <tr>\n",
       "      <th>MAC004102</th>\n",
       "      <td>0.578222</td>\n",
       "      <td>4.021</td>\n",
       "    </tr>\n",
       "    <tr>\n",
       "      <th>MAC005297</th>\n",
       "      <td>0.164577</td>\n",
       "      <td>1.604</td>\n",
       "    </tr>\n",
       "    <tr>\n",
       "      <th>MAC001647</th>\n",
       "      <td>0.081212</td>\n",
       "      <td>1.897</td>\n",
       "    </tr>\n",
       "  </tbody>\n",
       "</table>\n",
       "<p>224 rows × 2 columns</p>\n",
       "</div>"
      ],
      "text/plain": [
       "               mean    max\n",
       "LCLid                     \n",
       "MAC004730  0.076228  1.186\n",
       "MAC002563  0.237328  2.296\n",
       "MAC003603  0.771411  4.037\n",
       "MAC002576  0.184566  1.845\n",
       "MAC001773  0.095766  0.934\n",
       "...             ...    ...\n",
       "MAC002388  0.006913  0.011\n",
       "MAC001665  0.624861  3.532\n",
       "MAC004102  0.578222  4.021\n",
       "MAC005297  0.164577  1.604\n",
       "MAC001647  0.081212  1.897\n",
       "\n",
       "[224 rows x 2 columns]"
      ]
     },
     "execution_count": 175,
     "metadata": {},
     "output_type": "execute_result"
    }
   ],
   "source": [
    "Xtest"
   ]
  },
  {
   "cell_type": "code",
   "execution_count": 176,
   "metadata": {},
   "outputs": [],
   "source": [
    "Xtest[\"target\"] = y_test"
   ]
  },
  {
   "cell_type": "code",
   "execution_count": 185,
   "metadata": {},
   "outputs": [
    {
     "data": {
      "text/html": [
       "<div>\n",
       "<style scoped>\n",
       "    .dataframe tbody tr th:only-of-type {\n",
       "        vertical-align: middle;\n",
       "    }\n",
       "\n",
       "    .dataframe tbody tr th {\n",
       "        vertical-align: top;\n",
       "    }\n",
       "\n",
       "    .dataframe thead th {\n",
       "        text-align: right;\n",
       "    }\n",
       "</style>\n",
       "<table border=\"1\" class=\"dataframe\">\n",
       "  <thead>\n",
       "    <tr style=\"text-align: right;\">\n",
       "      <th></th>\n",
       "      <th>mean</th>\n",
       "      <th>max</th>\n",
       "      <th>target</th>\n",
       "      <th>knn</th>\n",
       "      <th>dt</th>\n",
       "      <th>rf</th>\n",
       "      <th>svm</th>\n",
       "      <th>knn_correct</th>\n",
       "      <th>dt_correct</th>\n",
       "      <th>rf_correct</th>\n",
       "      <th>svm_correct</th>\n",
       "    </tr>\n",
       "    <tr>\n",
       "      <th>LCLid</th>\n",
       "      <th></th>\n",
       "      <th></th>\n",
       "      <th></th>\n",
       "      <th></th>\n",
       "      <th></th>\n",
       "      <th></th>\n",
       "      <th></th>\n",
       "      <th></th>\n",
       "      <th></th>\n",
       "      <th></th>\n",
       "      <th></th>\n",
       "    </tr>\n",
       "  </thead>\n",
       "  <tbody>\n",
       "    <tr>\n",
       "      <th>MAC004730</th>\n",
       "      <td>0.076228</td>\n",
       "      <td>1.186</td>\n",
       "      <td>1</td>\n",
       "      <td>1</td>\n",
       "      <td>3</td>\n",
       "      <td>3</td>\n",
       "      <td>3</td>\n",
       "      <td>True</td>\n",
       "      <td>False</td>\n",
       "      <td>False</td>\n",
       "      <td>False</td>\n",
       "    </tr>\n",
       "    <tr>\n",
       "      <th>MAC002563</th>\n",
       "      <td>0.237328</td>\n",
       "      <td>2.296</td>\n",
       "      <td>1</td>\n",
       "      <td>1</td>\n",
       "      <td>1</td>\n",
       "      <td>1</td>\n",
       "      <td>1</td>\n",
       "      <td>True</td>\n",
       "      <td>True</td>\n",
       "      <td>True</td>\n",
       "      <td>True</td>\n",
       "    </tr>\n",
       "    <tr>\n",
       "      <th>MAC003603</th>\n",
       "      <td>0.771411</td>\n",
       "      <td>4.037</td>\n",
       "      <td>1</td>\n",
       "      <td>1</td>\n",
       "      <td>1</td>\n",
       "      <td>1</td>\n",
       "      <td>1</td>\n",
       "      <td>True</td>\n",
       "      <td>True</td>\n",
       "      <td>True</td>\n",
       "      <td>True</td>\n",
       "    </tr>\n",
       "    <tr>\n",
       "      <th>MAC002576</th>\n",
       "      <td>0.184566</td>\n",
       "      <td>1.845</td>\n",
       "      <td>3</td>\n",
       "      <td>1</td>\n",
       "      <td>1</td>\n",
       "      <td>1</td>\n",
       "      <td>1</td>\n",
       "      <td>False</td>\n",
       "      <td>False</td>\n",
       "      <td>False</td>\n",
       "      <td>False</td>\n",
       "    </tr>\n",
       "    <tr>\n",
       "      <th>MAC001773</th>\n",
       "      <td>0.095766</td>\n",
       "      <td>0.934</td>\n",
       "      <td>3</td>\n",
       "      <td>1</td>\n",
       "      <td>2</td>\n",
       "      <td>2</td>\n",
       "      <td>3</td>\n",
       "      <td>False</td>\n",
       "      <td>False</td>\n",
       "      <td>False</td>\n",
       "      <td>True</td>\n",
       "    </tr>\n",
       "  </tbody>\n",
       "</table>\n",
       "</div>"
      ],
      "text/plain": [
       "               mean    max  target  knn  dt  rf  svm  knn_correct  dt_correct  \\\n",
       "LCLid                                                                           \n",
       "MAC004730  0.076228  1.186       1    1   3   3    3         True       False   \n",
       "MAC002563  0.237328  2.296       1    1   1   1    1         True        True   \n",
       "MAC003603  0.771411  4.037       1    1   1   1    1         True        True   \n",
       "MAC002576  0.184566  1.845       3    1   1   1    1        False       False   \n",
       "MAC001773  0.095766  0.934       3    1   2   2    3        False       False   \n",
       "\n",
       "           rf_correct  svm_correct  \n",
       "LCLid                               \n",
       "MAC004730       False        False  \n",
       "MAC002563        True         True  \n",
       "MAC003603        True         True  \n",
       "MAC002576       False        False  \n",
       "MAC001773       False         True  "
      ]
     },
     "execution_count": 185,
     "metadata": {},
     "output_type": "execute_result"
    }
   ],
   "source": [
    "Xtest.head()"
   ]
  },
  {
   "cell_type": "code",
   "execution_count": 181,
   "metadata": {},
   "outputs": [],
   "source": [
    "Xtest[\"knn\"] = knn_pred\n",
    "Xtest[\"dt\"] = dt_preds\n",
    "Xtest[\"rf\"] = rf_preds\n",
    "Xtest[\"svm\"] = svm_preds"
   ]
  },
  {
   "cell_type": "code",
   "execution_count": 184,
   "metadata": {},
   "outputs": [],
   "source": [
    "Xtest[\"knn_correct\"] = Xtest.knn == Xtest.target\n",
    "Xtest[\"dt_correct\"] = Xtest.dt == Xtest.target\n",
    "Xtest[\"rf_correct\"] = Xtest.rf == Xtest.target\n",
    "Xtest[\"svm_correct\"] = Xtest.svm == Xtest.target"
   ]
  },
  {
   "cell_type": "code",
   "execution_count": 197,
   "metadata": {},
   "outputs": [
    {
     "data": {
      "application/vnd.plotly.v1+json": {
       "config": {
        "plotlyServerURL": "https://plot.ly"
       },
       "data": [
        {
         "hovertemplate": "knn_correct=True<br>target=1<br>max=%{x}<br>mean=%{y}<extra></extra>",
         "legendgroup": "True, 1",
         "marker": {
          "color": "#636efa",
          "opacity": 0.6,
          "symbol": "circle"
         },
         "mode": "markers",
         "name": "True, 1",
         "orientation": "v",
         "showlegend": true,
         "type": "scatter",
         "x": [
          1.186,
          2.296,
          4.0370002,
          2.0369999,
          8.1709995,
          2.4890001,
          4.566,
          1.7819999,
          0.985,
          2.0480001,
          1.847,
          2.4660001,
          1.638,
          2.77,
          3.391,
          2.2869999,
          1.3279999,
          1.161,
          2.8640001,
          1.225,
          1.988,
          2.3829999,
          1.957,
          1.396,
          1.169,
          0.694,
          3.0799999,
          1.6,
          1.59,
          5.0050001,
          2.464,
          1.4220001,
          2.076,
          2.405,
          5.283,
          3.6110001,
          3.1619999,
          3.9579999,
          3.8050001,
          3.744,
          1.382,
          1.471,
          2.029,
          2.8299999,
          1.2180001,
          2.76,
          1.665,
          2.7909999,
          2.381,
          2.1930001,
          1.592,
          1.536,
          1.793,
          2.29,
          6.171,
          3.5320001,
          4.0209999,
          1.604
         ],
         "xaxis": "x",
         "y": [
          0.07622764505119455,
          0.23732787265073949,
          0.7714105803299204,
          0.2562985778270762,
          2.1121104095676904,
          0.3220819681569966,
          0.36663378845847555,
          0.1402833333105802,
          0.17498373151308305,
          0.1968231513367463,
          0.1773198520989761,
          0.07904863480091012,
          0.16230563138794082,
          0.3622226964277588,
          0.22119061440841864,
          0.12002775875995449,
          0.08623174061433447,
          0.061654721274175206,
          0.3036994311660979,
          0.07724835039817976,
          0.36720420932309444,
          0.22363100109215017,
          0.15746086464163822,
          0.0895039248748578,
          0.06375284414106941,
          0.09048748577929465,
          0.2778121160182025,
          0.2996792946473265,
          0.13291154718998863,
          0.941097156046644,
          0.14637923773606373,
          0.07306302616609785,
          0.10499175199658703,
          0.18881035272468716,
          0.25185557455631397,
          0.13127497162116042,
          0.3658215016780432,
          0.5924545507508532,
          0.0835419226734926,
          0.3365703640500569,
          0.0814727531228669,
          0.1691612059158134,
          0.10536279866894198,
          0.3965563139647326,
          0.1471187144539249,
          0.29690034120591585,
          0.06327491467007963,
          0.37363873721274177,
          0.2084934015642776,
          0.25988708753697387,
          0.1334015358248009,
          0.09744010239476678,
          0.1288915244596132,
          0.30383048931171786,
          0.7306271331001137,
          0.6248606938850968,
          0.5782221272753129,
          0.1645767349317406
         ],
         "yaxis": "y"
        },
        {
         "hovertemplate": "knn_correct=True<br>target=3<br>max=%{x}<br>mean=%{y}<extra></extra>",
         "legendgroup": "True, 3",
         "marker": {
          "color": "#636efa",
          "opacity": 0.6,
          "symbol": "diamond"
         },
         "mode": "markers",
         "name": "True, 3",
         "orientation": "v",
         "showlegend": true,
         "type": "scatter",
         "x": [
          2.835,
          2.299,
          3.9219999,
          1.1390001,
          2.483,
          1.909,
          1.485,
          1.1799999,
          1.1720001
         ],
         "xaxis": "x",
         "y": [
          0.241273378850967,
          0.25855034131968146,
          0.32235386807736066,
          0.08227184300910126,
          0.21042730370307167,
          0.06206467578498293,
          0.20790375428896474,
          0.1939836177360637,
          0.17027337883959043
         ],
         "yaxis": "y"
        },
        {
         "hovertemplate": "knn_correct=True<br>target=2<br>max=%{x}<br>mean=%{y}<extra></extra>",
         "legendgroup": "True, 2",
         "marker": {
          "color": "#636efa",
          "opacity": 0.6,
          "symbol": "square"
         },
         "mode": "markers",
         "name": "True, 2",
         "orientation": "v",
         "showlegend": true,
         "type": "scatter",
         "x": [
          1.653,
          1.8150001,
          1.145,
          5.5149999,
          0.603,
          1.05,
          1.3609999,
          2.431,
          2.8139999,
          4.2129998,
          1.913,
          1.39,
          3.2360001,
          1.702,
          2.1670001,
          2.4059999,
          2.3180001,
          1.734,
          1.757,
          2.4130001,
          3.029,
          1.656,
          4.3070002,
          6.3629999
         ],
         "xaxis": "x",
         "y": [
          0.12870068258248007,
          0.13434772465870307,
          0.12319499431171786,
          0.3671904436006826,
          0.02860716723549488,
          0.10131518771331059,
          0.06337849828213879,
          0.13673424346416382,
          0.21506729246302617,
          0.44325250286120593,
          0.0889073378668942,
          0.20818492606370875,
          0.25685967007394767,
          0.127156200221843,
          0.18379698523321958,
          0.12496985204778156,
          0.25789670079635946,
          0.04927724680318543,
          0.24760984071672354,
          0.1621915244880546,
          0.1847282138566553,
          0.17928185437428895,
          0.41986524455631397,
          0.4388435726166098
         ],
         "yaxis": "y"
        },
        {
         "hovertemplate": "knn_correct=False<br>target=1<br>max=%{x}<br>mean=%{y}<extra></extra>",
         "legendgroup": "False, 1",
         "marker": {
          "color": "#EF553B",
          "opacity": 0.6,
          "symbol": "circle"
         },
         "mode": "markers",
         "name": "False, 1",
         "orientation": "v",
         "showlegend": true,
         "type": "scatter",
         "x": [
          1.96,
          1.903,
          1.591,
          1.48,
          4.3239999,
          1.899,
          2.0880001,
          1.0599999,
          1.7589999,
          2.322,
          1.648,
          2.5929999,
          1.923,
          2.0539999,
          2.339,
          2.135,
          0.068,
          3.1530001,
          0.583,
          1.14,
          2.9760001,
          1.758,
          1.7410001,
          2.1700001,
          3.5179999,
          0.521,
          2.1259999,
          0.9,
          1.897
         ],
         "xaxis": "x",
         "y": [
          0.20368936288395906,
          0.13587582476678045,
          0.14185073947667803,
          0.11587758814562002,
          0.5367326507508532,
          0.1692423207622298,
          0.21290779294084186,
          0.1219925483447099,
          0.14655182024459612,
          0.06930386801478954,
          0.18670597272468714,
          0.3034207622127418,
          0.1715484641410694,
          0.13859470988623437,
          0.48588128540386805,
          0.12559317399317405,
          0.03150648464163822,
          0.227338225182025,
          0.05648924914675768,
          0.12214943116609783,
          0.2903840158816837,
          0.12910921502275313,
          0.26150284415244596,
          0.2534561433105802,
          0.23031598401023892,
          0.1382550625711035,
          0.24871786123435724,
          0.09235733788395904,
          0.08121154721274175
         ],
         "yaxis": "y"
        },
        {
         "hovertemplate": "knn_correct=False<br>target=3<br>max=%{x}<br>mean=%{y}<extra></extra>",
         "legendgroup": "False, 3",
         "marker": {
          "color": "#EF553B",
          "opacity": 0.6,
          "symbol": "diamond"
         },
         "mode": "markers",
         "name": "False, 3",
         "orientation": "v",
         "showlegend": true,
         "type": "scatter",
         "x": [
          1.845,
          0.934,
          1.854,
          1.423,
          4.415,
          2.2219999,
          2.727,
          2.1229999,
          2.4330001,
          1.26,
          0.848,
          3.151,
          1.103,
          0.573,
          3.1040001,
          0.928,
          2.2520001,
          1.476,
          1.352,
          3.3150001,
          1.96,
          1.589,
          1.546,
          0.547,
          2.2049999,
          1.493,
          2.1359999,
          2.2509999,
          2.046,
          2.427,
          1.2130001,
          2,
          4.0739999,
          4.2379999,
          1.405,
          2.3540001,
          1.415,
          3.141,
          1.37,
          6.2989998,
          1.15,
          0.986,
          2.937,
          1.029,
          1.6569999,
          1.48,
          4.848,
          1.1,
          1.176,
          3.5120001,
          3.7920001,
          2.767,
          1.392,
          0.411,
          2.451,
          2.812,
          2.7060001,
          2.0039999,
          2.326,
          1.503,
          1.279,
          0.702,
          1.22,
          1.966,
          3.437,
          0.798,
          1.807,
          2.0409999
         ],
         "xaxis": "x",
         "y": [
          0.1845664959613197,
          0.09576552901023891,
          0.1439753697838453,
          0.24517144481228667,
          0.26229306046643913,
          0.27824908992036407,
          0.33707701941410695,
          0.18379641635381114,
          0.17211922642775881,
          0.15716860067690558,
          0.1518845278725825,
          0.2873434015642776,
          0.09496717861205915,
          0.08395489192263936,
          0.34631820246302614,
          0.18713043230944257,
          0.14696473266780433,
          0.12933964731513084,
          0.23830807736632537,
          0.39682593851535836,
          0.1535152446131968,
          0.13689465300341297,
          0.14359954497155858,
          0.049998577929465306,
          0.29748941975540383,
          0.09362844139362912,
          0.06177440273037542,
          0.18882241191126278,
          0.17765398182025027,
          0.17201069391922638,
          0.1071522753185438,
          0.14194288960750853,
          0.3695394766097838,
          0.29301262802047784,
          0.07540318543799772,
          0.2293291808248009,
          0.13762804321387942,
          0.19760170648464165,
          0.30989379976678044,
          0.35580051215585895,
          0.09478981797497156,
          0.2579288964732651,
          0.1744428896416382,
          0.08353657565415246,
          0.1848213879351536,
          0.1779977246587031,
          0.36702622280432307,
          0.10575568828213879,
          0.07001416381683732,
          0.3107283277701934,
          0.28314158137087597,
          0.24069584749146758,
          0.10418077360637087,
          0.04364004550625711,
          0.2821498293856656,
          0.2781288964220705,
          0.8307530148464164,
          0.10701080773037543,
          0.1606589306029579,
          0.14083913540386803,
          0.12234641638225255,
          0.06995762229806599,
          0.08305193397042093,
          0.15960767916951082,
          0.2387431171274175,
          0.1698282707622298,
          0.20408503982366324,
          0.18391524457337885
         ],
         "yaxis": "y"
        },
        {
         "hovertemplate": "knn_correct=False<br>target=2<br>max=%{x}<br>mean=%{y}<extra></extra>",
         "legendgroup": "False, 2",
         "marker": {
          "color": "#EF553B",
          "opacity": 0.6,
          "symbol": "square"
         },
         "mode": "markers",
         "name": "False, 2",
         "orientation": "v",
         "showlegend": true,
         "type": "scatter",
         "x": [
          1.61,
          2.527,
          3.181,
          0.838,
          1.7029999,
          1.59,
          1.37,
          1.439,
          2.3559999,
          1.318,
          1.6849999,
          0.612,
          3.648,
          2.0469999,
          2.3039999,
          1.249,
          4.0019999,
          1.91,
          2.5610001,
          2.007,
          0.46,
          1.642,
          3.477,
          2.546,
          1.09,
          1.391,
          2.369,
          3.174,
          2.701,
          3.388,
          2.392,
          2.322,
          1.5089999,
          0.783,
          3.4860001,
          0.011
         ],
         "xaxis": "x",
         "y": [
          0.17791939703071674,
          0.16163213874857793,
          0.5228695108703072,
          0.08605540386803186,
          0.10395119452218429,
          0.11342872581342435,
          0.08550591581911263,
          0.13419374290671218,
          0.3005030716951081,
          0.12517912399886236,
          0.23959982934584756,
          0.06769180887372013,
          0.20620682592718997,
          0.1891853810864619,
          0.3729215585381115,
          0.11477235494880547,
          0.6213692262229806,
          0.16301382253128557,
          0.1903432308646189,
          0.10554931740614334,
          0.030072639362912403,
          0.17474817973833903,
          0.3759511946131968,
          0.18093788396473268,
          0.09476638225255972,
          0.25334089877133104,
          0.12932957906143347,
          0.3882244596075085,
          0.21492758816837315,
          0.1766167803868032,
          0.301961035221843,
          0.2398752560238908,
          0.12762332195108078,
          0.026289078498293515,
          0.3621562571274175,
          0.006913367463026166
         ],
         "yaxis": "y"
        }
       ],
       "layout": {
        "legend": {
         "title": {
          "text": "knn_correct, target"
         },
         "tracegroupgap": 0
        },
        "margin": {
         "t": 60
        },
        "template": {
         "data": {
          "bar": [
           {
            "error_x": {
             "color": "#2a3f5f"
            },
            "error_y": {
             "color": "#2a3f5f"
            },
            "marker": {
             "line": {
              "color": "#E5ECF6",
              "width": 0.5
             },
             "pattern": {
              "fillmode": "overlay",
              "size": 10,
              "solidity": 0.2
             }
            },
            "type": "bar"
           }
          ],
          "barpolar": [
           {
            "marker": {
             "line": {
              "color": "#E5ECF6",
              "width": 0.5
             },
             "pattern": {
              "fillmode": "overlay",
              "size": 10,
              "solidity": 0.2
             }
            },
            "type": "barpolar"
           }
          ],
          "carpet": [
           {
            "aaxis": {
             "endlinecolor": "#2a3f5f",
             "gridcolor": "white",
             "linecolor": "white",
             "minorgridcolor": "white",
             "startlinecolor": "#2a3f5f"
            },
            "baxis": {
             "endlinecolor": "#2a3f5f",
             "gridcolor": "white",
             "linecolor": "white",
             "minorgridcolor": "white",
             "startlinecolor": "#2a3f5f"
            },
            "type": "carpet"
           }
          ],
          "choropleth": [
           {
            "colorbar": {
             "outlinewidth": 0,
             "ticks": ""
            },
            "type": "choropleth"
           }
          ],
          "contour": [
           {
            "colorbar": {
             "outlinewidth": 0,
             "ticks": ""
            },
            "colorscale": [
             [
              0,
              "#0d0887"
             ],
             [
              0.1111111111111111,
              "#46039f"
             ],
             [
              0.2222222222222222,
              "#7201a8"
             ],
             [
              0.3333333333333333,
              "#9c179e"
             ],
             [
              0.4444444444444444,
              "#bd3786"
             ],
             [
              0.5555555555555556,
              "#d8576b"
             ],
             [
              0.6666666666666666,
              "#ed7953"
             ],
             [
              0.7777777777777778,
              "#fb9f3a"
             ],
             [
              0.8888888888888888,
              "#fdca26"
             ],
             [
              1,
              "#f0f921"
             ]
            ],
            "type": "contour"
           }
          ],
          "contourcarpet": [
           {
            "colorbar": {
             "outlinewidth": 0,
             "ticks": ""
            },
            "type": "contourcarpet"
           }
          ],
          "heatmap": [
           {
            "colorbar": {
             "outlinewidth": 0,
             "ticks": ""
            },
            "colorscale": [
             [
              0,
              "#0d0887"
             ],
             [
              0.1111111111111111,
              "#46039f"
             ],
             [
              0.2222222222222222,
              "#7201a8"
             ],
             [
              0.3333333333333333,
              "#9c179e"
             ],
             [
              0.4444444444444444,
              "#bd3786"
             ],
             [
              0.5555555555555556,
              "#d8576b"
             ],
             [
              0.6666666666666666,
              "#ed7953"
             ],
             [
              0.7777777777777778,
              "#fb9f3a"
             ],
             [
              0.8888888888888888,
              "#fdca26"
             ],
             [
              1,
              "#f0f921"
             ]
            ],
            "type": "heatmap"
           }
          ],
          "heatmapgl": [
           {
            "colorbar": {
             "outlinewidth": 0,
             "ticks": ""
            },
            "colorscale": [
             [
              0,
              "#0d0887"
             ],
             [
              0.1111111111111111,
              "#46039f"
             ],
             [
              0.2222222222222222,
              "#7201a8"
             ],
             [
              0.3333333333333333,
              "#9c179e"
             ],
             [
              0.4444444444444444,
              "#bd3786"
             ],
             [
              0.5555555555555556,
              "#d8576b"
             ],
             [
              0.6666666666666666,
              "#ed7953"
             ],
             [
              0.7777777777777778,
              "#fb9f3a"
             ],
             [
              0.8888888888888888,
              "#fdca26"
             ],
             [
              1,
              "#f0f921"
             ]
            ],
            "type": "heatmapgl"
           }
          ],
          "histogram": [
           {
            "marker": {
             "pattern": {
              "fillmode": "overlay",
              "size": 10,
              "solidity": 0.2
             }
            },
            "type": "histogram"
           }
          ],
          "histogram2d": [
           {
            "colorbar": {
             "outlinewidth": 0,
             "ticks": ""
            },
            "colorscale": [
             [
              0,
              "#0d0887"
             ],
             [
              0.1111111111111111,
              "#46039f"
             ],
             [
              0.2222222222222222,
              "#7201a8"
             ],
             [
              0.3333333333333333,
              "#9c179e"
             ],
             [
              0.4444444444444444,
              "#bd3786"
             ],
             [
              0.5555555555555556,
              "#d8576b"
             ],
             [
              0.6666666666666666,
              "#ed7953"
             ],
             [
              0.7777777777777778,
              "#fb9f3a"
             ],
             [
              0.8888888888888888,
              "#fdca26"
             ],
             [
              1,
              "#f0f921"
             ]
            ],
            "type": "histogram2d"
           }
          ],
          "histogram2dcontour": [
           {
            "colorbar": {
             "outlinewidth": 0,
             "ticks": ""
            },
            "colorscale": [
             [
              0,
              "#0d0887"
             ],
             [
              0.1111111111111111,
              "#46039f"
             ],
             [
              0.2222222222222222,
              "#7201a8"
             ],
             [
              0.3333333333333333,
              "#9c179e"
             ],
             [
              0.4444444444444444,
              "#bd3786"
             ],
             [
              0.5555555555555556,
              "#d8576b"
             ],
             [
              0.6666666666666666,
              "#ed7953"
             ],
             [
              0.7777777777777778,
              "#fb9f3a"
             ],
             [
              0.8888888888888888,
              "#fdca26"
             ],
             [
              1,
              "#f0f921"
             ]
            ],
            "type": "histogram2dcontour"
           }
          ],
          "mesh3d": [
           {
            "colorbar": {
             "outlinewidth": 0,
             "ticks": ""
            },
            "type": "mesh3d"
           }
          ],
          "parcoords": [
           {
            "line": {
             "colorbar": {
              "outlinewidth": 0,
              "ticks": ""
             }
            },
            "type": "parcoords"
           }
          ],
          "pie": [
           {
            "automargin": true,
            "type": "pie"
           }
          ],
          "scatter": [
           {
            "fillpattern": {
             "fillmode": "overlay",
             "size": 10,
             "solidity": 0.2
            },
            "type": "scatter"
           }
          ],
          "scatter3d": [
           {
            "line": {
             "colorbar": {
              "outlinewidth": 0,
              "ticks": ""
             }
            },
            "marker": {
             "colorbar": {
              "outlinewidth": 0,
              "ticks": ""
             }
            },
            "type": "scatter3d"
           }
          ],
          "scattercarpet": [
           {
            "marker": {
             "colorbar": {
              "outlinewidth": 0,
              "ticks": ""
             }
            },
            "type": "scattercarpet"
           }
          ],
          "scattergeo": [
           {
            "marker": {
             "colorbar": {
              "outlinewidth": 0,
              "ticks": ""
             }
            },
            "type": "scattergeo"
           }
          ],
          "scattergl": [
           {
            "marker": {
             "colorbar": {
              "outlinewidth": 0,
              "ticks": ""
             }
            },
            "type": "scattergl"
           }
          ],
          "scattermapbox": [
           {
            "marker": {
             "colorbar": {
              "outlinewidth": 0,
              "ticks": ""
             }
            },
            "type": "scattermapbox"
           }
          ],
          "scatterpolar": [
           {
            "marker": {
             "colorbar": {
              "outlinewidth": 0,
              "ticks": ""
             }
            },
            "type": "scatterpolar"
           }
          ],
          "scatterpolargl": [
           {
            "marker": {
             "colorbar": {
              "outlinewidth": 0,
              "ticks": ""
             }
            },
            "type": "scatterpolargl"
           }
          ],
          "scatterternary": [
           {
            "marker": {
             "colorbar": {
              "outlinewidth": 0,
              "ticks": ""
             }
            },
            "type": "scatterternary"
           }
          ],
          "surface": [
           {
            "colorbar": {
             "outlinewidth": 0,
             "ticks": ""
            },
            "colorscale": [
             [
              0,
              "#0d0887"
             ],
             [
              0.1111111111111111,
              "#46039f"
             ],
             [
              0.2222222222222222,
              "#7201a8"
             ],
             [
              0.3333333333333333,
              "#9c179e"
             ],
             [
              0.4444444444444444,
              "#bd3786"
             ],
             [
              0.5555555555555556,
              "#d8576b"
             ],
             [
              0.6666666666666666,
              "#ed7953"
             ],
             [
              0.7777777777777778,
              "#fb9f3a"
             ],
             [
              0.8888888888888888,
              "#fdca26"
             ],
             [
              1,
              "#f0f921"
             ]
            ],
            "type": "surface"
           }
          ],
          "table": [
           {
            "cells": {
             "fill": {
              "color": "#EBF0F8"
             },
             "line": {
              "color": "white"
             }
            },
            "header": {
             "fill": {
              "color": "#C8D4E3"
             },
             "line": {
              "color": "white"
             }
            },
            "type": "table"
           }
          ]
         },
         "layout": {
          "annotationdefaults": {
           "arrowcolor": "#2a3f5f",
           "arrowhead": 0,
           "arrowwidth": 1
          },
          "autotypenumbers": "strict",
          "coloraxis": {
           "colorbar": {
            "outlinewidth": 0,
            "ticks": ""
           }
          },
          "colorscale": {
           "diverging": [
            [
             0,
             "#8e0152"
            ],
            [
             0.1,
             "#c51b7d"
            ],
            [
             0.2,
             "#de77ae"
            ],
            [
             0.3,
             "#f1b6da"
            ],
            [
             0.4,
             "#fde0ef"
            ],
            [
             0.5,
             "#f7f7f7"
            ],
            [
             0.6,
             "#e6f5d0"
            ],
            [
             0.7,
             "#b8e186"
            ],
            [
             0.8,
             "#7fbc41"
            ],
            [
             0.9,
             "#4d9221"
            ],
            [
             1,
             "#276419"
            ]
           ],
           "sequential": [
            [
             0,
             "#0d0887"
            ],
            [
             0.1111111111111111,
             "#46039f"
            ],
            [
             0.2222222222222222,
             "#7201a8"
            ],
            [
             0.3333333333333333,
             "#9c179e"
            ],
            [
             0.4444444444444444,
             "#bd3786"
            ],
            [
             0.5555555555555556,
             "#d8576b"
            ],
            [
             0.6666666666666666,
             "#ed7953"
            ],
            [
             0.7777777777777778,
             "#fb9f3a"
            ],
            [
             0.8888888888888888,
             "#fdca26"
            ],
            [
             1,
             "#f0f921"
            ]
           ],
           "sequentialminus": [
            [
             0,
             "#0d0887"
            ],
            [
             0.1111111111111111,
             "#46039f"
            ],
            [
             0.2222222222222222,
             "#7201a8"
            ],
            [
             0.3333333333333333,
             "#9c179e"
            ],
            [
             0.4444444444444444,
             "#bd3786"
            ],
            [
             0.5555555555555556,
             "#d8576b"
            ],
            [
             0.6666666666666666,
             "#ed7953"
            ],
            [
             0.7777777777777778,
             "#fb9f3a"
            ],
            [
             0.8888888888888888,
             "#fdca26"
            ],
            [
             1,
             "#f0f921"
            ]
           ]
          },
          "colorway": [
           "#636efa",
           "#EF553B",
           "#00cc96",
           "#ab63fa",
           "#FFA15A",
           "#19d3f3",
           "#FF6692",
           "#B6E880",
           "#FF97FF",
           "#FECB52"
          ],
          "font": {
           "color": "#2a3f5f"
          },
          "geo": {
           "bgcolor": "white",
           "lakecolor": "white",
           "landcolor": "#E5ECF6",
           "showlakes": true,
           "showland": true,
           "subunitcolor": "white"
          },
          "hoverlabel": {
           "align": "left"
          },
          "hovermode": "closest",
          "mapbox": {
           "style": "light"
          },
          "paper_bgcolor": "white",
          "plot_bgcolor": "#E5ECF6",
          "polar": {
           "angularaxis": {
            "gridcolor": "white",
            "linecolor": "white",
            "ticks": ""
           },
           "bgcolor": "#E5ECF6",
           "radialaxis": {
            "gridcolor": "white",
            "linecolor": "white",
            "ticks": ""
           }
          },
          "scene": {
           "xaxis": {
            "backgroundcolor": "#E5ECF6",
            "gridcolor": "white",
            "gridwidth": 2,
            "linecolor": "white",
            "showbackground": true,
            "ticks": "",
            "zerolinecolor": "white"
           },
           "yaxis": {
            "backgroundcolor": "#E5ECF6",
            "gridcolor": "white",
            "gridwidth": 2,
            "linecolor": "white",
            "showbackground": true,
            "ticks": "",
            "zerolinecolor": "white"
           },
           "zaxis": {
            "backgroundcolor": "#E5ECF6",
            "gridcolor": "white",
            "gridwidth": 2,
            "linecolor": "white",
            "showbackground": true,
            "ticks": "",
            "zerolinecolor": "white"
           }
          },
          "shapedefaults": {
           "line": {
            "color": "#2a3f5f"
           }
          },
          "ternary": {
           "aaxis": {
            "gridcolor": "white",
            "linecolor": "white",
            "ticks": ""
           },
           "baxis": {
            "gridcolor": "white",
            "linecolor": "white",
            "ticks": ""
           },
           "bgcolor": "#E5ECF6",
           "caxis": {
            "gridcolor": "white",
            "linecolor": "white",
            "ticks": ""
           }
          },
          "title": {
           "x": 0.05
          },
          "xaxis": {
           "automargin": true,
           "gridcolor": "white",
           "linecolor": "white",
           "ticks": "",
           "title": {
            "standoff": 15
           },
           "zerolinecolor": "white",
           "zerolinewidth": 2
          },
          "yaxis": {
           "automargin": true,
           "gridcolor": "white",
           "linecolor": "white",
           "ticks": "",
           "title": {
            "standoff": 15
           },
           "zerolinecolor": "white",
           "zerolinewidth": 2
          }
         }
        },
        "xaxis": {
         "anchor": "y",
         "domain": [
          0,
          1
         ],
         "title": {
          "text": "max"
         }
        },
        "yaxis": {
         "anchor": "x",
         "domain": [
          0,
          1
         ],
         "title": {
          "text": "mean"
         }
        }
       }
      }
     },
     "metadata": {},
     "output_type": "display_data"
    }
   ],
   "source": [
    "px.scatter(Xtest, x=\"max\", y=\"mean\", color=\"knn_correct\", opacity=0.6, symbol='target', category_orders={\"knn_correct\": [True, False]})"
   ]
  },
  {
   "cell_type": "code",
   "execution_count": 198,
   "metadata": {},
   "outputs": [
    {
     "data": {
      "application/vnd.plotly.v1+json": {
       "config": {
        "plotlyServerURL": "https://plot.ly"
       },
       "data": [
        {
         "hovertemplate": "svm_correct=True<br>target=1<br>max=%{x}<br>mean=%{y}<extra></extra>",
         "legendgroup": "True, 1",
         "marker": {
          "color": "#636efa",
          "opacity": 0.6,
          "symbol": "circle"
         },
         "mode": "markers",
         "name": "True, 1",
         "orientation": "v",
         "showlegend": true,
         "type": "scatter",
         "x": [
          2.296,
          4.0370002,
          2.0369999,
          1.96,
          1.903,
          8.1709995,
          4.3239999,
          2.4890001,
          4.566,
          1.7819999,
          1.899,
          2.0480001,
          1.847,
          2.0880001,
          2.4660001,
          1.638,
          2.77,
          1.7589999,
          3.391,
          2.2869999,
          2.322,
          2.8640001,
          1.988,
          2.3829999,
          2.5929999,
          1.957,
          1.923,
          2.0539999,
          2.339,
          3.0799999,
          2.135,
          1.6,
          1.59,
          5.0050001,
          2.464,
          1.4220001,
          2.076,
          2.405,
          5.283,
          3.6110001,
          3.1619999,
          3.9579999,
          3.1530001,
          3.8050001,
          3.744,
          2.9760001,
          2.029,
          2.8299999,
          1.758,
          1.7410001,
          2.76,
          1.665,
          2.7909999,
          2.381,
          2.1930001,
          2.1700001,
          3.5179999,
          1.592,
          1.536,
          1.793,
          2.29,
          6.171,
          2.1259999,
          3.5320001,
          4.0209999,
          1.897
         ],
         "xaxis": "x",
         "y": [
          0.23732787265073949,
          0.7714105803299204,
          0.2562985778270762,
          0.20368936288395906,
          0.13587582476678045,
          2.1121104095676904,
          0.5367326507508532,
          0.3220819681569966,
          0.36663378845847555,
          0.1402833333105802,
          0.1692423207622298,
          0.1968231513367463,
          0.1773198520989761,
          0.21290779294084186,
          0.07904863480091012,
          0.16230563138794082,
          0.3622226964277588,
          0.14655182024459612,
          0.22119061440841864,
          0.12002775875995449,
          0.06930386801478954,
          0.3036994311660979,
          0.36720420932309444,
          0.22363100109215017,
          0.3034207622127418,
          0.15746086464163822,
          0.1715484641410694,
          0.13859470988623437,
          0.48588128540386805,
          0.2778121160182025,
          0.12559317399317405,
          0.2996792946473265,
          0.13291154718998863,
          0.941097156046644,
          0.14637923773606373,
          0.07306302616609785,
          0.10499175199658703,
          0.18881035272468716,
          0.25185557455631397,
          0.13127497162116042,
          0.3658215016780432,
          0.5924545507508532,
          0.227338225182025,
          0.0835419226734926,
          0.3365703640500569,
          0.2903840158816837,
          0.10536279866894198,
          0.3965563139647326,
          0.12910921502275313,
          0.26150284415244596,
          0.29690034120591585,
          0.06327491467007963,
          0.37363873721274177,
          0.2084934015642776,
          0.25988708753697387,
          0.2534561433105802,
          0.23031598401023892,
          0.1334015358248009,
          0.09744010239476678,
          0.1288915244596132,
          0.30383048931171786,
          0.7306271331001137,
          0.24871786123435724,
          0.6248606938850968,
          0.5782221272753129,
          0.08121154721274175
         ],
         "yaxis": "y"
        },
        {
         "hovertemplate": "svm_correct=True<br>target=3<br>max=%{x}<br>mean=%{y}<extra></extra>",
         "legendgroup": "True, 3",
         "marker": {
          "color": "#636efa",
          "opacity": 0.6,
          "symbol": "diamond"
         },
         "mode": "markers",
         "name": "True, 3",
         "orientation": "v",
         "showlegend": true,
         "type": "scatter",
         "x": [
          0.934,
          1.423,
          1.26,
          0.848,
          1.103,
          0.573,
          0.928,
          1.476,
          1.352,
          1.1390001,
          1.546,
          0.547,
          1.2130001,
          1.405,
          1.485,
          1.415,
          1.1799999,
          1.15,
          0.986,
          1.029,
          1.48,
          1.1,
          1.176,
          1.1720001,
          1.392,
          0.411,
          1.503,
          1.279,
          0.702,
          1.22,
          0.798
         ],
         "xaxis": "x",
         "y": [
          0.09576552901023891,
          0.24517144481228667,
          0.15716860067690558,
          0.1518845278725825,
          0.09496717861205915,
          0.08395489192263936,
          0.18713043230944257,
          0.12933964731513084,
          0.23830807736632537,
          0.08227184300910126,
          0.14359954497155858,
          0.049998577929465306,
          0.1071522753185438,
          0.07540318543799772,
          0.20790375428896474,
          0.13762804321387942,
          0.1939836177360637,
          0.09478981797497156,
          0.2579288964732651,
          0.08353657565415246,
          0.1779977246587031,
          0.10575568828213879,
          0.07001416381683732,
          0.17027337883959043,
          0.10418077360637087,
          0.04364004550625711,
          0.14083913540386803,
          0.12234641638225255,
          0.06995762229806599,
          0.08305193397042093,
          0.1698282707622298
         ],
         "yaxis": "y"
        },
        {
         "hovertemplate": "svm_correct=True<br>target=2<br>max=%{x}<br>mean=%{y}<extra></extra>",
         "legendgroup": "True, 2",
         "marker": {
          "color": "#636efa",
          "opacity": 0.6,
          "symbol": "square"
         },
         "mode": "markers",
         "name": "True, 2",
         "orientation": "v",
         "showlegend": true,
         "type": "scatter",
         "x": [
          6.3629999
         ],
         "xaxis": "x",
         "y": [
          0.4388435726166098
         ],
         "yaxis": "y"
        },
        {
         "hovertemplate": "svm_correct=False<br>target=1<br>max=%{x}<br>mean=%{y}<extra></extra>",
         "legendgroup": "False, 1",
         "marker": {
          "color": "#EF553B",
          "opacity": 0.6,
          "symbol": "circle"
         },
         "mode": "markers",
         "name": "False, 1",
         "orientation": "v",
         "showlegend": true,
         "type": "scatter",
         "x": [
          1.186,
          1.591,
          1.48,
          0.985,
          1.0599999,
          1.3279999,
          1.161,
          1.648,
          1.225,
          1.396,
          1.169,
          0.694,
          0.068,
          0.583,
          1.382,
          1.471,
          1.14,
          1.2180001,
          0.521,
          0.9,
          1.604
         ],
         "xaxis": "x",
         "y": [
          0.07622764505119455,
          0.14185073947667803,
          0.11587758814562002,
          0.17498373151308305,
          0.1219925483447099,
          0.08623174061433447,
          0.061654721274175206,
          0.18670597272468714,
          0.07724835039817976,
          0.0895039248748578,
          0.06375284414106941,
          0.09048748577929465,
          0.03150648464163822,
          0.05648924914675768,
          0.0814727531228669,
          0.1691612059158134,
          0.12214943116609783,
          0.1471187144539249,
          0.1382550625711035,
          0.09235733788395904,
          0.1645767349317406
         ],
         "yaxis": "y"
        },
        {
         "hovertemplate": "svm_correct=False<br>target=3<br>max=%{x}<br>mean=%{y}<extra></extra>",
         "legendgroup": "False, 3",
         "marker": {
          "color": "#EF553B",
          "opacity": 0.6,
          "symbol": "diamond"
         },
         "mode": "markers",
         "name": "False, 3",
         "orientation": "v",
         "showlegend": true,
         "type": "scatter",
         "x": [
          1.845,
          2.835,
          1.854,
          4.415,
          2.2219999,
          2.727,
          2.299,
          2.1229999,
          2.4330001,
          3.151,
          3.1040001,
          3.9219999,
          2.2520001,
          2.483,
          3.3150001,
          1.96,
          1.589,
          2.2049999,
          1.493,
          2.1359999,
          2.2509999,
          2.046,
          2.427,
          1.909,
          2,
          4.0739999,
          4.2379999,
          2.3540001,
          3.141,
          1.37,
          6.2989998,
          2.937,
          1.6569999,
          4.848,
          3.5120001,
          3.7920001,
          2.767,
          2.451,
          2.812,
          2.7060001,
          2.0039999,
          2.326,
          1.966,
          3.437,
          1.807,
          2.0409999
         ],
         "xaxis": "x",
         "y": [
          0.1845664959613197,
          0.241273378850967,
          0.1439753697838453,
          0.26229306046643913,
          0.27824908992036407,
          0.33707701941410695,
          0.25855034131968146,
          0.18379641635381114,
          0.17211922642775881,
          0.2873434015642776,
          0.34631820246302614,
          0.32235386807736066,
          0.14696473266780433,
          0.21042730370307167,
          0.39682593851535836,
          0.1535152446131968,
          0.13689465300341297,
          0.29748941975540383,
          0.09362844139362912,
          0.06177440273037542,
          0.18882241191126278,
          0.17765398182025027,
          0.17201069391922638,
          0.06206467578498293,
          0.14194288960750853,
          0.3695394766097838,
          0.29301262802047784,
          0.2293291808248009,
          0.19760170648464165,
          0.30989379976678044,
          0.35580051215585895,
          0.1744428896416382,
          0.1848213879351536,
          0.36702622280432307,
          0.3107283277701934,
          0.28314158137087597,
          0.24069584749146758,
          0.2821498293856656,
          0.2781288964220705,
          0.8307530148464164,
          0.10701080773037543,
          0.1606589306029579,
          0.15960767916951082,
          0.2387431171274175,
          0.20408503982366324,
          0.18391524457337885
         ],
         "yaxis": "y"
        },
        {
         "hovertemplate": "svm_correct=False<br>target=2<br>max=%{x}<br>mean=%{y}<extra></extra>",
         "legendgroup": "False, 2",
         "marker": {
          "color": "#EF553B",
          "opacity": 0.6,
          "symbol": "square"
         },
         "mode": "markers",
         "name": "False, 2",
         "orientation": "v",
         "showlegend": true,
         "type": "scatter",
         "x": [
          1.61,
          2.527,
          1.653,
          3.181,
          0.838,
          1.8150001,
          1.7029999,
          1.59,
          1.37,
          1.145,
          1.439,
          5.5149999,
          0.603,
          2.3559999,
          1.318,
          1.6849999,
          1.05,
          1.3609999,
          2.431,
          2.8139999,
          4.2129998,
          0.612,
          1.913,
          3.648,
          2.0469999,
          2.3039999,
          1.249,
          4.0019999,
          1.39,
          3.2360001,
          1.702,
          1.91,
          2.1670001,
          2.5610001,
          2.007,
          2.4059999,
          0.46,
          2.3180001,
          1.734,
          1.757,
          1.642,
          3.477,
          2.4130001,
          2.546,
          1.09,
          1.391,
          3.029,
          2.369,
          3.174,
          2.701,
          1.656,
          3.388,
          2.392,
          2.322,
          1.5089999,
          4.3070002,
          0.783,
          3.4860001,
          0.011
         ],
         "xaxis": "x",
         "y": [
          0.17791939703071674,
          0.16163213874857793,
          0.12870068258248007,
          0.5228695108703072,
          0.08605540386803186,
          0.13434772465870307,
          0.10395119452218429,
          0.11342872581342435,
          0.08550591581911263,
          0.12319499431171786,
          0.13419374290671218,
          0.3671904436006826,
          0.02860716723549488,
          0.3005030716951081,
          0.12517912399886236,
          0.23959982934584756,
          0.10131518771331059,
          0.06337849828213879,
          0.13673424346416382,
          0.21506729246302617,
          0.44325250286120593,
          0.06769180887372013,
          0.0889073378668942,
          0.20620682592718997,
          0.1891853810864619,
          0.3729215585381115,
          0.11477235494880547,
          0.6213692262229806,
          0.20818492606370875,
          0.25685967007394767,
          0.127156200221843,
          0.16301382253128557,
          0.18379698523321958,
          0.1903432308646189,
          0.10554931740614334,
          0.12496985204778156,
          0.030072639362912403,
          0.25789670079635946,
          0.04927724680318543,
          0.24760984071672354,
          0.17474817973833903,
          0.3759511946131968,
          0.1621915244880546,
          0.18093788396473268,
          0.09476638225255972,
          0.25334089877133104,
          0.1847282138566553,
          0.12932957906143347,
          0.3882244596075085,
          0.21492758816837315,
          0.17928185437428895,
          0.1766167803868032,
          0.301961035221843,
          0.2398752560238908,
          0.12762332195108078,
          0.41986524455631397,
          0.026289078498293515,
          0.3621562571274175,
          0.006913367463026166
         ],
         "yaxis": "y"
        }
       ],
       "layout": {
        "legend": {
         "title": {
          "text": "svm_correct, target"
         },
         "tracegroupgap": 0
        },
        "margin": {
         "t": 60
        },
        "template": {
         "data": {
          "bar": [
           {
            "error_x": {
             "color": "#2a3f5f"
            },
            "error_y": {
             "color": "#2a3f5f"
            },
            "marker": {
             "line": {
              "color": "#E5ECF6",
              "width": 0.5
             },
             "pattern": {
              "fillmode": "overlay",
              "size": 10,
              "solidity": 0.2
             }
            },
            "type": "bar"
           }
          ],
          "barpolar": [
           {
            "marker": {
             "line": {
              "color": "#E5ECF6",
              "width": 0.5
             },
             "pattern": {
              "fillmode": "overlay",
              "size": 10,
              "solidity": 0.2
             }
            },
            "type": "barpolar"
           }
          ],
          "carpet": [
           {
            "aaxis": {
             "endlinecolor": "#2a3f5f",
             "gridcolor": "white",
             "linecolor": "white",
             "minorgridcolor": "white",
             "startlinecolor": "#2a3f5f"
            },
            "baxis": {
             "endlinecolor": "#2a3f5f",
             "gridcolor": "white",
             "linecolor": "white",
             "minorgridcolor": "white",
             "startlinecolor": "#2a3f5f"
            },
            "type": "carpet"
           }
          ],
          "choropleth": [
           {
            "colorbar": {
             "outlinewidth": 0,
             "ticks": ""
            },
            "type": "choropleth"
           }
          ],
          "contour": [
           {
            "colorbar": {
             "outlinewidth": 0,
             "ticks": ""
            },
            "colorscale": [
             [
              0,
              "#0d0887"
             ],
             [
              0.1111111111111111,
              "#46039f"
             ],
             [
              0.2222222222222222,
              "#7201a8"
             ],
             [
              0.3333333333333333,
              "#9c179e"
             ],
             [
              0.4444444444444444,
              "#bd3786"
             ],
             [
              0.5555555555555556,
              "#d8576b"
             ],
             [
              0.6666666666666666,
              "#ed7953"
             ],
             [
              0.7777777777777778,
              "#fb9f3a"
             ],
             [
              0.8888888888888888,
              "#fdca26"
             ],
             [
              1,
              "#f0f921"
             ]
            ],
            "type": "contour"
           }
          ],
          "contourcarpet": [
           {
            "colorbar": {
             "outlinewidth": 0,
             "ticks": ""
            },
            "type": "contourcarpet"
           }
          ],
          "heatmap": [
           {
            "colorbar": {
             "outlinewidth": 0,
             "ticks": ""
            },
            "colorscale": [
             [
              0,
              "#0d0887"
             ],
             [
              0.1111111111111111,
              "#46039f"
             ],
             [
              0.2222222222222222,
              "#7201a8"
             ],
             [
              0.3333333333333333,
              "#9c179e"
             ],
             [
              0.4444444444444444,
              "#bd3786"
             ],
             [
              0.5555555555555556,
              "#d8576b"
             ],
             [
              0.6666666666666666,
              "#ed7953"
             ],
             [
              0.7777777777777778,
              "#fb9f3a"
             ],
             [
              0.8888888888888888,
              "#fdca26"
             ],
             [
              1,
              "#f0f921"
             ]
            ],
            "type": "heatmap"
           }
          ],
          "heatmapgl": [
           {
            "colorbar": {
             "outlinewidth": 0,
             "ticks": ""
            },
            "colorscale": [
             [
              0,
              "#0d0887"
             ],
             [
              0.1111111111111111,
              "#46039f"
             ],
             [
              0.2222222222222222,
              "#7201a8"
             ],
             [
              0.3333333333333333,
              "#9c179e"
             ],
             [
              0.4444444444444444,
              "#bd3786"
             ],
             [
              0.5555555555555556,
              "#d8576b"
             ],
             [
              0.6666666666666666,
              "#ed7953"
             ],
             [
              0.7777777777777778,
              "#fb9f3a"
             ],
             [
              0.8888888888888888,
              "#fdca26"
             ],
             [
              1,
              "#f0f921"
             ]
            ],
            "type": "heatmapgl"
           }
          ],
          "histogram": [
           {
            "marker": {
             "pattern": {
              "fillmode": "overlay",
              "size": 10,
              "solidity": 0.2
             }
            },
            "type": "histogram"
           }
          ],
          "histogram2d": [
           {
            "colorbar": {
             "outlinewidth": 0,
             "ticks": ""
            },
            "colorscale": [
             [
              0,
              "#0d0887"
             ],
             [
              0.1111111111111111,
              "#46039f"
             ],
             [
              0.2222222222222222,
              "#7201a8"
             ],
             [
              0.3333333333333333,
              "#9c179e"
             ],
             [
              0.4444444444444444,
              "#bd3786"
             ],
             [
              0.5555555555555556,
              "#d8576b"
             ],
             [
              0.6666666666666666,
              "#ed7953"
             ],
             [
              0.7777777777777778,
              "#fb9f3a"
             ],
             [
              0.8888888888888888,
              "#fdca26"
             ],
             [
              1,
              "#f0f921"
             ]
            ],
            "type": "histogram2d"
           }
          ],
          "histogram2dcontour": [
           {
            "colorbar": {
             "outlinewidth": 0,
             "ticks": ""
            },
            "colorscale": [
             [
              0,
              "#0d0887"
             ],
             [
              0.1111111111111111,
              "#46039f"
             ],
             [
              0.2222222222222222,
              "#7201a8"
             ],
             [
              0.3333333333333333,
              "#9c179e"
             ],
             [
              0.4444444444444444,
              "#bd3786"
             ],
             [
              0.5555555555555556,
              "#d8576b"
             ],
             [
              0.6666666666666666,
              "#ed7953"
             ],
             [
              0.7777777777777778,
              "#fb9f3a"
             ],
             [
              0.8888888888888888,
              "#fdca26"
             ],
             [
              1,
              "#f0f921"
             ]
            ],
            "type": "histogram2dcontour"
           }
          ],
          "mesh3d": [
           {
            "colorbar": {
             "outlinewidth": 0,
             "ticks": ""
            },
            "type": "mesh3d"
           }
          ],
          "parcoords": [
           {
            "line": {
             "colorbar": {
              "outlinewidth": 0,
              "ticks": ""
             }
            },
            "type": "parcoords"
           }
          ],
          "pie": [
           {
            "automargin": true,
            "type": "pie"
           }
          ],
          "scatter": [
           {
            "fillpattern": {
             "fillmode": "overlay",
             "size": 10,
             "solidity": 0.2
            },
            "type": "scatter"
           }
          ],
          "scatter3d": [
           {
            "line": {
             "colorbar": {
              "outlinewidth": 0,
              "ticks": ""
             }
            },
            "marker": {
             "colorbar": {
              "outlinewidth": 0,
              "ticks": ""
             }
            },
            "type": "scatter3d"
           }
          ],
          "scattercarpet": [
           {
            "marker": {
             "colorbar": {
              "outlinewidth": 0,
              "ticks": ""
             }
            },
            "type": "scattercarpet"
           }
          ],
          "scattergeo": [
           {
            "marker": {
             "colorbar": {
              "outlinewidth": 0,
              "ticks": ""
             }
            },
            "type": "scattergeo"
           }
          ],
          "scattergl": [
           {
            "marker": {
             "colorbar": {
              "outlinewidth": 0,
              "ticks": ""
             }
            },
            "type": "scattergl"
           }
          ],
          "scattermapbox": [
           {
            "marker": {
             "colorbar": {
              "outlinewidth": 0,
              "ticks": ""
             }
            },
            "type": "scattermapbox"
           }
          ],
          "scatterpolar": [
           {
            "marker": {
             "colorbar": {
              "outlinewidth": 0,
              "ticks": ""
             }
            },
            "type": "scatterpolar"
           }
          ],
          "scatterpolargl": [
           {
            "marker": {
             "colorbar": {
              "outlinewidth": 0,
              "ticks": ""
             }
            },
            "type": "scatterpolargl"
           }
          ],
          "scatterternary": [
           {
            "marker": {
             "colorbar": {
              "outlinewidth": 0,
              "ticks": ""
             }
            },
            "type": "scatterternary"
           }
          ],
          "surface": [
           {
            "colorbar": {
             "outlinewidth": 0,
             "ticks": ""
            },
            "colorscale": [
             [
              0,
              "#0d0887"
             ],
             [
              0.1111111111111111,
              "#46039f"
             ],
             [
              0.2222222222222222,
              "#7201a8"
             ],
             [
              0.3333333333333333,
              "#9c179e"
             ],
             [
              0.4444444444444444,
              "#bd3786"
             ],
             [
              0.5555555555555556,
              "#d8576b"
             ],
             [
              0.6666666666666666,
              "#ed7953"
             ],
             [
              0.7777777777777778,
              "#fb9f3a"
             ],
             [
              0.8888888888888888,
              "#fdca26"
             ],
             [
              1,
              "#f0f921"
             ]
            ],
            "type": "surface"
           }
          ],
          "table": [
           {
            "cells": {
             "fill": {
              "color": "#EBF0F8"
             },
             "line": {
              "color": "white"
             }
            },
            "header": {
             "fill": {
              "color": "#C8D4E3"
             },
             "line": {
              "color": "white"
             }
            },
            "type": "table"
           }
          ]
         },
         "layout": {
          "annotationdefaults": {
           "arrowcolor": "#2a3f5f",
           "arrowhead": 0,
           "arrowwidth": 1
          },
          "autotypenumbers": "strict",
          "coloraxis": {
           "colorbar": {
            "outlinewidth": 0,
            "ticks": ""
           }
          },
          "colorscale": {
           "diverging": [
            [
             0,
             "#8e0152"
            ],
            [
             0.1,
             "#c51b7d"
            ],
            [
             0.2,
             "#de77ae"
            ],
            [
             0.3,
             "#f1b6da"
            ],
            [
             0.4,
             "#fde0ef"
            ],
            [
             0.5,
             "#f7f7f7"
            ],
            [
             0.6,
             "#e6f5d0"
            ],
            [
             0.7,
             "#b8e186"
            ],
            [
             0.8,
             "#7fbc41"
            ],
            [
             0.9,
             "#4d9221"
            ],
            [
             1,
             "#276419"
            ]
           ],
           "sequential": [
            [
             0,
             "#0d0887"
            ],
            [
             0.1111111111111111,
             "#46039f"
            ],
            [
             0.2222222222222222,
             "#7201a8"
            ],
            [
             0.3333333333333333,
             "#9c179e"
            ],
            [
             0.4444444444444444,
             "#bd3786"
            ],
            [
             0.5555555555555556,
             "#d8576b"
            ],
            [
             0.6666666666666666,
             "#ed7953"
            ],
            [
             0.7777777777777778,
             "#fb9f3a"
            ],
            [
             0.8888888888888888,
             "#fdca26"
            ],
            [
             1,
             "#f0f921"
            ]
           ],
           "sequentialminus": [
            [
             0,
             "#0d0887"
            ],
            [
             0.1111111111111111,
             "#46039f"
            ],
            [
             0.2222222222222222,
             "#7201a8"
            ],
            [
             0.3333333333333333,
             "#9c179e"
            ],
            [
             0.4444444444444444,
             "#bd3786"
            ],
            [
             0.5555555555555556,
             "#d8576b"
            ],
            [
             0.6666666666666666,
             "#ed7953"
            ],
            [
             0.7777777777777778,
             "#fb9f3a"
            ],
            [
             0.8888888888888888,
             "#fdca26"
            ],
            [
             1,
             "#f0f921"
            ]
           ]
          },
          "colorway": [
           "#636efa",
           "#EF553B",
           "#00cc96",
           "#ab63fa",
           "#FFA15A",
           "#19d3f3",
           "#FF6692",
           "#B6E880",
           "#FF97FF",
           "#FECB52"
          ],
          "font": {
           "color": "#2a3f5f"
          },
          "geo": {
           "bgcolor": "white",
           "lakecolor": "white",
           "landcolor": "#E5ECF6",
           "showlakes": true,
           "showland": true,
           "subunitcolor": "white"
          },
          "hoverlabel": {
           "align": "left"
          },
          "hovermode": "closest",
          "mapbox": {
           "style": "light"
          },
          "paper_bgcolor": "white",
          "plot_bgcolor": "#E5ECF6",
          "polar": {
           "angularaxis": {
            "gridcolor": "white",
            "linecolor": "white",
            "ticks": ""
           },
           "bgcolor": "#E5ECF6",
           "radialaxis": {
            "gridcolor": "white",
            "linecolor": "white",
            "ticks": ""
           }
          },
          "scene": {
           "xaxis": {
            "backgroundcolor": "#E5ECF6",
            "gridcolor": "white",
            "gridwidth": 2,
            "linecolor": "white",
            "showbackground": true,
            "ticks": "",
            "zerolinecolor": "white"
           },
           "yaxis": {
            "backgroundcolor": "#E5ECF6",
            "gridcolor": "white",
            "gridwidth": 2,
            "linecolor": "white",
            "showbackground": true,
            "ticks": "",
            "zerolinecolor": "white"
           },
           "zaxis": {
            "backgroundcolor": "#E5ECF6",
            "gridcolor": "white",
            "gridwidth": 2,
            "linecolor": "white",
            "showbackground": true,
            "ticks": "",
            "zerolinecolor": "white"
           }
          },
          "shapedefaults": {
           "line": {
            "color": "#2a3f5f"
           }
          },
          "ternary": {
           "aaxis": {
            "gridcolor": "white",
            "linecolor": "white",
            "ticks": ""
           },
           "baxis": {
            "gridcolor": "white",
            "linecolor": "white",
            "ticks": ""
           },
           "bgcolor": "#E5ECF6",
           "caxis": {
            "gridcolor": "white",
            "linecolor": "white",
            "ticks": ""
           }
          },
          "title": {
           "x": 0.05
          },
          "xaxis": {
           "automargin": true,
           "gridcolor": "white",
           "linecolor": "white",
           "ticks": "",
           "title": {
            "standoff": 15
           },
           "zerolinecolor": "white",
           "zerolinewidth": 2
          },
          "yaxis": {
           "automargin": true,
           "gridcolor": "white",
           "linecolor": "white",
           "ticks": "",
           "title": {
            "standoff": 15
           },
           "zerolinecolor": "white",
           "zerolinewidth": 2
          }
         }
        },
        "xaxis": {
         "anchor": "y",
         "domain": [
          0,
          1
         ],
         "title": {
          "text": "max"
         }
        },
        "yaxis": {
         "anchor": "x",
         "domain": [
          0,
          1
         ],
         "title": {
          "text": "mean"
         }
        }
       }
      }
     },
     "metadata": {},
     "output_type": "display_data"
    }
   ],
   "source": [
    "px.scatter(Xtest, x=\"max\", y=\"mean\", color=\"svm_correct\", opacity=0.6, symbol='target', category_orders={\"svm_correct\": [True, False]})"
   ]
  },
  {
   "cell_type": "code",
   "execution_count": 199,
   "metadata": {},
   "outputs": [
    {
     "data": {
      "application/vnd.plotly.v1+json": {
       "config": {
        "plotlyServerURL": "https://plot.ly"
       },
       "data": [
        {
         "hovertemplate": "dt_correct=True<br>target=1<br>max=%{x}<br>mean=%{y}<extra></extra>",
         "legendgroup": "True, 1",
         "marker": {
          "color": "#636efa",
          "opacity": 0.6,
          "symbol": "circle"
         },
         "mode": "markers",
         "name": "True, 1",
         "orientation": "v",
         "showlegend": true,
         "type": "scatter",
         "x": [
          2.296,
          4.0370002,
          1.96,
          8.1709995,
          2.4890001,
          1.7819999,
          1.899,
          2.0480001,
          1.847,
          2.0880001,
          2.2869999,
          2.8640001,
          1.225,
          2.3829999,
          1.923,
          1.169,
          2.0539999,
          1.6,
          5.0050001,
          1.4220001,
          2.076,
          2.405,
          3.1619999,
          0.583,
          3.8050001,
          3.744,
          1.382,
          1.14,
          2.9760001,
          2.029,
          2.8299999,
          1.2180001,
          2.76,
          1.665,
          2.7909999,
          2.381,
          1.536,
          2.29,
          6.171,
          0.521
         ],
         "xaxis": "x",
         "y": [
          0.23732787265073949,
          0.7714105803299204,
          0.20368936288395906,
          2.1121104095676904,
          0.3220819681569966,
          0.1402833333105802,
          0.1692423207622298,
          0.1968231513367463,
          0.1773198520989761,
          0.21290779294084186,
          0.12002775875995449,
          0.3036994311660979,
          0.07724835039817976,
          0.22363100109215017,
          0.1715484641410694,
          0.06375284414106941,
          0.13859470988623437,
          0.2996792946473265,
          0.941097156046644,
          0.07306302616609785,
          0.10499175199658703,
          0.18881035272468716,
          0.3658215016780432,
          0.05648924914675768,
          0.0835419226734926,
          0.3365703640500569,
          0.0814727531228669,
          0.12214943116609783,
          0.2903840158816837,
          0.10536279866894198,
          0.3965563139647326,
          0.1471187144539249,
          0.29690034120591585,
          0.06327491467007963,
          0.37363873721274177,
          0.2084934015642776,
          0.09744010239476678,
          0.30383048931171786,
          0.7306271331001137,
          0.1382550625711035
         ],
         "yaxis": "y"
        },
        {
         "hovertemplate": "dt_correct=True<br>target=3<br>max=%{x}<br>mean=%{y}<extra></extra>",
         "legendgroup": "True, 3",
         "marker": {
          "color": "#636efa",
          "opacity": 0.6,
          "symbol": "diamond"
         },
         "mode": "markers",
         "name": "True, 3",
         "orientation": "v",
         "showlegend": true,
         "type": "scatter",
         "x": [
          1.423,
          2.727,
          2.299,
          0.848,
          3.151,
          0.573,
          3.1040001,
          3.9219999,
          1.589,
          1.493,
          1.2130001,
          1.415,
          3.141,
          1.029,
          1.48,
          4.848,
          3.7920001,
          0.411,
          2.812,
          1.22
         ],
         "xaxis": "x",
         "y": [
          0.24517144481228667,
          0.33707701941410695,
          0.25855034131968146,
          0.1518845278725825,
          0.2873434015642776,
          0.08395489192263936,
          0.34631820246302614,
          0.32235386807736066,
          0.13689465300341297,
          0.09362844139362912,
          0.1071522753185438,
          0.13762804321387942,
          0.19760170648464165,
          0.08353657565415246,
          0.1779977246587031,
          0.36702622280432307,
          0.28314158137087597,
          0.04364004550625711,
          0.2781288964220705,
          0.08305193397042093
         ],
         "yaxis": "y"
        },
        {
         "hovertemplate": "dt_correct=True<br>target=2<br>max=%{x}<br>mean=%{y}<extra></extra>",
         "legendgroup": "True, 2",
         "marker": {
          "color": "#636efa",
          "opacity": 0.6,
          "symbol": "square"
         },
         "mode": "markers",
         "name": "True, 2",
         "orientation": "v",
         "showlegend": true,
         "type": "scatter",
         "x": [
          1.8150001,
          5.5149999,
          2.431,
          4.2129998,
          4.0019999,
          1.39,
          3.2360001,
          1.702,
          2.1670001,
          1.757,
          1.642,
          3.029,
          1.656
         ],
         "xaxis": "x",
         "y": [
          0.13434772465870307,
          0.3671904436006826,
          0.13673424346416382,
          0.44325250286120593,
          0.6213692262229806,
          0.20818492606370875,
          0.25685967007394767,
          0.127156200221843,
          0.18379698523321958,
          0.24760984071672354,
          0.17474817973833903,
          0.1847282138566553,
          0.17928185437428895
         ],
         "yaxis": "y"
        },
        {
         "hovertemplate": "dt_correct=False<br>target=1<br>max=%{x}<br>mean=%{y}<extra></extra>",
         "legendgroup": "False, 1",
         "marker": {
          "color": "#EF553B",
          "opacity": 0.6,
          "symbol": "circle"
         },
         "mode": "markers",
         "name": "False, 1",
         "orientation": "v",
         "showlegend": true,
         "type": "scatter",
         "x": [
          1.186,
          2.0369999,
          1.903,
          1.591,
          1.48,
          4.3239999,
          4.566,
          0.985,
          2.4660001,
          1.0599999,
          1.638,
          2.77,
          1.7589999,
          3.391,
          1.3279999,
          2.322,
          1.161,
          1.648,
          1.988,
          2.5929999,
          1.957,
          1.396,
          0.694,
          2.339,
          3.0799999,
          2.135,
          1.59,
          2.464,
          0.068,
          5.283,
          3.6110001,
          3.9579999,
          3.1530001,
          1.471,
          1.758,
          1.7410001,
          2.1930001,
          2.1700001,
          3.5179999,
          1.592,
          1.793,
          2.1259999,
          0.9,
          3.5320001,
          4.0209999,
          1.604,
          1.897
         ],
         "xaxis": "x",
         "y": [
          0.07622764505119455,
          0.2562985778270762,
          0.13587582476678045,
          0.14185073947667803,
          0.11587758814562002,
          0.5367326507508532,
          0.36663378845847555,
          0.17498373151308305,
          0.07904863480091012,
          0.1219925483447099,
          0.16230563138794082,
          0.3622226964277588,
          0.14655182024459612,
          0.22119061440841864,
          0.08623174061433447,
          0.06930386801478954,
          0.061654721274175206,
          0.18670597272468714,
          0.36720420932309444,
          0.3034207622127418,
          0.15746086464163822,
          0.0895039248748578,
          0.09048748577929465,
          0.48588128540386805,
          0.2778121160182025,
          0.12559317399317405,
          0.13291154718998863,
          0.14637923773606373,
          0.03150648464163822,
          0.25185557455631397,
          0.13127497162116042,
          0.5924545507508532,
          0.227338225182025,
          0.1691612059158134,
          0.12910921502275313,
          0.26150284415244596,
          0.25988708753697387,
          0.2534561433105802,
          0.23031598401023892,
          0.1334015358248009,
          0.1288915244596132,
          0.24871786123435724,
          0.09235733788395904,
          0.6248606938850968,
          0.5782221272753129,
          0.1645767349317406,
          0.08121154721274175
         ],
         "yaxis": "y"
        },
        {
         "hovertemplate": "dt_correct=False<br>target=3<br>max=%{x}<br>mean=%{y}<extra></extra>",
         "legendgroup": "False, 3",
         "marker": {
          "color": "#EF553B",
          "opacity": 0.6,
          "symbol": "diamond"
         },
         "mode": "markers",
         "name": "False, 3",
         "orientation": "v",
         "showlegend": true,
         "type": "scatter",
         "x": [
          1.845,
          0.934,
          2.835,
          1.854,
          4.415,
          2.2219999,
          2.1229999,
          2.4330001,
          1.26,
          1.103,
          0.928,
          2.2520001,
          1.476,
          1.352,
          1.1390001,
          2.483,
          3.3150001,
          1.96,
          1.546,
          0.547,
          2.2049999,
          2.1359999,
          2.2509999,
          2.046,
          2.427,
          1.909,
          2,
          4.0739999,
          4.2379999,
          1.405,
          2.3540001,
          1.485,
          1.1799999,
          1.37,
          6.2989998,
          1.15,
          0.986,
          2.937,
          1.6569999,
          1.1,
          1.176,
          3.5120001,
          1.1720001,
          2.767,
          1.392,
          2.451,
          2.7060001,
          2.0039999,
          2.326,
          1.503,
          1.279,
          0.702,
          1.966,
          3.437,
          0.798,
          1.807,
          2.0409999
         ],
         "xaxis": "x",
         "y": [
          0.1845664959613197,
          0.09576552901023891,
          0.241273378850967,
          0.1439753697838453,
          0.26229306046643913,
          0.27824908992036407,
          0.18379641635381114,
          0.17211922642775881,
          0.15716860067690558,
          0.09496717861205915,
          0.18713043230944257,
          0.14696473266780433,
          0.12933964731513084,
          0.23830807736632537,
          0.08227184300910126,
          0.21042730370307167,
          0.39682593851535836,
          0.1535152446131968,
          0.14359954497155858,
          0.049998577929465306,
          0.29748941975540383,
          0.06177440273037542,
          0.18882241191126278,
          0.17765398182025027,
          0.17201069391922638,
          0.06206467578498293,
          0.14194288960750853,
          0.3695394766097838,
          0.29301262802047784,
          0.07540318543799772,
          0.2293291808248009,
          0.20790375428896474,
          0.1939836177360637,
          0.30989379976678044,
          0.35580051215585895,
          0.09478981797497156,
          0.2579288964732651,
          0.1744428896416382,
          0.1848213879351536,
          0.10575568828213879,
          0.07001416381683732,
          0.3107283277701934,
          0.17027337883959043,
          0.24069584749146758,
          0.10418077360637087,
          0.2821498293856656,
          0.8307530148464164,
          0.10701080773037543,
          0.1606589306029579,
          0.14083913540386803,
          0.12234641638225255,
          0.06995762229806599,
          0.15960767916951082,
          0.2387431171274175,
          0.1698282707622298,
          0.20408503982366324,
          0.18391524457337885
         ],
         "yaxis": "y"
        },
        {
         "hovertemplate": "dt_correct=False<br>target=2<br>max=%{x}<br>mean=%{y}<extra></extra>",
         "legendgroup": "False, 2",
         "marker": {
          "color": "#EF553B",
          "opacity": 0.6,
          "symbol": "square"
         },
         "mode": "markers",
         "name": "False, 2",
         "orientation": "v",
         "showlegend": true,
         "type": "scatter",
         "x": [
          1.61,
          2.527,
          1.653,
          3.181,
          0.838,
          1.7029999,
          1.59,
          1.37,
          1.145,
          1.439,
          0.603,
          2.3559999,
          1.318,
          1.6849999,
          1.05,
          1.3609999,
          2.8139999,
          0.612,
          1.913,
          3.648,
          2.0469999,
          2.3039999,
          1.249,
          1.91,
          2.5610001,
          2.007,
          2.4059999,
          0.46,
          2.3180001,
          1.734,
          3.477,
          2.4130001,
          2.546,
          1.09,
          1.391,
          2.369,
          3.174,
          2.701,
          3.388,
          2.392,
          2.322,
          1.5089999,
          4.3070002,
          6.3629999,
          0.783,
          3.4860001,
          0.011
         ],
         "xaxis": "x",
         "y": [
          0.17791939703071674,
          0.16163213874857793,
          0.12870068258248007,
          0.5228695108703072,
          0.08605540386803186,
          0.10395119452218429,
          0.11342872581342435,
          0.08550591581911263,
          0.12319499431171786,
          0.13419374290671218,
          0.02860716723549488,
          0.3005030716951081,
          0.12517912399886236,
          0.23959982934584756,
          0.10131518771331059,
          0.06337849828213879,
          0.21506729246302617,
          0.06769180887372013,
          0.0889073378668942,
          0.20620682592718997,
          0.1891853810864619,
          0.3729215585381115,
          0.11477235494880547,
          0.16301382253128557,
          0.1903432308646189,
          0.10554931740614334,
          0.12496985204778156,
          0.030072639362912403,
          0.25789670079635946,
          0.04927724680318543,
          0.3759511946131968,
          0.1621915244880546,
          0.18093788396473268,
          0.09476638225255972,
          0.25334089877133104,
          0.12932957906143347,
          0.3882244596075085,
          0.21492758816837315,
          0.1766167803868032,
          0.301961035221843,
          0.2398752560238908,
          0.12762332195108078,
          0.41986524455631397,
          0.4388435726166098,
          0.026289078498293515,
          0.3621562571274175,
          0.006913367463026166
         ],
         "yaxis": "y"
        }
       ],
       "layout": {
        "legend": {
         "title": {
          "text": "dt_correct, target"
         },
         "tracegroupgap": 0
        },
        "margin": {
         "t": 60
        },
        "template": {
         "data": {
          "bar": [
           {
            "error_x": {
             "color": "#2a3f5f"
            },
            "error_y": {
             "color": "#2a3f5f"
            },
            "marker": {
             "line": {
              "color": "#E5ECF6",
              "width": 0.5
             },
             "pattern": {
              "fillmode": "overlay",
              "size": 10,
              "solidity": 0.2
             }
            },
            "type": "bar"
           }
          ],
          "barpolar": [
           {
            "marker": {
             "line": {
              "color": "#E5ECF6",
              "width": 0.5
             },
             "pattern": {
              "fillmode": "overlay",
              "size": 10,
              "solidity": 0.2
             }
            },
            "type": "barpolar"
           }
          ],
          "carpet": [
           {
            "aaxis": {
             "endlinecolor": "#2a3f5f",
             "gridcolor": "white",
             "linecolor": "white",
             "minorgridcolor": "white",
             "startlinecolor": "#2a3f5f"
            },
            "baxis": {
             "endlinecolor": "#2a3f5f",
             "gridcolor": "white",
             "linecolor": "white",
             "minorgridcolor": "white",
             "startlinecolor": "#2a3f5f"
            },
            "type": "carpet"
           }
          ],
          "choropleth": [
           {
            "colorbar": {
             "outlinewidth": 0,
             "ticks": ""
            },
            "type": "choropleth"
           }
          ],
          "contour": [
           {
            "colorbar": {
             "outlinewidth": 0,
             "ticks": ""
            },
            "colorscale": [
             [
              0,
              "#0d0887"
             ],
             [
              0.1111111111111111,
              "#46039f"
             ],
             [
              0.2222222222222222,
              "#7201a8"
             ],
             [
              0.3333333333333333,
              "#9c179e"
             ],
             [
              0.4444444444444444,
              "#bd3786"
             ],
             [
              0.5555555555555556,
              "#d8576b"
             ],
             [
              0.6666666666666666,
              "#ed7953"
             ],
             [
              0.7777777777777778,
              "#fb9f3a"
             ],
             [
              0.8888888888888888,
              "#fdca26"
             ],
             [
              1,
              "#f0f921"
             ]
            ],
            "type": "contour"
           }
          ],
          "contourcarpet": [
           {
            "colorbar": {
             "outlinewidth": 0,
             "ticks": ""
            },
            "type": "contourcarpet"
           }
          ],
          "heatmap": [
           {
            "colorbar": {
             "outlinewidth": 0,
             "ticks": ""
            },
            "colorscale": [
             [
              0,
              "#0d0887"
             ],
             [
              0.1111111111111111,
              "#46039f"
             ],
             [
              0.2222222222222222,
              "#7201a8"
             ],
             [
              0.3333333333333333,
              "#9c179e"
             ],
             [
              0.4444444444444444,
              "#bd3786"
             ],
             [
              0.5555555555555556,
              "#d8576b"
             ],
             [
              0.6666666666666666,
              "#ed7953"
             ],
             [
              0.7777777777777778,
              "#fb9f3a"
             ],
             [
              0.8888888888888888,
              "#fdca26"
             ],
             [
              1,
              "#f0f921"
             ]
            ],
            "type": "heatmap"
           }
          ],
          "heatmapgl": [
           {
            "colorbar": {
             "outlinewidth": 0,
             "ticks": ""
            },
            "colorscale": [
             [
              0,
              "#0d0887"
             ],
             [
              0.1111111111111111,
              "#46039f"
             ],
             [
              0.2222222222222222,
              "#7201a8"
             ],
             [
              0.3333333333333333,
              "#9c179e"
             ],
             [
              0.4444444444444444,
              "#bd3786"
             ],
             [
              0.5555555555555556,
              "#d8576b"
             ],
             [
              0.6666666666666666,
              "#ed7953"
             ],
             [
              0.7777777777777778,
              "#fb9f3a"
             ],
             [
              0.8888888888888888,
              "#fdca26"
             ],
             [
              1,
              "#f0f921"
             ]
            ],
            "type": "heatmapgl"
           }
          ],
          "histogram": [
           {
            "marker": {
             "pattern": {
              "fillmode": "overlay",
              "size": 10,
              "solidity": 0.2
             }
            },
            "type": "histogram"
           }
          ],
          "histogram2d": [
           {
            "colorbar": {
             "outlinewidth": 0,
             "ticks": ""
            },
            "colorscale": [
             [
              0,
              "#0d0887"
             ],
             [
              0.1111111111111111,
              "#46039f"
             ],
             [
              0.2222222222222222,
              "#7201a8"
             ],
             [
              0.3333333333333333,
              "#9c179e"
             ],
             [
              0.4444444444444444,
              "#bd3786"
             ],
             [
              0.5555555555555556,
              "#d8576b"
             ],
             [
              0.6666666666666666,
              "#ed7953"
             ],
             [
              0.7777777777777778,
              "#fb9f3a"
             ],
             [
              0.8888888888888888,
              "#fdca26"
             ],
             [
              1,
              "#f0f921"
             ]
            ],
            "type": "histogram2d"
           }
          ],
          "histogram2dcontour": [
           {
            "colorbar": {
             "outlinewidth": 0,
             "ticks": ""
            },
            "colorscale": [
             [
              0,
              "#0d0887"
             ],
             [
              0.1111111111111111,
              "#46039f"
             ],
             [
              0.2222222222222222,
              "#7201a8"
             ],
             [
              0.3333333333333333,
              "#9c179e"
             ],
             [
              0.4444444444444444,
              "#bd3786"
             ],
             [
              0.5555555555555556,
              "#d8576b"
             ],
             [
              0.6666666666666666,
              "#ed7953"
             ],
             [
              0.7777777777777778,
              "#fb9f3a"
             ],
             [
              0.8888888888888888,
              "#fdca26"
             ],
             [
              1,
              "#f0f921"
             ]
            ],
            "type": "histogram2dcontour"
           }
          ],
          "mesh3d": [
           {
            "colorbar": {
             "outlinewidth": 0,
             "ticks": ""
            },
            "type": "mesh3d"
           }
          ],
          "parcoords": [
           {
            "line": {
             "colorbar": {
              "outlinewidth": 0,
              "ticks": ""
             }
            },
            "type": "parcoords"
           }
          ],
          "pie": [
           {
            "automargin": true,
            "type": "pie"
           }
          ],
          "scatter": [
           {
            "fillpattern": {
             "fillmode": "overlay",
             "size": 10,
             "solidity": 0.2
            },
            "type": "scatter"
           }
          ],
          "scatter3d": [
           {
            "line": {
             "colorbar": {
              "outlinewidth": 0,
              "ticks": ""
             }
            },
            "marker": {
             "colorbar": {
              "outlinewidth": 0,
              "ticks": ""
             }
            },
            "type": "scatter3d"
           }
          ],
          "scattercarpet": [
           {
            "marker": {
             "colorbar": {
              "outlinewidth": 0,
              "ticks": ""
             }
            },
            "type": "scattercarpet"
           }
          ],
          "scattergeo": [
           {
            "marker": {
             "colorbar": {
              "outlinewidth": 0,
              "ticks": ""
             }
            },
            "type": "scattergeo"
           }
          ],
          "scattergl": [
           {
            "marker": {
             "colorbar": {
              "outlinewidth": 0,
              "ticks": ""
             }
            },
            "type": "scattergl"
           }
          ],
          "scattermapbox": [
           {
            "marker": {
             "colorbar": {
              "outlinewidth": 0,
              "ticks": ""
             }
            },
            "type": "scattermapbox"
           }
          ],
          "scatterpolar": [
           {
            "marker": {
             "colorbar": {
              "outlinewidth": 0,
              "ticks": ""
             }
            },
            "type": "scatterpolar"
           }
          ],
          "scatterpolargl": [
           {
            "marker": {
             "colorbar": {
              "outlinewidth": 0,
              "ticks": ""
             }
            },
            "type": "scatterpolargl"
           }
          ],
          "scatterternary": [
           {
            "marker": {
             "colorbar": {
              "outlinewidth": 0,
              "ticks": ""
             }
            },
            "type": "scatterternary"
           }
          ],
          "surface": [
           {
            "colorbar": {
             "outlinewidth": 0,
             "ticks": ""
            },
            "colorscale": [
             [
              0,
              "#0d0887"
             ],
             [
              0.1111111111111111,
              "#46039f"
             ],
             [
              0.2222222222222222,
              "#7201a8"
             ],
             [
              0.3333333333333333,
              "#9c179e"
             ],
             [
              0.4444444444444444,
              "#bd3786"
             ],
             [
              0.5555555555555556,
              "#d8576b"
             ],
             [
              0.6666666666666666,
              "#ed7953"
             ],
             [
              0.7777777777777778,
              "#fb9f3a"
             ],
             [
              0.8888888888888888,
              "#fdca26"
             ],
             [
              1,
              "#f0f921"
             ]
            ],
            "type": "surface"
           }
          ],
          "table": [
           {
            "cells": {
             "fill": {
              "color": "#EBF0F8"
             },
             "line": {
              "color": "white"
             }
            },
            "header": {
             "fill": {
              "color": "#C8D4E3"
             },
             "line": {
              "color": "white"
             }
            },
            "type": "table"
           }
          ]
         },
         "layout": {
          "annotationdefaults": {
           "arrowcolor": "#2a3f5f",
           "arrowhead": 0,
           "arrowwidth": 1
          },
          "autotypenumbers": "strict",
          "coloraxis": {
           "colorbar": {
            "outlinewidth": 0,
            "ticks": ""
           }
          },
          "colorscale": {
           "diverging": [
            [
             0,
             "#8e0152"
            ],
            [
             0.1,
             "#c51b7d"
            ],
            [
             0.2,
             "#de77ae"
            ],
            [
             0.3,
             "#f1b6da"
            ],
            [
             0.4,
             "#fde0ef"
            ],
            [
             0.5,
             "#f7f7f7"
            ],
            [
             0.6,
             "#e6f5d0"
            ],
            [
             0.7,
             "#b8e186"
            ],
            [
             0.8,
             "#7fbc41"
            ],
            [
             0.9,
             "#4d9221"
            ],
            [
             1,
             "#276419"
            ]
           ],
           "sequential": [
            [
             0,
             "#0d0887"
            ],
            [
             0.1111111111111111,
             "#46039f"
            ],
            [
             0.2222222222222222,
             "#7201a8"
            ],
            [
             0.3333333333333333,
             "#9c179e"
            ],
            [
             0.4444444444444444,
             "#bd3786"
            ],
            [
             0.5555555555555556,
             "#d8576b"
            ],
            [
             0.6666666666666666,
             "#ed7953"
            ],
            [
             0.7777777777777778,
             "#fb9f3a"
            ],
            [
             0.8888888888888888,
             "#fdca26"
            ],
            [
             1,
             "#f0f921"
            ]
           ],
           "sequentialminus": [
            [
             0,
             "#0d0887"
            ],
            [
             0.1111111111111111,
             "#46039f"
            ],
            [
             0.2222222222222222,
             "#7201a8"
            ],
            [
             0.3333333333333333,
             "#9c179e"
            ],
            [
             0.4444444444444444,
             "#bd3786"
            ],
            [
             0.5555555555555556,
             "#d8576b"
            ],
            [
             0.6666666666666666,
             "#ed7953"
            ],
            [
             0.7777777777777778,
             "#fb9f3a"
            ],
            [
             0.8888888888888888,
             "#fdca26"
            ],
            [
             1,
             "#f0f921"
            ]
           ]
          },
          "colorway": [
           "#636efa",
           "#EF553B",
           "#00cc96",
           "#ab63fa",
           "#FFA15A",
           "#19d3f3",
           "#FF6692",
           "#B6E880",
           "#FF97FF",
           "#FECB52"
          ],
          "font": {
           "color": "#2a3f5f"
          },
          "geo": {
           "bgcolor": "white",
           "lakecolor": "white",
           "landcolor": "#E5ECF6",
           "showlakes": true,
           "showland": true,
           "subunitcolor": "white"
          },
          "hoverlabel": {
           "align": "left"
          },
          "hovermode": "closest",
          "mapbox": {
           "style": "light"
          },
          "paper_bgcolor": "white",
          "plot_bgcolor": "#E5ECF6",
          "polar": {
           "angularaxis": {
            "gridcolor": "white",
            "linecolor": "white",
            "ticks": ""
           },
           "bgcolor": "#E5ECF6",
           "radialaxis": {
            "gridcolor": "white",
            "linecolor": "white",
            "ticks": ""
           }
          },
          "scene": {
           "xaxis": {
            "backgroundcolor": "#E5ECF6",
            "gridcolor": "white",
            "gridwidth": 2,
            "linecolor": "white",
            "showbackground": true,
            "ticks": "",
            "zerolinecolor": "white"
           },
           "yaxis": {
            "backgroundcolor": "#E5ECF6",
            "gridcolor": "white",
            "gridwidth": 2,
            "linecolor": "white",
            "showbackground": true,
            "ticks": "",
            "zerolinecolor": "white"
           },
           "zaxis": {
            "backgroundcolor": "#E5ECF6",
            "gridcolor": "white",
            "gridwidth": 2,
            "linecolor": "white",
            "showbackground": true,
            "ticks": "",
            "zerolinecolor": "white"
           }
          },
          "shapedefaults": {
           "line": {
            "color": "#2a3f5f"
           }
          },
          "ternary": {
           "aaxis": {
            "gridcolor": "white",
            "linecolor": "white",
            "ticks": ""
           },
           "baxis": {
            "gridcolor": "white",
            "linecolor": "white",
            "ticks": ""
           },
           "bgcolor": "#E5ECF6",
           "caxis": {
            "gridcolor": "white",
            "linecolor": "white",
            "ticks": ""
           }
          },
          "title": {
           "x": 0.05
          },
          "xaxis": {
           "automargin": true,
           "gridcolor": "white",
           "linecolor": "white",
           "ticks": "",
           "title": {
            "standoff": 15
           },
           "zerolinecolor": "white",
           "zerolinewidth": 2
          },
          "yaxis": {
           "automargin": true,
           "gridcolor": "white",
           "linecolor": "white",
           "ticks": "",
           "title": {
            "standoff": 15
           },
           "zerolinecolor": "white",
           "zerolinewidth": 2
          }
         }
        },
        "xaxis": {
         "anchor": "y",
         "domain": [
          0,
          1
         ],
         "title": {
          "text": "max"
         }
        },
        "yaxis": {
         "anchor": "x",
         "domain": [
          0,
          1
         ],
         "title": {
          "text": "mean"
         }
        }
       }
      }
     },
     "metadata": {},
     "output_type": "display_data"
    }
   ],
   "source": [
    "px.scatter(Xtest, x=\"max\", y=\"mean\", color=\"dt_correct\", opacity=0.6, symbol='target',category_orders={\"dt_correct\": [True, False]})"
   ]
  }
 ],
 "metadata": {
  "interpreter": {
   "hash": "b639160d2809dc83ccc933c15f415433651252739a31f9cb2360d773e521f41e"
  },
  "kernelspec": {
   "display_name": "Python 3.8.12 ('csc521')",
   "language": "python",
   "name": "python3"
  },
  "language_info": {
   "codemirror_mode": {
    "name": "ipython",
    "version": 3
   },
   "file_extension": ".py",
   "mimetype": "text/x-python",
   "name": "python",
   "nbconvert_exporter": "python",
   "pygments_lexer": "ipython3",
   "version": "3.8.12"
  },
  "orig_nbformat": 4
 },
 "nbformat": 4,
 "nbformat_minor": 2
}
