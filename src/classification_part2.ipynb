{
 "cells": [
  {
   "cell_type": "markdown",
   "metadata": {},
   "source": [
    "## Classification Part 2\n",
    "\n",
    "1. Here I am going to try and build on my clustering attempts but using actual classification models.\n",
    "1. Updated data from Data Cleaning to use same data as Jesse\n",
    "1. Try to beat the prediction accuracy of Clustering. \n",
    "1. Find the best basic model.\n",
    "\n",
    "\n",
    "## Further Expantion in Part 3\n",
    "1. Move from a basic model to the more advanced models.\n",
    "1. Split data into time of year or try to get seasonal trends out of the data that can skew things.\n",
    "1. Finalize the model and accuracy."
   ]
  },
  {
   "cell_type": "markdown",
   "metadata": {},
   "source": [
    "## Thoughts at this point. End of Update 1\n",
    "\n",
    "1. First off this was always going to be hard because income level does not determine what you do for fun in your free time. Some people have a lot of money and watch a lot of TV. Some people have no money or Job so they watch a lot of TV. \n",
    "1. I think there are quite a few outliers so I think maybe we do something to separate those out of the dataset and try again.\n",
    "1. Split Into averages for time of day I think this might get us closer to what we are looking for. \n",
    "1. Make sure each cluster has close to the same number of values? \n",
    "    1. So far there has always been 1 with far few values than the others. \n",
    "    1. I think that this coinsides with the outliers forcing a centroid to far away from the rest of the data."
   ]
  },
  {
   "cell_type": "code",
   "execution_count": null,
   "metadata": {},
   "outputs": [],
   "source": []
  },
  {
   "cell_type": "code",
   "execution_count": 68,
   "metadata": {},
   "outputs": [],
   "source": [
    "import pandas as pd\n",
    "import plotly.express as px\n",
    "import numpy as np\n",
    "\n",
    "# Find the correct sklearn packages.\n",
    "# KNN, Decision Tree, RandomForest, SVM\n",
    "from sklearn.neighbors import KNeighborsClassifier\n",
    "\n",
    "\n",
    "from sklearn.metrics import accuracy_score\n",
    "from sklearn.model_selection import train_test_split"
   ]
  },
  {
   "cell_type": "code",
   "execution_count": 2,
   "metadata": {},
   "outputs": [],
   "source": [
    "data_frame = pd.read_csv(\"final_data.csv\")"
   ]
  },
  {
   "cell_type": "code",
   "execution_count": 3,
   "metadata": {},
   "outputs": [
    {
     "data": {
      "text/html": [
       "<div>\n",
       "<style scoped>\n",
       "    .dataframe tbody tr th:only-of-type {\n",
       "        vertical-align: middle;\n",
       "    }\n",
       "\n",
       "    .dataframe tbody tr th {\n",
       "        vertical-align: top;\n",
       "    }\n",
       "\n",
       "    .dataframe thead th {\n",
       "        text-align: right;\n",
       "    }\n",
       "</style>\n",
       "<table border=\"1\" class=\"dataframe\">\n",
       "  <thead>\n",
       "    <tr style=\"text-align: right;\">\n",
       "      <th></th>\n",
       "      <th>DateTime</th>\n",
       "      <th>LCLid</th>\n",
       "      <th>stdorToU</th>\n",
       "      <th>KWH/hh</th>\n",
       "      <th>Acorn</th>\n",
       "      <th>Acorn_grouped</th>\n",
       "      <th>Day</th>\n",
       "      <th>Month</th>\n",
       "    </tr>\n",
       "  </thead>\n",
       "  <tbody>\n",
       "    <tr>\n",
       "      <th>0</th>\n",
       "      <td>2013-01-01 00:00:00</td>\n",
       "      <td>MAC000769</td>\n",
       "      <td>Std</td>\n",
       "      <td>0.014</td>\n",
       "      <td>ACORN-F</td>\n",
       "      <td>Comfortable</td>\n",
       "      <td>Tuesday</td>\n",
       "      <td>January</td>\n",
       "    </tr>\n",
       "    <tr>\n",
       "      <th>1</th>\n",
       "      <td>2013-01-01 00:30:00</td>\n",
       "      <td>MAC000769</td>\n",
       "      <td>Std</td>\n",
       "      <td>0.000</td>\n",
       "      <td>ACORN-F</td>\n",
       "      <td>Comfortable</td>\n",
       "      <td>Tuesday</td>\n",
       "      <td>January</td>\n",
       "    </tr>\n",
       "    <tr>\n",
       "      <th>2</th>\n",
       "      <td>2013-01-01 01:00:00</td>\n",
       "      <td>MAC000769</td>\n",
       "      <td>Std</td>\n",
       "      <td>0.044</td>\n",
       "      <td>ACORN-F</td>\n",
       "      <td>Comfortable</td>\n",
       "      <td>Tuesday</td>\n",
       "      <td>January</td>\n",
       "    </tr>\n",
       "    <tr>\n",
       "      <th>3</th>\n",
       "      <td>2013-01-01 01:30:00</td>\n",
       "      <td>MAC000769</td>\n",
       "      <td>Std</td>\n",
       "      <td>0.036</td>\n",
       "      <td>ACORN-F</td>\n",
       "      <td>Comfortable</td>\n",
       "      <td>Tuesday</td>\n",
       "      <td>January</td>\n",
       "    </tr>\n",
       "    <tr>\n",
       "      <th>4</th>\n",
       "      <td>2013-01-01 02:00:00</td>\n",
       "      <td>MAC000769</td>\n",
       "      <td>Std</td>\n",
       "      <td>0.029</td>\n",
       "      <td>ACORN-F</td>\n",
       "      <td>Comfortable</td>\n",
       "      <td>Tuesday</td>\n",
       "      <td>January</td>\n",
       "    </tr>\n",
       "  </tbody>\n",
       "</table>\n",
       "</div>"
      ],
      "text/plain": [
       "              DateTime      LCLid stdorToU  KWH/hh    Acorn Acorn_grouped  \\\n",
       "0  2013-01-01 00:00:00  MAC000769      Std   0.014  ACORN-F   Comfortable   \n",
       "1  2013-01-01 00:30:00  MAC000769      Std   0.000  ACORN-F   Comfortable   \n",
       "2  2013-01-01 01:00:00  MAC000769      Std   0.044  ACORN-F   Comfortable   \n",
       "3  2013-01-01 01:30:00  MAC000769      Std   0.036  ACORN-F   Comfortable   \n",
       "4  2013-01-01 02:00:00  MAC000769      Std   0.029  ACORN-F   Comfortable   \n",
       "\n",
       "       Day    Month  \n",
       "0  Tuesday  January  \n",
       "1  Tuesday  January  \n",
       "2  Tuesday  January  \n",
       "3  Tuesday  January  \n",
       "4  Tuesday  January  "
      ]
     },
     "execution_count": 3,
     "metadata": {},
     "output_type": "execute_result"
    }
   ],
   "source": [
    "data_frame.head()"
   ]
  },
  {
   "cell_type": "code",
   "execution_count": 22,
   "metadata": {},
   "outputs": [
    {
     "ename": "TypeError",
     "evalue": "'DataFrameGroupBy' object does not support item assignment",
     "output_type": "error",
     "traceback": [
      "\u001b[0;31m---------------------------------------------------------------------------\u001b[0m",
      "\u001b[0;31mTypeError\u001b[0m                                 Traceback (most recent call last)",
      "\u001b[1;32m/Users/jhall/Desktop/depaul/DSC672/Project/DSC672/src/classification_part2.ipynb Cell 9'\u001b[0m in \u001b[0;36m<cell line: 1>\u001b[0;34m()\u001b[0m\n\u001b[0;32m----> <a href='vscode-notebook-cell:/Users/jhall/Desktop/depaul/DSC672/Project/DSC672/src/classification_part2.ipynb#ch0000009?line=0'>1</a>\u001b[0m groups[\u001b[39m\"\u001b[39m\u001b[39mgroups\u001b[39m\u001b[39m\"\u001b[39m] \u001b[39m=\u001b[39m np\u001b[39m.\u001b[39mwhere(groups[\u001b[39m\"\u001b[39m\u001b[39mAcorn_grouped\u001b[39m\u001b[39m\"\u001b[39m] \u001b[39m==\u001b[39m \u001b[39m\"\u001b[39m\u001b[39mAffluent\u001b[39m\u001b[39m\"\u001b[39m, \u001b[39m1\u001b[39m, np\u001b[39m.\u001b[39mwhere(groups[\u001b[39m\"\u001b[39m\u001b[39mAcorn_grouped\u001b[39m\u001b[39m\"\u001b[39m] \u001b[39m==\u001b[39m \u001b[39m\"\u001b[39m\u001b[39mComfortable\u001b[39m\u001b[39m\"\u001b[39m, \u001b[39m2\u001b[39m, \u001b[39m3\u001b[39m))\n",
      "\u001b[0;31mTypeError\u001b[0m: 'DataFrameGroupBy' object does not support item assignment"
     ]
    }
   ],
   "source": [
    "data_frame[\"groups\"] = np.where(data_frame[\"Acorn_grouped\"] == \"Affluent\", 1, np.where(data_frame[\"Acorn_grouped\"] == \"Comfortable\", 2, 3))"
   ]
  },
  {
   "cell_type": "code",
   "execution_count": 23,
   "metadata": {},
   "outputs": [],
   "source": [
    "X = data_frame.groupby(\"LCLid\").agg({\"KWH/hh\": [\"mean\", \"max\"], \"groups\": \"first\"})"
   ]
  },
  {
   "cell_type": "code",
   "execution_count": 27,
   "metadata": {},
   "outputs": [
    {
     "data": {
      "text/html": [
       "<div>\n",
       "<style scoped>\n",
       "    .dataframe tbody tr th:only-of-type {\n",
       "        vertical-align: middle;\n",
       "    }\n",
       "\n",
       "    .dataframe tbody tr th {\n",
       "        vertical-align: top;\n",
       "    }\n",
       "\n",
       "    .dataframe thead tr th {\n",
       "        text-align: left;\n",
       "    }\n",
       "\n",
       "    .dataframe thead tr:last-of-type th {\n",
       "        text-align: right;\n",
       "    }\n",
       "</style>\n",
       "<table border=\"1\" class=\"dataframe\">\n",
       "  <thead>\n",
       "    <tr>\n",
       "      <th></th>\n",
       "      <th colspan=\"2\" halign=\"left\">KWH/hh</th>\n",
       "      <th>groups</th>\n",
       "    </tr>\n",
       "    <tr>\n",
       "      <th></th>\n",
       "      <th>mean</th>\n",
       "      <th>max</th>\n",
       "      <th>first</th>\n",
       "    </tr>\n",
       "    <tr>\n",
       "      <th>LCLid</th>\n",
       "      <th></th>\n",
       "      <th></th>\n",
       "      <th></th>\n",
       "    </tr>\n",
       "  </thead>\n",
       "  <tbody>\n",
       "    <tr>\n",
       "      <th>MAC000002</th>\n",
       "      <td>0.240788</td>\n",
       "      <td>2.994</td>\n",
       "      <td>1</td>\n",
       "    </tr>\n",
       "    <tr>\n",
       "      <th>MAC000006</th>\n",
       "      <td>0.060175</td>\n",
       "      <td>0.774</td>\n",
       "      <td>3</td>\n",
       "    </tr>\n",
       "    <tr>\n",
       "      <th>MAC000010</th>\n",
       "      <td>0.532447</td>\n",
       "      <td>4.189</td>\n",
       "      <td>2</td>\n",
       "    </tr>\n",
       "    <tr>\n",
       "      <th>MAC000018</th>\n",
       "      <td>0.212908</td>\n",
       "      <td>2.088</td>\n",
       "      <td>1</td>\n",
       "    </tr>\n",
       "    <tr>\n",
       "      <th>MAC000019</th>\n",
       "      <td>0.131976</td>\n",
       "      <td>1.641</td>\n",
       "      <td>3</td>\n",
       "    </tr>\n",
       "  </tbody>\n",
       "</table>\n",
       "</div>"
      ],
      "text/plain": [
       "             KWH/hh        groups\n",
       "               mean    max  first\n",
       "LCLid                            \n",
       "MAC000002  0.240788  2.994      1\n",
       "MAC000006  0.060175  0.774      3\n",
       "MAC000010  0.532447  4.189      2\n",
       "MAC000018  0.212908  2.088      1\n",
       "MAC000019  0.131976  1.641      3"
      ]
     },
     "execution_count": 27,
     "metadata": {},
     "output_type": "execute_result"
    }
   ],
   "source": [
    "X.head()"
   ]
  },
  {
   "cell_type": "code",
   "execution_count": 34,
   "metadata": {},
   "outputs": [],
   "source": [
    "X = X.droplevel(0, axis=1)"
   ]
  },
  {
   "cell_type": "code",
   "execution_count": 67,
   "metadata": {},
   "outputs": [
    {
     "data": {
      "text/html": [
       "<div>\n",
       "<style scoped>\n",
       "    .dataframe tbody tr th:only-of-type {\n",
       "        vertical-align: middle;\n",
       "    }\n",
       "\n",
       "    .dataframe tbody tr th {\n",
       "        vertical-align: top;\n",
       "    }\n",
       "\n",
       "    .dataframe thead th {\n",
       "        text-align: right;\n",
       "    }\n",
       "</style>\n",
       "<table border=\"1\" class=\"dataframe\">\n",
       "  <thead>\n",
       "    <tr style=\"text-align: right;\">\n",
       "      <th></th>\n",
       "      <th>mean</th>\n",
       "      <th>max</th>\n",
       "      <th>first</th>\n",
       "    </tr>\n",
       "    <tr>\n",
       "      <th>LCLid</th>\n",
       "      <th></th>\n",
       "      <th></th>\n",
       "      <th></th>\n",
       "    </tr>\n",
       "  </thead>\n",
       "  <tbody>\n",
       "    <tr>\n",
       "      <th>MAC000002</th>\n",
       "      <td>0.240788</td>\n",
       "      <td>2.994</td>\n",
       "      <td>1</td>\n",
       "    </tr>\n",
       "    <tr>\n",
       "      <th>MAC000006</th>\n",
       "      <td>0.060175</td>\n",
       "      <td>0.774</td>\n",
       "      <td>3</td>\n",
       "    </tr>\n",
       "    <tr>\n",
       "      <th>MAC000010</th>\n",
       "      <td>0.532447</td>\n",
       "      <td>4.189</td>\n",
       "      <td>2</td>\n",
       "    </tr>\n",
       "    <tr>\n",
       "      <th>MAC000018</th>\n",
       "      <td>0.212908</td>\n",
       "      <td>2.088</td>\n",
       "      <td>1</td>\n",
       "    </tr>\n",
       "    <tr>\n",
       "      <th>MAC000019</th>\n",
       "      <td>0.131976</td>\n",
       "      <td>1.641</td>\n",
       "      <td>3</td>\n",
       "    </tr>\n",
       "  </tbody>\n",
       "</table>\n",
       "</div>"
      ],
      "text/plain": [
       "               mean    max  first\n",
       "LCLid                            \n",
       "MAC000002  0.240788  2.994      1\n",
       "MAC000006  0.060175  0.774      3\n",
       "MAC000010  0.532447  4.189      2\n",
       "MAC000018  0.212908  2.088      1\n",
       "MAC000019  0.131976  1.641      3"
      ]
     },
     "execution_count": 67,
     "metadata": {},
     "output_type": "execute_result"
    }
   ],
   "source": [
    "X.head()"
   ]
  },
  {
   "cell_type": "code",
   "execution_count": 37,
   "metadata": {},
   "outputs": [],
   "source": [
    "x = X[[\"mean\", \"max\"]]"
   ]
  },
  {
   "cell_type": "code",
   "execution_count": 69,
   "metadata": {},
   "outputs": [],
   "source": [
    "Xtrain, Xtest, y_train, y_test = train_test_split(X[[\"mean\", \"max\"]], X[\"first\"], random_state = 5, train_size = 0.8)"
   ]
  },
  {
   "cell_type": "code",
   "execution_count": 70,
   "metadata": {},
   "outputs": [
    {
     "data": {
      "text/plain": [
       "KNeighborsClassifier(n_neighbors=2)"
      ]
     },
     "execution_count": 70,
     "metadata": {},
     "output_type": "execute_result"
    }
   ],
   "source": [
    "model = KNeighborsClassifier(n_neighbors=2)\n",
    "model.fit(Xtrain, y_train)\n"
   ]
  },
  {
   "cell_type": "code",
   "execution_count": 71,
   "metadata": {},
   "outputs": [],
   "source": [
    "knn_pred = model.predict(Xtest)\n"
   ]
  },
  {
   "cell_type": "code",
   "execution_count": 72,
   "metadata": {},
   "outputs": [
    {
     "data": {
      "text/plain": [
       "0.40625"
      ]
     },
     "execution_count": 72,
     "metadata": {},
     "output_type": "execute_result"
    }
   ],
   "source": [
    "accuracy_score(y_test, knn_pred)"
   ]
  },
  {
   "cell_type": "markdown",
   "metadata": {},
   "source": [
    "40% testing accuracy with base settings"
   ]
  },
  {
   "cell_type": "code",
   "execution_count": 73,
   "metadata": {},
   "outputs": [],
   "source": [
    "from sklearn import tree"
   ]
  },
  {
   "cell_type": "code",
   "execution_count": 139,
   "metadata": {},
   "outputs": [],
   "source": [
    "dt_model = tree.DecisionTreeClassifier(min_samples_split=5, random_state=7)"
   ]
  },
  {
   "cell_type": "code",
   "execution_count": 140,
   "metadata": {},
   "outputs": [
    {
     "data": {
      "text/plain": [
       "DecisionTreeClassifier(min_samples_split=5, random_state=7)"
      ]
     },
     "execution_count": 140,
     "metadata": {},
     "output_type": "execute_result"
    }
   ],
   "source": [
    "dt_model.fit(Xtrain, y_train)"
   ]
  },
  {
   "cell_type": "code",
   "execution_count": 141,
   "metadata": {},
   "outputs": [],
   "source": [
    "dt_preds = dt_model.predict(Xtest)"
   ]
  },
  {
   "cell_type": "code",
   "execution_count": 142,
   "metadata": {},
   "outputs": [
    {
     "data": {
      "text/plain": [
       "0.32589285714285715"
      ]
     },
     "execution_count": 142,
     "metadata": {},
     "output_type": "execute_result"
    }
   ],
   "source": [
    "accuracy_score(y_test, dt_preds)"
   ]
  },
  {
   "cell_type": "markdown",
   "metadata": {},
   "source": [
    "32% testing accuracy with base settings"
   ]
  },
  {
   "cell_type": "code",
   "execution_count": 143,
   "metadata": {},
   "outputs": [
    {
     "data": {
      "text/plain": [
       "21"
      ]
     },
     "execution_count": 143,
     "metadata": {},
     "output_type": "execute_result"
    }
   ],
   "source": [
    "dt_model.get_depth()"
   ]
  },
  {
   "cell_type": "code",
   "execution_count": 144,
   "metadata": {},
   "outputs": [],
   "source": [
    "from sklearn.ensemble import RandomForestClassifier"
   ]
  },
  {
   "cell_type": "code",
   "execution_count": 145,
   "metadata": {},
   "outputs": [],
   "source": [
    "rf_model = RandomForestClassifier(n_estimators=100, min_samples_split=5,max_depth=10, random_state=0)"
   ]
  },
  {
   "cell_type": "code",
   "execution_count": 146,
   "metadata": {},
   "outputs": [
    {
     "data": {
      "text/plain": [
       "RandomForestClassifier(max_depth=10, min_samples_split=5, random_state=0)"
      ]
     },
     "execution_count": 146,
     "metadata": {},
     "output_type": "execute_result"
    }
   ],
   "source": [
    "rf_model.fit(Xtrain, y_train)"
   ]
  },
  {
   "cell_type": "code",
   "execution_count": 147,
   "metadata": {},
   "outputs": [],
   "source": [
    "rf_preds = dt_model.predict(Xtest)"
   ]
  },
  {
   "cell_type": "code",
   "execution_count": 148,
   "metadata": {},
   "outputs": [
    {
     "data": {
      "text/plain": [
       "0.32589285714285715"
      ]
     },
     "execution_count": 148,
     "metadata": {},
     "output_type": "execute_result"
    }
   ],
   "source": [
    "accuracy_score(y_test, rf_preds)"
   ]
  },
  {
   "cell_type": "code",
   "execution_count": 156,
   "metadata": {},
   "outputs": [],
   "source": [
    "from sklearn.svm import SVC\n",
    "from sklearn.preprocessing import StandardScaler\n",
    "from sklearn.pipeline import make_pipeline"
   ]
  },
  {
   "cell_type": "code",
   "execution_count": 157,
   "metadata": {},
   "outputs": [],
   "source": [
    "svm_model = make_pipeline(StandardScaler(), SVC(gamma='auto'))"
   ]
  },
  {
   "cell_type": "code",
   "execution_count": 158,
   "metadata": {},
   "outputs": [
    {
     "data": {
      "text/plain": [
       "Pipeline(steps=[('standardscaler', StandardScaler()),\n",
       "                ('svc', SVC(gamma='auto'))])"
      ]
     },
     "execution_count": 158,
     "metadata": {},
     "output_type": "execute_result"
    }
   ],
   "source": [
    "svm_model.fit(Xtrain, y_train)"
   ]
  },
  {
   "cell_type": "code",
   "execution_count": 159,
   "metadata": {},
   "outputs": [],
   "source": [
    "svm_preds = svm_model.predict(Xtest)"
   ]
  },
  {
   "cell_type": "code",
   "execution_count": 160,
   "metadata": {},
   "outputs": [
    {
     "data": {
      "text/plain": [
       "0.4375"
      ]
     },
     "execution_count": 160,
     "metadata": {},
     "output_type": "execute_result"
    }
   ],
   "source": [
    "accuracy_score(y_test, svm_preds)"
   ]
  },
  {
   "cell_type": "code",
   "execution_count": 161,
   "metadata": {},
   "outputs": [
    {
     "data": {
      "text/plain": [
       "array([3, 1, 1, 1, 2, 1, 3, 1, 1, 3, 1, 2, 2, 3, 2, 3, 3, 3, 1, 2, 2, 2,\n",
       "       1, 1, 1, 3, 3, 1, 3, 3, 1, 2, 1, 1, 2, 1, 3, 1, 1, 2, 1, 1, 1, 2,\n",
       "       3, 3, 2, 3, 2, 3, 2, 1, 3, 1, 3, 2, 1, 3, 2, 3, 2, 2, 3, 1, 3, 1,\n",
       "       1, 3, 2, 2, 1, 3, 2, 1, 1, 1, 1, 1, 2, 2, 3, 1, 1, 3, 1, 1, 2, 1,\n",
       "       3, 2, 1, 3, 2, 1, 1, 3, 1, 1, 2, 1, 3, 2, 1, 2, 3, 3, 2, 3, 2, 2,\n",
       "       2, 3, 1, 2, 1, 1, 3, 1, 1, 2, 1, 2, 1, 3, 1, 1, 1, 1, 1, 2, 2, 1,\n",
       "       3, 3, 3, 1, 1, 2, 1, 3, 2, 1, 2, 1, 1, 1, 2, 2, 1, 2, 1, 3, 2, 3,\n",
       "       3, 1, 3, 1, 1, 3, 1, 1, 1, 1, 1, 1, 2, 2, 1, 1, 3, 1, 1, 3, 3, 3,\n",
       "       1, 1, 1, 1, 1, 2, 3, 2, 1, 3, 1, 1, 2, 2, 2, 1, 2, 3, 1, 1, 1, 1,\n",
       "       1, 1, 2, 1, 1, 1, 1, 1, 1, 3, 1, 3, 1, 2, 2, 1, 2, 2, 2, 1, 2, 3,\n",
       "       2, 2, 3, 2])"
      ]
     },
     "execution_count": 161,
     "metadata": {},
     "output_type": "execute_result"
    }
   ],
   "source": [
    "rf_preds"
   ]
  },
  {
   "cell_type": "code",
   "execution_count": 162,
   "metadata": {},
   "outputs": [
    {
     "data": {
      "text/plain": [
       "array([1, 1, 1, 3, 3, 2, 2, 3, 3, 3, 2, 3, 1, 2, 3, 3, 2, 3, 1, 3, 1, 2,\n",
       "       1, 3, 3, 3, 3, 2, 2, 1, 3, 1, 2, 2, 1, 1, 1, 1, 1, 1, 1, 1, 1, 1,\n",
       "       3, 2, 2, 3, 1, 3, 1, 3, 1, 2, 1, 1, 1, 2, 3, 2, 1, 1, 1, 1, 1, 1,\n",
       "       2, 2, 1, 3, 1, 2, 2, 3, 3, 2, 3, 3, 3, 2, 3, 3, 2, 2, 2, 3, 3, 2,\n",
       "       1, 1, 1, 3, 1, 2, 3, 2, 3, 1, 3, 1, 1, 2, 3, 2, 1, 1, 1, 3, 3, 2,\n",
       "       2, 2, 1, 2, 2, 2, 1, 1, 3, 1, 1, 3, 3, 1, 1, 2, 3, 1, 3, 1, 3, 2,\n",
       "       3, 2, 3, 3, 3, 1, 1, 2, 2, 3, 2, 2, 3, 2, 1, 1, 1, 3, 3, 3, 3, 3,\n",
       "       2, 1, 3, 1, 1, 1, 2, 1, 3, 3, 2, 3, 2, 3, 1, 1, 3, 2, 1, 1, 2, 1,\n",
       "       3, 1, 2, 1, 3, 2, 3, 3, 1, 3, 1, 1, 1, 1, 3, 2, 1, 1, 2, 1, 3, 3,\n",
       "       2, 2, 1, 3, 3, 1, 2, 3, 1, 2, 2, 3, 2, 3, 3, 1, 1, 3, 1, 3, 3, 2,\n",
       "       1, 1, 1, 1])"
      ]
     },
     "execution_count": 162,
     "metadata": {},
     "output_type": "execute_result"
    }
   ],
   "source": [
    "y_test.to_numpy()"
   ]
  },
  {
   "cell_type": "code",
   "execution_count": 163,
   "metadata": {},
   "outputs": [
    {
     "data": {
      "text/plain": [
       "array([3, 1, 1, 1, 2, 1, 3, 1, 1, 3, 1, 2, 2, 3, 2, 3, 3, 3, 1, 2, 2, 2,\n",
       "       1, 1, 1, 3, 3, 1, 3, 3, 1, 2, 1, 1, 2, 1, 3, 1, 1, 2, 1, 1, 1, 2,\n",
       "       3, 3, 2, 3, 2, 3, 2, 1, 3, 1, 3, 2, 1, 3, 2, 3, 2, 2, 3, 1, 3, 1,\n",
       "       1, 3, 2, 2, 1, 3, 2, 1, 1, 1, 1, 1, 2, 2, 3, 1, 1, 3, 1, 1, 2, 1,\n",
       "       3, 2, 1, 3, 2, 1, 1, 3, 1, 1, 2, 1, 3, 2, 1, 2, 3, 3, 2, 3, 2, 2,\n",
       "       2, 3, 1, 2, 1, 1, 3, 1, 1, 2, 1, 2, 1, 3, 1, 1, 1, 1, 1, 2, 2, 1,\n",
       "       3, 3, 3, 1, 1, 2, 1, 3, 2, 1, 2, 1, 1, 1, 2, 2, 1, 2, 1, 3, 2, 3,\n",
       "       3, 1, 3, 1, 1, 3, 1, 1, 1, 1, 1, 1, 2, 2, 1, 1, 3, 1, 1, 3, 3, 3,\n",
       "       1, 1, 1, 1, 1, 2, 3, 2, 1, 3, 1, 1, 2, 2, 2, 1, 2, 3, 1, 1, 1, 1,\n",
       "       1, 1, 2, 1, 1, 1, 1, 1, 1, 3, 1, 3, 1, 2, 2, 1, 2, 2, 2, 1, 2, 3,\n",
       "       2, 2, 3, 2])"
      ]
     },
     "execution_count": 163,
     "metadata": {},
     "output_type": "execute_result"
    }
   ],
   "source": [
    "dt_preds"
   ]
  },
  {
   "cell_type": "code",
   "execution_count": 164,
   "metadata": {},
   "outputs": [
    {
     "data": {
      "text/plain": [
       "array([1, 1, 1, 1, 1, 1, 1, 3, 1, 2, 2, 1, 1, 1, 2, 2, 3, 3, 2, 2, 2, 2,\n",
       "       1, 1, 1, 1, 2, 1, 1, 2, 1, 2, 1, 2, 2, 1, 1, 1, 3, 1, 1, 1, 2, 1,\n",
       "       2, 1, 2, 2, 3, 3, 1, 1, 1, 2, 3, 1, 1, 1, 1, 1, 1, 2, 1, 1, 2, 1,\n",
       "       1, 2, 1, 2, 1, 2, 2, 1, 3, 2, 3, 1, 1, 2, 1, 1, 1, 2, 1, 2, 1, 1,\n",
       "       3, 1, 3, 2, 1, 1, 1, 3, 1, 1, 1, 2, 1, 1, 1, 2, 2, 1, 2, 1, 3, 2,\n",
       "       2, 3, 1, 2, 1, 1, 1, 1, 1, 1, 1, 1, 1, 3, 1, 2, 1, 1, 1, 1, 3, 1,\n",
       "       2, 2, 1, 3, 1, 1, 1, 2, 2, 2, 1, 1, 1, 2, 1, 2, 2, 2, 1, 2, 2, 1,\n",
       "       1, 1, 1, 1, 1, 1, 1, 2, 1, 1, 1, 1, 2, 3, 3, 1, 2, 1, 1, 3, 1, 3,\n",
       "       1, 1, 1, 1, 1, 2, 2, 2, 1, 1, 1, 1, 1, 2, 1, 1, 2, 1, 1, 1, 1, 1,\n",
       "       1, 1, 1, 1, 1, 1, 2, 1, 1, 2, 1, 1, 1, 2, 1, 2, 2, 1, 2, 1, 1, 3,\n",
       "       1, 1, 1, 2])"
      ]
     },
     "execution_count": 164,
     "metadata": {},
     "output_type": "execute_result"
    }
   ],
   "source": [
    "knn_pred"
   ]
  },
  {
   "cell_type": "code",
   "execution_count": 165,
   "metadata": {},
   "outputs": [
    {
     "data": {
      "text/plain": [
       "array([3, 1, 1, 1, 3, 3, 1, 1, 1, 3, 1, 1, 1, 1, 1, 1, 3, 1, 1, 1, 1, 1,\n",
       "       1, 1, 3, 3, 1, 1, 1, 3, 3, 3, 3, 3, 1, 1, 1, 1, 1, 3, 1, 1, 1, 1,\n",
       "       3, 3, 1, 1, 3, 1, 1, 3, 1, 3, 1, 1, 1, 1, 1, 3, 3, 1, 3, 1, 3, 3,\n",
       "       1, 3, 1, 3, 1, 3, 1, 3, 3, 1, 1, 1, 1, 1, 1, 3, 3, 1, 1, 3, 1, 1,\n",
       "       1, 1, 1, 1, 3, 1, 1, 3, 1, 3, 1, 1, 3, 1, 1, 3, 1, 1, 1, 3, 1, 1,\n",
       "       1, 1, 1, 1, 1, 1, 1, 1, 1, 1, 1, 1, 1, 3, 1, 1, 3, 1, 1, 1, 3, 3,\n",
       "       3, 1, 1, 3, 1, 1, 1, 1, 1, 1, 3, 1, 3, 1, 1, 1, 3, 3, 1, 3, 1, 3,\n",
       "       1, 1, 1, 1, 3, 3, 3, 3, 3, 3, 3, 1, 1, 3, 1, 1, 1, 1, 1, 1, 1, 1,\n",
       "       1, 3, 1, 1, 3, 1, 3, 1, 1, 1, 1, 1, 1, 1, 1, 1, 1, 1, 1, 1, 1, 1,\n",
       "       1, 3, 1, 3, 3, 1, 1, 3, 1, 2, 3, 3, 1, 1, 1, 3, 1, 3, 3, 1, 1, 3,\n",
       "       1, 1, 3, 1])"
      ]
     },
     "execution_count": 165,
     "metadata": {},
     "output_type": "execute_result"
    }
   ],
   "source": [
    "svm_preds"
   ]
  },
  {
   "cell_type": "code",
   "execution_count": 169,
   "metadata": {},
   "outputs": [
    {
     "data": {
      "text/plain": [
       "1    0.406082\n",
       "3    0.313059\n",
       "2    0.280859\n",
       "Name: first, dtype: float64"
      ]
     },
     "execution_count": 169,
     "metadata": {},
     "output_type": "execute_result"
    }
   ],
   "source": [
    "X[\"first\"].value_counts() / X[\"first\"].count()"
   ]
  },
  {
   "cell_type": "markdown",
   "metadata": {},
   "source": [
    "So for Update 2 I updated the data to use the same data as Jesse. Then I went through 4 base models trying to find the best one for predicting which class a household belongs to based on mean and max KWH/hh. The assumption is that we should be able to randomly pick one of the 3 bins and have an accuracy of 33%. So as long as we are beating that then the model seems worth using in some capacity. Based on that the KNN and SVM models we both better than random chance at 40 and 43% accuracy respectively. DT and RF were both at 32% which is basically the same as random chance so they are not currently good models at all. \n",
    "\n",
    "I think the next steps are to see if one model is better than the others at predicting a class. Then we can actually build a model where each of the above models vote to make a prediction with maybe some bias to SVM or something along those lines. In theory the worst case should be SVM of 43% but we might be able to better that percentage using the mdoels in unison. \n",
    "\n",
    "We also might want to consider seasonal effects in the time series that might shine some extra light on these models. It is possible that certain groups are more consistent throughout the year or time of day and that can teach us something or make us better at predicting. "
   ]
  },
  {
   "cell_type": "code",
   "execution_count": 172,
   "metadata": {},
   "outputs": [
    {
     "data": {
      "text/plain": [
       "1    0.410515\n",
       "3    0.305369\n",
       "2    0.284116\n",
       "Name: first, dtype: float64"
      ]
     },
     "execution_count": 172,
     "metadata": {},
     "output_type": "execute_result"
    }
   ],
   "source": [
    "y_train.value_counts() / y_train.count()"
   ]
  },
  {
   "cell_type": "code",
   "execution_count": 173,
   "metadata": {},
   "outputs": [
    {
     "data": {
      "text/plain": [
       "1    0.388393\n",
       "3    0.343750\n",
       "2    0.267857\n",
       "Name: first, dtype: float64"
      ]
     },
     "execution_count": 173,
     "metadata": {},
     "output_type": "execute_result"
    }
   ],
   "source": [
    "y_test.value_counts() / y_test.count()"
   ]
  }
 ],
 "metadata": {
  "interpreter": {
   "hash": "b639160d2809dc83ccc933c15f415433651252739a31f9cb2360d773e521f41e"
  },
  "kernelspec": {
   "display_name": "Python 3.8.12 ('csc521')",
   "language": "python",
   "name": "python3"
  },
  "language_info": {
   "codemirror_mode": {
    "name": "ipython",
    "version": 3
   },
   "file_extension": ".py",
   "mimetype": "text/x-python",
   "name": "python",
   "nbconvert_exporter": "python",
   "pygments_lexer": "ipython3",
   "version": "3.8.12"
  },
  "orig_nbformat": 4
 },
 "nbformat": 4,
 "nbformat_minor": 2
}
